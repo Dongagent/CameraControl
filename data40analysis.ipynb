{
 "cells": [
  {
   "cell_type": "code",
   "execution_count": 3,
   "id": "752499f6",
   "metadata": {},
   "outputs": [
    {
     "name": "stdout",
     "output_type": "stream",
     "text": [
      "Python 3.8.3\n"
     ]
    }
   ],
   "source": [
    "!python --version"
   ]
  },
  {
   "cell_type": "code",
   "execution_count": 2,
   "id": "cbe82335",
   "metadata": {},
   "outputs": [
    {
     "name": "stdout",
     "output_type": "stream",
     "text": [
      "[[4 3 5 ... 3 5 4]\n",
      " [2 4 5 ... 2 2 1]\n",
      " [3 1 4 ... 1 2 4]\n",
      " ...\n",
      " [1 1 5 ... 1 1 5]\n",
      " [1 1 6 ... 1 1 3]\n",
      " [1 1 6 ... 2 1 3]]\n",
      "(40, 357)\n"
     ]
    }
   ],
   "source": [
    "# import libraries\n",
    "import pandas as pd\n",
    "import numpy as np\n",
    "import scipy.stats as stats\n",
    "import seaborn as sns\n",
    "import matplotlib.pyplot as plt\n",
    "import os\n",
    "import copy\n",
    "import matplotlib.pyplot as plt\n",
    "import numpy as np\n",
    "from sklearn import datasets, linear_model\n",
    "from sklearn.metrics import mean_squared_error, r2_score\n",
    "\n",
    "data40 = pd.read_csv('data40.csv')\n",
    "# data40 = data40.reset_index()\n",
    "# # print(data40)\n",
    "# print(data40.iloc[2:, 20:1])\n",
    "total_data = data40.iloc[2:, 19:-1]\n",
    "total_data = total_data.reset_index(drop=True)# reset index\n",
    "total_data = total_data.astype('int32')\n",
    "exp_result_data = total_data.iloc[:, 14:]\n",
    "\n",
    "# print(exp_result_data)\n",
    "# print(total_data)\n",
    "# total_data = total_data.reset_index(drop=False) # reset index\n",
    "total_data = total_data.astype(dtype='int64') # To int\n",
    "\n",
    "\n",
    "# df = pd.melt(total_data, id_vars='')\n",
    "\n",
    "total_data_np = total_data.values\n",
    "total_data_np = total_data_np.astype(np.int64)\n",
    "\n",
    "print(total_data_np)\n",
    "print(total_data_np.shape)\n",
    "list(total_data.columns)\n",
    "def get_emo_num(name):\n",
    "        if 'anger' in name.lower()  :\n",
    "            return 0\n",
    "        elif 'disgust' in name.lower() :\n",
    "            return 5\n",
    "        elif 'fear' in name.lower():\n",
    "            return 1\n",
    "        elif \"happiness\" in name.lower():\n",
    "            return 2\n",
    "        elif \"sadness\" in name.lower():\n",
    "            return 3\n",
    "        elif \"surprise\" in name.lower():\n",
    "            return 4\n",
    "        elif \"neutral\" in name.lower():\n",
    "            return 6"
   ]
  },
  {
   "cell_type": "code",
   "execution_count": null,
   "id": "c0c45ec7",
   "metadata": {},
   "outputs": [],
   "source": []
  },
  {
   "cell_type": "code",
   "execution_count": 2,
   "id": "daabc164",
   "metadata": {},
   "outputs": [],
   "source": [
    "emo_names = 'Anger, Disgust, Fear, Happiness, Sadness, Surprise, Neutral'.lower().split(', ')\n",
    "cols = ['Prototype_aver_{}_{}'.format(j, x) for j in emo_names for x in range(1, 8)] \n",
    "cols2 = ['Res_aver_{}_{}'.format(j, x) for j in emo_names for x in range(1, 8)]\n",
    "cur = []\n",
    "for i in range(7):\n",
    "    cur = cur + cols[7*i:7*i+7]\n",
    "    cur = cur + cols2[7*i:7*i+7]\n",
    "#     cur = [i for j in cur for i in j]\n",
    "cols = cur\n",
    "# print(cols)"
   ]
  },
  {
   "cell_type": "code",
   "execution_count": 7,
   "id": "e03cc736",
   "metadata": {},
   "outputs": [
    {
     "name": "stdout",
     "output_type": "stream",
     "text": [
      "[[4.5 3.5 5.  ... 4.4 4.4 4.6]\n",
      " [3.5 2.5 3.  ... 2.  1.6 1.4]\n",
      " [5.  6.  2.  ... 1.  1.2 6.4]\n",
      " ...\n",
      " [3.  3.5 1.  ... 1.  1.  6.2]\n",
      " [4.5 1.  1.  ... 1.  1.4 4.4]\n",
      " [5.5 1.  1.  ... 1.2 1.  5. ]]\n"
     ]
    }
   ],
   "source": [
    "# average the rating between namba normal and namba hot\n",
    "# data structure: anger stimuli-> prototype\n",
    "emo_names = 'Anger, Disgust, Fear, Happiness, Sadness, Surprise, Neutral'.lower().split(', ')\n",
    "# res = []\n",
    "res = np.zeros([40, 98])\n",
    "for i in range(40):\n",
    "    # j means stimulus from emo 1 - emo 7\n",
    "    # k means 1-7\n",
    "    for j in range(7):\n",
    "        for k in range(7):\n",
    "            # Prototype\n",
    "            res[i, 2*7*j + k] = exp_result_data.iloc[i, [7*7*j + k, 7*7*j+7 + k]].sum() / 2\n",
    "            # Res\n",
    "            res[i, 2*7*j + 7 + k] = exp_result_data.iloc[i, [7*7*j+l*7 + k for l in range(2, 7)]].sum() / 5\n",
    "# Prototype\n",
    "print(res)\n",
    "\n",
    "# print(np.array(res).shape)\n",
    "\n",
    "# print(cols)\n",
    "res = pd.DataFrame(res, columns=cols)\n",
    "# print(res.head(50))\n",
    "average_data = res.copy()"
   ]
  },
  {
   "cell_type": "markdown",
   "id": "e082ae9a",
   "metadata": {},
   "source": [
    "# Please do analysis below."
   ]
  },
  {
   "cell_type": "code",
   "execution_count": null,
   "id": "0cb9568b",
   "metadata": {},
   "outputs": [],
   "source": []
  },
  {
   "cell_type": "markdown",
   "id": "9c29cedd",
   "metadata": {},
   "source": [
    "# 6/28 plot bar figure"
   ]
  },
  {
   "cell_type": "code",
   "execution_count": null,
   "id": "893cd810",
   "metadata": {},
   "outputs": [],
   "source": [
    "# Fig 1\n",
    "\n"
   ]
  },
  {
   "cell_type": "markdown",
   "id": "b58821cf",
   "metadata": {},
   "source": [
    "# 6/3/2022 49 1-way ANOVA"
   ]
  },
  {
   "cell_type": "code",
   "execution_count": 31,
   "id": "22c27a02",
   "metadata": {},
   "outputs": [
    {
     "name": "stdout",
     "output_type": "stream",
     "text": [
      "current stimulus emo is  anger\n",
      "['index', 'Namba normal An_1', 'Namba normal An_2', 'Namba normal An_3', 'Namba normal An_4', 'Namba normal An_5', 'Namba normal An_6', 'Namba normal An_7', 'Namba hot Anger_1', 'Namba hot Anger_2', 'Namba hot Anger_3', 'Namba hot Anger_4', 'Namba hot Anger_5', 'Namba hot Anger_6', 'Namba hot Anger_7', 'BOA Anger 0_1', 'BOA Anger 0_2', 'BOA Anger 0_3', 'BOA Anger 0_4', 'BOA Anger 0_5', 'BOA Anger 0_6', 'BOA Anger 0_7', 'BOA Anger 3_1', 'BOA Anger 3_2', 'BOA Anger 3_3', 'BOA Anger 3_4', 'BOA Anger 3_5', 'BOA Anger 3_6', 'BOA Anger 3_7', 'BOA Anger 5_1', 'BOA Anger 5_2', 'BOA Anger 5_3', 'BOA Anger 5_4', 'BOA Anger 5_5', 'BOA Anger 5_6', 'BOA Anger 5_7', 'BOA Anger 8_1', 'BOA Anger 8_2', 'BOA Anger 8_3', 'BOA Anger 8_4', 'BOA Anger 8_5', 'BOA Anger 8_6', 'BOA Anger 8_7', 'BOA Anger 9_1', 'BOA Anger 9_2', 'BOA Anger 9_3', 'BOA Anger 9_4', 'BOA Anger 9_5', 'BOA Anger 9_6', 'BOA Anger 9_7']\n",
      "current stimulus emo is  disgust\n",
      "['index', 'Namba normal Di_1', 'Namba normal Di_2', 'Namba normal Di_3', 'Namba normal Di_4', 'Namba normal Di_5', 'Namba normal Di_6', 'Namba normal Di_7', 'Namba hot Disgust_1', 'Namba hot Disgust_2', 'Namba hot Disgust_3', 'Namba hot Disgust_4', 'Namba hot Disgust_5', 'Namba hot Disgust_6', 'Namba hot Disgust_7', 'BOA Disgust 0_1', 'BOA Disgust 0_2', 'BOA Disgust 0_3', 'BOA Disgust 0_4', 'BOA Disgust 0_5', 'BOA Disgust 0_6', 'BOA Disgust 0_7', 'BOA Disgust 2_1', 'BOA Disgust 2_2', 'BOA Disgust 2_3', 'BOA Disgust 2_4', 'BOA Disgust 2_5', 'BOA Disgust 2_6', 'BOA Disgust 2_7', 'BOA Disgus 7_1', 'BOA Disgus 7_2', 'BOA Disgus 7_3', 'BOA Disgus 7_4', 'BOA Disgus 7_5', 'BOA Disgus 7_6', 'BOA Disgus 7_7', 'BOA Disgust 8_1', 'BOA Disgust 8_2', 'BOA Disgust 8_3', 'BOA Disgust 8_4', 'BOA Disgust 8_5', 'BOA Disgust 8_6', 'BOA Disgust 8_7', 'BOA Disgust 9_1', 'BOA Disgust 9_2', 'BOA Disgust 9_3', 'BOA Disgust 9_4', 'BOA Disgust 9_5', 'BOA Disgust 9_6', 'BOA Disgust 9_7']\n",
      "current stimulus emo is  fear\n",
      "['index', 'Namba normal Fe_1', 'Namba normal Fe_2', 'Namba normal Fe_3', 'Namba normal Fe_4', 'Namba normal Fe_5', 'Namba normal Fe_6', 'Namba normal Fe_7', 'Namba hot fe_1', 'Namba hot fe_2', 'Namba hot fe_3', 'Namba hot fe_4', 'Namba hot fe_5', 'Namba hot fe_6', 'Namba hot fe_7', 'BOA Fear 0_1', 'BOA Fear 0_2', 'BOA Fear 0_3', 'BOA Fear 0_4', 'BOA Fear 0_5', 'BOA Fear 0_6', 'BOA Fear 0_7', 'BOA Fear 3_1', 'BOA Fear 3_2', 'BOA Fear 3_3', 'BOA Fear 3_4', 'BOA Fear 3_5', 'BOA Fear 3_6', 'BOA Fear 3_7', 'BOA Fear 5_1', 'BOA Fear 5_2', 'BOA Fear 5_3', 'BOA Fear 5_4', 'BOA Fear 5_5', 'BOA Fear 5_6', 'BOA Fear 5_7', 'BOA Fear 6_1', 'BOA Fear 6_2', 'BOA Fear 6_3', 'BOA Fear 6_4', 'BOA Fear 6_5', 'BOA Fear 6_6', 'BOA Fear 6_7', 'BOA Fear 9_1', 'BOA Fear 9_2', 'BOA Fear 9_3', 'BOA Fear 9_4', 'BOA Fear 9_5', 'BOA Fear 9_6', 'BOA Fear 9_7']\n",
      "current stimulus emo is  happiness\n",
      "['index', 'Namba normal Ha_1', 'Namba normal Ha_2', 'Namba normal Ha_3', 'Namba normal Ha_4', 'Namba normal Ha_5', 'Namba normal Ha_6', 'Namba normal Ha_7', 'Namba hot ha_1', 'Namba hot ha_2', 'Namba hot ha_3', 'Namba hot ha_4', 'Namba hot ha_5', 'Namba hot ha_6', 'Namba hot ha_7', 'BOA Happiness 0_1', 'BOA Happiness 0_2', 'BOA Happiness 0_3', 'BOA Happiness 0_4', 'BOA Happiness 0_5', 'BOA Happiness 0_6', 'BOA Happiness 0_7', 'BOA Happiness 2_1', 'BOA Happiness 2_2', 'BOA Happiness 2_3', 'BOA Happiness 2_4', 'BOA Happiness 2_5', 'BOA Happiness 2_6', 'BOA Happiness 2_7', 'BOA Happiness 5_1', 'BOA Happiness 5_2', 'BOA Happiness 5_3', 'BOA Happiness 5_4', 'BOA Happiness 5_5', 'BOA Happiness 5_6', 'BOA Happiness 5_7', 'BOA Happiness 7_1', 'BOA Happiness 7_2', 'BOA Happiness 7_3', 'BOA Happiness 7_4', 'BOA Happiness 7_5', 'BOA Happiness 7_6', 'BOA Happiness 7_7', 'BOA Happiness 9_1', 'BOA Happiness 9_2', 'BOA Happiness 9_3', 'BOA Happiness 9_4', 'BOA Happiness 9_5', 'BOA Happiness 9_6', 'BOA Happiness 9_7']\n",
      "current stimulus emo is  sadness\n",
      "['index', 'Namba normal Sa_1', 'Namba normal Sa_2', 'Namba normal Sa_3', 'Namba normal Sa_4', 'Namba normal Sa_5', 'Namba normal Sa_6', 'Namba normal Sa_7', 'Namba hot sa_1', 'Namba hot sa_2', 'Namba hot sa_3', 'Namba hot sa_4', 'Namba hot sa_5', 'Namba hot sa_6', 'Namba hot sa_7', 'BOA Sadness 0_1', 'BOA Sadness 0_2', 'BOA Sadness 0_3', 'BOA Sadness 0_4', 'BOA Sadness 0_5', 'BOA Sadness 0_6', 'BOA Sadness 0_7', 'BOA Sadness 1_1', 'BOA Sadness 1_2', 'BOA Sadness 1_3', 'BOA Sadness 1_4', 'BOA Sadness 1_5', 'BOA Sadness 1_6', 'BOA Sadness 1_7', 'BOA Sadness 2_1', 'BOA Sadness 2_2', 'BOA Sadness 2_3', 'BOA Sadness 2_4', 'BOA Sadness 2_5', 'BOA Sadness 2_6', 'BOA Sadness 2_7', 'BOA Sadness 3 _1', 'BOA Sadness 3 _2', 'BOA Sadness 3 _3', 'BOA Sadness 3 _4', 'BOA Sadness 3 _5', 'BOA Sadness 3 _6', 'BOA Sadness 3 _7', 'BOA Sadness 6_1', 'BOA Sadness 6_2', 'BOA Sadness 6_3', 'BOA Sadness 6_4', 'BOA Sadness 6_5', 'BOA Sadness 6_6', 'BOA Sadness 6_7']\n",
      "current stimulus emo is  surprise\n",
      "['index', 'Namba normal Sur_1', 'Namba normal Sur_2', 'Namba normal Sur_3', 'Namba normal Sur_4', 'Namba normal Sur_5', 'Namba normal Sur_6', 'Namba normal Sur_7', 'Namba hot Sur_1', 'Namba hot Sur_2', 'Namba hot Sur_3', 'Namba hot Sur_4', 'Namba hot Sur_5', 'Namba hot Sur_6', 'Namba hot Sur_7', 'BOA Surprise 0_1', 'BOA Surprise 0_2', 'BOA Surprise 0_3', 'BOA Surprise 0_4', 'BOA Surprise 0_5', 'BOA Surprise 0_6', 'BOA Surprise 0_7', 'BOA Surprise 1_1', 'BOA Surprise 1_2', 'BOA Surprise 1_3', 'BOA Surprise 1_4', 'BOA Surprise 1_5', 'BOA Surprise 1_6', 'BOA Surprise 1_7', 'BOA Surprise 4_1', 'BOA Surprise 4_2', 'BOA Surprise 4_3', 'BOA Surprise 4_4', 'BOA Surprise 4_5', 'BOA Surprise 4_6', 'BOA Surprise 4_7', 'BOA Surprise 7_1', 'BOA Surprise 7_2', 'BOA Surprise 7_3', 'BOA Surprise 7_4', 'BOA Surprise 7_5', 'BOA Surprise 7_6', 'BOA Surprise 7_7', 'BOA Surprise 8_1', 'BOA Surprise 8_2', 'BOA Surprise 8_3', 'BOA Surprise 8_4', 'BOA Surprise 8_5', 'BOA Surprise 8_6', 'BOA Surprise 8_7']\n",
      "current stimulus emo is  neutral\n",
      "['index', 'Namba normal Neu_1', 'Namba normal Neu_2', 'Namba normal Neu_3', 'Namba normal Neu_4', 'Namba normal Neu_5', 'Namba normal Neu_6', 'Namba normal Neu_7', 'Namba hot Neu_1', 'Namba hot Neu_2', 'Namba hot Neu_3', 'Namba hot Neu_4', 'Namba hot Neu_5', 'Namba hot Neu_6', 'Namba hot Neu_7', 'BOA Neutral 0_1', 'BOA Neutral 0_2', 'BOA Neutral 0_3', 'BOA Neutral 0_4', 'BOA Neutral 0_5', 'BOA Neutral 0_6', 'BOA Neutral 0_7', 'BOA Neutral 2_1', 'BOA Neutral 2_2', 'BOA Neutral 2_3', 'BOA Neutral 2_4', 'BOA Neutral 2_5', 'BOA Neutral 2_6', 'BOA Neutral 2_7', 'BOA Neutral 3_1', 'BOA Neutral 3_2', 'BOA Neutral 3_3', 'BOA Neutral 3_4', 'BOA Neutral 3_5', 'BOA Neutral 3_6', 'BOA Neutral 3_7', 'BOA Neutral 5_1', 'BOA Neutral 5_2', 'BOA Neutral 5_3', 'BOA Neutral 5_4', 'BOA Neutral 5_5', 'BOA Neutral 5_6', 'BOA Neutral 5_7', 'BOA Neutral 6_1', 'BOA Neutral 6_2', 'BOA Neutral 6_3', 'BOA Neutral 6_4', 'BOA Neutral 6_5', 'BOA Neutral 6_6', 'BOA Neutral 6_7']\n",
      "       index stimulus_type stimulus_emotion rated_emotion  rating\n",
      "0          0     Prototype            anger         anger       4\n",
      "1          1     Prototype            anger         anger       5\n",
      "2          2     Prototype            anger         anger       5\n",
      "3          3     Prototype            anger         anger       1\n",
      "4          4     Prototype            anger         anger       6\n",
      "...      ...           ...              ...           ...     ...\n",
      "13715     35    BO-based-6          neutral       neutral       7\n",
      "13716     36    BO-based-6          neutral       neutral       4\n",
      "13717     37    BO-based-6          neutral       neutral       5\n",
      "13718     38    BO-based-6          neutral       neutral       3\n",
      "13719     39    BO-based-6          neutral       neutral       3\n",
      "\n",
      "[13720 rows x 5 columns]\n"
     ]
    }
   ],
   "source": [
    "def longformat_all():\n",
    "    emo_names = 'Anger, Disgust, Fear, Happiness, Sadness, Surprise, Neutral'.lower().split(', ')\n",
    "    emo_rated_names = 'Anger, Fear, Happiness, Sadness, Surprise, Disgust, Neutral'.lower().split(', ')\n",
    "#     print(' Anger - 1 - 怒り,\\n disgust 6 - 嫌悪,\\n fear - 2 - 恐怖,\\n happiness - 3 - 幸福, \\n sadness - 4 - 悲しみ, \\n surprise - 5 - 驚き,\\n neutral - 7 - 中性')\n",
    "# Note that: the number 6 for disgust is the position of the choice for the rated emotion, rather than the rotation of the stimulus.\n",
    "#     print(total_data.iloc[0:2, :])\n",
    "    def get_emo_num(name):\n",
    "        if name.lower() == 'anger':\n",
    "            return 0\n",
    "        elif name.lower() == 'disgust':\n",
    "            return 5\n",
    "        elif name.lower() == 'fear':\n",
    "            return 1\n",
    "        elif name.lower() in [\"Happiness\", \"happiness\"]:\n",
    "            return 2\n",
    "        elif name.lower() in [\"Sadness\", \"sadness\"]:\n",
    "            return 3\n",
    "        elif name.lower() in [\"Surprise\", \"surprise\"]:\n",
    "            return 4\n",
    "        elif name.lower() in [\"Neutral\", \"neutral\"]:\n",
    "            return 6\n",
    "    DF_ALL = []\n",
    "    \n",
    "    for i in range(7):\n",
    "    # stimulus rotation is Anger, Disgust, Fear, Happiness, Sadness, Surprise, Neutral\n",
    "        current_emo = emo_names[i]\n",
    "        print('current stimulus emo is ', current_emo)\n",
    "        temp_data = total_data.iloc[:, 14+7*7*i : 14+7*7*i + 7*7].copy()\n",
    "#         temp_data = temp_data.iloc[:, :21]\n",
    "        # print(temp_data.head())\n",
    "        temp_data_with_rating = temp_data.reset_index(drop=False)\n",
    "        print(list(temp_data_with_rating.columns)[:])\n",
    "        df = pd.melt(temp_data_with_rating, id_vars=['index'], value_vars=list(temp_data_with_rating.columns)[1:],\n",
    "                     var_name='stimulus_type', value_name='rating')\n",
    "        # print(df)\n",
    "        newcolumn = [[x for _ in range(40)] for x in emo_rated_names] * 7\n",
    "        newcolumn = [i for item in newcolumn for i in item]\n",
    "        df.insert(2, 'stimulus_emotion', current_emo)\n",
    "        df.insert(3, 'rated_emotion', newcolumn)\n",
    "\n",
    "        def cleanthedf(x):\n",
    "            if 'normal' in x:\n",
    "                return 'Prototype'\n",
    "            elif 'hot' in x:\n",
    "                return 'Prototype with opening mouth'\n",
    "            else:\n",
    "                return 'BO-based-' + x[-3]\n",
    "\n",
    "        df['stimulus_type'] = df['stimulus_type'].apply(lambda x: cleanthedf(x))\n",
    "\n",
    "        if type(DF_ALL) is list:\n",
    "            DF_ALL = df.copy()\n",
    "        else:\n",
    "            DF_ALL = pd.concat([DF_ALL, df], ignore_index=True)\n",
    "#         print(df)\n",
    "    print(DF_ALL)\n",
    "    DF_ALL.to_csv('data40_longformat_ALL.csv')\n",
    "longformat_all()\n"
   ]
  },
  {
   "cell_type": "code",
   "execution_count": 30,
   "id": "d769f076",
   "metadata": {},
   "outputs": [
    {
     "data": {
      "text/plain": [
       "13720"
      ]
     },
     "execution_count": 30,
     "metadata": {},
     "output_type": "execute_result"
    }
   ],
   "source": [
    "40*7*7*7"
   ]
  },
  {
   "cell_type": "code",
   "execution_count": null,
   "id": "babeda0a",
   "metadata": {},
   "outputs": [],
   "source": [
    "# 49 one way\n",
    "for i in emo_names:\n",
    "    for j in emo_names:\n",
    "        print(\"current is {}-{}\".format(i, j))\n",
    "        temp_data = total_data.iloc[:, 14+7*7*empos : 14+7*7*empos + 7*7].copy()\n",
    "        print(temp_data)"
   ]
  },
  {
   "cell_type": "markdown",
   "id": "ad5c95ae",
   "metadata": {},
   "source": [
    "# 6/29/2022 2-way ANOVA for aver data"
   ]
  },
  {
   "cell_type": "code",
   "execution_count": null,
   "id": "f57bae56",
   "metadata": {},
   "outputs": [],
   "source": []
  },
  {
   "cell_type": "code",
   "execution_count": 29,
   "id": "b5208eb7",
   "metadata": {},
   "outputs": [
    {
     "name": "stdout",
     "output_type": "stream",
     "text": [
      "current stimulus emo is  anger\n",
      "current stimulus emo is  disgust\n",
      "current stimulus emo is  fear\n",
      "current stimulus emo is  happiness\n",
      "current stimulus emo is  sadness\n",
      "current stimulus emo is  surprise\n",
      "current stimulus emo is  neutral\n",
      "<bound method DataFrame.info of       index stimulus_type stimulus_emotion rated_emotion  rating\n",
      "0         0     Prototype            anger         anger     4.5\n",
      "1         1     Prototype            anger         anger     3.5\n",
      "2         2     Prototype            anger         anger     5.0\n",
      "3         3     Prototype            anger         anger     1.5\n",
      "4         4     Prototype            anger         anger     5.5\n",
      "...     ...           ...              ...           ...     ...\n",
      "3915     35           Res          neutral       neutral     6.4\n",
      "3916     36           Res          neutral       neutral     2.8\n",
      "3917     37           Res          neutral       neutral     6.2\n",
      "3918     38           Res          neutral       neutral     4.4\n",
      "3919     39           Res          neutral       neutral     5.0\n",
      "\n",
      "[3920 rows x 5 columns]>\n"
     ]
    }
   ],
   "source": [
    "# get long format for two way anova\n",
    "emo_names = 'Anger, Disgust, Fear, Happiness, Sadness, Surprise, Neutral'.lower().split(', ')\n",
    "emo_rated_names = 'Anger, Fear, Happiness, Sadness, Surprise, Disgust, Neutral'.lower().split(', ')\n",
    "#     print(' Anger - 1 - 怒り,\\n disgust 6 - 嫌悪,\\n fear - 2 - 恐怖,\\n happiness - 3 - 幸福, \\n sadness - 4 - 悲しみ, \\n surprise - 5 - 驚き,\\n neutral - 7 - 中性')\n",
    "# Note that: the number 6 for disgust is the position of the choice for the rated emotion, rather than the rotation of the stimulus.\n",
    "#     print(total_data.iloc[0:2, :])\n",
    "def get_emo_num(name):\n",
    "    if name.lower() == 'anger':\n",
    "        return 0\n",
    "    elif name.lower() == 'disgust':\n",
    "        return 5\n",
    "    elif name.lower() == 'fear':\n",
    "        return 1\n",
    "    elif name.lower() in [\"Happiness\", \"happiness\"]:\n",
    "        return 2\n",
    "    elif name.lower() in [\"Sadness\", \"sadness\"]:\n",
    "        return 3\n",
    "    elif name.lower() in [\"Surprise\", \"surprise\"]:\n",
    "        return 4\n",
    "    elif name.lower() in [\"Neutral\", \"neutral\"]:\n",
    "        return 6\n",
    "DF_ALL = []\n",
    "    \n",
    "for i in range(7):\n",
    "# stimulus rotation is Anger, Disgust, Fear, Happiness, Sadness, Surprise, Neutral\n",
    "    current_emo = emo_names[i]\n",
    "    print('current stimulus emo is ', current_emo)\n",
    "    temp_data = average_data.iloc[:, 2*7*i : 2*7*i + 2*7].copy()\n",
    "#     print(temp_data.head())\n",
    "    temp_data_with_rating = temp_data.reset_index(drop=False)\n",
    "#     print(list(temp_data_with_rating.columns)[:])\n",
    "    df = pd.melt(temp_data_with_rating, id_vars=['index'], value_vars=list(temp_data_with_rating.columns)[1:],\n",
    "                 var_name='stimulus_type', value_name='rating')\n",
    "    # print(df)\n",
    "    newcolumn = [[x for _ in range(40)] for x in emo_rated_names] * 2\n",
    "    newcolumn = [i for item in newcolumn for i in item]\n",
    "    df.insert(2, 'stimulus_emotion', current_emo)\n",
    "    df.insert(3, 'rated_emotion', newcolumn)\n",
    "\n",
    "    def cleanthedf(x):\n",
    "        if 'Prototype' in x:\n",
    "            return 'Prototype'\n",
    "        elif 'Res' in x:\n",
    "            return 'Res'\n",
    "        else:\n",
    "            raise error\n",
    "\n",
    "    df['stimulus_type'] = df['stimulus_type'].apply(lambda x: cleanthedf(x))\n",
    "\n",
    "    if type(DF_ALL) is list:\n",
    "        DF_ALL = df.copy()\n",
    "    else:\n",
    "        DF_ALL = pd.concat([DF_ALL, df], ignore_index=True)\n",
    "#         print(df)\n",
    "print(DF_ALL.info)\n",
    "# DF_ALL.to_csv('data40_longformat_ALL.csv')\n",
    "\n",
    "# two way ANOVA\n",
    "# the within subject model \n",
    "import pingouin as pg\n",
    "\n",
    "# perform two-way repeated measures ANOVA\n",
    "twoway_re_me_anova = pg.rm_anova(dv='rating', within=['stimulus_type', 'stimulus_emotion'], subject='index', data=DF_ALL)\n",
    "\n",
    "# Optional post-hoc tests\n",
    "post_hoc_tests = pg.pairwise_ttests(dv='rating', within=['stimulus_type', 'stimulus_emotion'], subject='index', data=DF_ALL)"
   ]
  },
  {
   "cell_type": "code",
   "execution_count": 30,
   "id": "cb8e3504",
   "metadata": {},
   "outputs": [
    {
     "data": {
      "text/plain": [
       "14.0"
      ]
     },
     "execution_count": 30,
     "metadata": {},
     "output_type": "execute_result"
    }
   ],
   "source": [
    "3920/40/7"
   ]
  },
  {
   "cell_type": "code",
   "execution_count": 21,
   "id": "88248679",
   "metadata": {},
   "outputs": [
    {
     "data": {
      "text/html": [
       "<div>\n",
       "<style scoped>\n",
       "    .dataframe tbody tr th:only-of-type {\n",
       "        vertical-align: middle;\n",
       "    }\n",
       "\n",
       "    .dataframe tbody tr th {\n",
       "        vertical-align: top;\n",
       "    }\n",
       "\n",
       "    .dataframe thead th {\n",
       "        text-align: right;\n",
       "    }\n",
       "</style>\n",
       "<table border=\"1\" class=\"dataframe\">\n",
       "  <thead>\n",
       "    <tr style=\"text-align: right;\">\n",
       "      <th></th>\n",
       "      <th>Source</th>\n",
       "      <th>SS</th>\n",
       "      <th>ddof1</th>\n",
       "      <th>ddof2</th>\n",
       "      <th>MS</th>\n",
       "      <th>F</th>\n",
       "      <th>p-unc</th>\n",
       "      <th>p-GG-corr</th>\n",
       "      <th>np2</th>\n",
       "      <th>eps</th>\n",
       "    </tr>\n",
       "  </thead>\n",
       "  <tbody>\n",
       "    <tr>\n",
       "      <th>0</th>\n",
       "      <td>stimulus_type</td>\n",
       "      <td>0.763050</td>\n",
       "      <td>1</td>\n",
       "      <td>39</td>\n",
       "      <td>0.763050</td>\n",
       "      <td>12.520648</td>\n",
       "      <td>1.057926e-03</td>\n",
       "      <td>1.057926e-03</td>\n",
       "      <td>0.243022</td>\n",
       "      <td>1.000000</td>\n",
       "    </tr>\n",
       "    <tr>\n",
       "      <th>1</th>\n",
       "      <td>stimulus_emotion</td>\n",
       "      <td>40.695060</td>\n",
       "      <td>6</td>\n",
       "      <td>234</td>\n",
       "      <td>6.782510</td>\n",
       "      <td>41.354203</td>\n",
       "      <td>3.506835e-34</td>\n",
       "      <td>1.565188e-14</td>\n",
       "      <td>0.514649</td>\n",
       "      <td>0.382138</td>\n",
       "    </tr>\n",
       "    <tr>\n",
       "      <th>2</th>\n",
       "      <td>stimulus_type * stimulus_emotion</td>\n",
       "      <td>3.147407</td>\n",
       "      <td>6</td>\n",
       "      <td>234</td>\n",
       "      <td>0.524568</td>\n",
       "      <td>8.182256</td>\n",
       "      <td>4.809240e-08</td>\n",
       "      <td>7.799720e-07</td>\n",
       "      <td>0.173418</td>\n",
       "      <td>0.800676</td>\n",
       "    </tr>\n",
       "  </tbody>\n",
       "</table>\n",
       "</div>"
      ],
      "text/plain": [
       "                             Source         SS  ddof1  ddof2        MS  \\\n",
       "0                     stimulus_type   0.763050      1     39  0.763050   \n",
       "1                  stimulus_emotion  40.695060      6    234  6.782510   \n",
       "2  stimulus_type * stimulus_emotion   3.147407      6    234  0.524568   \n",
       "\n",
       "           F         p-unc     p-GG-corr       np2       eps  \n",
       "0  12.520648  1.057926e-03  1.057926e-03  0.243022  1.000000  \n",
       "1  41.354203  3.506835e-34  1.565188e-14  0.514649  0.382138  \n",
       "2   8.182256  4.809240e-08  7.799720e-07  0.173418  0.800676  "
      ]
     },
     "execution_count": 21,
     "metadata": {},
     "output_type": "execute_result"
    }
   ],
   "source": [
    "twoway_re_me_anova"
   ]
  },
  {
   "cell_type": "code",
   "execution_count": 28,
   "id": "60747362",
   "metadata": {},
   "outputs": [],
   "source": [
    "post_hoc_tests.to_csv('post_hoc_tests.csv')"
   ]
  },
  {
   "cell_type": "code",
   "execution_count": 42,
   "id": "e6173d37",
   "metadata": {},
   "outputs": [
    {
     "name": "stdout",
     "output_type": "stream",
     "text": [
      "current emo is  anger\n",
      "   Namba normal An_1  Namba normal An_2  Namba normal An_3  Namba normal An_4  \\\n",
      "0                  4                  3                  5                  4   \n",
      "1                  5                  3                  2                  2   \n",
      "2                  5                  6                  1                  5   \n",
      "3                  1                  2                  3                  1   \n",
      "4                  6                  4                  1                  4   \n",
      "\n",
      "   Namba normal An_5  Namba normal An_6  Namba normal An_7  Namba hot Anger_1  \\\n",
      "0                  5                  6                  5                  5   \n",
      "1                  3                  3                  4                  2   \n",
      "2                  4                  6                  1                  5   \n",
      "3                  1                  2                  2                  2   \n",
      "4                  2                  5                  2                  5   \n",
      "\n",
      "   Namba hot Anger_2  Namba hot Anger_3  ...  Namba hot Anger_5  \\\n",
      "0                  4                  5  ...                  6   \n",
      "1                  2                  4  ...                  5   \n",
      "2                  6                  3  ...                  6   \n",
      "3                  1                  1  ...                  2   \n",
      "4                  5                  1  ...                  6   \n",
      "\n",
      "   Namba hot Anger_6  Namba hot Anger_7  BOA Anger 0_1  BOA Anger 0_2  \\\n",
      "0                  5                  5              4              5   \n",
      "1                  2                  4              5              4   \n",
      "2                  5                  2              6              7   \n",
      "3                  1                  5              3              2   \n",
      "4                  5                  1              6              5   \n",
      "\n",
      "   BOA Anger 0_3  BOA Anger 0_4  BOA Anger 0_5  BOA Anger 0_6  BOA Anger 0_7  \n",
      "0              4              4              5              6              5  \n",
      "1              2              1              5              4              6  \n",
      "2              2              5              6              6              2  \n",
      "3              1              5              6              2              1  \n",
      "4              1              4              5              5              1  \n",
      "\n",
      "[5 rows x 21 columns]\n",
      "['index', 'Namba normal An_1', 'Namba normal An_2', 'Namba normal An_3', 'Namba normal An_4', 'Namba normal An_5', 'Namba normal An_6', 'Namba normal An_7', 'Namba hot Anger_1', 'Namba hot Anger_2', 'Namba hot Anger_3', 'Namba hot Anger_4', 'Namba hot Anger_5', 'Namba hot Anger_6', 'Namba hot Anger_7', 'BOA Anger 0_1', 'BOA Anger 0_2', 'BOA Anger 0_3', 'BOA Anger 0_4', 'BOA Anger 0_5', 'BOA Anger 0_6', 'BOA Anger 0_7']\n",
      "     index           stimulus  rating\n",
      "0        0  Namba normal An_1       4\n",
      "1        1  Namba normal An_1       5\n",
      "2        2  Namba normal An_1       5\n",
      "3        3  Namba normal An_1       1\n",
      "4        4  Namba normal An_1       6\n",
      "..     ...                ...     ...\n",
      "835     35      BOA Anger 0_7       1\n",
      "836     36      BOA Anger 0_7       1\n",
      "837     37      BOA Anger 0_7       1\n",
      "838     38      BOA Anger 0_7       1\n",
      "839     39      BOA Anger 0_7       1\n",
      "\n",
      "[840 rows x 3 columns]\n"
     ]
    }
   ],
   "source": []
  },
  {
   "cell_type": "code",
   "execution_count": null,
   "id": "d8040c69",
   "metadata": {},
   "outputs": [],
   "source": []
  },
  {
   "cell_type": "code",
   "execution_count": 4,
   "id": "f927f38b",
   "metadata": {},
   "outputs": [],
   "source": [
    "import numpy"
   ]
  },
  {
   "cell_type": "code",
   "execution_count": null,
   "id": "1b0e34a0",
   "metadata": {},
   "outputs": [],
   "source": [
    "# Switch the format"
   ]
  },
  {
   "cell_type": "code",
   "execution_count": 93,
   "id": "cf64da1e",
   "metadata": {},
   "outputs": [
    {
     "name": "stdout",
     "output_type": "stream",
     "text": [
      "The rotation is:\n",
      " 1 - 怒り - anger,\n",
      " 2 - 恐怖 - fear,\n",
      " 3 - 幸福 - happiness, \n",
      " 4 - 悲しみ - sadness, \n",
      " 5 - 驚き - surprise,\n",
      " 6 - 嫌悪 - disgust, \n",
      " 7 - 中性 - neutral\n"
     ]
    }
   ],
   "source": [
    "print('The rotation is:')\n",
    "print(' 1 - 怒り - anger,\\n 2 - 恐怖 - fear,\\n 3 - 幸福 - happiness, \\n 4 - 悲しみ - sadness, \\n 5 - 驚き - surprise,\\n 6 - 嫌悪 - disgust, \\n 7 - 中性 - neutral')"
   ]
  },
  {
   "cell_type": "markdown",
   "id": "c6c61e44",
   "metadata": {},
   "source": [
    "# Analysis 2\n",
    "# Final selection result"
   ]
  },
  {
   "cell_type": "code",
   "execution_count": 2,
   "id": "924cc04b",
   "metadata": {},
   "outputs": [
    {
     "name": "stdout",
     "output_type": "stream",
     "text": [
      "/Users/dongshengyang/Downloads/iMacResearch/github/CameraControl\n"
     ]
    }
   ],
   "source": [
    "!pwd"
   ]
  },
  {
   "cell_type": "code",
   "execution_count": 4,
   "id": "3385294c",
   "metadata": {},
   "outputs": [
    {
     "name": "stdout",
     "output_type": "stream",
     "text": [
      "True\n",
      "{'anger': [0.070583, 0.81069, 0.936236, 0.931665, 0.927082, 0.914131, 0.913679], 'disgust': [0.000917, 0.000288, 0.827066, 0.804087, 0.767849, 0.76772, 0.756644], 'fear': [0.122994, 0.29998, 0.836327, 0.786653, 0.741456, 0.695252, 0.619278], 'happiness': [0.732239, 0.148244, 0.895467, 0.856129, 0.844299, 0.837262, 0.822102], 'sadness': [0.251955, 0.241967, 0.912592, 0.909977, 0.903788, 0.874338, 0.866104], 'surprise': [0.667781, 0.972414, 0.972415, 0.971868, 0.94906, 0.936967, 0.931813], 'neutral': [0.955426, 0.955426, 0.894728, 0.869838, 0.863559, 0.850641, 0.841315]}\n"
     ]
    }
   ],
   "source": [
    "import os\n",
    "import pandas as pd\n",
    "\n",
    "# Py-feat data\n",
    "# namba_nor_rating\n",
    "BOA_final_select = {}\n",
    "BOA_final_select['anger'] = [[0, '2021_12_23_15_32_12_anger_772.csv'], [3, '2021_12_23_15_27_09_anger_212.csv'], [5, '2021_12_23_15_31_17_anger_672.csv'], [8, '2021_12_23_15_30_17_anger_562.csv'], [9, '2021_12_23_15_33_23_anger_902.csv']]\n",
    "BOA_final_select['disgust'] = [[0, '2021_12_23_15_42_21_disgust_822.csv'], [2, '2021_12_23_15_36_37_disgust_182.csv'], [7, '2021_12_23_15_42_43_disgust_862.csv'], [8, '2021_12_23_15_36_58_disgust_222.csv'], [9, '2021_12_23_15_36_16_disgust_142.csv']]\n",
    "BOA_final_select['fear'] = [[0, '2021_12_23_15_50_44_fear_792.csv'], [3, '2021_12_23_15_46_42_fear_322.csv'], [5, '2021_12_23_15_50_03_fear_712.csv'], [6, '2021_12_23_15_52_23_fear_982.csv'], [9, '2021_12_23_15_51_09_fear_842.csv']]\n",
    "BOA_final_select['happiness'] = [[0, '2021_12_23_16_02_49_happiness_982.csv'], [2, '2021_12_23_15_56_09_happiness_242.csv'], [5, '2021_12_23_15_57_14_happiness_362.csv'], [7, '2021_12_23_16_01_09_happiness_792.csv'], [9, '2021_12_23_16_01_03_happiness_782.csv']]\n",
    "BOA_final_select['sadness'] = [[0, '2021_12_23_16_08_31_sadness_622.csv'], [1, '2021_12_23_16_10_19_sadness_822.csv'], [2, '2021_12_23_16_09_41_sadness_752.csv'], [3, '2021_12_23_16_11_40_sadness_972.csv'], [6, '2021_12_23_16_10_03_sadness_792.csv']]\n",
    "BOA_final_select['surprise'] = [[0, '2021_12_23_16_16_59_surprise_422.csv'], [1, '2021_12_23_16_21_15_surprise_862.csv'], [4, '2021_12_23_16_19_35_surprise_692.csv'], [7, '2021_12_23_16_20_33_surprise_792.csv'], [8, '2021_12_23_16_21_09_surprise_852.csv']]\n",
    "BOA_final_select['neutral'] =  [[0, '2021_12_23_16_55_37_neutral_762.csv'], [2, '2021_12_23_16_55_43_neutral_772.csv'], [3, '2021_12_23_16_57_14_neutral_922.csv'], [5, '2021_12_23_16_57_08_neutral_912.csv'], [6, '2021_12_23_16_54_23_neutral_632.csv']]\n",
    "# print(BOA_final_select['anger'][0][1])\n",
    "# print(os.path.exists(BOA_final_select_folder_path + BOA_final_select['anger'][0][1][:-4] + '_emotion.csv' ))\n",
    "temp_folder = ['prototypeFacialExpressions', 'hotFacialExpressions']\n",
    "namba_select = {} \n",
    "namba_select_folder_path = 'ros_dongagent_ws/src/dongagent_package/scripts/image_analysis/selected_files_OnlineExp/Namba_Coding/Exp8/'\n",
    "for i in temp_folder: \n",
    "    for j in os.listdir(namba_select_folder_path + i):\n",
    "        if 'emotion' not in j:\n",
    "            continue\n",
    "        if j.split('_')[-2][:-1].lower() in namba_select.keys():\n",
    "            namba_select[j.split('_')[-2][:-1].lower()].append(i + '/' + j)\n",
    "        else:\n",
    "            namba_select[j.split('_')[-2][:-1].lower()] = [i + '/' + j]\n",
    "#         namba_select[]\n",
    "# print(namba_select)\n",
    "# print(os.listdir(namba_select_folder_path))\n",
    "print(os.path.exists(namba_select_folder_path + namba_select['neutral'][0]))\n",
    "\n",
    "pyfeat_rating = {}\n",
    "\n",
    "\n",
    "for target_emotion in 'Anger, Disgust, Fear, Happiness, Sadness, Surprise, Neutral'.lower().split(', '):\n",
    "# for target_emotion in ['disgust']:\n",
    "# target_emotion = 'anger'\n",
    "    BOA_final_select_folder_path = 'ros_dongagent_ws/src/dongagent_package/scripts/image_analysis/selected_files_OnlineExp/BOA_optimized/' + target_emotion + '/'\n",
    "\n",
    "    pyfeat_rating[target_emotion] = []\n",
    "    # namba normal\n",
    "    tempnamba = pd.read_csv(namba_select_folder_path + namba_select[target_emotion][0])\n",
    "#     print(round(tempnamba[target_emotion].values[0], 6))\n",
    "    pyfeat_rating[target_emotion].append(round(tempnamba[target_emotion].values[0], 6))\n",
    "    # namba normal hot\n",
    "    if target_emotion != 'neutral':\n",
    "        tempnamba = pd.read_csv(namba_select_folder_path + namba_select[target_emotion][1])\n",
    "#         print(tempnamba)\n",
    "#         print(round(tempnamba[target_emotion].values[0], 6))\n",
    "        pyfeat_rating[target_emotion].append(round(tempnamba[target_emotion].values[0], 6))\n",
    "    else:\n",
    "        pyfeat_rating[target_emotion].append(round(tempnamba[target_emotion].values[0], 6))\n",
    "    \n",
    "    for i in range(5):\n",
    "        temp = pd.read_csv(BOA_final_select_folder_path + BOA_final_select[target_emotion][i][1][:-4] + '_emotion.csv')\n",
    "#         print(round(temp[target_emotion].values[0], 6))\n",
    "        pyfeat_rating[target_emotion].append(round(temp[target_emotion].values[0], 6))\n",
    "    \n",
    "print(pyfeat_rating)"
   ]
  },
  {
   "cell_type": "markdown",
   "id": "eac6d7fa",
   "metadata": {},
   "source": [
    "## Figure 1"
   ]
  },
  {
   "cell_type": "code",
   "execution_count": 28,
   "id": "796116e1",
   "metadata": {},
   "outputs": [
    {
     "name": "stdout",
     "output_type": "stream",
     "text": [
      "Coefficients: \n",
      " [938.23786125]\n",
      "Mean squared error: 2548.07\n",
      "Coefficient of determination: 0.47\n"
     ]
    },
    {
     "data": {
      "image/png": "[encoded data removed]",
      "text/plain": [
       "<Figure size 432x288 with 1 Axes>"
      ]
     },
     "metadata": {},
     "output_type": "display_data"
    }
   ],
   "source": [
    "# Example\n",
    "# Code source: Jaques Grobler\n",
    "# License: BSD 3 clause\n",
    "\n",
    "import matplotlib.pyplot as plt\n",
    "import numpy as np\n",
    "from sklearn import datasets, linear_model\n",
    "from sklearn.metrics import mean_squared_error, r2_score\n",
    "\n",
    "# Load the diabetes dataset\n",
    "diabetes_X, diabetes_y = datasets.load_diabetes(return_X_y=True)\n",
    "\n",
    "# Use only one feature\n",
    "diabetes_X = diabetes_X[:, np.newaxis, 2]\n",
    "\n",
    "# Split the data into training/testing sets\n",
    "diabetes_X_train = diabetes_X[:-20]\n",
    "diabetes_X_test = diabetes_X[-20:]\n",
    "\n",
    "# Split the targets into training/testing sets\n",
    "diabetes_y_train = diabetes_y[:-20]\n",
    "diabetes_y_test = diabetes_y[-20:]\n",
    "\n",
    "# Create linear regression object\n",
    "regr = linear_model.LinearRegression()\n",
    "# print(diabetes_X_train, diabetes_y_train)\n",
    "# Train the model using the training sets\n",
    "regr.fit(diabetes_X_train, diabetes_y_train)\n",
    "\n",
    "# Make predictions using the testing set\n",
    "diabetes_y_pred = regr.predict(diabetes_X_test)\n",
    "\n",
    "# The coefficients\n",
    "print(\"Coefficients: \\n\", regr.coef_)\n",
    "# The mean squared error\n",
    "print(\"Mean squared error: %.2f\" % mean_squared_error(diabetes_y_test, diabetes_y_pred))\n",
    "# The coefficient of determination: 1 is perfect prediction\n",
    "print(\"Coefficient of determination: %.2f\" % r2_score(diabetes_y_test, diabetes_y_pred))\n",
    "\n",
    "# Plot outputs\n",
    "plt.scatter(diabetes_X_test, diabetes_y_test, color=\"black\")\n",
    "plt.plot(diabetes_X_test, diabetes_y_pred, color=\"blue\", linewidth=3)\n",
    "\n",
    "plt.xticks(())\n",
    "plt.yticks(())\n",
    "\n",
    "plt.show()"
   ]
  },
  {
   "cell_type": "code",
   "execution_count": 7,
   "id": "98604495",
   "metadata": {},
   "outputs": [
    {
     "name": "stdout",
     "output_type": "stream",
     "text": [
      "current emo is: anger\n",
      "current emo is: disgust\n",
      "current emo is: fear\n",
      "current emo is: happiness\n",
      "current emo is: sadness\n",
      "current emo is: surprise\n",
      "current emo is: neutral\n"
     ]
    },
    {
     "name": "stderr",
     "output_type": "stream",
     "text": [
      "/usr/local/Caskroom/miniconda/base/lib/python3.8/site-packages/seaborn/_decorators.py:36: FutureWarning: Pass the following variables as keyword args: x, y. From version 0.12, the only valid positional argument will be `data`, and passing other arguments without an explicit keyword will result in an error or misinterpretation.\n",
      "  warnings.warn(\n",
      "/usr/local/Caskroom/miniconda/base/lib/python3.8/site-packages/seaborn/_decorators.py:36: FutureWarning: Pass the following variables as keyword args: x, y. From version 0.12, the only valid positional argument will be `data`, and passing other arguments without an explicit keyword will result in an error or misinterpretation.\n",
      "  warnings.warn(\n",
      "/usr/local/Caskroom/miniconda/base/lib/python3.8/site-packages/seaborn/_decorators.py:36: FutureWarning: Pass the following variables as keyword args: x, y. From version 0.12, the only valid positional argument will be `data`, and passing other arguments without an explicit keyword will result in an error or misinterpretation.\n",
      "  warnings.warn(\n",
      "/usr/local/Caskroom/miniconda/base/lib/python3.8/site-packages/seaborn/_decorators.py:36: FutureWarning: Pass the following variables as keyword args: x, y. From version 0.12, the only valid positional argument will be `data`, and passing other arguments without an explicit keyword will result in an error or misinterpretation.\n",
      "  warnings.warn(\n",
      "/usr/local/Caskroom/miniconda/base/lib/python3.8/site-packages/seaborn/_decorators.py:36: FutureWarning: Pass the following variables as keyword args: x, y. From version 0.12, the only valid positional argument will be `data`, and passing other arguments without an explicit keyword will result in an error or misinterpretation.\n",
      "  warnings.warn(\n",
      "/usr/local/Caskroom/miniconda/base/lib/python3.8/site-packages/seaborn/_decorators.py:36: FutureWarning: Pass the following variables as keyword args: x, y. From version 0.12, the only valid positional argument will be `data`, and passing other arguments without an explicit keyword will result in an error or misinterpretation.\n",
      "  warnings.warn(\n",
      "/usr/local/Caskroom/miniconda/base/lib/python3.8/site-packages/seaborn/_decorators.py:36: FutureWarning: Pass the following variables as keyword args: x, y. From version 0.12, the only valid positional argument will be `data`, and passing other arguments without an explicit keyword will result in an error or misinterpretation.\n",
      "  warnings.warn(\n"
     ]
    },
    {
     "data": {
      "image/png": "[encoded data removed]",
      "text/plain": [
       "<Figure size 1008x720 with 1 Axes>"
      ]
     },
     "metadata": {},
     "output_type": "display_data"
    }
   ],
   "source": [
    "import seaborn as sns\n",
    "from sklearn.linear_model import LinearRegression\n",
    "from sklearn.metrics import r2_score\n",
    "import statsmodels.api as sm\n",
    "# print(total_data.head())\n",
    "\n",
    "def get_emo_num(name):\n",
    "    if name.lower() == 'anger':\n",
    "        return 0\n",
    "    elif name.lower() == 'disgust':\n",
    "        return 5\n",
    "    elif name.lower() == 'fear':\n",
    "        return 1\n",
    "    elif name.lower() in [\"Happiness\", \"happiness\"]:\n",
    "        return 2\n",
    "    elif name.lower() in [\"Sadness\", \"sadness\"]:\n",
    "        return 3\n",
    "    elif name.lower() in [\"Surprise\", \"surprise\"]:\n",
    "        return 4\n",
    "    elif name.lower() in [\"Neutral\", \"neutral\"]:\n",
    "        return 6\n",
    "    \n",
    "sns.set(font_scale=1.5)\n",
    "emo_names = 'Anger, Disgust, Fear, Happiness, Sadness, Surprise, Neutral'.lower().split(', ')\n",
    "form_names = 'Anger, Disgust, Fear, Happiness, Sadness, Surprise, Neutral'.split(', ')\n",
    "# id = 1\n",
    "fig, ax = plt.subplots(figsize=(14, 10)) # set figure size\n",
    "# plt.xlim(-0.05, 1.05)\n",
    "plt.ylim(1.8, 7.2)\n",
    "fig.set_facecolor('white') # set background color\n",
    "for i in range(7):\n",
    "#     if i != id:\n",
    "#         continue\n",
    "    current_emo = emo_names[i]\n",
    "    print('current emo is:', current_emo)\n",
    "    temp_data = total_data.iloc[:, 14+7*7*i : 14+7*7*i + 7*7].copy()\n",
    "    temp_data_with_temp_rating = temp_data.iloc[:,[ get_emo_num(current_emo) + 7 * x for x in range(7)]]\n",
    "\n",
    "#     fig, ax = plt.subplots(figsize=(14, 8)) # set figure size\n",
    "#     fig.set_facecolor('white') # set background color\n",
    "    # ---------------\n",
    "    # plt.figure(figsize=(14, 8))\n",
    "    # x = pyfeat_rating[emo_names[id]][i]\n",
    "    # print(x)\n",
    "    # y = temp_data_with_temp_rating[temp_data_with_temp_rating.columns[i]]\n",
    "    x = []\n",
    "    y = []\n",
    "    fig_data = []\n",
    "    for j in range(len(temp_data_with_temp_rating.columns)):\n",
    "        temp_x = pyfeat_rating[current_emo][j]\n",
    "        x.append(temp_x)\n",
    "        temp_y = temp_data_with_temp_rating[temp_data_with_temp_rating.columns[j]]\n",
    "        y.append(np.mean(temp_y))\n",
    "        fig_data.append([temp_x, np.mean(temp_y)])\n",
    "    fig_data = sorted(fig_data, key=lambda x:x[0]) \n",
    "    fig_data = np.array(fig_data)\n",
    "    fig_data = fig_data.transpose()\n",
    "    temp_emo = current_emo\n",
    "    for item in fig_data[0]:\n",
    "        item = [item]\n",
    "#     print('fig_data', fig_data)\n",
    "\n",
    "    # LinearRegression\n",
    "    X, y = fig_data[0], fig_data[1]\n",
    "    # print(X, y)\n",
    "    X = X[:, None] # Reshape to 2D as requested\n",
    "    reg = LinearRegression()\n",
    "    reg.fit(X, y)\n",
    "    # print('coefficient of determination:', reg.score(X, y))\n",
    "#     print('intercept', reg.intercept_, '\\nslope', reg.coef_[0] )\n",
    "#     print(\"The linear model is: Y = {:.5} + {:.5}X\".format(reg.intercept_, reg.coef_[0]))\n",
    "    \n",
    "    # Predict response\n",
    "    predictions = reg.predict(X)\n",
    "    \n",
    "    # pearsonr\n",
    "    #     my_corrcoef = stats.pearsonr(fig_data[0], y)\n",
    "    #     print('my_corrcoef', my_corrcoef)\n",
    "\n",
    "    #     my_rho = np.corrcoef(fig_data[0], y)\n",
    "    #     print('my_rho', my_rho)\n",
    "    \n",
    "    # Use stats linregress library\n",
    "    reg2 = stats.linregress(fig_data[0], y)\n",
    "    # print(reg2)\n",
    "    # print(\"The linear model is: Y = {:.5} + {:.5}X\".format(reg2.intercept, reg2.slope))\n",
    "#     print(reg2.rvalue, reg2.pvalue)\n",
    "    \n",
    "#     plt.scatter(fig_data[0], fig_data[1], label=temp_emo)\n",
    "#     plt.plot(fig_data[0], predictions, linewidth=2)\n",
    "    sns.regplot(fig_data[0], fig_data[1], ci=None, label=temp_emo.capitalize() + ' r = {:.4}, p-value = {:.4}'.format(reg2.rvalue, reg2.pvalue))\n",
    "    plt.xlabel('Py-feat ratings')\n",
    "    plt.ylabel('Human ratings')\n",
    "    plt.legend()\n",
    "#     print(temp_data_with_temp_rating.columns[i])\n",
    "fig.savefig('pyfeatwithrating.png', dpi=300)\n",
    "# sns.scatterplot(data, x=\"total_bill\", y=\"tip\")"
   ]
  },
  {
   "cell_type": "markdown",
   "id": "9a3b7a3a",
   "metadata": {},
   "source": [
    "## Figure 2: 7 figures for all ratings"
   ]
  },
  {
   "cell_type": "code",
   "execution_count": 8,
   "id": "a57dbaeb",
   "metadata": {},
   "outputs": [
    {
     "name": "stdout",
     "output_type": "stream",
     "text": [
      "current stimuli emo is: anger\n"
     ]
    },
    {
     "ename": "NameError",
     "evalue": "name 'pyfeat_rating' is not defined",
     "output_type": "error",
     "traceback": [
      "\u001b[0;31m---------------------------------------------------------------------------\u001b[0m",
      "\u001b[0;31mNameError\u001b[0m                                 Traceback (most recent call last)",
      "Input \u001b[0;32mIn [8]\u001b[0m, in \u001b[0;36m<module>\u001b[0;34m\u001b[0m\n\u001b[1;32m     42\u001b[0m fig_data \u001b[38;5;241m=\u001b[39m []\n\u001b[1;32m     43\u001b[0m \u001b[38;5;28;01mfor\u001b[39;00m k \u001b[38;5;129;01min\u001b[39;00m \u001b[38;5;28mrange\u001b[39m(\u001b[38;5;28mlen\u001b[39m(temp_data_with_temp_rating\u001b[38;5;241m.\u001b[39mcolumns)):\n\u001b[0;32m---> 44\u001b[0m     temp_x \u001b[38;5;241m=\u001b[39m \u001b[43mpyfeat_rating\u001b[49m[current_stim_emo][k]\n\u001b[1;32m     45\u001b[0m     temp_y \u001b[38;5;241m=\u001b[39m temp_data_with_temp_rating[temp_data_with_temp_rating\u001b[38;5;241m.\u001b[39mcolumns[k]]\n\u001b[1;32m     46\u001b[0m     fig_data\u001b[38;5;241m.\u001b[39mappend([temp_x, np\u001b[38;5;241m.\u001b[39mmean(temp_y)])\n",
      "\u001b[0;31mNameError\u001b[0m: name 'pyfeat_rating' is not defined"
     ]
    },
    {
     "data": {
      "image/png": "[encoded data removed]",
      "text/plain": [
       "<Figure size 1008x576 with 1 Axes>"
      ]
     },
     "metadata": {},
     "output_type": "display_data"
    }
   ],
   "source": [
    "import seaborn as sns\n",
    "# print(total_data.head())\n",
    "\n",
    "def get_emo_num(name):\n",
    "    if name.lower() == 'anger':\n",
    "        return 0\n",
    "    elif name.lower() == 'disgust':\n",
    "        return 5\n",
    "    elif name.lower() == 'fear':\n",
    "        return 1\n",
    "    elif name.lower() in [\"Happiness\", \"happiness\"]:\n",
    "        return 2\n",
    "    elif name.lower() in [\"Sadness\", \"sadness\"]:\n",
    "        return 3\n",
    "    elif name.lower() in [\"Surprise\", \"surprise\"]:\n",
    "        return 4\n",
    "    elif name.lower() in [\"Neutral\", \"neutral\"]:\n",
    "        return 6\n",
    "            \n",
    "emo_names = 'Anger, Disgust, Fear, Happiness, Sadness, Surprise, Neutral'.lower().split(', ')\n",
    "id = 0\n",
    "# fig, ax = plt.subplots(figsize=(14, 8)) # set figure size\n",
    "# fig.set_facecolor('white') # set background color\n",
    "\n",
    "# stimuli emo loop\n",
    "for i in range(7):\n",
    "#     if i != id:\n",
    "#         continue\n",
    "    current_stim_emo = emo_names[i]\n",
    "    print('current stimuli emo is:', current_stim_emo)\n",
    "    temp_data = total_data.iloc[:, 14+7*7*i : 14+7*7*i + 7*7].copy()\n",
    "#     print(temp_data.head())\n",
    "    # target emo rating loop\n",
    "    \n",
    "     # plotting \n",
    "    fig, ax = plt.subplots(figsize=(14, 8)) # set figure size\n",
    "    fig.set_facecolor('white') # set background color\n",
    "    \n",
    "    for j in range(7):\n",
    "        current_target_emo = emo_names[j]\n",
    "        temp_data_with_temp_rating = temp_data.iloc[:,[ get_emo_num(current_target_emo) + 7 * x for x in range(7)]]\n",
    "        fig_data = []\n",
    "        for k in range(len(temp_data_with_temp_rating.columns)):\n",
    "            temp_x = pyfeat_rating[current_stim_emo][k]\n",
    "            temp_y = temp_data_with_temp_rating[temp_data_with_temp_rating.columns[k]]\n",
    "            fig_data.append([temp_x, np.mean(temp_y)])\n",
    "        fig_data = sorted(fig_data, key=lambda x:x[0]) \n",
    "        fig_data = np.array(fig_data)\n",
    "        fig_data = fig_data.transpose()\n",
    "        temp_emo = current_target_emo\n",
    "        \n",
    "        \n",
    "       \n",
    "        \n",
    "        plt.plot(fig_data[0], fig_data[1], label=temp_emo + ' rating')\n",
    "        print(fig_data[0])\n",
    "        plt.xlabel('py-feat ratings')\n",
    "        plt.ylabel('human ratings')\n",
    "        plt.title(current_stim_emo, y=-0.12)\n",
    "        plt.legend()\n",
    "    plt.show()\n",
    "    fig.savefig(current_stim_emo +'.png', dpi=100)\n",
    "    \n",
    "#     fig, ax = plt.subplots(figsize=(14, 8)) # set figure size\n",
    "#     fig.set_facecolor('white') # set background color\n",
    "    # ---------------\n",
    "    # plt.figure(figsize=(14, 8))\n",
    "    # x = pyfeat_rating[emo_names[id]][i]\n",
    "    # print(x)\n",
    "    # y = temp_data_with_temp_rating[temp_data_with_temp_rating.columns[i]]\n",
    "    \n",
    "    \n",
    "    \n",
    "    \n",
    "\n",
    "#     plt.plot(fig_data[0], fig_data[1], label=temp_emo)\n",
    "# #     plt.plot(x, y, label=temp_emo)\n",
    "# #     # plt.plot(x, y, label=temp_data_with_temp_rating.columns[i])\n",
    "#     plt.xlabel('py-feat ratings')\n",
    "#     plt.ylabel('human ratings')\n",
    "#     plt.legend()\n",
    "# #     print(temp_data_with_temp_rating.columns[i])\n",
    "#     fig.savefig('pyfeatwithrating.png')\n",
    "# sns.scatterplot(data, x=\"total_bill\", y=\"tip\")"
   ]
  },
  {
   "cell_type": "code",
   "execution_count": 43,
   "id": "dbbfad57",
   "metadata": {},
   "outputs": [
    {
     "name": "stdout",
     "output_type": "stream",
     "text": [
      "[0.070583 0.81069  0.936236 0.931665 0.927082 0.914131 0.913679]\n",
      "[0.070583 0.81069  0.936236 0.931665 0.927082 0.914131 0.913679]\n"
     ]
    }
   ],
   "source": [
    "a = np.array([0.070583, 0.81069,  0.936236, 0.931665, 0.927082, 0.914131, 0.913679])\n",
    "print(a)\n",
    "sorted(a, key=lambda x:x)\n",
    "print(a)"
   ]
  },
  {
   "cell_type": "code",
   "execution_count": null,
   "id": "d6bbf725",
   "metadata": {},
   "outputs": [],
   "source": [
    "print(total_data_np.mean(axis=0))"
   ]
  },
  {
   "cell_type": "code",
   "execution_count": 3,
   "id": "55e743d4",
   "metadata": {},
   "outputs": [],
   "source": [
    "practiceHA_data = total_data.iloc[:, 0:7].copy()"
   ]
  },
  {
   "cell_type": "code",
   "execution_count": null,
   "id": "ef696aa7",
   "metadata": {},
   "outputs": [],
   "source": [
    "print(anger_only_data)"
   ]
  },
  {
   "cell_type": "markdown",
   "id": "b8b5db52",
   "metadata": {},
   "source": [
    "# Namba normal, Namba hot, BOA 0\n",
    "## One-way repeated measures ANOVA"
   ]
  },
  {
   "cell_type": "code",
   "execution_count": 17,
   "id": "1c727753",
   "metadata": {},
   "outputs": [],
   "source": [
    "def multiple_analysis_1_with_fig(id):\n",
    "    emo_names = 'Anger, Disgust, Fear, Happiness, Sadness, Surprise, Neutral'.lower().split(', ')\n",
    "#     print(' Anger - 1 - 怒り,\\n disgust 6 - 嫌悪,\\n fear - 2 - 恐怖,\\n happiness - 3 - 幸福, \\n sadness - 4 - 悲しみ, \\n surprise - 5 - 驚き,\\n neutral - 7 - 中性')\n",
    "#     print(total_data.iloc[0:2, :])\n",
    "    def get_emo_num(name):\n",
    "        if name.lower() == 'anger':\n",
    "            return 0\n",
    "        elif name.lower() == 'disgust':\n",
    "            return 5\n",
    "        elif name.lower() == 'fear':\n",
    "            return 1\n",
    "        elif name.lower() in [\"Happiness\", \"happiness\"]:\n",
    "            return 2\n",
    "        elif name.lower() in [\"Sadness\", \"sadness\"]:\n",
    "            return 3\n",
    "        elif name.lower() in [\"Surprise\", \"surprise\"]:\n",
    "            return 4\n",
    "        elif name.lower() in [\"Neutral\", \"neutral\"]:\n",
    "            return 6\n",
    "            \n",
    "        \n",
    "        \n",
    "    for i in range(7):\n",
    "        if i != id:\n",
    "            continue\n",
    "        current_emo = emo_names[i]\n",
    "        print('current emo is ', current_emo)\n",
    "        temp_data = total_data.iloc[:, 14+7*7*i : 14+7*7*i + 7*7].copy()\n",
    "#         print(temp_data.head())\n",
    "        temp_data_with_temp_rating = temp_data.iloc[:,[ get_emo_num(current_emo) + 7 * x for x in range(3)]]\n",
    "#         print(temp_data_with_temp_rating.head())\n",
    "        temp_data_with_temp_rating = temp_data_with_temp_rating.reset_index(drop=False)\n",
    "#         print(list(temp_data_with_temp_rating.columns)[:])\n",
    "        df = pd.melt(temp_data_with_temp_rating, id_vars='index', value_vars=list(temp_data_with_temp_rating.columns)[1:],\n",
    "                     var_name='stimulus', value_name='rating')\n",
    "        # print('df is')\n",
    "        # print(df)\n",
    "        # print(df.to_csv(current_emo + '__data40.csv'))\n",
    "        # one-way repeated measures ANOVA\n",
    "        # the within subject model \n",
    "        import pingouin as pg\n",
    "        res = pg.rm_anova(dv='rating', within='stimulus', subject='index', data=df,detailed=True)\n",
    "        print()\n",
    "        print(res)\n",
    "        print()\n",
    "\n",
    "        from statsmodels.stats.multicomp import MultiComparison\n",
    "        #Then, do the multiple testing in Tukey's test\n",
    "        mc = MultiComparison(df['rating'], df['stimulus'])\n",
    "#         print(mc.tukeyhsd().summary())\n",
    "#         # Show the group names\n",
    "#         print(mc.groupsunique)\n",
    "\n",
    "        # Instead of the Tukey's test, we can do pairwise t-test\n",
    "        # First, with the \"Holm\" correction\n",
    "        rtp = mc.allpairtest(stats.ttest_rel, method='Holm')\n",
    "        print('Multiple Comparison Using Holm method')\n",
    "        print((rtp[0]))"
   ]
  },
  {
   "cell_type": "code",
   "execution_count": null,
   "id": "43aeb501",
   "metadata": {},
   "outputs": [],
   "source": []
  },
  {
   "cell_type": "code",
   "execution_count": 18,
   "id": "c184f19f",
   "metadata": {},
   "outputs": [
    {
     "name": "stdout",
     "output_type": "stream",
     "text": [
      "current emo is  anger\n",
      "\n",
      "     Source          SS  DF         MS          F     p-unc      np2       eps\n",
      "0  stimulus   45.016667   2  22.508333  12.278704  0.000023  0.23945  0.983413\n",
      "1     Error  142.983333  78   1.833120        NaN       NaN      NaN       NaN\n",
      "\n",
      "Multiple Comparison Using Holm method\n",
      "Test Multiple Comparison ttest_rel \n",
      "FWER=0.05 method=Holm\n",
      "alphacSidak=0.02, alphacBonf=0.017\n",
      "==================================================================\n",
      "      group1            group2       stat   pval  pval_corr reject\n",
      "------------------------------------------------------------------\n",
      "    BOA Anger 0_1 Namba hot Anger_1 3.2434 0.0024    0.0048   True\n",
      "    BOA Anger 0_1 Namba normal An_1  4.606    0.0    0.0001   True\n",
      "Namba hot Anger_1 Namba normal An_1 1.7455 0.0888    0.0888  False\n",
      "------------------------------------------------------------------\n"
     ]
    }
   ],
   "source": [
    "multiple_analysis_1_with_fig(0)"
   ]
  },
  {
   "cell_type": "code",
   "execution_count": 34,
   "id": "17f0a97b",
   "metadata": {},
   "outputs": [
    {
     "name": "stdout",
     "output_type": "stream",
     "text": [
      "current emo is  disgust\n",
      "\n",
      "     Source          SS  DF         MS          F         p-unc       np2  \\\n",
      "0  stimulus   66.516667   2  33.258333  21.237413  4.332449e-08  0.352562   \n",
      "1     Error  122.150000  78   1.566026        NaN           NaN       NaN   \n",
      "\n",
      "        eps  \n",
      "0  0.990457  \n",
      "1       NaN  \n",
      "\n",
      "Multiple Comparison Using Holm method\n",
      "Test Multiple Comparison ttest_rel \n",
      "FWER=0.05 method=Holm\n",
      "alphacSidak=0.02, alphacBonf=0.017\n",
      "======================================================================\n",
      "       group1              group2        stat   pval  pval_corr reject\n",
      "----------------------------------------------------------------------\n",
      "    BOA Disgust 0_6 Namba hot Disgust_6 4.3054 0.0001    0.0002   True\n",
      "    BOA Disgust 0_6   Namba normal Di_6  6.655    0.0       0.0   True\n",
      "Namba hot Disgust_6   Namba normal Di_6 1.8623 0.0701    0.0701  False\n",
      "----------------------------------------------------------------------\n"
     ]
    }
   ],
   "source": [
    "multiple_analysis_1_with_fig(1)"
   ]
  },
  {
   "cell_type": "code",
   "execution_count": 40,
   "id": "e794786b",
   "metadata": {},
   "outputs": [
    {
     "name": "stdout",
     "output_type": "stream",
     "text": [
      "current emo is  fear\n",
      "\n",
      "     Source         SS  DF        MS         F     p-unc      np2      eps\n",
      "0  stimulus   1.316667   2  0.658333  0.611188  0.545284  0.01543  0.99347\n",
      "1     Error  84.016667  78  1.077137       NaN       NaN      NaN      NaN\n",
      "\n",
      "Multiple Comparison Using Holm method\n",
      "Test Multiple Comparison ttest_rel \n",
      "FWER=0.05 method=Holm\n",
      "alphacSidak=0.02, alphacBonf=0.017\n",
      "===============================================================\n",
      "    group1           group2       stat   pval  pval_corr reject\n",
      "---------------------------------------------------------------\n",
      "  BOA Fear 0_2    Namba hot fe_2 0.3217 0.7494    0.9091  False\n",
      "  BOA Fear 0_2 Namba normal Fe_2 1.0437  0.303    0.9091  False\n",
      "Namba hot fe_2 Namba normal Fe_2 0.7838 0.4379    0.9091  False\n",
      "---------------------------------------------------------------\n"
     ]
    }
   ],
   "source": [
    "multiple_analysis_1_with_fig(2)"
   ]
  },
  {
   "cell_type": "code",
   "execution_count": 36,
   "id": "f20f044d",
   "metadata": {},
   "outputs": [
    {
     "name": "stdout",
     "output_type": "stream",
     "text": [
      "current emo is  happiness\n",
      "\n",
      "     Source          SS  DF         MS         F     p-unc       np2       eps\n",
      "0  stimulus   25.716667   2  12.858333  9.094303  0.000282  0.189093  0.980042\n",
      "1     Error  110.283333  78   1.413889       NaN       NaN       NaN       NaN\n",
      "\n",
      "Multiple Comparison Using Holm method\n",
      "Test Multiple Comparison ttest_rel \n",
      "FWER=0.05 method=Holm\n",
      "alphacSidak=0.02, alphacBonf=0.017\n",
      "===================================================================\n",
      "      group1            group2        stat   pval  pval_corr reject\n",
      "-------------------------------------------------------------------\n",
      "BOA Happiness 0_3    Namba hot ha_3 -3.0508 0.0041    0.0082   True\n",
      "BOA Happiness 0_3 Namba normal Ha_3 -3.9632 0.0003    0.0009   True\n",
      "   Namba hot ha_3 Namba normal Ha_3 -0.9119 0.3674    0.3674  False\n",
      "-------------------------------------------------------------------\n"
     ]
    }
   ],
   "source": [
    "multiple_analysis_1_with_fig(3)"
   ]
  },
  {
   "cell_type": "code",
   "execution_count": 41,
   "id": "7eb9832a",
   "metadata": {},
   "outputs": [
    {
     "name": "stdout",
     "output_type": "stream",
     "text": [
      "current emo is  sadness\n",
      "\n",
      "     Source          SS  DF         MS          F         p-unc       np2  \\\n",
      "0  stimulus   90.216667   2  45.108333  32.049036  6.930272e-11  0.451083   \n",
      "1     Error  109.783333  78   1.407479        NaN           NaN       NaN   \n",
      "\n",
      "        eps  \n",
      "0  0.916929  \n",
      "1       NaN  \n",
      "\n",
      "Multiple Comparison Using Holm method\n",
      "Test Multiple Comparison ttest_rel \n",
      "FWER=0.05 method=Holm\n",
      "alphacSidak=0.02, alphacBonf=0.017\n",
      "=================================================================\n",
      "     group1           group2        stat   pval  pval_corr reject\n",
      "-----------------------------------------------------------------\n",
      "BOA Sadness 0_4    Namba hot sa_4  7.2858    0.0       0.0   True\n",
      "BOA Sadness 0_4 Namba normal Sa_4  3.4889 0.0012    0.0012   True\n",
      " Namba hot sa_4 Namba normal Sa_4 -4.7231    0.0    0.0001   True\n",
      "-----------------------------------------------------------------\n"
     ]
    }
   ],
   "source": [
    "multiple_analysis_1_with_fig(4)"
   ]
  },
  {
   "cell_type": "code",
   "execution_count": 42,
   "id": "9a266813",
   "metadata": {},
   "outputs": [
    {
     "name": "stdout",
     "output_type": "stream",
     "text": [
      "current emo is  surprise\n",
      "\n",
      "     Source          SS  DF          MS           F         p-unc  \\\n",
      "0  stimulus  365.150000   2  182.575000  132.452488  8.315949e-26   \n",
      "1     Error  107.516667  78    1.378419         NaN           NaN   \n",
      "\n",
      "      p-GG-corr       np2       eps sphericity   W-spher   p-spher  \n",
      "0  1.790617e-22  0.772532  0.857275      False  0.833513  0.031429  \n",
      "1           NaN       NaN       NaN        NaN       NaN       NaN  \n",
      "\n",
      "Multiple Comparison Using Holm method\n",
      "Test Multiple Comparison ttest_rel \n",
      "FWER=0.05 method=Holm\n",
      "alphacSidak=0.02, alphacBonf=0.017\n",
      "===================================================================\n",
      "     group1            group2         stat   pval  pval_corr reject\n",
      "-------------------------------------------------------------------\n",
      "BOA Surprise 0_5    Namba hot Sur_5 -2.3948 0.0215    0.0215   True\n",
      "BOA Surprise 0_5 Namba normal Sur_5 11.2819    0.0       0.0   True\n",
      " Namba hot Sur_5 Namba normal Sur_5 14.7293    0.0       0.0   True\n",
      "-------------------------------------------------------------------\n"
     ]
    }
   ],
   "source": [
    "multiple_analysis_1_with_fig(5)"
   ]
  },
  {
   "cell_type": "code",
   "execution_count": 44,
   "id": "c4db36c0",
   "metadata": {},
   "outputs": [
    {
     "name": "stdout",
     "output_type": "stream",
     "text": [
      "current emo is  neutral\n",
      "\n",
      "     Source     SS  DF        MS         F     p-unc  p-GG-corr      np2  \\\n",
      "0  stimulus    7.8   2  3.900000  1.998686  0.142394   0.152201  0.04875   \n",
      "1     Error  152.2  78  1.951282       NaN       NaN        NaN      NaN   \n",
      "\n",
      "        eps sphericity   W-spher  p-spher  \n",
      "0  0.808224      False  0.762719  0.00582  \n",
      "1       NaN        NaN       NaN      NaN  \n",
      "\n",
      "Multiple Comparison Using Holm method\n",
      "Test Multiple Comparison ttest_rel \n",
      "FWER=0.05 method=Holm\n",
      "alphacSidak=0.02, alphacBonf=0.017\n",
      "==================================================================\n",
      "     group1           group2         stat   pval  pval_corr reject\n",
      "------------------------------------------------------------------\n",
      "BOA Neutral 0_7    Namba hot Neu_7 -2.6234 0.0124    0.0371   True\n",
      "BOA Neutral 0_7 Namba normal Neu_7 -0.4117 0.6828    0.6828  False\n",
      "Namba hot Neu_7 Namba normal Neu_7  1.3717  0.178     0.356  False\n",
      "------------------------------------------------------------------\n"
     ]
    }
   ],
   "source": [
    "multiple_analysis_1_with_fig(6)"
   ]
  },
  {
   "cell_type": "code",
   "execution_count": null,
   "id": "54daf36d",
   "metadata": {},
   "outputs": [],
   "source": []
  },
  {
   "cell_type": "code",
   "execution_count": null,
   "id": "ebec4148",
   "metadata": {},
   "outputs": [],
   "source": []
  },
  {
   "cell_type": "code",
   "execution_count": null,
   "id": "5f502317",
   "metadata": {},
   "outputs": [],
   "source": []
  },
  {
   "cell_type": "code",
   "execution_count": null,
   "id": "7ef760a7",
   "metadata": {},
   "outputs": [],
   "source": []
  },
  {
   "cell_type": "code",
   "execution_count": null,
   "id": "cd317e75",
   "metadata": {},
   "outputs": [],
   "source": []
  },
  {
   "cell_type": "code",
   "execution_count": 130,
   "id": "9333d59e",
   "metadata": {},
   "outputs": [
    {
     "name": "stdout",
     "output_type": "stream",
     "text": [
      "     index           stimulus  rating\n",
      "0        0  Namba normal An_1       4\n",
      "1        1  Namba normal An_1       5\n",
      "2        2  Namba normal An_1       5\n",
      "3        3  Namba normal An_1       1\n",
      "4        4  Namba normal An_1       6\n",
      "..     ...                ...     ...\n",
      "115     35      BOA Anger 0_1       5\n",
      "116     36      BOA Anger 0_1       5\n",
      "117     37      BOA Anger 0_1       6\n",
      "118     38      BOA Anger 0_1       6\n",
      "119     39      BOA Anger 0_1       7\n",
      "\n",
      "[120 rows x 3 columns]\n",
      "                   count   mean       std  min   25%  50%   75%  max\n",
      "Namba normal An_1   40.0  4.000  1.585188  1.0  3.00  4.0  5.00  7.0\n",
      "Namba hot Anger_1   40.0  4.500  1.739437  1.0  3.75  5.0  6.00  7.0\n",
      "BOA Anger 0_1       40.0  5.475  1.584986  1.0  5.00  6.0  6.25  7.0\n",
      "     Source          SS  DF         MS          F     p-unc      np2       eps\n",
      "0  stimulus   45.016667   2  22.508333  12.278704  0.000023  0.23945  0.983413\n",
      "1     Error  142.983333  78   1.833120        NaN       NaN      NaN       NaN\n",
      "           Multiple Comparison of Means - Tukey HSD, FWER=0.05            \n",
      "==========================================================================\n",
      "      group1            group2      meandiff p-adj   lower   upper  reject\n",
      "--------------------------------------------------------------------------\n",
      "    BOA Anger 0_1 Namba hot Anger_1   -0.975 0.0239 -1.8446 -0.1054   True\n",
      "    BOA Anger 0_1 Namba normal An_1   -1.475  0.001 -2.3446 -0.6054   True\n",
      "Namba hot Anger_1 Namba normal An_1     -0.5 0.3636 -1.3696  0.3696  False\n",
      "--------------------------------------------------------------------------\n",
      "['BOA Anger 0_1' 'Namba hot Anger_1' 'Namba normal An_1']\n",
      "Test Multiple Comparison ttest_rel \n",
      "FWER=0.05 method=Holm\n",
      "alphacSidak=0.02, alphacBonf=0.017\n",
      "==================================================================\n",
      "      group1            group2       stat   pval  pval_corr reject\n",
      "------------------------------------------------------------------\n",
      "    BOA Anger 0_1 Namba hot Anger_1 3.2434 0.0024    0.0048   True\n",
      "    BOA Anger 0_1 Namba normal An_1  4.606    0.0    0.0001   True\n",
      "Namba hot Anger_1 Namba normal An_1 1.7455 0.0888    0.0888  False\n",
      "------------------------------------------------------------------\n"
     ]
    },
    {
     "data": {
      "image/png": "[encoded data removed]",
      "text/plain": [
       "<Figure size 1008x576 with 1 Axes>"
      ]
     },
     "metadata": {
      "needs_background": "light"
     },
     "output_type": "display_data"
    }
   ],
   "source": [
    "# anger total\n",
    "anger_data = total_data.iloc[:, 14:14+7*7].copy()\n",
    "# print(anger_data)\n",
    "anger_only_data = anger_data.iloc[:, [0, 7, 14]]\n",
    "anger_data_with_an_rating = anger_only_data.reset_index(drop=False)\n",
    "# print(anger_data_with_an_rating)\n",
    "# melt from the wide format to long format\n",
    "anger_only_df = pd.melt(anger_data_with_an_rating, id_vars='index', value_vars=list(anger_data_with_an_rating.columns)[1:],\n",
    "             var_name='stimulus', value_name='rating')\n",
    "print(anger_only_df)\n",
    "summary = anger_only_data.describe()\n",
    "summary = summary.transpose()\n",
    "print(summary.head())\n",
    "\n",
    "plt.figure(figsize=(14, 8))\n",
    "ax2 = sns.boxplot(x=\"stimulus\", y=\"rating\", data=anger_only_df, color='lightblue')\n",
    "ax2 = sns.swarmplot(x=\"stimulus\", y=\"rating\", data=anger_only_df, color='#7d0013')\n",
    "\n",
    "# print('mean of anger:')\n",
    "# print(anger_only_data.mean(axis=0))\n",
    "\n",
    "# anger_only_data.to_csv('anger_only_data.csv')\n",
    "\n",
    "# ---------------------\n",
    "# incorrect in my data!!!!!!\n",
    "# This is one-way between subjects ANOVA\n",
    "# from statsmodels.formula.api import ols\n",
    "# from statsmodels.stats.anova import anova_lm\n",
    "# model = ols('rating~C(stimulus)',data=anger_only_df).fit()\n",
    "# anova_table = anova_lm(model, typ = 2)\n",
    "# print(anova_table)\n",
    "# ---------------------\n",
    "\n",
    "\n",
    "# one-way repeated measures ANOVA\n",
    "# the within subject model \n",
    "import pingouin as pg\n",
    "res = pg.rm_anova(dv='rating', within='stimulus', subject='index', data=anger_only_df,detailed=True)\n",
    "print(res)\n",
    "\n",
    "from statsmodels.stats.multicomp import MultiComparison\n",
    "groups = ['stimulus']\n",
    "#Then, do the multiple testing\n",
    "mc = MultiComparison(anger_only_df['rating'], anger_only_df['stimulus'])\n",
    "print(mc.tukeyhsd().summary())\n",
    "# Show the group names\n",
    "print(mc.groupsunique)\n",
    "\n",
    "# Instead of the Tukey's test, we can do pairwise t-test\n",
    "# First, with the \"Holm\" correction\n",
    "rtp = mc.allpairtest(stats.ttest_rel, method='Holm')\n",
    "print((rtp[0]))\n",
    "\n",
    "# and then with the Bonferroni correction\n",
    "# NOTICE: Holm always gives greater statistical power than Bonferroni. So let's use Holm instead.\n",
    "# print((mc.allpairtest(stats.ttest_rel, method='b')[0]))\n",
    "\n",
    "# # Done this way, the variance is calculated at each comparison.\n",
    "# # If you want the joint variance across all samples, you have to \n",
    "# # use a few tricks:(http://jpktd.blogspot.co.at/2013/03/multiple-comparison-and-tukey-hsd-or_25.html)\n",
    "# res2 = pairwise_tukeyhsd(dta2['StressReduction'], dta2['Treatment'])\n",
    "# studentized_mean = res2.meandiffs\n",
    "# studentized_variance = res2.variance\n",
    "\n",
    "# t_stat = (studentized_mean / studentized_variance) / np.sqrt(2)\n",
    "# dof = len(dta2) - len(mod.groupsunique)\n",
    "# my_pvalues = stats.t.sf(np.abs(t_stat), dof) * 2  # two-sided\n",
    "\n",
    "# # Now with the Bonferroni correction\n",
    "# from statsmodels.stats.multitest import multipletests\n",
    "# res_b = multipletests(my_pvalues, method='b')"
   ]
  },
  {
   "cell_type": "markdown",
   "id": "5ec4ed57",
   "metadata": {},
   "source": [
    "# Anger - plot a bar chart"
   ]
  },
  {
   "cell_type": "code",
   "execution_count": 11,
   "id": "6216a904",
   "metadata": {},
   "outputs": [
    {
     "data": {
      "image/png": "[encoded data removed]",
      "text/plain": [
       "<Figure size 1008x576 with 1 Axes>"
      ]
     },
     "metadata": {
      "needs_background": "light"
     },
     "output_type": "display_data"
    },
    {
     "data": {
      "image/png": "[encoded data removed]",
      "text/plain": [
       "<Figure size 1008x576 with 1 Axes>"
      ]
     },
     "metadata": {
      "needs_background": "light"
     },
     "output_type": "display_data"
    }
   ],
   "source": [
    "# import libraries\n",
    "import seaborn as sns\n",
    "import numpy as np\n",
    "import matplotlib.pyplot as plt\n",
    "\n",
    "# total_data\n",
    "anger_data = total_data.iloc[:, 14:14+7*7].copy()\n",
    "anger_data_with_an_rating = anger_data.iloc[:,[ 7 * x for x in range(7)]]\n",
    "# print(anger_data_with_an_rating)\n",
    "anger_data_with_an_rating = anger_data_with_an_rating.reset_index(drop=False)\n",
    "# print(list(anger_data_with_an_rating.columns)[1:])\n",
    "df = pd.melt(anger_data_with_an_rating, id_vars='index', value_vars=list(anger_data_with_an_rating.columns)[1:],\n",
    "             var_name='stimulus', value_name='rating')\n",
    "# print(df)\n",
    "\n",
    "# Set the figure size\n",
    "plt.figure(figsize=(14, 8))\n",
    "\n",
    "# plot a bar chart\n",
    "ax = sns.barplot(x=\"stimulus\", y=\"rating\", data=df, estimator=np.mean, ci='sd', capsize=.2, color='lightblue')\n",
    "\n",
    "plt.figure(figsize=(14, 8))\n",
    "ax2 = sns.barplot(x=\"stimulus\", y=\"rating\", data=df, estimator=np.mean, capsize=.2, color='lightblue')"
   ]
  },
  {
   "cell_type": "markdown",
   "id": "2c1b9864",
   "metadata": {},
   "source": [
    "# Disgust & the rest"
   ]
  },
  {
   "cell_type": "code",
   "execution_count": 52,
   "id": "3d9f9946",
   "metadata": {},
   "outputs": [
    {
     "name": "stdout",
     "output_type": "stream",
     "text": [
      "['anger', 'disgust', 'fear', 'happiness', 'sadness', 'surprise', 'neutral']\n"
     ]
    }
   ],
   "source": [
    "emo_names = 'Anger, Disgust, Fear, Happiness, Sadness, Surprise, Neutral'.lower().split(', ')\n",
    "print(emo_names)"
   ]
  },
  {
   "cell_type": "code",
   "execution_count": 4,
   "id": "632015f0",
   "metadata": {},
   "outputs": [
    {
     "ename": "ModuleNotFoundError",
     "evalue": "No module named 'statsmodels'",
     "output_type": "error",
     "traceback": [
      "\u001b[0;31m---------------------------------------------------------------------------\u001b[0m",
      "\u001b[0;31mModuleNotFoundError\u001b[0m                       Traceback (most recent call last)",
      "Input \u001b[0;32mIn [4]\u001b[0m, in \u001b[0;36m<module>\u001b[0;34m\u001b[0m\n\u001b[1;32m      1\u001b[0m \u001b[38;5;66;03m#Then, do the multiple testing\u001b[39;00m\n\u001b[0;32m----> 2\u001b[0m \u001b[38;5;28;01mfrom\u001b[39;00m \u001b[38;5;21;01mstatsmodels\u001b[39;00m\u001b[38;5;21;01m.\u001b[39;00m\u001b[38;5;21;01mstats\u001b[39;00m\u001b[38;5;21;01m.\u001b[39;00m\u001b[38;5;21;01mmulticomp\u001b[39;00m \u001b[38;5;28;01mimport\u001b[39;00m MultiComparison\n\u001b[1;32m      3\u001b[0m mc \u001b[38;5;241m=\u001b[39m MultiComparison(df[\u001b[38;5;124m'\u001b[39m\u001b[38;5;124mrating\u001b[39m\u001b[38;5;124m'\u001b[39m], df[\u001b[38;5;124m'\u001b[39m\u001b[38;5;124mstimulus\u001b[39m\u001b[38;5;124m'\u001b[39m])\n\u001b[1;32m      4\u001b[0m \u001b[38;5;28mprint\u001b[39m(mc\u001b[38;5;241m.\u001b[39mtukeyhsd()\u001b[38;5;241m.\u001b[39msummary())\n",
      "\u001b[0;31mModuleNotFoundError\u001b[0m: No module named 'statsmodels'"
     ]
    }
   ],
   "source": [
    "#Then, do the multiple testing\n",
    "from statsmodels.stats.multicomp import MultiComparison\n",
    "mc = MultiComparison(df['rating'], df['stimulus'])\n",
    "print(mc.tukeyhsd().summary())\n",
    "# Show the group names\n",
    "print(mc.groupsunique)\n",
    "\n",
    "# Instead of the Tukey's test, we can do pairwise t-test\n",
    "# First, with the \"Holm\" correction\n",
    "rtp = mc.allpairtest(stats.ttest_rel, method='Holm')\n",
    "print((rtp[0]))"
   ]
  },
  {
   "cell_type": "code",
   "execution_count": 22,
   "id": "007bfe2c",
   "metadata": {},
   "outputs": [
    {
     "name": "stderr",
     "output_type": "stream",
     "text": [
      "No handles with labels found to put in legend.\n"
     ]
    },
    {
     "name": "stdout",
     "output_type": "stream",
     "text": [
      "current emo is  anger\n",
      "current emo is  disgust\n",
      "current emo is  fear\n",
      "current emo is  happiness\n",
      "current emo is  sadness\n",
      "current emo is  surprise\n",
      "current emo is  neutral\n",
      "   stimulus  aver. human ratings  emotion    category\n",
      "0     anger                    4    anger   Prototype\n",
      "1     anger                    5    anger   Prototype\n",
      "2     anger                    5    anger   Prototype\n",
      "3     anger                    1    anger   Prototype\n",
      "4     anger                    6    anger   Prototype\n",
      "..      ...                  ...      ...         ...\n",
      "75  neutral                    5  neutral  Our method\n",
      "76  neutral                    2  neutral  Our method\n",
      "77  neutral                    7  neutral  Our method\n",
      "78  neutral                    5  neutral  Our method\n",
      "79  neutral                    3  neutral  Our method\n",
      "\n",
      "[560 rows x 4 columns]\n",
      "error bar means  95% confidence interval\n"
     ]
    },
    {
     "data": {
      "image/png": "[encoded data removed]",
      "text/plain": [
       "<Figure size 1008x576 with 1 Axes>"
      ]
     },
     "metadata": {},
     "output_type": "display_data"
    }
   ],
   "source": [
    "multiple_analysis_with_fig()"
   ]
  },
  {
   "cell_type": "code",
   "execution_count": 21,
   "id": "b594fbfc",
   "metadata": {},
   "outputs": [],
   "source": [
    "\n",
    "\n",
    "list(total_data.columns)\n",
    "bar_group_num = 2\n",
    "def multiple_analysis_with_fig(id=7):\n",
    "#     emo_names = 'Anger*, Disgust*, Fear, Happiness*, Sadness*, Surprise*, Neutral'.lower().split(', ')\n",
    "    emo_names = 'Anger, Disgust, Fear, Happiness, Sadness, Surprise, Neutral'.lower().split(', ')\n",
    "#     print(' Anger - 1 - 怒り,\\n disgust 6 - 嫌悪,\\n fear - 2 - 恐怖,\\n happiness - 3 - 幸福, \\n sadness - 4 - 悲しみ, \\n surprise - 5 - 驚き,\\n neutral - 7 - 中性')\n",
    "#     print(total_data.iloc[0:2, :])\n",
    "    def get_emo_num(name):\n",
    "        if 'anger' in name.lower()  :\n",
    "            return 0\n",
    "        elif 'disgust' in name.lower() :\n",
    "            return 5\n",
    "        elif 'fear' in name.lower():\n",
    "            return 1\n",
    "        elif \"happiness\" in name.lower():\n",
    "            return 2\n",
    "        elif \"sadness\" in name.lower():\n",
    "            return 3\n",
    "        elif \"surprise\" in name.lower():\n",
    "            return 4\n",
    "        elif \"neutral\" in name.lower():\n",
    "            return 6\n",
    "            \n",
    "    # New fig\n",
    "    df = []\n",
    "    flag = True\n",
    "    for i in range(7):\n",
    "        current_emo = emo_names[i]\n",
    "        print('current emo is ', current_emo)\n",
    "        temp_data = total_data.iloc[:, 14+7*7*i : 14+7*7*i + 7*7].copy()\n",
    "#         print(temp_data)\n",
    "        temp_data_with_temp_rating = temp_data.iloc[:,[ get_emo_num(current_emo) + 7 * x for x in [0, 2]]] # This line defined which data we use to generate the bar plot\n",
    "#         print(temp_data_with_temp_rating.head())\n",
    "        \n",
    "        if flag:\n",
    "#             print(type(df))\n",
    "            df = pd.melt(temp_data_with_temp_rating, value_vars=list(temp_data_with_temp_rating.columns),\n",
    "                     var_name='stimulus', value_name='aver. human ratings')\n",
    "            df['emotion'] = current_emo\n",
    "            flag = False\n",
    "        else:\n",
    "            temp_df = pd.melt(temp_data_with_temp_rating, value_vars=list(temp_data_with_temp_rating.columns),\n",
    "                     var_name='stimulus', value_name='aver. human ratings')\n",
    "            temp_df['emotion'] = current_emo\n",
    "            df = pd.concat([df, temp_df], axis=0)\n",
    "    \n",
    "    category_list = []\n",
    "    cate_ = ['Prototype', 'Our method']\n",
    "    for i in range(7):\n",
    "        for j in range(bar_group_num):\n",
    "            for k in range(40):\n",
    "                category_list.append(cate_[j])\n",
    "    df['category']=category_list\n",
    "\n",
    "    stim_name = [i for i in emo_names for _ in range(40 * bar_group_num)]\n",
    "#     print(stim_name)\n",
    "    df['stimulus']=stim_name\n",
    "    print(df)\n",
    "    fig, ax = plt.subplots(figsize=(14, 8)) # set figure size\n",
    "    fig.set_facecolor('white') # set background color\n",
    "#         plt.xlabel('stimulus')\n",
    "#         plt.ylabel('aver. human ratings')\n",
    "    plt.xlim(-0.05, 1.05)\n",
    "    plt.ylim(0.8, 7.2)\n",
    "#         plt.title(current_emo, y=-0.12)\n",
    "    plt.legend()\n",
    "    print('error bar means  95% confidence interval')\n",
    "    ax = sns.barplot(x=\"stimulus\", y=\"aver. human ratings\", hue='category',  data=df, estimator=np.mean, ci=95, capsize=.05)\n",
    "\n",
    "    fig.savefig('meanfor2.png', dpi=300)\n",
    "\n",
    "\n",
    "# \n",
    "#     for i in range(7):\n",
    "#         if i != id:, \n",
    "#             continue\n",
    "#         current_emo = emo_names[i]\n",
    "#         print('current emo is ', current_emo)\n",
    "#         temp_data = total_data.iloc[:, 14+7*7*i : 14+7*7*i + 7*7].copy()\n",
    "# #         print(temp_data)\n",
    "#         temp_data_with_temp_rating = temp_data.iloc[:,[ get_emo_num(current_emo) + 7 * x for x in range(3)]]\n",
    "# #         print(temp_data_with_temp_rating.iloc[:2, :2])\n",
    "#         temp_data_with_temp_rating = temp_data_with_temp_rating.reset_index(drop=False)\n",
    "# #         print(list(temp_data_with_temp_rating.columns)[:])\n",
    "#         df = pd.melt(temp_data_with_temp_rating, id_vars='index', value_vars=list(temp_data_with_temp_rating.columns)[1:],\n",
    "#                      var_name='stimulus', value_name='aver. human ratings')\n",
    "# #         print(df)\n",
    "\n",
    "\n",
    "# #         # Set the figure size\n",
    "#         fig, ax = plt.subplots(figsize=(14, 8)) # set figure size\n",
    "#         fig.set_facecolor('white') # set background color\n",
    "# #         plt.xlabel('stimulus')\n",
    "# #         plt.ylabel('aver. human ratings')\n",
    "#         plt.xlim(-0.05, 1.05)\n",
    "#         plt.ylim(0.8, 7.2)\n",
    "# #         plt.title(current_emo, y=-0.12)\n",
    "#         plt.legend()\n",
    "#         print('error bar means standard deviation')\n",
    "# #         # plot a bar chart\n",
    "#         ax = sns.barplot(x=\"stimulus\", y=\"aver. human ratings\", hue='emotion', data=df, estimator=np.mean, ci='sd', capsize=.2, color='lightblue')\n",
    "#         ax = sns.barplot(x=\"day\", y=\"total_bill\", hue=\"sex\", data=tips)\n",
    "    \n",
    "#     fig.savefig('fig1.png', dpi=300)\n",
    "    \n",
    "    \n",
    "#         print('error bar means 95% confidence interval')\n",
    "#         fig, ax2 = plt.subplots(figsize=(14, 8)) # set figure size\n",
    "#         fig.set_facecolor('white') # set background color\n",
    "# #         plt.xlabel('stimulus')\n",
    "#         plt.ylabel('aver. human ratings')\n",
    "#         plt.xlim(-0.05, 1.05)\n",
    "#         plt.ylim(0.8, 7.2)\n",
    "#         plt.title(current_emo, y=-0.12)\n",
    "#         plt.legend()\n",
    "#         ax2 = sns.barplot(x=\"stimulus\", y=\"aver. human ratings\", data=df, estimator=np.mean, capsize=.2, color='lightblue')\n",
    "#         fig.savefig('fig2.png', dpi=300)\n",
    "        \n",
    "#         plt.figure(figsize=(14, 8))\n",
    "#         fig, ax3 = plt.subplots(figsize=(14, 8)) # set figure size\n",
    "#         fig.set_facecolor('white') # set background color\n",
    "# #         plt.xlabel('stimulus')\n",
    "#         plt.ylabel('aver. human ratings')\n",
    "#         plt.xlim(-0.05, 1.05)\n",
    "#         plt.ylim(0.8, 7.2)\n",
    "#         plt.title(current_emo, y=-0.12)\n",
    "#         plt.legend()\n",
    "#         ax3 = sns.boxplot(x=\"stimulus\", y=\"aver. human ratings\", data=df, color='lightblue')\n",
    "# #         ax2.savefig\n",
    "#         ax3 = sns.swarmplot(x=\"stimulus\", y=\"aver. human ratings\", data=df, color='#7d0013')\n",
    "#         fig.savefig('fig3.png', dpi=300)\n",
    "#         # ANOVA analysis\n",
    "#         # one-way repeated measures ANOVA\n",
    "#         # the within subject model \n",
    "#         import pingouin as pg\n",
    "#         res = pg.rm_anova(dv='aver. human ratings', within='stimulus', subject='index', data=df, detailed=True)\n",
    "#         print(\"one-way repeated measures ANOVA is:\")\n",
    "#         print(res)\n",
    "        \n",
    "\n",
    "\n",
    "\n"
   ]
  },
  {
   "cell_type": "code",
   "execution_count": 4,
   "id": "8da73664",
   "metadata": {},
   "outputs": [
    {
     "name": "stderr",
     "output_type": "stream",
     "text": [
      "No handles with labels found to put in legend.\n"
     ]
    },
    {
     "name": "stdout",
     "output_type": "stream",
     "text": [
      "current emo is  anger*\n",
      "current emo is  disgust*\n",
      "current emo is  fear\n",
      "current emo is  happiness*\n",
      "current emo is  sadness*\n",
      "current emo is  surprise*\n",
      "current emo is  neutral\n",
      "    stimulus  aver. human ratings  emotion   category\n",
      "0     anger*                    4   anger*  Prototype\n",
      "1     anger*                    5   anger*  Prototype\n",
      "2     anger*                    5   anger*  Prototype\n",
      "3     anger*                    1   anger*  Prototype\n",
      "4     anger*                    6   anger*  Prototype\n",
      "..       ...                  ...      ...        ...\n",
      "115  neutral                    5  neutral   BOA top1\n",
      "116  neutral                    2  neutral   BOA top1\n",
      "117  neutral                    7  neutral   BOA top1\n",
      "118  neutral                    5  neutral   BOA top1\n",
      "119  neutral                    3  neutral   BOA top1\n",
      "\n",
      "[840 rows x 4 columns]\n",
      "error bar means  95% confidence interval\n"
     ]
    },
    {
     "data": {
      "image/png": "[encoded data removed]",
      "text/plain": [
       "<Figure size 1008x576 with 1 Axes>"
      ]
     },
     "metadata": {},
     "output_type": "display_data"
    }
   ],
   "source": [
    "multiple_analysis_with_fig(7)"
   ]
  },
  {
   "cell_type": "code",
   "execution_count": null,
   "id": "f7928a9b",
   "metadata": {},
   "outputs": [],
   "source": [
    "show_figure(1)"
   ]
  },
  {
   "cell_type": "code",
   "execution_count": null,
   "id": "62c9e08a",
   "metadata": {},
   "outputs": [],
   "source": [
    "show_figure(2)"
   ]
  },
  {
   "cell_type": "code",
   "execution_count": null,
   "id": "77b2ce5d",
   "metadata": {},
   "outputs": [],
   "source": [
    "show_figure(3)"
   ]
  },
  {
   "cell_type": "code",
   "execution_count": null,
   "id": "765a6dd7",
   "metadata": {},
   "outputs": [],
   "source": [
    "show_figure(4)"
   ]
  },
  {
   "cell_type": "code",
   "execution_count": null,
   "id": "6d9a85e8",
   "metadata": {},
   "outputs": [],
   "source": [
    "show_figure(5)"
   ]
  },
  {
   "cell_type": "code",
   "execution_count": null,
   "id": "5bbb082a",
   "metadata": {},
   "outputs": [],
   "source": [
    "show_figure(6)"
   ]
  },
  {
   "cell_type": "code",
   "execution_count": 77,
   "id": "329e318b",
   "metadata": {},
   "outputs": [],
   "source": [
    "# show_figure(7)"
   ]
  },
  {
   "cell_type": "code",
   "execution_count": null,
   "id": "7da3b5a3",
   "metadata": {},
   "outputs": [],
   "source": []
  },
  {
   "cell_type": "code",
   "execution_count": null,
   "id": "3edea4cb",
   "metadata": {},
   "outputs": [],
   "source": []
  },
  {
   "cell_type": "code",
   "execution_count": null,
   "id": "7905bf0e",
   "metadata": {},
   "outputs": [],
   "source": []
  },
  {
   "cell_type": "code",
   "execution_count": null,
   "id": "9d738882",
   "metadata": {},
   "outputs": [],
   "source": []
  },
  {
   "cell_type": "code",
   "execution_count": null,
   "id": "2d1a3412",
   "metadata": {},
   "outputs": [],
   "source": []
  },
  {
   "cell_type": "code",
   "execution_count": null,
   "id": "10e3755c",
   "metadata": {},
   "outputs": [],
   "source": [
    "# import libraries\n",
    "import seaborn as sns\n",
    "import numpy as np\n",
    "import matplotlib.pyplot as plt\n",
    "\n",
    "# total_data\n",
    "\n",
    "anger_data = total_data.iloc[:, 14:14+7*7].copy()\n",
    "anger_data_with_an_rating = anger_data.iloc[:,[ 7 * x for x in range(7)]]\n",
    "# print(anger_data_with_an_rating)\n",
    "anger_data_with_an_rating = anger_data_with_an_rating.reset_index(drop=False)\n",
    "print(list(anger_data_with_an_rating.columns)[1:])\n",
    "df = pd.melt(anger_data_with_an_rating, id_vars='index', value_vars=list(anger_data_with_an_rating.columns)[1:],\n",
    "             var_name='stimulus', value_name='rating')\n",
    "print(df)\n",
    "\n",
    "# Set the figure size\n",
    "plt.figure(figsize=(14, 8))\n",
    "\n",
    "# plot a bar chart\n",
    "ax = sns.barplot(x=\"stimulus\", y=\"rating\", data=df, estimator=np.mean, ci='sd', capsize=.2, color='lightblue')\n",
    "\n",
    "plt.figure(figsize=(14, 8))\n",
    "ax2 = sns.barplot(x=\"stimulus\", y=\"rating\", data=df, estimator=np.mean, capsize=.2, color='lightblue')"
   ]
  },
  {
   "cell_type": "markdown",
   "id": "c5ac0428",
   "metadata": {},
   "source": [
    "# oneway ANOVA"
   ]
  },
  {
   "cell_type": "code",
   "execution_count": 10,
   "id": "74ce98c0",
   "metadata": {},
   "outputs": [
    {
     "name": "stdout",
     "output_type": "stream",
     "text": [
      "ANOVA F is: 1.388888888888889 \n",
      "p value is: 0.2980617117584766\n"
     ]
    }
   ],
   "source": [
    "anger_only_data = pd.read_csv('anger_only_data.csv')\n",
    "# print(anger_only_data['Namba normal An_1'])\n",
    "an_arr = anger_only_data.to_numpy()\n",
    "# print(an_arr)\n",
    "import scipy.stats as stats\n",
    "# stats f_oneway functions takes the groups as input and returns ANOVA F and p value\n",
    "fvalue, pvalue = stats.f_oneway(an_arr[0], an_arr[1], an_arr[2])\n",
    "print(\"ANOVA F is:\", fvalue, \"\\np value is:\", pvalue)\n",
    "\n"
   ]
  },
  {
   "cell_type": "markdown",
   "id": "6709c955",
   "metadata": {},
   "source": [
    "# T-Test"
   ]
  },
  {
   "cell_type": "code",
   "execution_count": null,
   "id": "ace1a3f9",
   "metadata": {},
   "outputs": [],
   "source": [
    "stats.ttest_1samp(a=)\n"
   ]
  },
  {
   "cell_type": "code",
   "execution_count": 11,
   "id": "3a001bae",
   "metadata": {},
   "outputs": [],
   "source": [
    "# from statsmodels.stats.anova import AnovaRM\n",
    "\n",
    "# #perform the repeated measures ANOVA\n",
    "# print(AnovaRM(data=anger_only_data, depvar=[], subject=['id'], within=['anger']).fit())"
   ]
  },
  {
   "cell_type": "code",
   "execution_count": 77,
   "id": "5de245dc",
   "metadata": {},
   "outputs": [
    {
     "data": {
      "text/plain": [
       "PracticeHA_1    1.675\n",
       "PracticeHA_2    1.275\n",
       "PracticeHA_3    5.425\n",
       "PracticeHA_4    1.600\n",
       "PracticeHA_5    1.350\n",
       "PracticeHA_6    1.575\n",
       "PracticeHA_7    2.450\n",
       "dtype: float64"
      ]
     },
     "execution_count": 77,
     "metadata": {},
     "output_type": "execute_result"
    }
   ],
   "source": [
    "practiceHA_data.mean(axis=0)"
   ]
  }
 ],
 "metadata": {
  "kernelspec": {
   "display_name": "py37",
   "language": "python",
   "name": "py37"
  },
  "language_info": {
   "codemirror_mode": {
    "name": "ipython",
    "version": 3
   },
   "file_extension": ".py",
   "mimetype": "text/x-python",
   "name": "python",
   "nbconvert_exporter": "python",
   "pygments_lexer": "ipython3",
   "version": "3.7.10"
  }
 },
 "nbformat": 4,
 "nbformat_minor": 5
}
