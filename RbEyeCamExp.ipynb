{
 "cells": [
  {
   "cell_type": "code",
   "execution_count": 5,
   "metadata": {},
   "outputs": [],
   "source": [
    "from RCSystem import *"
   ]
  },
  {
   "cell_type": "code",
   "execution_count": 6,
   "metadata": {},
   "outputs": [
    {
     "name": "stdout",
     "output_type": "stream",
     "text": [
      "initialize_robotParams\n",
      "Smoothly execution activated\n",
      "return_to_stable_state, self.robotParams are all set\n"
     ]
    }
   ],
   "source": [
    "# Initialization\n",
    "rb = robot(duration=3)\n",
    "assert rb.connection == True"
   ]
  },
  {
   "cell_type": "code",
   "execution_count": 7,
   "metadata": {},
   "outputs": [
    {
     "name": "stdout",
     "output_type": "stream",
     "text": [
      "Smoothly execution activated\n",
      "return_to_stable_state, self.robotParams are all set\n",
      "Smoothly execution activated\n",
      "Smoothly execution activated\n",
      "return_to_stable_state, self.robotParams are all set\n"
     ]
    }
   ],
   "source": [
    "# checker\n",
    "rb.robotChecker()"
   ]
  },
  {
   "cell_type": "markdown",
   "metadata": {},
   "source": [
    "# 250ms"
   ]
  },
  {
   "cell_type": "code",
   "execution_count": null,
   "metadata": {},
   "outputs": [],
   "source": [
    "rb.DURATION = 2.25\n",
    "steps = 5\n",
    "\n",
    "# Hot Expression set\n",
    "# hE = defaultPose.hotExpressions\n",
    "# basicRunningCell(rb, hE, True, steps)\n",
    "\n",
    "# Recording protoFacialExpressions\n",
    "# pFE = defaultPose.prototypeFacialExpressions\n",
    "# basicRunningCell(rb, pFE, True, steps)\n"
   ]
  },
  {
   "cell_type": "markdown",
   "metadata": {},
   "source": [
    "# 500ms"
   ]
  },
  {
   "cell_type": "code",
   "execution_count": null,
   "metadata": {},
   "outputs": [],
   "source": [
    "rb.DURATION = 2.5\n",
    "steps = 10"
   ]
  },
  {
   "cell_type": "code",
   "execution_count": null,
   "metadata": {},
   "outputs": [],
   "source": []
  },
  {
   "cell_type": "code",
   "execution_count": null,
   "metadata": {},
   "outputs": [],
   "source": []
  }
 ],
 "metadata": {
  "kernelspec": {
   "display_name": "Python 3",
   "language": "python",
   "name": "python3"
  },
  "language_info": {
   "codemirror_mode": {
    "name": "ipython",
    "version": 3
   },
   "file_extension": ".py",
   "mimetype": "text/x-python",
   "name": "python",
   "nbconvert_exporter": "python",
   "pygments_lexer": "ipython3",
   "version": "3.8.5"
  }
 },
 "nbformat": 4,
 "nbformat_minor": 4
}
