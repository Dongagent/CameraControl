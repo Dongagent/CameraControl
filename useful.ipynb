{
 "cells": [
  {
   "cell_type": "code",
   "execution_count": 2,
   "metadata": {},
   "outputs": [
    {
     "name": "stdout",
     "output_type": "stream",
     "text": [
      "Windows-10-10.0.19041-SP0\n"
     ]
    }
   ],
   "source": [
    "import platform\n",
    "print(platform.platform())"
   ]
  },
  {
   "cell_type": "code",
   "execution_count": 3,
   "metadata": {},
   "outputs": [
    {
     "name": "stdout",
     "output_type": "stream",
     "text": [
      "A + B\n"
     ]
    }
   ],
   "source": [
    "print(\"{} + {}\".format(\"A\", \"B\"))"
   ]
  },
  {
   "cell_type": "code",
   "execution_count": null,
   "metadata": {},
   "outputs": [],
   "source": [
    "ffmpeg -f dshow -framerate 60 -video_size 1280x720 -vcodec mjpeg -t 3 -i video='C922 Pro Stream Webcam' -t 3 -c copy 2021_05_19_14_39_48_No1.mkv"
   ]
  },
  {
   "cell_type": "code",
   "execution_count": 7,
   "metadata": {},
   "outputs": [
    {
     "name": "stdout",
     "output_type": "stream",
     "text": [
      "[b'Microsoft Windows [\\xb0\\xe6\\xb1\\xbe 10.0.19042.985]\\r\\n', b'(c) Microsoft Corporation\\xa1\\xa3\\xb1\\xa3\\xc1\\xf4\\xcb\\xf9\\xd3\\xd0\\xc8\\xa8\\xc0\\xfb\\xa1\\xa3\\r\\n', b'\\r\\n', b'(py37) c:\\\\Users\\\\mlDSY\\\\Google \\xd4\\xc6\\xb6\\xcb\\xd3\\xb2\\xc5\\xcc\\\\G_Drive\\\\Riken Research Material\\\\github\\\\CameraControl>']\n"
     ]
    }
   ],
   "source": [
    "import subprocess\n",
    "process = subprocess.Popen([\"cmd\", \"ls\"], stdout=subprocess.PIPE)\n",
    "if process.returncode != 0:\n",
    "    print(process.stdout.readlines())"
   ]
  },
  {
   "cell_type": "code",
   "execution_count": 8,
   "metadata": {},
   "outputs": [
    {
     "name": "stdout",
     "output_type": "stream",
     "text": [
      "\"AU1\": [10, 14],\n",
      "\"AU2\": [8, 12],\n",
      "\"AU4\": [11, 15],\n",
      "\"AU5\": [1, 2],\n",
      "\"AU6\": [6, 9, 7, 13],\n",
      "\"AU7\": [6, 7],\n",
      "\"AU10\": [30],\n",
      "\"AU12\": [18, 22],\n",
      "\"LAU12\": [16, 17],\n",
      "\"AU14\": [21, 25],\n",
      "\"AU15\": [19, 23],\n",
      "\"AU16\": [29],\n",
      "\"AU18\": [26, 27],\n",
      "\"AU20\": [20, 24],\n",
      "\"AU22\": [26, 27, 29],\n",
      "\"AU25\": [28, 29, 32],\n",
      "\"AU26\": [32],\n",
      "\"AU43\": [1, 2],\n"
     ]
    }
   ],
   "source": [
    "all_a = [\"AU1\", \n",
    "\"AU2\",\n",
    "\"AU4\",\n",
    "\"AU5\",\n",
    "\"AU6\",\n",
    "\"AU7\",\n",
    "\"AU8\",\n",
    "\"AU9\",\n",
    "\"AU10\",\n",
    "\"AU11\",\n",
    "\"AU12\",\n",
    "\"LAU12\",\n",
    "\"AU13\",\n",
    "\"AU14\",\n",
    "\"AU15\",\n",
    "\"AU16\",\n",
    "\"AU17\",\n",
    "\"AU18\",\n",
    "\"AU20\",\n",
    "\"AU22\",\n",
    "\"AU23\",\n",
    "\"AU24\",\n",
    "\"AU25\",\n",
    "\"AU26\",\n",
    "\"AU28\",\n",
    "\"AU43\"\n",
    "]\n",
    "a =  [\"AU1\", \n",
    "\"AU2\",\n",
    "\"AU4\",\n",
    "\"AU5\",\n",
    "\"AU6\",\n",
    "\"AU7\",\n",
    "\"AU10\",\n",
    "\"AU12\",\n",
    "\"LAU12\",\n",
    "\"AU14\",\n",
    "\"AU15\",\n",
    "\"AU16\",\n",
    "\"AU18\",\n",
    "\"AU20\",\n",
    "\"AU22\",\n",
    "\"AU25\",\n",
    "\"AU26\",\n",
    "\"AU43\"\n",
    "]\n",
    "b = [[10, 14], [8, 12], [11, 15], [1,2], [6,9,7,13], [6, 7], [30], [18,22], [16,17], [21,25], [19,23], [29], [26,27], [20,24], [26,27,29], [28,29,32], [32], [1,2]]  \n",
    "for i in range(len(a)):\n",
    "    print(\"\\\"{}\\\": {},\".format(a[i], b[i]))"
   ]
  },
  {
   "cell_type": "markdown",
   "metadata": {},
   "source": []
  },
  {
   "cell_type": "code",
   "execution_count": 27,
   "metadata": {},
   "outputs": [
    {
     "name": "stdout",
     "output_type": "stream",
     "text": [
      "['netural', 'anger', 'disgust', 'fear', 'happyness', 'sadness', 'suprise']\n",
      "Your AU set is: ['AU4', 'AU5', 'AU7']\n",
      "Your AU set is: ['AU10']\n",
      "Your AU set is: ['AU1', 'AU2', 'AU4', 'AU5', 'AU20']\n",
      "Your AU set is: ['AU6', 'AU12', 'LAU12']\n",
      "Your AU set is: ['AU1', 'AU4', 'AU15']\n",
      "Your AU set is: ['AU1', 'AU2', 'AU5']\n",
      "supriseResultFixed [0, 0, 128, 128, 128, 0, 0, 255, 0, 128, 0, 255, 0, 128, 0, 0, 0, 0, 0, 0, 0, 0, 0, 0, 0, 0, 0, 0, 0, 0, 0, 0, 128, 128, 122]\n",
      "happynessResultFixed [86, 86, 128, 128, 128, 255, 255, 0, 255, 0, 0, 0, 255, 0, 0, 255, 255, 255, 0, 0, 0, 255, 0, 0, 0, 0, 0, 0, 0, 0, 0, 0, 128, 128, 122]\n",
      "\"hotAnger\" : [0, 0, 128, 128, 128, 255, 255, 0, 0, 0, 255, 0, 0, 0, 255, 0, 0, 0, 0, 0, 0, 0, 0, 0, 0, 0, 0, 255, 255, 0, 0, 255, 128, 128, 122],\n",
      "\"hotDisgust\" : [86, 86, 128, 128, 128, 0, 0, 0, 0, 0, 0, 0, 0, 0, 0, 0, 0, 0, 0, 0, 0, 0, 0, 0, 0, 0, 0, 255, 255, 255, 0, 255, 128, 128, 122],\n",
      "\"hotFear\" : [0, 0, 128, 128, 128, 0, 0, 255, 0, 255, 255, 255, 0, 255, 255, 0, 0, 0, 0, 255, 0, 0, 0, 255, 0, 0, 0, 255, 255, 0, 0, 255, 128, 128, 122],\n",
      "\"hotHappyness\" : [86, 86, 128, 128, 128, 255, 255, 0, 255, 0, 0, 0, 255, 0, 0, 255, 255, 255, 0, 0, 0, 255, 0, 0, 0, 0, 0, 255, 255, 0, 0, 255, 128, 128, 122],\n",
      "\"hotSadness\" : [86, 86, 128, 128, 128, 0, 0, 0, 0, 255, 255, 0, 0, 255, 255, 0, 0, 0, 255, 0, 0, 0, 255, 0, 0, 0, 0, 255, 255, 0, 0, 255, 128, 128, 122],\n",
      "\"hotSuprise\" : [0, 0, 128, 128, 128, 0, 0, 255, 0, 255, 0, 255, 0, 255, 0, 0, 0, 0, 0, 0, 0, 0, 0, 0, 0, 0, 0, 255, 255, 0, 0, 255, 128, 128, 122]\n",
      "\n",
      "\"netural\" : [86, 86, 128, 128, 128, 0, 0, 0, 0, 0, 0, 0, 0, 0, 0, 0, 0, 0, 0, 0, 0, 0, 0, 0, 0, 0, 0, 0, 0, 0, 0, 0, 128, 128, 122],\n",
      "\"anger\" : [0, 0, 128, 128, 128, 255, 255, 0, 0, 0, 255, 0, 0, 0, 255, 0, 0, 0, 0, 0, 0, 0, 0, 0, 0, 0, 0, 0, 0, 0, 0, 0, 128, 128, 122],\n",
      "\"disgust\" : [86, 86, 128, 128, 128, 0, 0, 0, 0, 0, 0, 0, 0, 0, 0, 0, 0, 0, 0, 0, 0, 0, 0, 0, 0, 0, 0, 0, 0, 255, 0, 0, 128, 128, 122],\n",
      "\"fear\" : [0, 0, 128, 128, 128, 0, 0, 255, 0, 255, 255, 255, 0, 255, 255, 0, 0, 0, 0, 255, 0, 0, 0, 255, 0, 0, 0, 0, 0, 0, 0, 0, 128, 128, 122],\n",
      "\"happyness\" : [86, 86, 128, 128, 128, 255, 255, 0, 255, 0, 0, 0, 255, 0, 0, 255, 255, 255, 0, 0, 0, 255, 0, 0, 0, 0, 0, 0, 0, 0, 0, 0, 128, 128, 122],\n",
      "\"sadness\" : [86, 86, 128, 128, 128, 0, 0, 0, 0, 255, 255, 0, 0, 255, 255, 0, 0, 0, 255, 0, 0, 0, 255, 0, 0, 0, 0, 0, 0, 0, 0, 0, 128, 128, 122],\n",
      "\"suprise\" : [0, 0, 128, 128, 128, 0, 0, 255, 0, 255, 0, 255, 0, 255, 0, 0, 0, 0, 0, 0, 0, 0, 0, 0, 0, 0, 0, 0, 0, 0, 0, 0, 128, 128, 122],\n"
     ]
    }
   ],
   "source": [
    "import defaultPose\n",
    "import copy\n",
    "import numpy as np\n",
    "\n",
    "def change(au, pos):\n",
    "    for i in pos:\n",
    "        au[i - 1] = 255\n",
    "\n",
    "df = defaultPose.actionUnitParams['StandardPose']\n",
    "AU1 = copy.copy(df) # 10, 14\n",
    "AU2 = copy.copy(df) # 8, 12\n",
    "AU4 = copy.copy(df) # 11, 15\n",
    "AU5 = copy.copy(df) # 1,2 （Notice: from 86 to 0）\n",
    "AU6 = copy.copy(df) # 6+9,7+13\n",
    "AU7 = copy.copy(df) # 6, 7\n",
    "AU10 = copy.copy(df) # 30\n",
    "AU12 = copy.copy(df) # 18,22\n",
    "LAU12 = copy.copy(df) # 16,17\n",
    "AU14 = copy.copy(df) # 21,25\n",
    "AU15 = copy.copy(df) # 19,23\n",
    "AU16 = copy.copy(df) # 29\n",
    "AU18 = copy.copy(df) # 26,27\n",
    "AU20 = copy.copy(df) # 20,24\n",
    "AU22 = copy.copy(df) # 26,27,29\n",
    "AU25 = copy.copy(df) # 28,29,32\n",
    "AU26 = copy.copy(df) # 32\n",
    "AU43 = copy.copy(df) # 1,2\n",
    "\n",
    "change(AU1, [10, 14])\n",
    "change(AU2, [8, 12])\n",
    "change(AU4, [11, 15])\n",
    "AU5[0], AU5[1] = 0, 0\n",
    "# change(AU5\n",
    "\n",
    "# change(AU6\n",
    "# change(AU7\n",
    "# change(AU10\n",
    "# change(AU12\n",
    "# change(LAU12\n",
    "# change(AU14\n",
    "# change(AU15\n",
    "# change\n",
    "RobotAUAxes = {\n",
    "    \"AU1\": [10, 14],\n",
    "    \"AU2\": [8, 12],\n",
    "    \"AU4\": [11, 15],\n",
    "    \"AU5\": [1, 2],\n",
    "    \"AU6\": [6, 9, 7, 13],\n",
    "    \"AU7\": [6, 7],\n",
    "    \"AU10\": [30],\n",
    "    \"AU12\": [18, 22],\n",
    "    \"LAU12\": [16, 17],\n",
    "    \"AU14\": [21, 25],\n",
    "    \"AU15\": [19, 23],\n",
    "    \"AU16\": [29],\n",
    "    \"AU18\": [26, 27],\n",
    "    \"AU20\": [20, 24],\n",
    "    \"AU22\": [26, 27, 29],\n",
    "    \"AU25\": [28, 29, 32],\n",
    "    \"AU26\": [32],\n",
    "    \"AU43\": [1, 2],\n",
    "}\n",
    "\n",
    "\n",
    "for i in [[10, 14], [8, 12], [11, 15], [6,9,7,13], [6, 7], [30], [18,22], [16,17], [21,25], [19,23], [29], [26,27], [20,24], [26,27,29], [28,29,32], [32], [1,2]]:\n",
    "    # print(i)\n",
    "    temp = copy.deepcopy(df)\n",
    "    # print(change(temp, i))\n",
    "\n",
    "# print(defaultPose.actionUnitParams['StandardPose'])\n",
    "# print(AU1)\n",
    "\n",
    "\n",
    "# AUNumber\n",
    "emotionNames = list(defaultPose.prototypeFacialExpressions.keys())\n",
    "print(emotionNames)\n",
    "anger = [4, 5, 7]\n",
    "disgust = [10]\n",
    "fear = [1, 2, 4, 5, 20]\n",
    "happyness = [6, 12, \"LAU12\"]\n",
    "sadness = [1, 4, 15]\n",
    "suprise = [1, 2, 5]\n",
    "\n",
    "def getAUCombinationControlCode(combinations, sdPose):\n",
    "    # combitions is a list like: [4, 5, 7] for anger\n",
    "    \n",
    "    tempResult = np.array(copy.copy(sdPose))\n",
    "    tempAUset = []\n",
    "    for i in combinations:\n",
    "        if i == \"LAU12\":\n",
    "            tempAUset.append(i)\n",
    "            continue\n",
    "        temp = \"AU{}\".format(i)\n",
    "        tempAUset.append(temp)\n",
    "    print(\"Your AU set is:\", tempAUset)\n",
    "    for i in tempAUset:\n",
    "        tempResult += np.array(defaultPose.actionUnitParams[i])\n",
    "        tempResult -= np.array(df)\n",
    "    return tempResult\n",
    "        \n",
    "angerResult = list(getAUCombinationControlCode(anger, df))\n",
    "disgustResult = list(getAUCombinationControlCode(disgust, df))\n",
    "fearResult = list(getAUCombinationControlCode(fear, df))\n",
    "happynessResult = list(getAUCombinationControlCode(happyness, df))\n",
    "sadnessResult = list(getAUCombinationControlCode(sadness, df))\n",
    "supriseResult = list(getAUCombinationControlCode(suprise, df))\n",
    "\n",
    "def changeAU(robotCode, au, value):\n",
    "    temp = copy.copy(robotCode)\n",
    "    for i in au:\n",
    "        temp[i-1] = value\n",
    "    return temp\n",
    "\n",
    "supriseResultFixed = changeAU(supriseResult, RobotAUAxes[\"AU1\"], 128)\n",
    "happynessResultFixed = changeAU(happynessResult, RobotAUAxes[\"LAU12\"], 255)\n",
    "\n",
    "print(\"supriseResultFixed\", supriseResultFixed)\n",
    "print(\"happynessResultFixed\", happynessResultFixed)\n",
    "#     supriseResult = \n",
    "\n",
    "hotAnger = changeAU(angerResult, RobotAUAxes[\"AU25\"], 255)\n",
    "hotDisgust = changeAU(disgustResult, RobotAUAxes[\"AU25\"], 255)\n",
    "hotFear = changeAU(fearResult, RobotAUAxes[\"AU25\"], 255)\n",
    "hotHappyness = changeAU(happynessResult, RobotAUAxes[\"AU25\"], 255)\n",
    "hotSadness = changeAU(sadnessResult, RobotAUAxes[\"AU25\"], 255)\n",
    "hotSuprise = changeAU(supriseResult, RobotAUAxes[\"AU25\"], 255)\n",
    "\n",
    "print(\"\\\"hotAnger\\\" : {},\\n\\\"hotDisgust\\\" : {},\\n\\\"hotFear\\\" : {},\\n\\\"hotHappyness\\\" : {},\\n\\\"hotSadness\\\" : {},\\n\\\"hotSuprise\\\" : {}\".format(hotAnger, hotDisgust, hotFear, hotHappyness, hotSadness, hotSuprise))\n",
    "\n",
    "print()\n",
    "a = list([df, angerResult, disgustResult, fearResult, happynessResult, sadnessResult, supriseResult])\n",
    "for i in range(len(emotionNames)):\n",
    "    print(\"\\\"{}\\\" : {},\".format(emotionNames[i], a[i]))\n",
    "\n",
    "\n",
    "# temp = copy.copy(df)\n",
    "# print(\"smile: [{}]\".format(change(temp, )))\n",
    "\n"
   ]
  },
  {
   "cell_type": "code",
   "execution_count": null,
   "metadata": {},
   "outputs": [],
   "source": []
  }
 ],
 "metadata": {
  "kernelspec": {
   "display_name": "Python 3",
   "language": "python",
   "name": "python3"
  },
  "language_info": {
   "codemirror_mode": {
    "name": "ipython",
    "version": 3
   },
   "file_extension": ".py",
   "mimetype": "text/x-python",
   "name": "python",
   "nbconvert_exporter": "python",
   "pygments_lexer": "ipython3",
   "version": "3.7.10"
  }
 },
 "nbformat": 4,
 "nbformat_minor": 4
}
