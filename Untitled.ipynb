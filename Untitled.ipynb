{
 "cells": [
  {
   "cell_type": "code",
   "execution_count": 2,
   "metadata": {},
   "outputs": [
    {
     "output_type": "stream",
     "name": "stdout",
     "text": [
      "Windows-10-10.0.19041-SP0\n"
     ]
    }
   ],
   "source": [
    "import platform\n",
    "print(platform.platform())"
   ]
  },
  {
   "cell_type": "code",
   "execution_count": 3,
   "metadata": {},
   "outputs": [
    {
     "output_type": "stream",
     "name": "stdout",
     "text": [
      "A + B\n"
     ]
    }
   ],
   "source": [
    "print(\"{} + {}\".format(\"A\", \"B\"))"
   ]
  },
  {
   "cell_type": "code",
   "execution_count": null,
   "metadata": {},
   "outputs": [],
   "source": [
    "ffmpeg -f dshow -framerate 60 -video_size 1280x720 -vcodec mjpeg -t 3 -i video='C922 Pro Stream Webcam' -t 3 -c copy 2021_05_19_14_39_48_No1.mkv"
   ]
  },
  {
   "cell_type": "code",
   "execution_count": 7,
   "metadata": {},
   "outputs": [
    {
     "output_type": "stream",
     "name": "stdout",
     "text": [
      "[b'Microsoft Windows [\\xb0\\xe6\\xb1\\xbe 10.0.19042.985]\\r\\n', b'(c) Microsoft Corporation\\xa1\\xa3\\xb1\\xa3\\xc1\\xf4\\xcb\\xf9\\xd3\\xd0\\xc8\\xa8\\xc0\\xfb\\xa1\\xa3\\r\\n', b'\\r\\n', b'(py37) c:\\\\Users\\\\mlDSY\\\\Google \\xd4\\xc6\\xb6\\xcb\\xd3\\xb2\\xc5\\xcc\\\\G_Drive\\\\Riken Research Material\\\\github\\\\CameraControl>']\n"
     ]
    }
   ],
   "source": [
    "import subprocess\n",
    "process = subprocess.Popen([\"cmd\", \"ls\"], stdout=subprocess.PIPE)\n",
    "if process.returncode != 0:\n",
    "    print(process.stdout.readlines())"
   ]
  },
  {
   "cell_type": "code",
   "execution_count": 10,
   "metadata": {},
   "outputs": [
    {
     "output_type": "stream",
     "name": "stdout",
     "text": [
      "\"AU1\": [],\n\"AU2\": [],\n\"AU4\": [],\n\"AU5\": [],\n\"AU6\": [],\n\"AU7\": [],\n\"AU8\": [],\n\"AU9\": [],\n\"AU10\": [],\n\"AU11\": [],\n\"AU12\": [],\n\"LAU12\": [],\n\"AU13\": [],\n\"AU14\": [],\n\"AU15\": [],\n\"AU16\": [],\n\"AU17\": [],\n\"AU18\": [],\n\"AU20\": [],\n\"AU22\": [],\n\"AU23\": [],\n\"AU24\": [],\n\"AU25\": [],\n\"AU26\": [],\n\"AU28\": [],\n\"AU43\": [],\n"
     ]
    }
   ],
   "source": [
    "for i in [\"AU1\", \n",
    "\"AU2\",\n",
    "\"AU4\",\n",
    "\"AU5\",\n",
    "\"AU6\",\n",
    "\"AU7\",\n",
    "\"AU8\",\n",
    "\"AU9\",\n",
    "\"AU10\",\n",
    "\"AU11\",\n",
    "\"AU12\",\n",
    "\"LAU12\",\n",
    "\"AU13\",\n",
    "\"AU14\",\n",
    "\"AU15\",\n",
    "\"AU16\",\n",
    "\"AU17\",\n",
    "\"AU18\",\n",
    "\"AU20\",\n",
    "\"AU22\",\n",
    "\"AU23\",\n",
    "\"AU24\",\n",
    "\"AU25\",\n",
    "\"AU26\",\n",
    "\"AU28\",\n",
    "\"AU43\"\n",
    "]:\n",
    "    print(\"\\\"{}\\\": [],\".format(i))"
   ]
  },
  {
   "source": [],
   "cell_type": "markdown",
   "metadata": {}
  },
  {
   "cell_type": "code",
   "execution_count": 7,
   "metadata": {},
   "outputs": [
    {
     "output_type": "stream",
     "name": "stdout",
     "text": [
      "[10, 14]\nNone\n[8, 12]\nNone\n[11, 15]\nNone\n[6, 9, 7, 13]\nNone\n[6, 7]\nNone\n[30]\nNone\n[18, 22]\nNone\n[16, 17]\nNone\n[21, 25]\nNone\n[19, 23]\nNone\n[29]\nNone\n[26, 27]\nNone\n[20, 24]\nNone\n[26, 27, 29]\nNone\n[28, 29, 32]\nNone\n[32]\nNone\n[1, 2]\nNone\n[86, 86, 128, 128, 128, 0, 0, 0, 0, 0, 0, 0, 0, 0, 0, 0, 0, 0, 0, 0, 0, 0, 0, 0, 0, 0, 0, 0, 0, 0, 0, 0, 128, 128, 122]\n[86, 86, 128, 128, 128, 0, 0, 0, 0, 255, 0, 0, 0, 255, 0, 0, 0, 0, 0, 0, 0, 0, 0, 0, 0, 0, 0, 0, 0, 0, 0, 0, 128, 128, 122]\n"
     ]
    }
   ],
   "source": [
    "import defaultPose\n",
    "import copy\n",
    "\n",
    "def change(au, pos):\n",
    "    for i in pos:\n",
    "        au[i - 1] = 255\n",
    "\n",
    "df = defaultPose.actionUnitParams['StandardPose']\n",
    "AU1 = copy.copy(df) # 10, 14\n",
    "AU2 = copy.copy(df) # 8, 12\n",
    "AU4 = copy.copy(df) # 11, 15\n",
    "AU5 = copy.copy(df) # 1,2 （Notice: from 86 to 0）\n",
    "AU6 = copy.copy(df) # 6+9,7+13\n",
    "AU7 = copy.copy(df) # 6, 7\n",
    "AU10 = copy.copy(df) # 30\n",
    "AU12 = copy.copy(df) # 18,22\n",
    "LAU12 = copy.copy(df) # 16,17\n",
    "AU14 = copy.copy(df) # 21,25\n",
    "AU15 = copy.copy(df) # 19,23\n",
    "AU16 = copy.copy(df) # 29\n",
    "AU18 = copy.copy(df) # 26,27\n",
    "AU20 = copy.copy(df) # 20,24\n",
    "AU22 = copy.copy(df) # 26,27,29\n",
    "AU25 = copy.copy(df) # 28,29,32\n",
    "AU26 = copy.copy(df) # 32\n",
    "AU43 = copy.copy(df) # 1,2\n",
    "\n",
    "change(AU1, [10, 14])\n",
    "change(AU2, [8, 12])\n",
    "change(AU4, [11, 15])\n",
    "AU5[0], AU5[1] = 0, 0\n",
    "# change(AU5\n",
    "\n",
    "# change(AU6\n",
    "# change(AU7\n",
    "# change(AU10\n",
    "# change(AU12\n",
    "# change(LAU12\n",
    "# change(AU14\n",
    "# change(AU15\n",
    "# change\n",
    "\n",
    "for i in [[10, 14], [8, 12], [11, 15], [6,9,7,13], [6, 7], [30], [18,22], [16,17], [21,25], [19,23], [29], [26,27], [20,24], [26,27,29], [28,29,32], [32], [1,2]]:\n",
    "    print(i)\n",
    "    temp = copy.deepcopy(df)\n",
    "    print(change(temp, i))\n",
    "\n",
    "print(defaultPose.actionUnitParams['StandardPose'])\n",
    "print(AU1)\n"
   ]
  }
 ],
 "metadata": {
  "kernelspec": {
   "name": "python3710jvsc74a57bd0b24b59ca2240cd6310e7e6ed690ecfd591f046d0c79f6d320fe829b6a86bd508",
   "display_name": "Python 3.7.10 64-bit ('py37': conda)"
  },
  "language_info": {
   "codemirror_mode": {
    "name": "ipython",
    "version": 3
   },
   "file_extension": ".py",
   "mimetype": "text/x-python",
   "name": "python",
   "nbconvert_exporter": "python",
   "pygments_lexer": "ipython3",
   "version": "3.7.10"
  }
 },
 "nbformat": 4,
 "nbformat_minor": 4
}