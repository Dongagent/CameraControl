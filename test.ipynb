{
 "cells": [
  {
   "cell_type": "markdown",
   "metadata": {},
   "source": [
    "# Logicool C922 Pro Stream Webcam"
   ]
  },
  {
   "cell_type": "code",
   "execution_count": 2,
   "metadata": {},
   "outputs": [],
   "source": [
    "import cv2\n",
    "\n",
    "# Webカメラ\n",
    "DEVICE_ID = 1 \n",
    "\n",
    "WIDTH = 1280\n",
    "HEIGHT = 720\n",
    "FPS = 60\n",
    "\n",
    "cap = cv2.VideoCapture (DEVICE_ID)"
   ]
  },
  {
   "cell_type": "code",
   "execution_count": 3,
   "metadata": {},
   "outputs": [
    {
     "data": {
      "text/plain": [
       "True"
      ]
     },
     "execution_count": 3,
     "metadata": {},
     "output_type": "execute_result"
    }
   ],
   "source": [
    "cap.set(cv2.CAP_PROP_FOURCC, cv2.VideoWriter_fourcc('Y','U','Y','V'))\n",
    "cap.set(cv2.CAP_PROP_FRAME_WIDTH, WIDTH)\n",
    "cap.set(cv2.CAP_PROP_FRAME_HEIGHT, HEIGHT)\n",
    "cap.set(cv2.CAP_PROP_FPS, FPS)"
   ]
  },
  {
   "cell_type": "code",
   "execution_count": 4,
   "metadata": {},
   "outputs": [
    {
     "name": "stdout",
     "output_type": "stream",
     "text": [
      "fourcc:\u0016\u0000\u0000\u0000 fps:60.0　width:1280.0　height:720.0\n"
     ]
    }
   ],
   "source": [
    "def decode_fourcc(v):\n",
    "    v = int(v)\n",
    "    return \"\".join([chr((v >> 8 * i) & 0xFF) for i in range(4)])\n",
    "\n",
    "# フォーマット・解像度・FPSの取得\n",
    "fourcc = decode_fourcc(cap.get(cv2.CAP_PROP_FOURCC))\n",
    "width = cap.get(cv2.CAP_PROP_FRAME_WIDTH)\n",
    "height = cap.get(cv2.CAP_PROP_FRAME_HEIGHT)\n",
    "fps = cap.get(cv2.CAP_PROP_FPS)\n",
    "print(\"fourcc:{} fps:{}　width:{}　height:{}\".format(fourcc, fps, width, height))"
   ]
  },
  {
   "cell_type": "markdown",
   "metadata": {},
   "source": [
    "# Save Videos"
   ]
  },
  {
   "cell_type": "code",
   "execution_count": 32,
   "metadata": {
    "jupyter": {
     "source_hidden": true
    }
   },
   "outputs": [
    {
     "name": "stdout",
     "output_type": "stream",
     "text": [
      "Starting Thread-1 at time Wed May 12 19:22:30 2021\n",
      "<VideoCapture 0000021ADF0C0A30>\n",
      "Thread-1: Wed May 12 19:22:31 2021\n",
      "Thread-1: Wed May 12 19:22:32 2021\n",
      "Thread-1: Wed May 12 19:22:33 2021\n",
      "Thread-1: Wed May 12 19:22:34 2021\n",
      "Thread-1: Wed May 12 19:22:35 2021\n",
      "Exiting Thread-1 at time Wed May 12 19:22:35 2021\n",
      "set Exit Flag\n",
      "cap is relased\n"
     ]
    }
   ],
   "source": [
    "import numpy as np\n",
    "import cv2\n",
    "import time\n",
    "import threading\n",
    "\n",
    "DEVICE_ID = 1\n",
    "\n",
    "\n",
    "cap = cv2.VideoCapture(DEVICE_ID)\n",
    "cap.set(cv2.CAP_PROP_FRAME_WIDTH, 1280);\n",
    "cap.set(cv2.CAP_PROP_FRAME_HEIGHT, 720);\n",
    "# Define the codec and create VideoWriter object\n",
    "fourcc = cv2.VideoWriter_fourcc(*'MP4V')\n",
    "out = cv2.VideoWriter('output.mp4', fourcc, 60.0, (1280, 720))\n",
    "global exitFlag\n",
    "exitFlag = False\n",
    "\n",
    "# Threading\n",
    "class videoControlThread (threading.Thread):   #继承父类threading.Thread\n",
    "    def __init__(self, threadID, recordingTime, videoCapture):\n",
    "        threading.Thread.__init__(self)\n",
    "        self.threadID = threadID\n",
    "        self.threadName = \"Thread-\" + str(self.threadID)\n",
    "        self.time = recordingTime\n",
    "        self.cap = videoCapture\n",
    "    def run(self):                   #把要执行的代码写到run函数里面 线程在创建后会直接运行run函数 \n",
    "        if cap.isOpened():\n",
    "            print(\"Starting Thread-\" + str(self.threadID) + \" at time \" + time.ctime(time.time()))\n",
    "            print(self.cap)\n",
    "            print_time(self.threadName, 1, self.time)\n",
    "            print(\"Exiting Thread-\" + str(self.threadID) + \" at time \" + time.ctime(time.time()))\n",
    "            print(\"set Exit Flag\")\n",
    "            global exitFlag\n",
    "            exitFlag = True\n",
    "            \n",
    "               \n",
    "def print_time(threadName, delay, counter):\n",
    "    while counter:\n",
    "        global exitFlag\n",
    "        if exitFlag:\n",
    "            (threading.Thread).exit()\n",
    "        time.sleep(delay)\n",
    "        print(\"%s: %s\" % (threadName, time.ctime(time.time())))\n",
    "        counter -= 1\n",
    "\n",
    "# Create Threading\n",
    "vc_thread1 = videoControlThread(1, 5, cap)\n",
    "\n",
    "threadFlag = True\n",
    "while(cap.isOpened()):\n",
    "    ret, frame = cap.read()\n",
    "    if ret==True:\n",
    "        # 上下颠倒\n",
    "        # frame = cv2.flip(frame,0)\n",
    "        if threadFlag:\n",
    "            vc_thread1.start()\n",
    "            threadFlag = False\n",
    "        # write the flipped frame\n",
    "        out.write(frame)\n",
    "        # show video\n",
    "        cv2.imshow('frame',frame)\n",
    "        if cv2.waitKey(1) & 0xFF == ord('q'):\n",
    "            break\n",
    "        if exitFlag:\n",
    "            break\n",
    "            \n",
    "        # exitFlag with Threading\n",
    "    else:\n",
    "        break\n",
    "\n",
    "# Release everything if job is finished\n",
    "cap.release()\n",
    "print(\"cap is relased\")\n",
    "out.release()\n",
    "cv2.destroyAllWindows()"
   ]
  },
  {
   "cell_type": "code",
   "execution_count": 19,
   "metadata": {},
   "outputs": [
    {
     "name": "stdout",
     "output_type": "stream",
     "text": [
      "Starting Thread-1 at time Wed May 12 18:50:28 2021\n",
      "1\n",
      "Thread-1: Wed May 12 18:50:29 2021\n",
      "Thread-1: Wed May 12 18:50:30 2021\n",
      "Thread-1: Wed May 12 18:50:31 2021\n",
      "Thread-1: Wed May 12 18:50:32 2021\n",
      "Thread-1: Wed May 12 18:50:33 2021\n",
      "Exiting Thread-1 at time Wed May 12 18:50:33 2021\n"
     ]
    },
    {
     "ename": "RuntimeError",
     "evalue": "threads can only be started once",
     "output_type": "error",
     "traceback": [
      "\u001b[1;31m---------------------------------------------------------------------------\u001b[0m",
      "\u001b[1;31mRuntimeError\u001b[0m                              Traceback (most recent call last)",
      "\u001b[1;32m<ipython-input-19-8fddc6187fbf>\u001b[0m in \u001b[0;36m<module>\u001b[1;34m\u001b[0m\n\u001b[0;32m     36\u001b[0m \u001b[1;32mwhile\u001b[0m \u001b[1;36m1\u001b[0m\u001b[1;33m:\u001b[0m\u001b[1;33m\u001b[0m\u001b[1;33m\u001b[0m\u001b[0m\n\u001b[0;32m     37\u001b[0m     \u001b[1;32mif\u001b[0m \u001b[1;32mnot\u001b[0m \u001b[0mthread1\u001b[0m\u001b[1;33m.\u001b[0m\u001b[0misAlive\u001b[0m\u001b[1;33m(\u001b[0m\u001b[1;33m)\u001b[0m\u001b[1;33m:\u001b[0m\u001b[1;33m\u001b[0m\u001b[1;33m\u001b[0m\u001b[0m\n\u001b[1;32m---> 38\u001b[1;33m         \u001b[0mthread1\u001b[0m\u001b[1;33m.\u001b[0m\u001b[0mstart\u001b[0m\u001b[1;33m(\u001b[0m\u001b[1;33m)\u001b[0m\u001b[1;33m\u001b[0m\u001b[1;33m\u001b[0m\u001b[0m\n\u001b[0m",
      "\u001b[1;32m~\\.conda\\envs\\py37\\lib\\threading.py\u001b[0m in \u001b[0;36mstart\u001b[1;34m(self)\u001b[0m\n\u001b[0;32m    846\u001b[0m \u001b[1;33m\u001b[0m\u001b[0m\n\u001b[0;32m    847\u001b[0m         \u001b[1;32mif\u001b[0m \u001b[0mself\u001b[0m\u001b[1;33m.\u001b[0m\u001b[0m_started\u001b[0m\u001b[1;33m.\u001b[0m\u001b[0mis_set\u001b[0m\u001b[1;33m(\u001b[0m\u001b[1;33m)\u001b[0m\u001b[1;33m:\u001b[0m\u001b[1;33m\u001b[0m\u001b[1;33m\u001b[0m\u001b[0m\n\u001b[1;32m--> 848\u001b[1;33m             \u001b[1;32mraise\u001b[0m \u001b[0mRuntimeError\u001b[0m\u001b[1;33m(\u001b[0m\u001b[1;34m\"threads can only be started once\"\u001b[0m\u001b[1;33m)\u001b[0m\u001b[1;33m\u001b[0m\u001b[1;33m\u001b[0m\u001b[0m\n\u001b[0m\u001b[0;32m    849\u001b[0m         \u001b[1;32mwith\u001b[0m \u001b[0m_active_limbo_lock\u001b[0m\u001b[1;33m:\u001b[0m\u001b[1;33m\u001b[0m\u001b[1;33m\u001b[0m\u001b[0m\n\u001b[0;32m    850\u001b[0m             \u001b[0m_limbo\u001b[0m\u001b[1;33m[\u001b[0m\u001b[0mself\u001b[0m\u001b[1;33m]\u001b[0m \u001b[1;33m=\u001b[0m \u001b[0mself\u001b[0m\u001b[1;33m\u001b[0m\u001b[1;33m\u001b[0m\u001b[0m\n",
      "\u001b[1;31mRuntimeError\u001b[0m: threads can only be started once"
     ]
    }
   ],
   "source": [
    "import time\n",
    "import threading\n",
    "import cv2\n",
    "\n",
    "exitFlag = 0\n",
    "\n",
    "class videoControlThread (threading.Thread):   #继承父类threading.Thread\n",
    "    def __init__(self, threadID, recordingTime, videoCapture):\n",
    "        threading.Thread.__init__(self)\n",
    "        self.threadID = threadID\n",
    "        self.threadName = \"Thread-\" + str(self.threadID)\n",
    "        self.time = recordingTime\n",
    "        self.cap = videoCapture\n",
    "    def run(self):                   #把要执行的代码写到run函数里面 线程在创建后会直接运行run函数 \n",
    "        print(\"Starting Thread-\" + str(self.threadID) + \" at time \" + time.ctime(time.time()))\n",
    "        print(self.cap)\n",
    "        # time.sleep(self.time * 1000)\n",
    "        print_time(self.threadName, 1, self.time)\n",
    "        print(\"Exiting Thread-\" + str(self.threadID) + \" at time \" + time.ctime(time.time()))\n",
    "               \n",
    "def print_time(threadName, delay, counter):\n",
    "    while counter:\n",
    "        if exitFlag:\n",
    "            (threading.Thread).exit()\n",
    "        time.sleep(delay)\n",
    "        print(\"%s: %s\" % (threadName, time.ctime(time.time())))\n",
    "        counter -= 1\n",
    "\n",
    "# cap = cv2.VideoCapture(1)\n",
    "# 创建新线程\n",
    "cap = 1\n",
    "thread1 = videoControlThread(1, 5, cap)\n",
    "\n",
    " \n",
    "# 开启线程\n",
    "while 1:\n",
    "    if not thread1.isAlive():\n",
    "        thread1.start()\n"
   ]
  },
  {
   "cell_type": "code",
   "execution_count": 14,
   "metadata": {},
   "outputs": [
    {
     "ename": "UnicodeDecodeError",
     "evalue": "'gbk' codec can't decode byte 0xab in position 109: illegal multibyte sequence",
     "output_type": "error",
     "traceback": [
      "\u001b[1;31m---------------------------------------------------------------------------\u001b[0m",
      "\u001b[1;31mUnicodeDecodeError\u001b[0m                        Traceback (most recent call last)",
      "\u001b[1;32m<ipython-input-14-47e8718ef9e9>\u001b[0m in \u001b[0;36m<module>\u001b[1;34m\u001b[0m\n\u001b[0;32m      3\u001b[0m \u001b[1;32mimport\u001b[0m \u001b[0mos\u001b[0m\u001b[1;33m\u001b[0m\u001b[1;33m\u001b[0m\u001b[0m\n\u001b[0;32m      4\u001b[0m \u001b[0mres\u001b[0m \u001b[1;33m=\u001b[0m \u001b[0mos\u001b[0m\u001b[1;33m.\u001b[0m\u001b[0mpopen\u001b[0m\u001b[1;33m(\u001b[0m\u001b[1;34m\"dir\"\u001b[0m\u001b[1;33m)\u001b[0m\u001b[1;33m\u001b[0m\u001b[1;33m\u001b[0m\u001b[0m\n\u001b[1;32m----> 5\u001b[1;33m \u001b[0mprint\u001b[0m\u001b[1;33m(\u001b[0m\u001b[0mres\u001b[0m\u001b[1;33m.\u001b[0m\u001b[0mread\u001b[0m\u001b[1;33m(\u001b[0m\u001b[1;33m)\u001b[0m\u001b[1;33m)\u001b[0m\u001b[1;33m\u001b[0m\u001b[1;33m\u001b[0m\u001b[0m\n\u001b[0m\u001b[0;32m      6\u001b[0m \u001b[0mprint\u001b[0m\u001b[1;33m(\u001b[0m\u001b[1;34m\"os.popen('ls')\"\u001b[0m\u001b[1;33m,\u001b[0m \u001b[0mos\u001b[0m\u001b[1;33m.\u001b[0m\u001b[0mpopen\u001b[0m\u001b[1;33m(\u001b[0m\u001b[1;34m\"pwd\"\u001b[0m\u001b[1;33m)\u001b[0m\u001b[1;33m.\u001b[0m\u001b[0mread\u001b[0m\u001b[1;33m(\u001b[0m\u001b[1;33m)\u001b[0m\u001b[1;33m)\u001b[0m\u001b[1;33m\u001b[0m\u001b[1;33m\u001b[0m\u001b[0m\n\u001b[0;32m      7\u001b[0m \u001b[0mp\u001b[0m \u001b[1;33m=\u001b[0m \u001b[0msubprocess\u001b[0m\u001b[1;33m.\u001b[0m\u001b[0mPopen\u001b[0m\u001b[1;33m(\u001b[0m\u001b[1;34m'ls -l'\u001b[0m\u001b[1;33m,\u001b[0m \u001b[0mshell\u001b[0m\u001b[1;33m=\u001b[0m\u001b[1;32mTrue\u001b[0m\u001b[1;33m,\u001b[0m \u001b[0mstdout\u001b[0m\u001b[1;33m=\u001b[0m\u001b[0msubprocess\u001b[0m\u001b[1;33m.\u001b[0m\u001b[0mPIPE\u001b[0m\u001b[1;33m)\u001b[0m\u001b[1;33m\u001b[0m\u001b[1;33m\u001b[0m\u001b[0m\n",
      "\u001b[1;31mUnicodeDecodeError\u001b[0m: 'gbk' codec can't decode byte 0xab in position 109: illegal multibyte sequence"
     ]
    }
   ],
   "source": [
    "import ffmpeg\n",
    "import subprocess\n",
    "import os\n",
    "res = os.popen(\"dir\")\n",
    "print(res.read())\n",
    "print(\"os.popen('ls')\", os.popen(\"pwd\").read())\n",
    "p = subprocess.Popen('ls -l', shell=True, stdout=subprocess.PIPE)\n",
    "print(p.stdout.readlines())\n",
    "# info = ffmpeg.probe(\"C:\\Users\\mlDSY\\Videos\\[VCB-Studio]\\ Steins;Gate\\ 0\\ [Ma10p_1080p]\\[VCB-Studio] Steins;Gate 0 [01][Ma10p_1080p][x265_flac].mkv\")"
   ]
  }
 ],
 "metadata": {
  "kernelspec": {
   "display_name": "Python [conda env:.conda-py37]",
   "language": "python",
   "name": "conda-env-.conda-py37-py"
  },
  "language_info": {
   "codemirror_mode": {
    "name": "ipython",
    "version": 3
   },
   "file_extension": ".py",
   "mimetype": "text/x-python",
   "name": "python",
   "nbconvert_exporter": "python",
   "pygments_lexer": "ipython3",
   "version": "3.7.10"
  },
  "metadata": {
   "interpreter": {
    "hash": "b24b59ca2240cd6310e7e6ed690ecfd591f046d0c79f6d320fe829b6a86bd508"
   }
  }
 },
 "nbformat": 4,
 "nbformat_minor": 4
}
