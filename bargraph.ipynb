{
 "cells": [
  {
   "cell_type": "markdown",
   "id": "7940cf61-8078-4912-b5f8-8c9dabc77edc",
   "metadata": {},
   "source": [
    "# Bar graph"
   ]
  },
  {
   "cell_type": "markdown",
   "id": "73eca59f-1c35-47ed-b361-c82c3a42a2f9",
   "metadata": {},
   "source": [
    "## Run this First"
   ]
  },
  {
   "cell_type": "code",
   "execution_count": 100,
   "id": "6dd92658-b82e-4cc4-9f55-14770fb94b2c",
   "metadata": {},
   "outputs": [
    {
     "name": "stdout",
     "output_type": "stream",
     "text": [
      "[[4 3 5 ... 3 5 4]\n",
      " [2 4 5 ... 2 2 1]\n",
      " [3 1 4 ... 1 2 4]\n",
      " ...\n",
      " [1 1 5 ... 1 1 5]\n",
      " [1 1 6 ... 1 1 3]\n",
      " [1 1 6 ... 2 1 3]]\n",
      "(40, 357)\n"
     ]
    }
   ],
   "source": [
    "# import libraries\n",
    "import pandas as pd\n",
    "import numpy as np\n",
    "import scipy.stats as stats\n",
    "import seaborn as sns\n",
    "import matplotlib.pyplot as plt\n",
    "import os\n",
    "import copy\n",
    "\n",
    "data40 = pd.read_csv('data40.csv')\n",
    "# data40 = data40.reset_index()\n",
    "# # print(data40)\n",
    "# print(data40.iloc[2:, 20:1])\n",
    "total_data = data40.iloc[2:, 19:-1]\n",
    "total_data = total_data.reset_index(drop=True)# reset index\n",
    "total_data = total_data.astype('int32')\n",
    "exp_result_data = total_data.iloc[:, 14:]\n",
    "\n",
    "# print(exp_result_data)\n",
    "# print(total_data)\n",
    "# total_data = total_data.reset_index(drop=False) # reset index\n",
    "total_data = total_data.astype(dtype='int64') # To int\n",
    "\n",
    "\n",
    "# df = pd.melt(total_data, id_vars='')\n",
    "\n",
    "total_data_np = total_data.values\n",
    "total_data_np = total_data_np.astype(np.int64)\n",
    "\n",
    "print(total_data_np)\n",
    "print(total_data_np.shape)\n",
    "list(total_data.columns)\n",
    "def get_emo_num(name):\n",
    "        if 'anger' in name.lower()  :\n",
    "            return 0\n",
    "        elif 'disgust' in name.lower() :\n",
    "            return 5\n",
    "        elif 'fear' in name.lower():\n",
    "            return 1\n",
    "        elif \"happiness\" in name.lower():\n",
    "            return 2\n",
    "        elif \"sadness\" in name.lower():\n",
    "            return 3\n",
    "        elif \"surprise\" in name.lower():\n",
    "            return 4\n",
    "        elif \"neutral\" in name.lower():\n",
    "            return 6"
   ]
  },
  {
   "cell_type": "markdown",
   "id": "850baeab-4fb9-4ab5-ba64-6ad86fec30c3",
   "metadata": {},
   "source": [
    "# Average data"
   ]
  },
  {
   "cell_type": "code",
   "execution_count": null,
   "id": "fdb04003-b7d4-4248-a5a6-f44a50e31174",
   "metadata": {},
   "outputs": [],
   "source": [
    "exp_result_data"
   ]
  },
  {
   "cell_type": "code",
   "execution_count": 102,
   "id": "d5be5d90-bbee-4ab2-a596-f034b3f1a6af",
   "metadata": {},
   "outputs": [
    {
     "name": "stdout",
     "output_type": "stream",
     "text": [
      "['Prototype_aver_anger_1', 'Prototype_aver_anger_2', 'Prototype_aver_anger_3', 'Prototype_aver_anger_4', 'Prototype_aver_anger_5', 'Prototype_aver_anger_6', 'Prototype_aver_anger_7', 'Res_aver_anger_1', 'Res_aver_anger_2', 'Res_aver_anger_3', 'Res_aver_anger_4', 'Res_aver_anger_5', 'Res_aver_anger_6', 'Res_aver_anger_7', 'Prototype_aver_disgust_1', 'Prototype_aver_disgust_2', 'Prototype_aver_disgust_3', 'Prototype_aver_disgust_4', 'Prototype_aver_disgust_5', 'Prototype_aver_disgust_6', 'Prototype_aver_disgust_7', 'Res_aver_disgust_1', 'Res_aver_disgust_2', 'Res_aver_disgust_3', 'Res_aver_disgust_4', 'Res_aver_disgust_5', 'Res_aver_disgust_6', 'Res_aver_disgust_7', 'Prototype_aver_fear_1', 'Prototype_aver_fear_2', 'Prototype_aver_fear_3', 'Prototype_aver_fear_4', 'Prototype_aver_fear_5', 'Prototype_aver_fear_6', 'Prototype_aver_fear_7', 'Res_aver_fear_1', 'Res_aver_fear_2', 'Res_aver_fear_3', 'Res_aver_fear_4', 'Res_aver_fear_5', 'Res_aver_fear_6', 'Res_aver_fear_7', 'Prototype_aver_happiness_1', 'Prototype_aver_happiness_2', 'Prototype_aver_happiness_3', 'Prototype_aver_happiness_4', 'Prototype_aver_happiness_5', 'Prototype_aver_happiness_6', 'Prototype_aver_happiness_7', 'Res_aver_happiness_1', 'Res_aver_happiness_2', 'Res_aver_happiness_3', 'Res_aver_happiness_4', 'Res_aver_happiness_5', 'Res_aver_happiness_6', 'Res_aver_happiness_7', 'Prototype_aver_sadness_1', 'Prototype_aver_sadness_2', 'Prototype_aver_sadness_3', 'Prototype_aver_sadness_4', 'Prototype_aver_sadness_5', 'Prototype_aver_sadness_6', 'Prototype_aver_sadness_7', 'Res_aver_sadness_1', 'Res_aver_sadness_2', 'Res_aver_sadness_3', 'Res_aver_sadness_4', 'Res_aver_sadness_5', 'Res_aver_sadness_6', 'Res_aver_sadness_7', 'Prototype_aver_surprise_1', 'Prototype_aver_surprise_2', 'Prototype_aver_surprise_3', 'Prototype_aver_surprise_4', 'Prototype_aver_surprise_5', 'Prototype_aver_surprise_6', 'Prototype_aver_surprise_7', 'Res_aver_surprise_1', 'Res_aver_surprise_2', 'Res_aver_surprise_3', 'Res_aver_surprise_4', 'Res_aver_surprise_5', 'Res_aver_surprise_6', 'Res_aver_surprise_7', 'Prototype_aver_neutral_1', 'Prototype_aver_neutral_2', 'Prototype_aver_neutral_3', 'Prototype_aver_neutral_4', 'Prototype_aver_neutral_5', 'Prototype_aver_neutral_6', 'Prototype_aver_neutral_7', 'Res_aver_neutral_1', 'Res_aver_neutral_2', 'Res_aver_neutral_3', 'Res_aver_neutral_4', 'Res_aver_neutral_5', 'Res_aver_neutral_6', 'Res_aver_neutral_7']\n"
     ]
    }
   ],
   "source": [
    "emo_names = 'Anger, Disgust, Fear, Happiness, Sadness, Surprise, Neutral'.lower().split(', ')\n",
    "cols = ['Prototype_aver_{}_{}'.format(j, x) for j in emo_names for x in range(1, 8)] \n",
    "cols2 = ['Res_aver_{}_{}'.format(j, x) for j in emo_names for x in range(1, 8)]\n",
    "cur = []\n",
    "for i in range(7):\n",
    "    cur = cur + cols[7*i:7*i+7]\n",
    "    cur = cur + cols2[7*i:7*i+7]\n",
    "#     cur = [i for j in cur for i in j]\n",
    "cols = cur\n",
    "print(cols)"
   ]
  },
  {
   "cell_type": "code",
   "execution_count": 127,
   "id": "585a0aa3-e741-4ec3-8722-10f26430563a",
   "metadata": {},
   "outputs": [
    {
     "name": "stdout",
     "output_type": "stream",
     "text": [
      "[[4.5 3.5 5.  ... 4.4 4.4 4.6]\n",
      " [3.5 2.5 3.  ... 2.  1.6 1.4]\n",
      " [5.  6.  2.  ... 1.  1.2 6.4]\n",
      " ...\n",
      " [3.  3.5 1.  ... 1.  1.  6.2]\n",
      " [4.5 1.  1.  ... 1.  1.4 4.4]\n",
      " [5.5 1.  1.  ... 1.2 1.  5. ]]\n"
     ]
    }
   ],
   "source": [
    "# average the rating between namba normal and namba hot\n",
    "# data structure: anger stimuli-> prototype\n",
    "emo_names = 'Anger, Disgust, Fear, Happiness, Sadness, Surprise, Neutral'.lower().split(', ')\n",
    "# res = []\n",
    "res = np.zeros([40, 98])\n",
    "for i in range(40):\n",
    "    # j means stimulus from emo 1 - emo 7\n",
    "    # k means 1-7\n",
    "    for j in range(7):\n",
    "        for k in range(7):\n",
    "            # Prototype\n",
    "            res[i, 2*7*j + k] = exp_result_data.iloc[i, [7*7*j + k, 7*7*j+7 + k]].sum() / 2\n",
    "            # Res\n",
    "            res[i, 2*7*j + 7 + k] = exp_result_data.iloc[i, [7*7*j+l*7 + k for l in range(2, 7)]].sum() / 5\n",
    "# Prototype\n",
    "print(res)\n",
    "\n",
    "# print(np.array(res).shape)\n",
    "\n",
    "# print(cols)\n",
    "res = pd.DataFrame(res, columns=cols)\n",
    "# print(res.head(50))\n",
    "average_data = res.copy()"
   ]
  },
  {
   "cell_type": "code",
   "execution_count": 106,
   "id": "0e077cfd-ef52-412b-9015-7c20263f8da9",
   "metadata": {},
   "outputs": [
    {
     "data": {
      "text/plain": [
       "['Res_aver_fear_5',\n",
       " 'Res_aver_fear_6',\n",
       " 'Res_aver_fear_7',\n",
       " 'Prototype_aver_happiness_1',\n",
       " 'Prototype_aver_happiness_2',\n",
       " 'Prototype_aver_happiness_3',\n",
       " 'Prototype_aver_happiness_4',\n",
       " 1,\n",
       " 2]"
      ]
     },
     "execution_count": 106,
     "metadata": {},
     "output_type": "execute_result"
    }
   ],
   "source": [
    "cols[i:i+7] + [1, 2]"
   ]
  },
  {
   "cell_type": "markdown",
   "id": "53d430f9-eac6-4a0d-96b4-8ffc5e0ea8e3",
   "metadata": {},
   "source": [
    "# Normalized type of data"
   ]
  },
  {
   "cell_type": "code",
   "execution_count": 107,
   "id": "80536c64-f30d-431e-814f-6ff3c5f54720",
   "metadata": {},
   "outputs": [
    {
     "name": "stdout",
     "output_type": "stream",
     "text": [
      "current emo is  anger\n",
      "32\n"
     ]
    }
   ],
   "source": [
    "emo_names = 'Anger, Disgust, Fear, Happiness, Sadness, Surprise, Neutral'.lower().split(', ')\n",
    "i = 0\n",
    "df = []\n",
    "flag = True\n",
    "current_emo = emo_names[i]\n",
    "print('current emo is ', current_emo)\n",
    "exp_result_data_normalized = exp_result_data.copy()\n",
    "# deal with total_data\n",
    "# print(total_data.head)\n",
    "# total_data.iloc[0, 0] = 1\n",
    "# print(total_data.iloc[0, 0])\n",
    "# print(exp_result_data)\n",
    "print(exp_result_data_normalized.iloc[0, 0:7].values.astype(np.int64).sum())\n",
    "for i in range(0, 40):\n",
    "    for j in range(0, 49):\n",
    "        cursum = exp_result_data_normalized.iloc[i, j*7:j*7+7].values.astype(np.int64).sum()\n",
    "        for k in range(0, 7):\n",
    "            temp = int(exp_result_data.iloc[i, j*7 + k]) / cursum\n",
    "#             from decimal import Decimal\n",
    "            exp_result_data_normalized.iloc[i, j*7+ k] = round(temp, 3)\n",
    "# print(exp_result_data_normalized.head(1))"
   ]
  },
  {
   "cell_type": "markdown",
   "id": "fbd72469-7cc8-4b4a-bf4c-158c33f45eb1",
   "metadata": {},
   "source": [
    "# Averaged normalized data"
   ]
  },
  {
   "cell_type": "code",
   "execution_count": 140,
   "id": "c54ced31-1e2f-4e30-9717-0e768e8ab7ce",
   "metadata": {},
   "outputs": [
    {
     "name": "stdout",
     "output_type": "stream",
     "text": [
      "   Prototype_aver_anger_1  Prototype_aver_anger_2  Prototype_aver_anger_3  \\\n",
      "0                   0.129                   0.097                   0.161   \n",
      "1                   0.150                   0.100                   0.150   \n",
      "2                   0.172                   0.207                   0.069   \n",
      "3                   0.100                   0.100                   0.200   \n",
      "4                   0.208                   0.167                   0.042   \n",
      "\n",
      "   Prototype_aver_anger_4  Prototype_aver_anger_5  Prototype_aver_anger_6  \\\n",
      "0                   0.129                   0.161                   0.161   \n",
      "1                   0.100                   0.200                   0.100   \n",
      "2                   0.172                   0.172                   0.172   \n",
      "3                   0.100                   0.100                   0.100   \n",
      "4                   0.167                   0.167                   0.208   \n",
      "\n",
      "   Prototype_aver_anger_7  Res_aver_anger_1  Res_aver_anger_2  \\\n",
      "0                   0.161             0.143             0.143   \n",
      "1                   0.200             0.143             0.095   \n",
      "2                   0.034             0.200             0.200   \n",
      "3                   0.300             0.250             0.083   \n",
      "4                   0.042             0.200             0.200   \n",
      "\n",
      "   Res_aver_anger_3  ...  Prototype_aver_neutral_5  Prototype_aver_neutral_6  \\\n",
      "0             0.143  ...                     0.143                     0.143   \n",
      "1             0.095  ...                     0.125                     0.250   \n",
      "2             0.067  ...                     0.238                     0.095   \n",
      "3             0.167  ...                     0.083                     0.083   \n",
      "4             0.040  ...                     0.077                     0.077   \n",
      "\n",
      "   Prototype_aver_neutral_7  Res_aver_neutral_1  Res_aver_neutral_2  \\\n",
      "0                     0.179               0.143               0.143   \n",
      "1                     0.125               0.125               0.125   \n",
      "2                     0.238               0.083               0.083   \n",
      "3                     0.333               0.083               0.083   \n",
      "4                     0.385               0.083               0.083   \n",
      "\n",
      "   Res_aver_neutral_3  Res_aver_neutral_4  Res_aver_neutral_5  \\\n",
      "0               0.143               0.143               0.143   \n",
      "1               0.125               0.125               0.250   \n",
      "2               0.083               0.083               0.083   \n",
      "3               0.083               0.083               0.083   \n",
      "4               0.083               0.083               0.083   \n",
      "\n",
      "   Res_aver_neutral_6  Res_aver_neutral_7  \n",
      "0               0.143               0.143  \n",
      "1               0.125               0.125  \n",
      "2               0.083               0.500  \n",
      "3               0.083               0.500  \n",
      "4               0.083               0.500  \n",
      "\n",
      "[5 rows x 98 columns]\n"
     ]
    }
   ],
   "source": [
    "# average_data\n",
    "average_data_norm = average_data.copy()\n",
    "res = []\n",
    "\n",
    "# for i in range(40):\n",
    "#     # j means stimulus from emo 1 - emo 7\n",
    "#     # k means 1-7\n",
    "#     for j in range(7):\n",
    "#         for k in range(7):\n",
    "#             # Prototype\n",
    "#             res[i, 2*7*j + k] = exp_result_data.iloc[i, [7*7*j + k, 7*7*j+7 + k]].sum() / 2\n",
    "#             # Res\n",
    "#             res[i, 2*7*j + 7 + k] = exp_result_data.iloc[i, [7*7*j+l*7 + k for l in range(2, 7)]].sum() / 5\n",
    "\n",
    "# print(average_data.info())\n",
    "for i in range(40):\n",
    "    # 96 values one line\n",
    "    temp = []\n",
    "    for j in range(14):\n",
    "        cursum = average_data.iloc[i, j*7:j*7+7].values.astype(np.int64).sum()\n",
    "#         cursum2 = average_data.iloc[i, 2*j*7+7:2*j*7+14].values.astype(np.int64).sum()\n",
    "#         print(i, 2*j*7,2*j*7+7,2*j*7+14)\n",
    "        for k in range(0, 7):\n",
    "#             print(i, 2*j*7 + k)\n",
    "            temp = int(average_data.iloc[i, j*7 + k]) / cursum\n",
    "\n",
    "#             from decimal import Decimal\n",
    "            average_data_norm.iloc[i, j*7+ k] = round(temp, 3)\n",
    "print(average_data_norm.head(5))\n"
   ]
  },
  {
   "cell_type": "code",
   "execution_count": null,
   "id": "67f80f4c-617f-4a76-9a28-11740bc3c1fa",
   "metadata": {},
   "outputs": [],
   "source": []
  },
  {
   "cell_type": "markdown",
   "id": "76b48f29-bea6-49de-98da-d2ad873619ff",
   "metadata": {},
   "source": [
    "# 2 Columns"
   ]
  },
  {
   "cell_type": "code",
   "execution_count": 109,
   "id": "de93a1d6-6619-4dcf-9a48-dbf8be702611",
   "metadata": {},
   "outputs": [
    {
     "name": "stderr",
     "output_type": "stream",
     "text": [
      "No handles with labels found to put in legend.\n"
     ]
    },
    {
     "name": "stdout",
     "output_type": "stream",
     "text": [
      "current emo is  anger\n",
      "current emo is  disgust\n",
      "current emo is  fear\n",
      "current emo is  happiness\n",
      "current emo is  sadness\n",
      "current emo is  surprise\n",
      "current emo is  neutral\n",
      "   stimulus  aver. human ratings  emotion    category\n",
      "0     anger                    4    anger   Prototype\n",
      "1     anger                    5    anger   Prototype\n",
      "2     anger                    5    anger   Prototype\n",
      "3     anger                    1    anger   Prototype\n",
      "4     anger                    6    anger   Prototype\n",
      "..      ...                  ...      ...         ...\n",
      "75  neutral                    5  neutral  Our method\n",
      "76  neutral                    2  neutral  Our method\n",
      "77  neutral                    7  neutral  Our method\n",
      "78  neutral                    5  neutral  Our method\n",
      "79  neutral                    3  neutral  Our method\n",
      "\n",
      "[560 rows x 4 columns]\n",
      "error bar means  95% confidence interval\n"
     ]
    },
    {
     "data": {
      "image/png": "[encoded data removed]",
      "text/plain": [
       "<Figure size 1008x576 with 1 Axes>"
      ]
     },
     "metadata": {},
     "output_type": "display_data"
    }
   ],
   "source": [
    "def multiple_analysis_with_fig(bar_group_num = 2):\n",
    "#     emo_names = 'Anger*, Disgust*, Fear, Happiness*, Sadness*, Surprise*, Neutral'.lower().split(', ')\n",
    "    emo_names = 'Anger, Disgust, Fear, Happiness, Sadness, Surprise, Neutral'.lower().split(', ')\n",
    "#     print(' Anger - 1 - 怒り,\\n disgust 6 - 嫌悪,\\n fear - 2 - 恐怖,\\n happiness - 3 - 幸福, \\n sadness - 4 - 悲しみ, \\n surprise - 5 - 驚き,\\n neutral - 7 - 中性')\n",
    "#     print(total_data.iloc[0:2, :])\n",
    "    df = []\n",
    "    flag = True\n",
    "    for i in range(7):\n",
    "        current_emo = emo_names[i]\n",
    "        print('current emo is ', current_emo)\n",
    "        temp_data = total_data.iloc[:, 14+7*7*i : 14+7*7*i + 7*7].copy()\n",
    "#         print(temp_data)\n",
    "        temp_data_with_temp_rating = temp_data.iloc[:,[ get_emo_num(current_emo) + 7 * x for x in [0, 2]]] # This line defined which data we use to generate the bar plot\n",
    "#         print(temp_data_with_temp_rating.head())\n",
    "        if flag:\n",
    "#             print(type(df))\n",
    "            df = pd.melt(temp_data_with_temp_rating, value_vars=list(temp_data_with_temp_rating.columns),\n",
    "                     var_name='stimulus', value_name='aver. human ratings')\n",
    "            df['emotion'] = current_emo\n",
    "            flag = False\n",
    "        else:\n",
    "            temp_df = pd.melt(temp_data_with_temp_rating, value_vars=list(temp_data_with_temp_rating.columns),\n",
    "                     var_name='stimulus', value_name='aver. human ratings')\n",
    "            temp_df['emotion'] = current_emo\n",
    "            df = pd.concat([df, temp_df], axis=0)\n",
    "    category_list = []\n",
    "    cate_ = ['Prototype', 'Our method']\n",
    "    for i in range(7):\n",
    "        for j in range(bar_group_num):\n",
    "            for k in range(40):\n",
    "                category_list.append(cate_[j])\n",
    "    df['category']=category_list\n",
    "\n",
    "    stim_name = [i for i in emo_names for _ in range(40 * bar_group_num)]\n",
    "#     print(stim_name)\n",
    "    df['stimulus']=stim_name\n",
    "    print(df)\n",
    "    fig, ax = plt.subplots(figsize=(14, 8)) # set figure size\n",
    "    fig.set_facecolor('white') # set background color\n",
    "#         plt.xlabel('stimulus')\n",
    "#         plt.ylabel('aver. human ratings')\n",
    "    plt.xlim(-0.05, 1.05)\n",
    "    plt.ylim(0.8, 7.2)\n",
    "#         plt.title(current_emo, y=-0.12)\n",
    "    plt.legend()\n",
    "    print('error bar means  95% confidence interval')\n",
    "    ax = sns.barplot(x=\"stimulus\", y=\"aver. human ratings\", hue='category',  data=df, estimator=np.mean, ci=95, capsize=.05)\n",
    "    plt.show()\n",
    "    fig.savefig('meanfor2.png', dpi=300)\n",
    "\n",
    "multiple_analysis_with_fig()"
   ]
  },
  {
   "cell_type": "markdown",
   "id": "544872bf-7c62-4309-969b-27f212f2b9a3",
   "metadata": {},
   "source": [
    "# 7 columns"
   ]
  },
  {
   "cell_type": "code",
   "execution_count": 110,
   "id": "cae79cee-579c-48bb-91f3-b233fa175753",
   "metadata": {},
   "outputs": [
    {
     "name": "stderr",
     "output_type": "stream",
     "text": [
      "No handles with labels found to put in legend.\n"
     ]
    },
    {
     "name": "stdout",
     "output_type": "stream",
     "text": [
      "current emo is  anger\n",
      "current emo is  disgust\n",
      "current emo is  fear\n",
      "current emo is  happiness\n",
      "current emo is  sadness\n",
      "current emo is  surprise\n",
      "current emo is  neutral\n",
      "    stimulus  aver. human ratings  emotion                 category\n",
      "0      anger                    4    anger  Prototype (mouth close)\n",
      "1      anger                    5    anger  Prototype (mouth close)\n",
      "2      anger                    5    anger  Prototype (mouth close)\n",
      "3      anger                    1    anger  Prototype (mouth close)\n",
      "4      anger                    6    anger  Prototype (mouth close)\n",
      "..       ...                  ...      ...                      ...\n",
      "275  neutral                    7  neutral                    Res 5\n",
      "276  neutral                    4  neutral                    Res 5\n",
      "277  neutral                    5  neutral                    Res 5\n",
      "278  neutral                    3  neutral                    Res 5\n",
      "279  neutral                    3  neutral                    Res 5\n",
      "\n",
      "[1960 rows x 4 columns]\n",
      "<class 'pandas.core.frame.DataFrame'>\n",
      "Int64Index: 1960 entries, 0 to 279\n",
      "Data columns (total 4 columns):\n",
      " #   Column               Non-Null Count  Dtype \n",
      "---  ------               --------------  ----- \n",
      " 0   stimulus             1960 non-null   object\n",
      " 1   aver. human ratings  1960 non-null   int64 \n",
      " 2   emotion              1960 non-null   object\n",
      " 3   category             1960 non-null   object\n",
      "dtypes: int64(1), object(3)\n",
      "memory usage: 76.6+ KB\n",
      "None\n",
      "error bar means  95% confidence interval\n"
     ]
    },
    {
     "data": {
      "image/png": "[encoded data removed]",
      "text/plain": [
       "<Figure size 1008x576 with 1 Axes>"
      ]
     },
     "metadata": {},
     "output_type": "display_data"
    }
   ],
   "source": [
    "def multiple_analysis_with_fig(bar_group_num = 2):\n",
    "#     emo_names = 'Anger*, Disgust*, Fear, Happiness*, Sadness*, Surprise*, Neutral'.lower().split(', ')\n",
    "    emo_names = 'Anger, Disgust, Fear, Happiness, Sadness, Surprise, Neutral'.lower().split(', ')\n",
    "#     print(' Anger - 1 - 怒り,\\n disgust 6 - 嫌悪,\\n fear - 2 - 恐怖,\\n happiness - 3 - 幸福, \\n sadness - 4 - 悲しみ, \\n surprise - 5 - 驚き,\\n neutral - 7 - 中性')\n",
    "#     print(total_data.iloc[0:2, :])\n",
    "    df = []\n",
    "    flag = True\n",
    "    for i in range(7):\n",
    "        current_emo = emo_names[i]\n",
    "        print('current emo is ', current_emo)\n",
    "        temp_data = total_data.iloc[:, 14+7*7*i : 14+7*7*i + 7*7].copy()\n",
    "#         print(temp_data)\n",
    "        temp_data_with_temp_rating = temp_data.iloc[:,[ get_emo_num(current_emo) + 7 * x for x in range(0, 7)]] # This line defined which data we use to generate the bar plot\n",
    "#         print(temp_data_with_temp_rating.head())\n",
    "        \n",
    "        if flag:\n",
    "#             print(type(df))\n",
    "            df = pd.melt(temp_data_with_temp_rating, value_vars=list(temp_data_with_temp_rating.columns),\n",
    "                     var_name='stimulus', value_name='aver. human ratings')\n",
    "            df['emotion'] = current_emo\n",
    "            flag = False\n",
    "        else:\n",
    "            temp_df = pd.melt(temp_data_with_temp_rating, value_vars=list(temp_data_with_temp_rating.columns),\n",
    "                     var_name='stimulus', value_name='aver. human ratings')\n",
    "            temp_df['emotion'] = current_emo\n",
    "            df = pd.concat([df, temp_df], axis=0)\n",
    "    \n",
    "    category_list = []\n",
    "    cate_ = ['Prototype (mouth close)', 'Prototype (mouth open)', 'Res 1', 'Res 2', 'Res 3', 'Res 4', 'Res 5']\n",
    "    for i in range(7):\n",
    "        for j in range(bar_group_num):\n",
    "            for k in range(40):\n",
    "                category_list.append(cate_[j])\n",
    "    df['category']=category_list\n",
    "\n",
    "    stim_name = [i for i in emo_names for _ in range(40 * bar_group_num)]\n",
    "#     print(stim_name)\n",
    "    df['stimulus']=stim_name\n",
    "    print(df)\n",
    "    print(df.info())\n",
    "    fig, ax = plt.subplots(figsize=(14, 8)) # set figure size\n",
    "    fig.set_facecolor('white') # set background color\n",
    "#         plt.xlabel('stimulus')\n",
    "#         plt.ylabel('aver. human ratings')\n",
    "    plt.xlim(-0.05, 1.05)\n",
    "    plt.ylim(0.8, 7.2)\n",
    "#         plt.title(current_emo, y=-0.12)\n",
    "    plt.legend()\n",
    "    print('error bar means  95% confidence interval')\n",
    "    ax = sns.barplot(x=\"stimulus\", y=\"aver. human ratings\", hue='category',  data=df, estimator=np.mean, ci=95, capsize=.05)\n",
    "    plt.show()\n",
    "    fig.savefig('meanfor7.png', dpi=300)\n",
    "\n",
    "multiple_analysis_with_fig(7)"
   ]
  },
  {
   "cell_type": "markdown",
   "id": "e62bb5df-2415-46db-b259-ed3ec001f259",
   "metadata": {},
   "source": [
    "# exp_result_data_normalized 2 columns"
   ]
  },
  {
   "cell_type": "code",
   "execution_count": 111,
   "id": "aa9a3595-1247-4021-9f84-2753a030885d",
   "metadata": {},
   "outputs": [
    {
     "name": "stderr",
     "output_type": "stream",
     "text": [
      "No handles with labels found to put in legend.\n"
     ]
    },
    {
     "name": "stdout",
     "output_type": "stream",
     "text": [
      "current emo is  anger\n",
      "current emo is  disgust\n",
      "current emo is  fear\n",
      "current emo is  happiness\n",
      "current emo is  sadness\n",
      "current emo is  surprise\n",
      "current emo is  neutral\n",
      "   stimulus  aver. human ratings  emotion        category\n",
      "0     anger                0.125    anger  Prototype_norm\n",
      "1     anger                0.227    anger  Prototype_norm\n",
      "2     anger                0.179    anger  Prototype_norm\n",
      "3     anger                0.083    anger  Prototype_norm\n",
      "4     anger                0.250    anger  Prototype_norm\n",
      "..      ...                  ...      ...             ...\n",
      "75  neutral                0.455  neutral      Res 1_norm\n",
      "76  neutral                0.087  neutral      Res 1_norm\n",
      "77  neutral                0.538  neutral      Res 1_norm\n",
      "78  neutral                0.333  neutral      Res 1_norm\n",
      "79  neutral                0.333  neutral      Res 1_norm\n",
      "\n",
      "[560 rows x 4 columns]\n",
      "error bar means  95% confidence interval\n"
     ]
    },
    {
     "data": {
      "image/png": "[encoded data removed]",
      "text/plain": [
       "<Figure size 1008x576 with 1 Axes>"
      ]
     },
     "metadata": {},
     "output_type": "display_data"
    }
   ],
   "source": [
    "# def multiple_analysis_with_fig(bar_group_num = 2):\n",
    "#     emo_names = 'Anger*, Disgust*, Fear, Happiness*, Sadness*, Surprise*, Neutral'.lower().split(', ')\n",
    "bar_group_num = 2\n",
    "emo_names = 'Anger, Disgust, Fear, Happiness, Sadness, Surprise, Neutral'.lower().split(', ')\n",
    "#     print(' Anger - 1 - 怒り,\\n disgust 6 - 嫌悪,\\n fear - 2 - 恐怖,\\n happiness - 3 - 幸福, \\n sadness - 4 - 悲しみ, \\n surprise - 5 - 驚き,\\n neutral - 7 - 中性')\n",
    "#     print(total_data.iloc[0:2, :])\n",
    "df = []\n",
    "flag = True\n",
    "for i in range(7):\n",
    "    current_emo = emo_names[i]\n",
    "    print('current emo is ', current_emo)\n",
    "    temp_data = exp_result_data_normalized.iloc[:, 7*7*i : 7*7*i + 7*7].copy()\n",
    "#         print(temp_data)\n",
    "    temp_data_with_temp_rating = temp_data.iloc[:,[ get_emo_num(current_emo) + 7 * x for x in [0, 2]]] # This line defined which data we use to generate the bar plot\n",
    "#     print(temp_data_with_temp_rating.head())\n",
    "#     print(temp_data_with_temp_rating.info())\n",
    "\n",
    "    if flag:\n",
    "#             print(type(df))\n",
    "        df = pd.melt(temp_data_with_temp_rating, value_vars=list(temp_data_with_temp_rating.columns),\n",
    "                 var_name='stimulus', value_name='aver. human ratings')\n",
    "        df['emotion'] = current_emo\n",
    "        flag = False\n",
    "    else:\n",
    "        temp_df = pd.melt(temp_data_with_temp_rating, value_vars=list(temp_data_with_temp_rating.columns),\n",
    "                 var_name='stimulus', value_name='aver. human ratings')\n",
    "        temp_df['emotion'] = current_emo\n",
    "        df = pd.concat([df, temp_df], axis=0)\n",
    "\n",
    "category_list = []\n",
    "cate_ = ['Prototype_norm', 'Res 1_norm']\n",
    "for i in range(7):\n",
    "    for j in range(bar_group_num):\n",
    "        for k in range(40):\n",
    "            category_list.append(cate_[j])\n",
    "df['category']=category_list\n",
    "\n",
    "stim_name = [i for i in emo_names for _ in range(40 * bar_group_num)]\n",
    "#     print(stim_name)\n",
    "df['stimulus']=stim_name\n",
    "print(df)\n",
    "# print(df.info())\n",
    "fig, ax = plt.subplots(figsize=(14, 8)) # set figure size\n",
    "fig.set_facecolor('white') # set background color\n",
    "#         plt.xlabel('stimulus')\n",
    "#         plt.ylabel('aver. human ratings')\n",
    "plt.xlim(-0.05, 1.05)\n",
    "plt.ylim(-0.05, 1.05)\n",
    "#         plt.title(current_emo, y=-0.12)\n",
    "plt.legend()\n",
    "print('error bar means  95% confidence interval')\n",
    "ax = sns.barplot(x=\"stimulus\", y=\"aver. human ratings\", hue='category',  data=df, estimator=np.mean, ci=95, capsize=.05)\n",
    "plt.show()\n",
    "fig.savefig('meanfor2_normalized.png', dpi=300)\n",
    "\n",
    "# multiple_analysis_with_fig(7)"
   ]
  },
  {
   "cell_type": "markdown",
   "id": "72b0bf19-6302-4965-8894-5b2baffbe4d6",
   "metadata": {},
   "source": [
    "# exp_result_data_normalized 7 columns"
   ]
  },
  {
   "cell_type": "code",
   "execution_count": 112,
   "id": "9846fcec-d3c1-41a2-9851-8f806e12d3bc",
   "metadata": {},
   "outputs": [
    {
     "name": "stderr",
     "output_type": "stream",
     "text": [
      "No handles with labels found to put in legend.\n"
     ]
    },
    {
     "name": "stdout",
     "output_type": "stream",
     "text": [
      "current emo is  anger\n",
      "current emo is  disgust\n",
      "current emo is  fear\n",
      "current emo is  happiness\n",
      "current emo is  sadness\n",
      "current emo is  surprise\n",
      "current emo is  neutral\n",
      "error bar means  95% confidence interval\n"
     ]
    },
    {
     "data": {
      "image/png": "[encoded data removed]",
      "text/plain": [
       "<Figure size 1008x576 with 1 Axes>"
      ]
     },
     "metadata": {},
     "output_type": "display_data"
    }
   ],
   "source": [
    "# def multiple_analysis_with_fig(bar_group_num = 2):\n",
    "#     emo_names = 'Anger*, Disgust*, Fear, Happiness*, Sadness*, Surprise*, Neutral'.lower().split(', ')\n",
    "bar_group_num = 7\n",
    "emo_names = 'Anger, Disgust, Fear, Happiness, Sadness, Surprise, Neutral'.lower().split(', ')\n",
    "#     print(' Anger - 1 - 怒り,\\n disgust 6 - 嫌悪,\\n fear - 2 - 恐怖,\\n happiness - 3 - 幸福, \\n sadness - 4 - 悲しみ, \\n surprise - 5 - 驚き,\\n neutral - 7 - 中性')\n",
    "#     print(total_data.iloc[0:2, :])\n",
    "df = []\n",
    "flag = True\n",
    "for i in range(7):\n",
    "    current_emo = emo_names[i]\n",
    "    print('current emo is ', current_emo)\n",
    "    temp_data = exp_result_data_normalized.iloc[:, 7*7*i : 7*7*i + 7*7].copy()\n",
    "#         print(temp_data)\n",
    "    temp_data_with_temp_rating = temp_data.iloc[:,[ get_emo_num(current_emo) + 7 * x for x in range(0, 7)]] # This line defined which data we use to generate the bar plot\n",
    "#     print(temp_data_with_temp_rating.head())\n",
    "#     print(temp_data_with_temp_rating.info())\n",
    "\n",
    "    if flag:\n",
    "#             print(type(df))\n",
    "        df = pd.melt(temp_data_with_temp_rating, value_vars=list(temp_data_with_temp_rating.columns),\n",
    "                 var_name='stimulus', value_name='aver. human ratings')\n",
    "        df['emotion'] = current_emo\n",
    "        flag = False\n",
    "    else:\n",
    "        temp_df = pd.melt(temp_data_with_temp_rating, value_vars=list(temp_data_with_temp_rating.columns),\n",
    "                 var_name='stimulus', value_name='aver. human ratings')\n",
    "        temp_df['emotion'] = current_emo\n",
    "        df = pd.concat([df, temp_df], axis=0)\n",
    "\n",
    "category_list = []\n",
    "cate_ = ['Prototype (mouth close)', 'Prototype (mouth open)', 'Res 1', 'Res 2', 'Res 3', 'Res 4', 'Res 5']\n",
    "for i in range(7):\n",
    "    for j in range(bar_group_num):\n",
    "        for k in range(40):\n",
    "            category_list.append(cate_[j])\n",
    "df['category']=category_list\n",
    "\n",
    "stim_name = [i for i in emo_names for _ in range(40 * bar_group_num)]\n",
    "#     print(stim_name)\n",
    "df['stimulus']=stim_name\n",
    "# print(df)\n",
    "# print(df.info())\n",
    "fig, ax = plt.subplots(figsize=(14, 8)) # set figure size\n",
    "fig.set_facecolor('white') # set background color\n",
    "#         plt.xlabel('stimulus')\n",
    "#         plt.ylabel('aver. human ratings')\n",
    "plt.xlim(-0.05, 1.05)\n",
    "plt.ylim(-0.05, 1.05)\n",
    "#         plt.title(current_emo, y=-0.12)\n",
    "plt.legend()\n",
    "print('error bar means  95% confidence interval')\n",
    "ax = sns.barplot(x=\"stimulus\", y=\"aver. human ratings\", hue='category',  data=df, estimator=np.mean, ci=95, capsize=.05)\n",
    "plt.show()\n",
    "fig.savefig('meanfor7_normalized.png', dpi=300)\n",
    "\n",
    "# multiple_analysis_with_fig(7)"
   ]
  },
  {
   "cell_type": "markdown",
   "id": "6880d9fc-8640-4b88-adc5-deaf21898900",
   "metadata": {},
   "source": [
    "# average_data 2 columns"
   ]
  },
  {
   "cell_type": "code",
   "execution_count": 122,
   "id": "eca1994c-a4ff-4b83-ba9b-6667dee9b666",
   "metadata": {},
   "outputs": [
    {
     "name": "stderr",
     "output_type": "stream",
     "text": [
      "No handles with labels found to put in legend.\n"
     ]
    },
    {
     "name": "stdout",
     "output_type": "stream",
     "text": [
      "current emo is  anger\n",
      "current emo is  disgust\n",
      "current emo is  fear\n",
      "current emo is  happiness\n",
      "current emo is  sadness\n",
      "current emo is  surprise\n",
      "current emo is  neutral\n",
      "error bar means  95% confidence interval\n"
     ]
    },
    {
     "data": {
      "image/png": "[encoded data removed]",
      "text/plain": [
       "<Figure size 1008x576 with 1 Axes>"
      ]
     },
     "metadata": {},
     "output_type": "display_data"
    }
   ],
   "source": [
    "# def multiple_analysis_with_fig(bar_group_num = 2):\n",
    "#     emo_names = 'Anger*, Disgust*, Fear, Happiness*, Sadness*, Surprise*, Neutral'.lower().split(', ')\n",
    "bar_group_num = 2\n",
    "emo_names = 'Anger, Disgust, Fear, Happiness, Sadness, Surprise, Neutral'.lower().split(', ')\n",
    "#     print(' Anger - 1 - 怒り,\\n disgust 6 - 嫌悪,\\n fear - 2 - 恐怖,\\n happiness - 3 - 幸福, \\n sadness - 4 - 悲しみ, \\n surprise - 5 - 驚き,\\n neutral - 7 - 中性')\n",
    "#     print(total_data.iloc[0:2, :])\n",
    "df = []\n",
    "flag = True\n",
    "for i in range(7):\n",
    "    current_emo = emo_names[i]\n",
    "    print('current emo is ', current_emo)\n",
    "    temp_data = average_data.iloc[:, 2*7*i : 2*7*i + 2*7].copy()\n",
    "#         print(temp_data)\n",
    "    temp_data_with_temp_rating = temp_data.iloc[:,[ get_emo_num(current_emo) + 7 * x for x in [0, 1]]] # This line defined which data we use to generate the bar plot\n",
    "#     print(temp_data_with_temp_rating.head())\n",
    "#     print(temp_data_with_temp_rating.info())\n",
    "\n",
    "    if flag:\n",
    "#             print(type(df))\n",
    "        df = pd.melt(temp_data_with_temp_rating, value_vars=list(temp_data_with_temp_rating.columns),\n",
    "                 var_name='stimulus', value_name='aver. human ratings')\n",
    "        df['emotion'] = current_emo\n",
    "        flag = False\n",
    "    else:\n",
    "        temp_df = pd.melt(temp_data_with_temp_rating, value_vars=list(temp_data_with_temp_rating.columns),\n",
    "                 var_name='stimulus', value_name='aver. human ratings')\n",
    "        temp_df['emotion'] = current_emo\n",
    "        df = pd.concat([df, temp_df], axis=0)\n",
    "\n",
    "category_list = []\n",
    "cate_ = ['Prototype_aver', 'Res_aver']\n",
    "for i in range(7):\n",
    "    for j in range(bar_group_num):\n",
    "        for k in range(40):\n",
    "            category_list.append(cate_[j])\n",
    "df['category']=category_list\n",
    "\n",
    "stim_name = [i for i in emo_names for _ in range(40 * bar_group_num)]\n",
    "#     print(stim_name)\n",
    "df['stimulus']=stim_name\n",
    "# print(df.iloc[360:420])\n",
    "# print(df.info())\n",
    "fig, ax = plt.subplots(figsize=(14, 8)) # set figure size\n",
    "fig.set_facecolor('white') # set background color\n",
    "#         plt.xlabel('stimulus')\n",
    "#         plt.ylabel('aver. human ratings')\n",
    "plt.xlim(-0.05, 1.05)\n",
    "plt.ylim(0.8, 7.2)\n",
    "#         plt.title(current_emo, y=-0.12)\n",
    "plt.legend()\n",
    "print('error bar means  95% confidence interval')\n",
    "ax = sns.barplot(x=\"stimulus\", y=\"aver. human ratings\", hue='category',  data=df, estimator=np.mean, ci=95, capsize=.05)\n",
    "plt.show()\n",
    "fig.savefig('meanfor_average_2.png', dpi=300)\n"
   ]
  },
  {
   "cell_type": "markdown",
   "id": "1d2e5f63-3fe9-41de-954a-0edbe81c3c42",
   "metadata": {},
   "source": [
    "# average_data 2 columns with norm"
   ]
  },
  {
   "cell_type": "code",
   "execution_count": 144,
   "id": "f4737552-96f2-4abf-ac08-1a641b2e7cd5",
   "metadata": {},
   "outputs": [
    {
     "name": "stderr",
     "output_type": "stream",
     "text": [
      "No handles with labels found to put in legend.\n"
     ]
    },
    {
     "name": "stdout",
     "output_type": "stream",
     "text": [
      "current emo is  anger\n",
      "current emo is  disgust\n",
      "current emo is  fear\n",
      "current emo is  happiness\n",
      "current emo is  sadness\n",
      "current emo is  surprise\n",
      "current emo is  neutral\n",
      "   stimulus  aver. human ratings  emotion             category\n",
      "0     anger                0.129    anger  Prototype_aver_norm\n",
      "1     anger                0.150    anger  Prototype_aver_norm\n",
      "2     anger                0.172    anger  Prototype_aver_norm\n",
      "3     anger                0.100    anger  Prototype_aver_norm\n",
      "4     anger                0.208    anger  Prototype_aver_norm\n",
      "..      ...                  ...      ...                  ...\n",
      "75  neutral                0.500  neutral        Res_aver_norm\n",
      "76  neutral                0.133  neutral        Res_aver_norm\n",
      "77  neutral                0.500  neutral        Res_aver_norm\n",
      "78  neutral                0.364  neutral        Res_aver_norm\n",
      "79  neutral                0.455  neutral        Res_aver_norm\n",
      "\n",
      "[560 rows x 4 columns]\n",
      "error bar means  95% confidence interval\n"
     ]
    },
    {
     "data": {
      "image/png": "[encoded data removed]",
      "text/plain": [
       "<Figure size 1008x576 with 1 Axes>"
      ]
     },
     "metadata": {},
     "output_type": "display_data"
    }
   ],
   "source": [
    "# def multiple_analysis_with_fig(bar_group_num = 2):\n",
    "#     emo_names = 'Anger*, Disgust*, Fear, Happiness*, Sadness*, Surprise*, Neutral'.lower().split(', ')\n",
    "bar_group_num = 2\n",
    "emo_names = 'Anger, Disgust, Fear, Happiness, Sadness, Surprise, Neutral'.lower().split(', ')\n",
    "#     print(' Anger - 1 - 怒り,\\n disgust 6 - 嫌悪,\\n fear - 2 - 恐怖,\\n happiness - 3 - 幸福, \\n sadness - 4 - 悲しみ, \\n surprise - 5 - 驚き,\\n neutral - 7 - 中性')\n",
    "#     print(total_data.iloc[0:2, :])\n",
    "df = []\n",
    "flag = True\n",
    "for i in range(7):\n",
    "    current_emo = emo_names[i]\n",
    "    print('current emo is ', current_emo)\n",
    "    temp_data = average_data_norm.iloc[:, 2*7*i : 2*7*i + 2*7].copy()\n",
    "#         print(temp_data)\n",
    "    temp_data_with_temp_rating = temp_data.iloc[:,[ get_emo_num(current_emo) + 7 * x for x in range(0, 2)]] # This line defined which data we use to generate the bar plot\n",
    "#     print(temp_data_with_temp_rating.head())\n",
    "#     print(temp_data_with_temp_rating.info())\n",
    "\n",
    "    if flag:\n",
    "#             print(type(df))\n",
    "        df = pd.melt(temp_data_with_temp_rating, value_vars=list(temp_data_with_temp_rating.columns),\n",
    "                 var_name='stimulus', value_name='aver. human ratings')\n",
    "        df['emotion'] = current_emo\n",
    "        flag = False\n",
    "    else:\n",
    "        temp_df = pd.melt(temp_data_with_temp_rating, value_vars=list(temp_data_with_temp_rating.columns),\n",
    "                 var_name='stimulus', value_name='aver. human ratings')\n",
    "        temp_df['emotion'] = current_emo\n",
    "        df = pd.concat([df, temp_df], axis=0)\n",
    "\n",
    "category_list = []\n",
    "cate_ = ['Prototype_aver_norm', 'Res_aver_norm']\n",
    "for i in range(7):\n",
    "    for j in range(bar_group_num):\n",
    "        for k in range(40):\n",
    "            category_list.append(cate_[j])\n",
    "df['category']=category_list\n",
    "\n",
    "stim_name = [i for i in emo_names for _ in range(40 * bar_group_num)]\n",
    "#     print(stim_name)\n",
    "df['stimulus']=stim_name\n",
    "print(df)\n",
    "# print(df.info())\n",
    "fig, ax = plt.subplots(figsize=(14, 8)) # set figure size\n",
    "fig.set_facecolor('white') # set background color\n",
    "#         plt.xlabel('stimulus')\n",
    "#         plt.ylabel('aver. human ratings')\n",
    "plt.xlim(-0.05, 1.05)\n",
    "plt.ylim(0.0, 0.6)\n",
    "#         plt.title(current_emo, y=-0.12)\n",
    "plt.legend()\n",
    "print('error bar means  95% confidence interval')\n",
    "ax = sns.barplot(x=\"stimulus\", y=\"aver. human ratings\", hue='category',  data=df, estimator=np.mean, ci=95, capsize=.05)\n",
    "plt.show()\n",
    "fig.savefig('meanfor_average_2_normalized.png', dpi=300)\n"
   ]
  }
 ],
 "metadata": {
  "kernelspec": {
   "display_name": "pyfeat",
   "language": "python",
   "name": "pyfeat"
  },
  "language_info": {
   "codemirror_mode": {
    "name": "ipython",
    "version": 3
   },
   "file_extension": ".py",
   "mimetype": "text/x-python",
   "name": "python",
   "nbconvert_exporter": "python",
   "pygments_lexer": "ipython3",
   "version": "3.8.3"
  }
 },
 "nbformat": 4,
 "nbformat_minor": 5
}
