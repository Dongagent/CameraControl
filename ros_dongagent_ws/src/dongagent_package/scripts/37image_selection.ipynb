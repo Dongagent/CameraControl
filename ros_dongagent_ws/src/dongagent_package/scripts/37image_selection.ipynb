{
 "cells": [
  {
   "cell_type": "code",
   "execution_count": 1,
   "metadata": {},
   "outputs": [
    {
     "name": "stdout",
     "output_type": "stream",
     "text": [
      "0.985665765813916\n",
      "0.014334234186084038\n"
     ]
    }
   ],
   "source": [
    "# basic test\n",
    "import numpy as np\n",
    "from scipy.spatial import distance\n",
    "\n",
    "def cal_cosine_distance(x, y):\n",
    "    dist = distance.cosine(x, y)\n",
    "    return dist\n",
    "\n",
    "a = np.array([1, 1, 2, 3, 4])\n",
    "b = np.array([1, 2, 2, 3, 4])\n",
    "\n",
    "c = a.dot(b)/(np.linalg.norm(a) * np.linalg.norm(b)) # higher -> more similar\n",
    "d = cal_cosine_distance(a, b) # smaller -> more similar\n",
    "\n",
    "print(c)\n",
    "print(d) "
   ]
  },
  {
   "cell_type": "markdown",
   "metadata": {},
   "source": [
    "# prepared functions"
   ]
  },
  {
   "cell_type": "code",
   "execution_count": 4,
   "metadata": {},
   "outputs": [],
   "source": [
    "\n",
    "import os\n",
    "import pandas as pd\n",
    "import copy\n",
    "import numpy as np\n",
    "from scipy.spatial import distance\n",
    "from PIL import Image\n",
    "import numpy as np\n",
    "import matplotlib.pyplot as plt\n",
    "\n",
    "# \n",
    "def cal_cosine_distance(x, y):\n",
    "    # The smaller value, the more similar for x and y\n",
    "    dist = distance.cosine(x, y)\n",
    "    return dist\n",
    "\n",
    "def cal_cosine_similarity(x, y):\n",
    "    # The bigger value, the more similar for x and y\n",
    "    sim = 1 - distance.cosine(x, y)\n",
    "    return sim\n",
    "\n",
    "def get_img_array(path, show=False):\n",
    "    tmp_img = Image.open(path)\n",
    "    # reshape to (320, 240)\n",
    "    tmp_img_reshape = tmp_img.resize((320, 240))\n",
    "    \n",
    "    if show:\n",
    "        # Display the image\n",
    "        plt.imshow(tmp_img_reshape)\n",
    "        plt.axis('off')  # Turn off axis numbers\n",
    "        plt.show()\n",
    "    \n",
    "    # convert the images to (R,G,B) arrays\n",
    "    tmp_img_array = np.array(tmp_img_reshape)\n",
    "    \n",
    "    # flatten the arrays so they are 1 dimensional vectors\n",
    "    tmp_img_array = tmp_img_array.flatten()\n",
    "    \n",
    "    # divide the arrays by 255, the maximum RGB value to make sure every value is on a 0-1 scale\n",
    "    tmp_img_array = tmp_img_array/255\n",
    "    \n",
    "    return tmp_img_array\n",
    "\n",
    "# rescale the distance value\n",
    "def rescale(result):\n",
    "    test = copy.deepcopy(result)\n",
    "    sorted_test = sorted(test.items(), key=lambda item: item[1][2], reverse = True)\n",
    "    print('max is:', sorted_test[0][1][2], '\\nmin is:', sorted_test[-1][1][2])\n",
    "    max_v = sorted_test[0][1][2]\n",
    "    min_v = sorted_test[-1][1][2]\n",
    "    print('rescaling...')\n",
    "#     print(len(sorted_test))\n",
    "    for i in range(len(sorted_test)):\n",
    "        sorted_test[i][1][2] = (sorted_test[i][1][2] - min_v) / (max_v - min_v)\n",
    "    print('rescaled.')\n",
    "    return sorted_test\n",
    "\n",
    "def get_target(emotion_name):\n",
    "    # Anger, Disgust, Fear, Happiness, Sadness, Surprise, Neutral\n",
    "    # or lowercase\n",
    "    if emotion_name in [\"Anger\", \"anger\"]:\n",
    "        return 0\n",
    "    elif emotion_name in [\"Disgust\", \"disgust\"]:\n",
    "        return 1\n",
    "    elif emotion_name in [\"Fear\", \"fear\"]:\n",
    "        return 2\n",
    "    elif emotion_name in [\"Happiness\", \"happiness\"]:\n",
    "        return 3\n",
    "    elif emotion_name in [\"Sadness\", \"sadness\"]:\n",
    "        return 4\n",
    "    elif emotion_name in [\"Surprise\", \"surprise\"]:\n",
    "        return 5\n",
    "    elif emotion_name in [\"Neutral\", \"neutral\"]:\n",
    "        return 6\n"
   ]
  },
  {
   "cell_type": "markdown",
   "metadata": {},
   "source": [
    "# main loop for dealing with cosine distance "
   ]
  },
  {
   "cell_type": "code",
   "execution_count": 1,
   "metadata": {},
   "outputs": [
    {
     "name": "stdout",
     "output_type": "stream",
     "text": [
      "Python 3.7.12\n",
      "py-feat                       0.3.7\n"
     ]
    }
   ],
   "source": [
    "!python --version\n",
    "!pip list | grep feat"
   ]
  },
  {
   "cell_type": "code",
   "execution_count": 4,
   "metadata": {},
   "outputs": [
    {
     "name": "stdout",
     "output_type": "stream",
     "text": [
      "   Unnamed: 0     anger   disgust      fear  happiness   sadness  surprise  \\\n",
      "0           0  0.004275  0.001697  0.015044    0.09833  0.014817  0.723541   \n",
      "\n",
      "    neutral                                              input  \n",
      "0  0.142297  image_analysis/anger/2023_12_19_11_39_37_anger...  \n",
      "   Unnamed: 0     anger   disgust      fear  happiness   sadness  surprise  \\\n",
      "0           0  0.007325  0.000414  0.004266   0.021711  0.003262  0.842857   \n",
      "\n",
      "    neutral                                              input  \n",
      "0  0.120165  image_analysis/anger/2023_12_19_14_49_07_anger...  \n"
     ]
    }
   ],
   "source": [
    "a = 'image_analysis/Exp_collections/211223ExpHumanoidRaw/Exp7HumanoidRaw/anger/2021_12_23_15_32_24_anger_792_emotion.csv'\n",
    "a = 'image_analysis/231218Exp15NewFeat/anger/2023_12_19_11_39_37_anger_0_emotion.csv'\n",
    "s = pd.read_csv(a)\n",
    "print(s)\n",
    "\n",
    "b = 'image_analysis/231219Exp16Feat037/anger/2023_12_19_14_49_07_anger_0_emotion.csv'\n",
    "ss = pd.read_csv(b)\n",
    "print(ss)"
   ]
  },
  {
   "cell_type": "markdown",
   "metadata": {},
   "source": [
    "# new Py-Feat anylyze again"
   ]
  },
  {
   "cell_type": "code",
   "execution_count": 2,
   "metadata": {},
   "outputs": [
    {
     "name": "stderr",
     "output_type": "stream",
     "text": [
      "/home/dongagent/anaconda3/envs/py37pyfeat1/lib/python3.7/site-packages/nilearn/datasets/__init__.py:96: FutureWarning: Fetchers from the nilearn.datasets module will be updated in version 0.9 to return python strings instead of bytes and Pandas dataframes instead of Numpy arrays.\n",
      "  \"Numpy arrays.\", FutureWarning)\n",
      "/home/dongagent/anaconda3/envs/py37pyfeat1/lib/python3.7/site-packages/torch/cuda/__init__.py:52: UserWarning: CUDA initialization: CUDA unknown error - this may be due to an incorrectly set up environment, e.g. changing env variable CUDA_VISIBLE_DEVICES after program start. Setting the available devices to be zero. (Triggered internally at  /pytorch/c10/cuda/CUDAFunctions.cpp:100.)\n",
      "  return torch._C._cuda_getDeviceCount() > 0\n"
     ]
    },
    {
     "name": "stdout",
     "output_type": "stream",
     "text": [
      "Loading Face Detection model:  retinaface\n",
      "Using downloaded and verified file: /home/dongagent/anaconda3/envs/py37pyfeat1/lib/python3.7/site-packages/py_feat-0.3.7-py3.7.egg/feat/resources/mobilenet0.25_Final.pth\n",
      "Using downloaded and verified file: /home/dongagent/anaconda3/envs/py37pyfeat1/lib/python3.7/site-packages/py_feat-0.3.7-py3.7.egg/feat/resources/mobilefacenet_model_best.pth.tar\n",
      "Using downloaded and verified file: /home/dongagent/anaconda3/envs/py37pyfeat1/lib/python3.7/site-packages/py_feat-0.3.7-py3.7.egg/feat/resources/hog_pca_all_emotio.joblib\n",
      "Using downloaded and verified file: /home/dongagent/anaconda3/envs/py37pyfeat1/lib/python3.7/site-packages/py_feat-0.3.7-py3.7.egg/feat/resources/hog_pca_all_emotio.joblib\n",
      "Using downloaded and verified file: /home/dongagent/anaconda3/envs/py37pyfeat1/lib/python3.7/site-packages/py_feat-0.3.7-py3.7.egg/feat/resources/hog_scalar_aus.joblib\n",
      "Using downloaded and verified file: /home/dongagent/anaconda3/envs/py37pyfeat1/lib/python3.7/site-packages/py_feat-0.3.7-py3.7.egg/feat/resources/RF_568.joblib\n",
      "Using downloaded and verified file: /home/dongagent/anaconda3/envs/py37pyfeat1/lib/python3.7/site-packages/py_feat-0.3.7-py3.7.egg/feat/resources/hog_pca_all_emotio.joblib\n",
      "Using downloaded and verified file: /home/dongagent/anaconda3/envs/py37pyfeat1/lib/python3.7/site-packages/py_feat-0.3.7-py3.7.egg/feat/resources/hog_scalar_aus.joblib\n",
      "Using downloaded and verified file: /home/dongagent/anaconda3/envs/py37pyfeat1/lib/python3.7/site-packages/py_feat-0.3.7-py3.7.egg/feat/resources/ResMaskNet_Z_resmasking_dropout1_rot30.pth\n",
      "Loading Face Landmark model:  mobilefacenet\n",
      "Loading au model:  rf\n"
     ]
    },
    {
     "name": "stderr",
     "output_type": "stream",
     "text": [
      "/home/dongagent/anaconda3/envs/py37pyfeat1/lib/python3.7/site-packages/sklearn/base.py:333: UserWarning: Trying to unpickle estimator PCA from version 0.24.1 when using version 1.0.1. This might lead to breaking code or invalid results. Use at your own risk. For more info please refer to:\n",
      "https://scikit-learn.org/stable/modules/model_persistence.html#security-maintainability-limitations\n",
      "  UserWarning,\n",
      "/home/dongagent/anaconda3/envs/py37pyfeat1/lib/python3.7/site-packages/sklearn/base.py:333: UserWarning: Trying to unpickle estimator DecisionTreeClassifier from version 0.24.1 when using version 1.0.1. This might lead to breaking code or invalid results. Use at your own risk. For more info please refer to:\n",
      "https://scikit-learn.org/stable/modules/model_persistence.html#security-maintainability-limitations\n",
      "  UserWarning,\n",
      "/home/dongagent/anaconda3/envs/py37pyfeat1/lib/python3.7/site-packages/sklearn/base.py:333: UserWarning: Trying to unpickle estimator RandomForestClassifier from version 0.24.1 when using version 1.0.1. This might lead to breaking code or invalid results. Use at your own risk. For more info please refer to:\n",
      "https://scikit-learn.org/stable/modules/model_persistence.html#security-maintainability-limitations\n",
      "  UserWarning,\n",
      "/home/dongagent/anaconda3/envs/py37pyfeat1/lib/python3.7/site-packages/sklearn/base.py:333: UserWarning: Trying to unpickle estimator StandardScaler from version 0.24.1 when using version 1.0.1. This might lead to breaking code or invalid results. Use at your own risk. For more info please refer to:\n",
      "https://scikit-learn.org/stable/modules/model_persistence.html#security-maintainability-limitations\n",
      "  UserWarning,\n"
     ]
    },
    {
     "name": "stdout",
     "output_type": "stream",
     "text": [
      "Loading emotion model:  resmasknet\n"
     ]
    }
   ],
   "source": [
    "from feat import Detector\n",
    "\n",
    "detector = Detector(emotion_model = \"resmasknet\", landmark_model='mobilefacenet')\n",
    "\n"
   ]
  },
  {
   "cell_type": "code",
   "execution_count": 5,
   "metadata": {},
   "outputs": [
    {
     "name": "stdout",
     "output_type": "stream",
     "text": [
      "old feat emo finished\n",
      "new ver image old feat analyze finished\n",
      "old feat emo finished\n",
      "new ver image old feat analyze finished\n",
      "old feat emo finished\n",
      "new ver image old feat analyze finished\n",
      "old feat emo finished\n",
      "new ver image old feat analyze finished\n",
      "old feat emo finished\n",
      "new ver image old feat analyze finished\n",
      "old feat emo finished\n",
      "new ver image old feat analyze finished\n"
     ]
    }
   ],
   "source": [
    "import copy\n",
    "import os\n",
    "\n",
    "ALL_dic = {}\n",
    "# for target_emotion in ['anger']:\n",
    "for target_emotion in ['anger', 'disgust', 'fear', 'happiness', 'sadness', 'surprise']:\n",
    "    result_dic = {}\n",
    "    folderName = os.path.join('image_analysis/231219Exp16Feat037/', target_emotion)\n",
    "    ls_name = os.listdir(folderName)\n",
    "    for i in ls_name:\n",
    "        if 'emotion' in i:\n",
    "            mypath = os.path.join(folderName, i)\n",
    "            \n",
    "            # feat analyze\n",
    "#             df = detector.detect_image(mypath)\n",
    "#             result = df[target_emotion][0] \n",
    "            \n",
    "            # csv analyze\n",
    "            temp = pd.read_csv(mypath)\n",
    "            result = temp[target_emotion][0]\n",
    "            result = round(result, 6)\n",
    "            fileName = temp['input'][0]\n",
    "            result_dic[os.path.join(folderName, i[:-12] + '.png')] = result\n",
    "    print('old feat emo finished')\n",
    "    \n",
    "\n",
    "    folderName = os.path.join('image_analysis/231218Exp15NewFeat/', target_emotion)\n",
    "    ls_name = os.listdir(folderName)\n",
    "    count = 0\n",
    "    for i in ls_name:\n",
    "        if 'png' in i:\n",
    "            mypath = os.path.join(folderName, i)\n",
    "            \n",
    "            # feat analyze\n",
    "            df = detector.detect_image(mypath)\n",
    "            result = df[target_emotion][0] \n",
    "            \n",
    "            # csv analyze\n",
    "#             temp = pd.read_csv(mypath)\n",
    "#             result = temp[target_emotion][0]\n",
    "            result = round(result, 6)\n",
    "            fileName = df['input'][0]\n",
    "            result_dic[fileName] = result\n",
    "            \n",
    "#             count += 1\n",
    "#             if count > 10:\n",
    "#                 break\n",
    "    print('new ver image old feat analyze finished')\n",
    "    ALL_dic[target_emotion] = copy.deepcopy(result_dic)\n",
    "    "
   ]
  },
  {
   "cell_type": "code",
   "execution_count": 8,
   "metadata": {},
   "outputs": [
    {
     "name": "stdout",
     "output_type": "stream",
     "text": [
      "{'image_analysis/231219Exp16Feat037/anger/2023_12_19_15_01_08_anger_279.png': 0.074214, 'image_analysis/231219Exp16Feat037/anger/2023_12_19_14_58_57_anger_233.png': 0.075164, 'image_analysis/231219Exp16Feat037/anger/2023_12_19_15_10_46_anger_470.png': 0.208496, 'image_analysis/231219Exp16Feat037/anger/2023_12_19_14_53_03_anger_101.png': 0.788199, 'image_analysis/231219Exp16Feat037/anger/2023_12_19_14_49_18_anger_5.png': 0.157759, 'image_analysis/231219Exp16Feat037/anger/2023_12_19_14_54_16_anger_130.png': 0.244792, 'image_analysis/231219Exp16Feat037/anger/2023_12_19_15_10_07_anger_459.png': 0.775835, 'image_analysis/231219Exp16Feat037/anger/2023_12_19_14_52_03_anger_76.png': 0.155414, 'image_analysis/231219Exp16Feat037/anger/2023_12_19_14_54_03_anger_125.png': 0.420545, 'image_analysis/231219Exp16Feat037/anger/2023_12_19_15_02_51_anger_317.png': 0.007588, 'image_analysis/231219Exp16Feat037/anger/2023_12_19_15_01_02_anger_277.png': 0.193638, 'image_analysis/231219Exp16Feat037/anger/2023_12_19_14_51_31_anger_63.png': 0.724951, 'image_analysis/231219Exp16Feat037/anger/2023_12_19_15_07_04_anger_401.png': 0.308865, 'image_analysis/231219Exp16Feat037/anger/2023_12_19_14_51_38_anger_66.png': 0.43619, 'image_analysis/231219Exp16Feat037/anger/2023_12_19_14_52_49_anger_95.png': 0.037553, 'image_analysis/231219Exp16Feat037/anger/2023_12_19_14_53_37_anger_114.png': 0.553213, 'image_analysis/231219Exp16Feat037/anger/2023_12_19_15_08_24_anger_427.png': 0.677913, 'image_analysis/231219Exp16Feat037/anger/2023_12_19_14_52_13_anger_80.png': 0.702065, 'image_analysis/231219Exp16Feat037/anger/2023_12_19_15_02_47_anger_315.png': 0.003104, 'image_analysis/231219Exp16Feat037/anger/2023_12_19_14_49_20_anger_6.png': 0.011348, 'image_analysis/231219Exp16Feat037/anger/2023_12_19_14_54_26_anger_134.png': 0.007557, 'image_analysis/231219Exp16Feat037/anger/2023_12_19_15_08_49_anger_435.png': 0.01278, 'image_analysis/231219Exp16Feat037/anger/2023_12_19_14_58_00_anger_213.png': 0.794745, 'image_analysis/231219Exp16Feat037/anger/2023_12_19_14_56_05_anger_171.png': 0.327868, 'image_analysis/231219Exp16Feat037/anger/2023_12_19_15_05_52_anger_377.png': 0.060527, 'image_analysis/231219Exp16Feat037/anger/2023_12_19_14_53_40_anger_115.png': 0.808004, 'image_analysis/231219Exp16Feat037/anger/2023_12_19_15_07_59_anger_418.png': 0.738535, 'image_analysis/231219Exp16Feat037/anger/2023_12_19_15_01_26_anger_286.png': 0.691243, 'image_analysis/231219Exp16Feat037/anger/2023_12_19_14_56_27_anger_179.png': 0.62937, 'image_analysis/231219Exp16Feat037/anger/2023_12_19_15_04_05_anger_342.png': 0.810587, 'image_analysis/231219Exp16Feat037/anger/2023_12_19_14_55_21_anger_155.png': 0.158124, 'image_analysis/231219Exp16Feat037/anger/2023_12_19_15_04_25_anger_348.png': 0.761065, 'image_analysis/231219Exp16Feat037/anger/2023_12_19_14_53_50_anger_119.png': 0.766441, 'image_analysis/231219Exp16Feat037/anger/2023_12_19_14_51_16_anger_57.png': 0.776772, 'image_analysis/231219Exp16Feat037/anger/2023_12_19_15_08_28_anger_428.png': 0.707812, 'image_analysis/231219Exp16Feat037/anger/2023_12_19_15_10_27_anger_464.png': 0.530574, 'image_analysis/231219Exp16Feat037/anger/2023_12_19_15_08_59_anger_438.png': 0.028326, 'image_analysis/231219Exp16Feat037/anger/2023_12_19_14_49_31_anger_11.png': 0.194969, 'image_analysis/231219Exp16Feat037/anger/2023_12_19_14_52_01_anger_75.png': 0.019338, 'image_analysis/231219Exp16Feat037/anger/2023_12_19_14_58_49_anger_230.png': 0.877257, 'image_analysis/231219Exp16Feat037/anger/2023_12_19_15_01_18_anger_283.png': 0.838694, 'image_analysis/231219Exp16Feat037/anger/2023_12_19_15_02_38_anger_312.png': 0.850576, 'image_analysis/231219Exp16Feat037/anger/2023_12_19_14_49_24_anger_8.png': 0.005002, 'image_analysis/231219Exp16Feat037/anger/2023_12_19_15_10_33_anger_466.png': 0.705157, 'image_analysis/231219Exp16Feat037/anger/2023_12_19_15_10_22_anger_463.png': 0.465663, 'image_analysis/231219Exp16Feat037/anger/2023_12_19_14_58_34_anger_225.png': 0.798625, 'image_analysis/231219Exp16Feat037/anger/2023_12_19_15_01_44_anger_293.png': 0.609018, 'image_analysis/231219Exp16Feat037/anger/2023_12_19_15_02_24_anger_307.png': 0.003747, 'image_analysis/231219Exp16Feat037/anger/2023_12_19_15_11_11_anger_478.png': 0.650066, 'image_analysis/231219Exp16Feat037/anger/2023_12_19_15_12_02_anger_492.png': 0.677763, 'image_analysis/231219Exp16Feat037/anger/2023_12_19_15_11_21_anger_481.png': 0.706899, 'image_analysis/231219Exp16Feat037/anger/2023_12_19_14_50_47_anger_45.png': 0.579032, 'image_analysis/231219Exp16Feat037/anger/2023_12_19_14_57_43_anger_206.png': 0.801964, 'image_analysis/231219Exp16Feat037/anger/2023_12_19_14_50_27_anger_37.png': 0.716547, 'image_analysis/231219Exp16Feat037/anger/2023_12_19_15_02_27_anger_308.png': 0.793294, 'image_analysis/231219Exp16Feat037/anger/2023_12_19_14_52_08_anger_78.png': 0.663082, 'image_analysis/231219Exp16Feat037/anger/2023_12_19_14_59_11_anger_238.png': 0.706381, 'image_analysis/231219Exp16Feat037/anger/2023_12_19_15_10_37_anger_467.png': 0.726729, 'image_analysis/231219Exp16Feat037/anger/2023_12_19_14_55_46_anger_164.png': 0.822629, 'image_analysis/231219Exp16Feat037/anger/2023_12_19_14_55_11_anger_151.png': 0.110772, 'image_analysis/231219Exp16Feat037/anger/2023_12_19_14_57_23_anger_199.png': 0.750631, 'image_analysis/231219Exp16Feat037/anger/2023_12_19_15_11_15_anger_479.png': 0.734055, 'image_analysis/231219Exp16Feat037/anger/2023_12_19_14_59_00_anger_234.png': 0.773381, 'image_analysis/231219Exp16Feat037/anger/2023_12_19_15_06_11_anger_384.png': 0.722469, 'image_analysis/231219Exp16Feat037/anger/2023_12_19_14_52_24_anger_84.png': 0.178061, 'image_analysis/231219Exp16Feat037/anger/2023_12_19_14_52_19_anger_82.png': 0.777134, 'image_analysis/231219Exp16Feat037/anger/2023_12_19_15_04_18_anger_346.png': 0.484785, 'image_analysis/231219Exp16Feat037/anger/2023_12_19_15_01_49_anger_295.png': 0.07886, 'image_analysis/231219Exp16Feat037/anger/2023_12_19_14_55_49_anger_165.png': 0.739456, 'image_analysis/231219Exp16Feat037/anger/2023_12_19_15_00_31_anger_266.png': 0.699777, 'image_analysis/231219Exp16Feat037/anger/2023_12_19_14_57_53_anger_210.png': 0.710763, 'image_analysis/231219Exp16Feat037/anger/2023_12_19_14_50_38_anger_41.png': 0.815273, 'image_analysis/231219Exp16Feat037/anger/2023_12_19_15_07_19_anger_406.png': 0.748895, 'image_analysis/231219Exp16Feat037/anger/2023_12_19_15_01_10_anger_280.png': 0.080907, 'image_analysis/231219Exp16Feat037/anger/2023_12_19_15_07_37_anger_411.png': 0.719309, 'image_analysis/231219Exp16Feat037/anger/2023_12_19_15_03_28_anger_329.png': 0.821136, 'image_analysis/231219Exp16Feat037/anger/2023_12_19_15_03_35_anger_332.png': 0.15689, 'image_analysis/231219Exp16Feat037/anger/2023_12_19_14_52_47_anger_94.png': 0.733053, 'image_analysis/231219Exp16Feat037/anger/2023_12_19_15_09_35_anger_449.png': 0.575063, 'image_analysis/231219Exp16Feat037/anger/2023_12_19_14_52_42_anger_92.png': 0.578703, 'image_analysis/231219Exp16Feat037/anger/2023_12_19_14_51_28_anger_62.png': 0.062921, 'image_analysis/231219Exp16Feat037/anger/2023_12_19_15_00_39_anger_269.png': 0.720436, 'image_analysis/231219Exp16Feat037/anger/2023_12_19_15_06_07_anger_383.png': 0.282666, 'image_analysis/231219Exp16Feat037/anger/2023_12_19_15_08_13_anger_423.png': 0.039785, 'image_analysis/231219Exp16Feat037/anger/2023_12_19_14_53_13_anger_105.png': 0.025185, 'image_analysis/231219Exp16Feat037/anger/2023_12_19_14_59_34_anger_246.png': 0.017635, 'image_analysis/231219Exp16Feat037/anger/2023_12_19_14_50_51_anger_47.png': 0.013407, 'image_analysis/231219Exp16Feat037/anger/2023_12_19_14_56_32_anger_181.png': 0.732691, 'image_analysis/231219Exp16Feat037/anger/2023_12_19_15_04_47_anger_355.png': 0.081767, 'image_analysis/231219Exp16Feat037/anger/2023_12_19_15_00_03_anger_256.png': 0.663813, 'image_analysis/231219Exp16Feat037/anger/2023_12_19_15_01_47_anger_294.png': 0.661142, 'image_analysis/231219Exp16Feat037/anger/2023_12_19_14_56_08_anger_172.png': 0.538768, 'image_analysis/231219Exp16Feat037/anger/2023_12_19_14_53_52_anger_120.png': 0.043951, 'image_analysis/231219Exp16Feat037/anger/2023_12_19_15_00_56_anger_275.png': 0.68338, 'image_analysis/231219Exp16Feat037/anger/2023_12_19_14_54_51_anger_143.png': 0.00238, 'image_analysis/231219Exp16Feat037/anger/2023_12_19_15_07_00_anger_400.png': 0.860792, 'image_analysis/231219Exp16Feat037/anger/2023_12_19_15_09_28_anger_447.png': 0.00507, 'image_analysis/231219Exp16Feat037/anger/2023_12_19_14_53_59_anger_123.png': 0.003406, 'image_analysis/231219Exp16Feat037/anger/2023_12_19_15_08_18_anger_425.png': 0.548219, 'image_analysis/231219Exp16Feat037/anger/2023_12_19_15_10_15_anger_461.png': 0.71935, 'image_analysis/231219Exp16Feat037/anger/2023_12_19_14_55_04_anger_148.png': 0.416707, 'image_analysis/231219Exp16Feat037/anger/2023_12_19_14_54_11_anger_128.png': 0.009584, 'image_analysis/231219Exp16Feat037/anger/2023_12_19_14_49_09_anger_1.png': 0.042455, 'image_analysis/231219Exp16Feat037/anger/2023_12_19_14_49_15_anger_4.png': 0.360494, 'image_analysis/231219Exp16Feat037/anger/2023_12_19_14_59_16_anger_240.png': 0.017737, 'image_analysis/231219Exp16Feat037/anger/2023_12_19_15_02_42_anger_313.png': 0.446141, 'image_analysis/231219Exp16Feat037/anger/2023_12_19_15_04_59_anger_360.png': 0.079546, 'image_analysis/231219Exp16Feat037/anger/2023_12_19_15_07_47_anger_414.png': 0.823748, 'image_analysis/231219Exp16Feat037/anger/2023_12_19_14_57_11_anger_195.png': 0.467029, 'image_analysis/231219Exp16Feat037/anger/2023_12_19_15_10_19_anger_462.png': 0.740051, 'image_analysis/231219Exp16Feat037/anger/2023_12_19_14_53_57_anger_122.png': 0.101438, 'image_analysis/231219Exp16Feat037/anger/2023_12_19_15_02_18_anger_305.png': 0.141499, 'image_analysis/231219Exp16Feat037/anger/2023_12_19_15_03_08_anger_322.png': 0.059188, 'image_analysis/231219Exp16Feat037/anger/2023_12_19_15_04_28_anger_349.png': 0.293378, 'image_analysis/231219Exp16Feat037/anger/2023_12_19_14_50_00_anger_25.png': 0.068238, 'image_analysis/231219Exp16Feat037/anger/2023_12_19_14_52_22_anger_83.png': 0.37399, 'image_analysis/231219Exp16Feat037/anger/2023_12_19_15_12_19_anger_497.png': 0.808513, 'image_analysis/231219Exp16Feat037/anger/2023_12_19_15_09_05_anger_440.png': 0.596051, 'image_analysis/231219Exp16Feat037/anger/2023_12_19_15_10_56_anger_473.png': 0.707145, 'image_analysis/231219Exp16Feat037/anger/2023_12_19_14_49_39_anger_15.png': 0.147431, 'image_analysis/231219Exp16Feat037/anger/2023_12_19_15_11_51_anger_489.png': 0.752305, 'image_analysis/231219Exp16Feat037/anger/2023_12_19_15_02_59_anger_319.png': 0.673301, 'image_analysis/231219Exp16Feat037/anger/2023_12_19_14_55_35_anger_160.png': 0.691669, 'image_analysis/231219Exp16Feat037/anger/2023_12_19_15_01_12_anger_281.png': 0.672653, 'image_analysis/231219Exp16Feat037/anger/2023_12_19_15_00_34_anger_267.png': 0.002534, 'image_analysis/231219Exp16Feat037/anger/2023_12_19_14_56_21_anger_177.png': 0.576322, 'image_analysis/231219Exp16Feat037/anger/2023_12_19_15_05_11_anger_364.png': 0.00305, 'image_analysis/231219Exp16Feat037/anger/2023_12_19_14_59_45_anger_250.png': 0.012621, 'image_analysis/231219Exp16Feat037/anger/2023_12_19_15_01_32_anger_288.png': 0.655922, 'image_analysis/231219Exp16Feat037/anger/2023_12_19_15_05_58_anger_379.png': 0.091298, 'image_analysis/231219Exp16Feat037/anger/2023_12_19_15_04_12_anger_344.png': 0.730458, 'image_analysis/231219Exp16Feat037/anger/2023_12_19_15_00_36_anger_268.png': 0.003172, 'image_analysis/231219Exp16Feat037/anger/2023_12_19_15_07_10_anger_403.png': 0.079045, 'image_analysis/231219Exp16Feat037/anger/2023_12_19_15_08_07_anger_421.png': 0.099313, 'image_analysis/231219Exp16Feat037/anger/2023_12_19_15_07_40_anger_412.png': 0.415855, 'image_analysis/231219Exp16Feat037/anger/2023_12_19_15_05_41_anger_373.png': 0.767847, 'image_analysis/231219Exp16Feat037/anger/2023_12_19_15_05_05_anger_362.png': 0.009062, 'image_analysis/231219Exp16Feat037/anger/2023_12_19_15_07_22_anger_407.png': 0.689734, 'image_analysis/231219Exp16Feat037/anger/2023_12_19_15_08_01_anger_419.png': 0.009701, 'image_analysis/231219Exp16Feat037/anger/2023_12_19_15_07_07_anger_402.png': 0.608312, 'image_analysis/231219Exp16Feat037/anger/2023_12_19_14_52_45_anger_93.png': 0.78599, 'image_analysis/231219Exp16Feat037/anger/2023_12_19_14_56_16_anger_175.png': 0.767262, 'image_analysis/231219Exp16Feat037/anger/2023_12_19_15_09_08_anger_441.png': 0.015745, 'image_analysis/231219Exp16Feat037/anger/2023_12_19_15_08_57_anger_437.png': 0.762408, 'image_analysis/231219Exp16Feat037/anger/2023_12_19_14_54_22_anger_132.png': 0.677549, 'image_analysis/231219Exp16Feat037/anger/2023_12_19_14_59_22_anger_242.png': 0.728991, 'image_analysis/231219Exp16Feat037/anger/2023_12_19_14_59_43_anger_249.png': 0.737047, 'image_analysis/231219Exp16Feat037/anger/2023_12_19_15_00_51_anger_273.png': 0.744711, 'image_analysis/231219Exp16Feat037/anger/2023_12_19_14_58_03_anger_214.png': 0.639264, 'image_analysis/231219Exp16Feat037/anger/2023_12_19_14_57_50_anger_209.png': 0.481755, 'image_analysis/231219Exp16Feat037/anger/2023_12_19_15_03_37_anger_333.png': 0.032209, 'image_analysis/231219Exp16Feat037/anger/2023_12_19_15_06_05_anger_382.png': 0.211902, 'image_analysis/231219Exp16Feat037/anger/2023_12_19_14_59_51_anger_252.png': 0.736775, 'image_analysis/231219Exp16Feat037/anger/2023_12_19_15_03_43_anger_335.png': 0.591464, 'image_analysis/231219Exp16Feat037/anger/2023_12_19_14_50_42_anger_43.png': 0.005574, 'image_analysis/231219Exp16Feat037/anger/2023_12_19_15_00_48_anger_272.png': 0.569611, 'image_analysis/231219Exp16Feat037/anger/2023_12_19_14_57_14_anger_196.png': 0.748741, 'image_analysis/231219Exp16Feat037/anger/2023_12_19_15_01_41_anger_292.png': 0.033202, 'image_analysis/231219Exp16Feat037/anger/2023_12_19_14_57_55_anger_211.png': 0.017215, 'image_analysis/231219Exp16Feat037/anger/2023_12_19_15_12_21_anger_498.png': 0.452988, 'image_analysis/231219Exp16Feat037/anger/2023_12_19_15_11_33_anger_484.png': 0.434705, 'image_analysis/231219Exp16Feat037/anger/2023_12_19_14_57_26_anger_200.png': 0.68785, 'image_analysis/231219Exp16Feat037/anger/2023_12_19_14_54_06_anger_126.png': 0.769922, 'image_analysis/231219Exp16Feat037/anger/2023_12_19_14_51_14_anger_56.png': 0.714269, 'image_analysis/231219Exp16Feat037/anger/2023_12_19_15_00_42_anger_270.png': 0.552587, 'image_analysis/231219Exp16Feat037/anger/2023_12_19_14_59_19_anger_241.png': 0.657058, 'image_analysis/231219Exp16Feat037/anger/2023_12_19_14_56_24_anger_178.png': 0.806993, 'image_analysis/231219Exp16Feat037/anger/2023_12_19_14_57_35_anger_203.png': 0.510074, 'image_analysis/231219Exp16Feat037/anger/2023_12_19_15_02_32_anger_310.png': 0.215176, 'image_analysis/231219Exp16Feat037/anger/2023_12_19_15_09_48_anger_453.png': 0.484745, 'image_analysis/231219Exp16Feat037/anger/2023_12_19_15_12_25_anger_499.png': 0.727367, 'image_analysis/231219Exp16Feat037/anger/2023_12_19_14_56_43_anger_185.png': 0.047051, 'image_analysis/231219Exp16Feat037/anger/2023_12_19_15_09_18_anger_444.png': 0.101739, 'image_analysis/231219Exp16Feat037/anger/2023_12_19_15_04_21_anger_347.png': 0.707154, 'image_analysis/231219Exp16Feat037/anger/2023_12_19_14_51_01_anger_51.png': 0.005398, 'image_analysis/231219Exp16Feat037/anger/2023_12_19_14_52_35_anger_89.png': 0.025656, 'image_analysis/231219Exp16Feat037/anger/2023_12_19_14_50_56_anger_49.png': 0.76342, 'image_analysis/231219Exp16Feat037/anger/2023_12_19_14_58_40_anger_227.png': 0.787165, 'image_analysis/231219Exp16Feat037/anger/2023_12_19_14_57_40_anger_205.png': 0.51569, 'image_analysis/231219Exp16Feat037/anger/2023_12_19_14_51_11_anger_55.png': 0.3965, 'image_analysis/231219Exp16Feat037/anger/2023_12_19_14_59_26_anger_243.png': 0.846616, 'image_analysis/231219Exp16Feat037/anger/2023_12_19_15_05_02_anger_361.png': 0.72636, 'image_analysis/231219Exp16Feat037/anger/2023_12_19_15_06_45_anger_394.png': 0.64713, 'image_analysis/231219Exp16Feat037/anger/2023_12_19_15_11_07_anger_477.png': 0.051257, 'image_analysis/231219Exp16Feat037/anger/2023_12_19_15_11_43_anger_487.png': 0.628355, 'image_analysis/231219Exp16Feat037/anger/2023_12_19_14_50_05_anger_27.png': 0.019136, 'image_analysis/231219Exp16Feat037/anger/2023_12_19_14_54_19_anger_131.png': 0.739249, 'image_analysis/231219Exp16Feat037/anger/2023_12_19_14_49_22_anger_7.png': 0.01032, 'image_analysis/231219Exp16Feat037/anger/2023_12_19_15_08_05_anger_420.png': 0.688965, 'image_analysis/231219Exp16Feat037/anger/2023_12_19_14_54_46_anger_141.png': 0.76456, 'image_analysis/231219Exp16Feat037/anger/2023_12_19_14_50_17_anger_33.png': 0.597541, 'image_analysis/231219Exp16Feat037/anger/2023_12_19_15_05_56_anger_378.png': 0.667847, 'image_analysis/231219Exp16Feat037/anger/2023_12_19_14_59_37_anger_247.png': 0.004997, 'image_analysis/231219Exp16Feat037/anger/2023_12_19_15_05_38_anger_372.png': 0.689067, 'image_analysis/231219Exp16Feat037/anger/2023_12_19_14_50_24_anger_36.png': 0.034421, 'image_analysis/231219Exp16Feat037/anger/2023_12_19_14_50_35_anger_40.png': 0.696182, 'image_analysis/231219Exp16Feat037/anger/2023_12_19_14_51_51_anger_71.png': 0.84205, 'image_analysis/231219Exp16Feat037/anger/2023_12_19_15_11_47_anger_488.png': 0.628377, 'image_analysis/231219Exp16Feat037/anger/2023_12_19_15_10_03_anger_458.png': 0.038445, 'image_analysis/231219Exp16Feat037/anger/2023_12_19_14_55_02_anger_147.png': 0.725863, 'image_analysis/231219Exp16Feat037/anger/2023_12_19_14_58_23_anger_221.png': 0.027665, 'image_analysis/231219Exp16Feat037/anger/2023_12_19_15_11_54_anger_490.png': 0.713817, 'image_analysis/231219Exp16Feat037/anger/2023_12_19_15_06_49_anger_396.png': 0.035223, 'image_analysis/231219Exp16Feat037/anger/2023_12_19_14_54_53_anger_144.png': 0.747072, 'image_analysis/231219Exp16Feat037/anger/2023_12_19_15_07_26_anger_408.png': 0.725716, 'image_analysis/231219Exp16Feat037/anger/2023_12_19_14_49_56_anger_23.png': 0.033647, 'image_analysis/231219Exp16Feat037/anger/2023_12_19_15_08_45_anger_433.png': 0.714963, 'image_analysis/231219Exp16Feat037/anger/2023_12_19_14_56_02_anger_170.png': 0.25927, 'image_analysis/231219Exp16Feat037/anger/2023_12_19_14_52_31_anger_87.png': 0.537744, 'image_analysis/231219Exp16Feat037/anger/2023_12_19_15_10_48_anger_471.png': 0.011669, 'image_analysis/231219Exp16Feat037/anger/2023_12_19_14_51_08_anger_54.png': 0.652857, 'image_analysis/231219Exp16Feat037/anger/2023_12_19_15_00_17_anger_261.png': 0.722272, 'image_analysis/231219Exp16Feat037/anger/2023_12_19_14_54_40_anger_139.png': 0.190088, 'image_analysis/231219Exp16Feat037/anger/2023_12_19_14_49_29_anger_10.png': 0.185947, 'image_analysis/231219Exp16Feat037/anger/2023_12_19_15_03_17_anger_325.png': 0.75448, 'image_analysis/231219Exp16Feat037/anger/2023_12_19_14_58_06_anger_215.png': 0.695484, 'image_analysis/231219Exp16Feat037/anger/2023_12_19_14_50_19_anger_34.png': 0.001469, 'image_analysis/231219Exp16Feat037/anger/2023_12_19_14_56_59_anger_191.png': 0.789819, 'image_analysis/231219Exp16Feat037/anger/2023_12_19_14_58_11_anger_217.png': 0.014071, 'image_analysis/231219Exp16Feat037/anger/2023_12_19_14_54_48_anger_142.png': 0.729531, 'image_analysis/231219Exp16Feat037/anger/2023_12_19_14_57_29_anger_201.png': 0.485509, 'image_analysis/231219Exp16Feat037/anger/2023_12_19_15_05_47_anger_375.png': 0.508783, 'image_analysis/231219Exp16Feat037/anger/2023_12_19_15_11_39_anger_486.png': 0.135827, 'image_analysis/231219Exp16Feat037/anger/2023_12_19_14_56_56_anger_190.png': 0.760161, 'image_analysis/231219Exp16Feat037/anger/2023_12_19_14_51_41_anger_67.png': 0.657824, 'image_analysis/231219Exp16Feat037/anger/2023_12_19_15_06_01_anger_380.png': 0.065548, 'image_analysis/231219Exp16Feat037/anger/2023_12_19_15_01_39_anger_291.png': 0.014721, 'image_analysis/231219Exp16Feat037/anger/2023_12_19_14_57_47_anger_208.png': 0.008588, 'image_analysis/231219Exp16Feat037/anger/2023_12_19_14_50_49_anger_46.png': 0.006642, 'image_analysis/231219Exp16Feat037/anger/2023_12_19_14_57_32_anger_202.png': 0.70877, 'image_analysis/231219Exp16Feat037/anger/2023_12_19_15_02_05_anger_301.png': 0.1426, 'image_analysis/231219Exp16Feat037/anger/2023_12_19_14_52_16_anger_81.png': 0.718135, 'image_analysis/231219Exp16Feat037/anger/2023_12_19_15_10_59_anger_474.png': 0.050451, 'image_analysis/231219Exp16Feat037/anger/2023_12_19_14_50_22_anger_35.png': 0.599599, 'image_analysis/231219Exp16Feat037/anger/2023_12_19_15_06_33_anger_391.png': 0.732318, 'image_analysis/231219Exp16Feat037/anger/2023_12_19_15_08_41_anger_432.png': 0.717297, 'image_analysis/231219Exp16Feat037/anger/2023_12_19_14_49_52_anger_21.png': 0.060249, 'image_analysis/231219Exp16Feat037/anger/2023_12_19_15_07_50_anger_415.png': 0.114239, 'image_analysis/231219Exp16Feat037/anger/2023_12_19_14_53_16_anger_106.png': 0.703698, 'image_analysis/231219Exp16Feat037/anger/2023_12_19_14_55_32_anger_159.png': 0.014468, 'image_analysis/231219Exp16Feat037/anger/2023_12_19_14_59_04_anger_235.png': 0.685628, 'image_analysis/231219Exp16Feat037/anger/2023_12_19_14_55_16_anger_153.png': 0.04749, 'image_analysis/231219Exp16Feat037/anger/2023_12_19_15_07_15_anger_405.png': 0.672281, 'image_analysis/231219Exp16Feat037/anger/2023_12_19_15_05_14_anger_365.png': 0.52086, 'image_analysis/231219Exp16Feat037/anger/2023_12_19_14_51_21_anger_59.png': 0.219206, 'image_analysis/231219Exp16Feat037/anger/2023_12_19_15_05_50_anger_376.png': 0.655518, 'image_analysis/231219Exp16Feat037/anger/2023_12_19_14_51_24_anger_60.png': 0.716242, 'image_analysis/231219Exp16Feat037/anger/2023_12_19_15_04_34_anger_351.png': 0.034395, 'image_analysis/231219Exp16Feat037/anger/2023_12_19_15_09_41_anger_451.png': 0.05546, 'image_analysis/231219Exp16Feat037/anger/2023_12_19_15_12_04_anger_493.png': 0.016976, 'image_analysis/231219Exp16Feat037/anger/2023_12_19_15_07_56_anger_417.png': 0.754506, 'image_analysis/231219Exp16Feat037/anger/2023_12_19_14_53_47_anger_118.png': 0.067185, 'image_analysis/231219Exp16Feat037/anger/2023_12_19_15_05_34_anger_371.png': 0.768582, 'image_analysis/231219Exp16Feat037/anger/2023_12_19_14_56_50_anger_188.png': 0.749686, 'image_analysis/231219Exp16Feat037/anger/2023_12_19_14_52_38_anger_90.png': 0.442155, 'image_analysis/231219Exp16Feat037/anger/2023_12_19_14_56_29_anger_180.png': 0.675199, 'image_analysis/231219Exp16Feat037/anger/2023_12_19_15_03_53_anger_338.png': 0.679581, 'image_analysis/231219Exp16Feat037/anger/2023_12_19_15_09_32_anger_448.png': 0.540348, 'image_analysis/231219Exp16Feat037/anger/2023_12_19_14_53_29_anger_111.png': 0.789137, 'image_analysis/231219Exp16Feat037/anger/2023_12_19_15_11_29_anger_483.png': 0.798172, 'image_analysis/231219Exp16Feat037/anger/2023_12_19_14_50_53_anger_48.png': 0.258122, 'image_analysis/231219Exp16Feat037/anger/2023_12_19_15_07_44_anger_413.png': 0.846431, 'image_analysis/231219Exp16Feat037/anger/2023_12_19_14_49_13_anger_3.png': 0.004299, 'image_analysis/231219Exp16Feat037/anger/2023_12_19_15_08_37_anger_431.png': 0.666608, 'image_analysis/231219Exp16Feat037/anger/2023_12_19_14_54_09_anger_127.png': 0.698198, 'image_analysis/231219Exp16Feat037/anger/2023_12_19_15_04_41_anger_353.png': 0.735258, 'image_analysis/231219Exp16Feat037/anger/2023_12_19_14_55_19_anger_154.png': 0.739741, 'image_analysis/231219Exp16Feat037/anger/2023_12_19_15_10_44_anger_469.png': 0.825715, 'image_analysis/231219Exp16Feat037/anger/2023_12_19_15_05_17_anger_366.png': 0.007627, 'image_analysis/231219Exp16Feat037/anger/2023_12_19_15_04_57_anger_359.png': 0.02274, 'image_analysis/231219Exp16Feat037/anger/2023_12_19_15_01_59_anger_299.png': 0.647557, 'image_analysis/231219Exp16Feat037/anger/2023_12_19_15_12_08_anger_494.png': 0.683793, 'image_analysis/231219Exp16Feat037/anger/2023_12_19_14_56_19_anger_176.png': 0.113696, 'image_analysis/231219Exp16Feat037/anger/2023_12_19_15_02_01_anger_300.png': 0.001102, 'image_analysis/231219Exp16Feat037/anger/2023_12_19_15_02_35_anger_311.png': 0.768995, 'image_analysis/231219Exp16Feat037/anger/2023_12_19_15_03_32_anger_331.png': 0.071084, 'image_analysis/231219Exp16Feat037/anger/2023_12_19_14_55_38_anger_161.png': 0.865016, 'image_analysis/231219Exp16Feat037/anger/2023_12_19_15_05_31_anger_370.png': 0.64968, 'image_analysis/231219Exp16Feat037/anger/2023_12_19_15_06_51_anger_397.png': 0.006895, 'image_analysis/231219Exp16Feat037/anger/2023_12_19_15_03_55_anger_339.png': 0.009217, 'image_analysis/231219Exp16Feat037/anger/2023_12_19_14_55_30_anger_158.png': 0.324356, 'image_analysis/231219Exp16Feat037/anger/2023_12_19_15_00_53_anger_274.png': 0.005283, 'image_analysis/231219Exp16Feat037/anger/2023_12_19_14_51_56_anger_73.png': 0.013745, 'image_analysis/231219Exp16Feat037/anger/2023_12_19_15_12_15_anger_496.png': 0.537497, 'image_analysis/231219Exp16Feat037/anger/2023_12_19_15_02_11_anger_303.png': 0.505164, 'image_analysis/231219Exp16Feat037/anger/2023_12_19_15_10_12_anger_460.png': 0.83136, 'image_analysis/231219Exp16Feat037/anger/2023_12_19_14_56_37_anger_183.png': 0.803718, 'image_analysis/231219Exp16Feat037/anger/2023_12_19_14_58_09_anger_216.png': 0.564709, 'image_analysis/231219Exp16Feat037/anger/2023_12_19_14_53_06_anger_102.png': 0.850181, 'image_analysis/231219Exp16Feat037/anger/2023_12_19_14_53_01_anger_100.png': 0.804222, 'image_analysis/231219Exp16Feat037/anger/2023_12_19_15_04_49_anger_356.png': 0.001703, 'image_analysis/231219Exp16Feat037/anger/2023_12_19_15_06_29_anger_390.png': 0.82029, 'image_analysis/231219Exp16Feat037/anger/2023_12_19_14_58_20_anger_220.png': 0.8164, 'image_analysis/231219Exp16Feat037/anger/2023_12_19_15_07_30_anger_409.png': 0.806061, 'image_analysis/231219Exp16Feat037/anger/2023_12_19_14_56_54_anger_189.png': 0.664409, 'image_analysis/231219Exp16Feat037/anger/2023_12_19_14_58_17_anger_219.png': 0.831978, 'image_analysis/231219Exp16Feat037/anger/2023_12_19_15_05_20_anger_367.png': 0.609868, 'image_analysis/231219Exp16Feat037/anger/2023_12_19_14_49_54_anger_22.png': 0.381932, 'image_analysis/231219Exp16Feat037/anger/2023_12_19_15_06_03_anger_381.png': 0.000812, 'image_analysis/231219Exp16Feat037/anger/2023_12_19_14_52_05_anger_77.png': 0.680053, 'image_analysis/231219Exp16Feat037/anger/2023_12_19_14_55_43_anger_163.png': 0.793226, 'image_analysis/231219Exp16Feat037/anger/2023_12_19_15_01_36_anger_290.png': 0.022572, 'image_analysis/231219Exp16Feat037/anger/2023_12_19_14_51_26_anger_61.png': 0.00314, 'image_analysis/231219Exp16Feat037/anger/2023_12_19_14_52_11_anger_79.png': 0.821694, 'image_analysis/231219Exp16Feat037/anger/2023_12_19_14_50_15_anger_32.png': 0.538236, 'image_analysis/231219Exp16Feat037/anger/2023_12_19_14_58_14_anger_218.png': 0.454421, 'image_analysis/231219Exp16Feat037/anger/2023_12_19_15_02_22_anger_306.png': 0.423228, 'image_analysis/231219Exp16Feat037/anger/2023_12_19_15_10_29_anger_465.png': 0.008057, 'image_analysis/231219Exp16Feat037/anger/2023_12_19_14_54_43_anger_140.png': 0.599758, 'image_analysis/231219Exp16Feat037/anger/2023_12_19_15_06_54_anger_398.png': 0.008777, 'image_analysis/231219Exp16Feat037/anger/2023_12_19_14_57_38_anger_204.png': 0.003029, 'image_analysis/231219Exp16Feat037/anger/2023_12_19_14_50_32_anger_39.png': 0.527785, 'image_analysis/231219Exp16Feat037/anger/2023_12_19_14_54_32_anger_136.png': 0.608123, 'image_analysis/231219Exp16Feat037/anger/2023_12_19_14_53_43_anger_116.png': 0.825776, 'image_analysis/231219Exp16Feat037/anger/2023_12_19_14_59_06_anger_236.png': 0.002583, 'image_analysis/231219Exp16Feat037/anger/2023_12_19_15_03_47_anger_336.png': 0.527956, 'image_analysis/231219Exp16Feat037/anger/2023_12_19_14_51_58_anger_74.png': 0.795587, 'image_analysis/231219Exp16Feat037/anger/2023_12_19_14_59_40_anger_248.png': 0.730456, 'image_analysis/231219Exp16Feat037/anger/2023_12_19_14_59_14_anger_239.png': 0.692457, 'image_analysis/231219Exp16Feat037/anger/2023_12_19_15_07_32_anger_410.png': 0.642862, 'image_analysis/231219Exp16Feat037/anger/2023_12_19_14_54_24_anger_133.png': 0.317695, 'image_analysis/231219Exp16Feat037/anger/2023_12_19_14_54_35_anger_137.png': 0.706599, 'image_analysis/231219Exp16Feat037/anger/2023_12_19_14_59_08_anger_237.png': 0.000875, 'image_analysis/231219Exp16Feat037/anger/2023_12_19_14_56_00_anger_169.png': 0.724403, 'image_analysis/231219Exp16Feat037/anger/2023_12_19_15_01_29_anger_287.png': 0.695415, 'image_analysis/231219Exp16Feat037/anger/2023_12_19_15_11_05_anger_476.png': 0.758141, 'image_analysis/231219Exp16Feat037/anger/2023_12_19_14_49_48_anger_19.png': 0.151356, 'image_analysis/231219Exp16Feat037/anger/2023_12_19_14_55_41_anger_162.png': 0.700371, 'image_analysis/231219Exp16Feat037/anger/2023_12_19_14_50_07_anger_28.png': 0.018876, 'image_analysis/231219Exp16Feat037/anger/2023_12_19_14_53_11_anger_104.png': 0.627929, 'image_analysis/231219Exp16Feat037/anger/2023_12_19_15_03_06_anger_321.png': 0.761459, 'image_analysis/231219Exp16Feat037/anger/2023_12_19_14_52_40_anger_91.png': 0.098926, 'image_analysis/231219Exp16Feat037/anger/2023_12_19_14_49_11_anger_2.png': 0.00316, 'image_analysis/231219Exp16Feat037/anger/2023_12_19_14_57_08_anger_194.png': 0.457638, 'image_analysis/231219Exp16Feat037/anger/2023_12_19_15_01_56_anger_298.png': 0.077946, 'image_analysis/231219Exp16Feat037/anger/2023_12_19_14_51_54_anger_72.png': 0.768964, 'image_analysis/231219Exp16Feat037/anger/2023_12_19_14_52_28_anger_86.png': 0.657568, 'image_analysis/231219Exp16Feat037/anger/2023_12_19_15_03_22_anger_327.png': 0.454646, 'image_analysis/231219Exp16Feat037/anger/2023_12_19_15_11_37_anger_485.png': 0.723849, 'image_analysis/231219Exp16Feat037/anger/2023_12_19_15_00_21_anger_263.png': 0.003858, 'image_analysis/231219Exp16Feat037/anger/2023_12_19_15_11_01_anger_475.png': 0.041966, 'image_analysis/231219Exp16Feat037/anger/2023_12_19_15_06_37_anger_392.png': 0.802484, 'image_analysis/231219Exp16Feat037/anger/2023_12_19_14_56_48_anger_187.png': 0.10591, 'image_analysis/231219Exp16Feat037/anger/2023_12_19_14_59_57_anger_254.png': 0.674296, 'image_analysis/231219Exp16Feat037/anger/2023_12_19_14_52_54_anger_97.png': 0.023604, 'image_analysis/231219Exp16Feat037/anger/2023_12_19_14_49_46_anger_18.png': 0.003018, 'image_analysis/231219Exp16Feat037/anger/2023_12_19_15_02_07_anger_302.png': 0.068117, 'image_analysis/231219Exp16Feat037/anger/2023_12_19_14_51_03_anger_52.png': 0.113524, 'image_analysis/231219Exp16Feat037/anger/2023_12_19_14_50_03_anger_26.png': 0.001399, 'image_analysis/231219Exp16Feat037/anger/2023_12_19_14_53_22_anger_108.png': 0.704013, 'image_analysis/231219Exp16Feat037/anger/2023_12_19_14_58_31_anger_224.png': 0.606614, 'image_analysis/231219Exp16Feat037/anger/2023_12_19_15_01_34_anger_289.png': 0.128668, 'image_analysis/231219Exp16Feat037/anger/2023_12_19_14_59_47_anger_251.png': 0.316553, 'image_analysis/231219Exp16Feat037/anger/2023_12_19_15_02_30_anger_309.png': 0.058428, 'image_analysis/231219Exp16Feat037/anger/2023_12_19_15_06_20_anger_387.png': 0.602364, 'image_analysis/231219Exp16Feat037/anger/2023_12_19_15_06_22_anger_388.png': 0.009124, 'image_analysis/231219Exp16Feat037/anger/2023_12_19_14_56_40_anger_184.png': 0.834015, 'image_analysis/231219Exp16Feat037/anger/2023_12_19_14_49_41_anger_16.png': 0.042717, 'image_analysis/231219Exp16Feat037/anger/2023_12_19_14_51_36_anger_65.png': 0.656832, 'image_analysis/231219Exp16Feat037/anger/2023_12_19_14_58_25_anger_222.png': 0.003808, 'image_analysis/231219Exp16Feat037/anger/2023_12_19_15_03_50_anger_337.png': 0.794101, 'image_analysis/231219Exp16Feat037/anger/2023_12_19_15_11_58_anger_491.png': 0.652404, 'image_analysis/231219Exp16Feat037/anger/2023_12_19_15_05_27_anger_369.png': 0.504299, 'image_analysis/231219Exp16Feat037/anger/2023_12_19_14_52_58_anger_99.png': 0.002843, 'image_analysis/231219Exp16Feat037/anger/2023_12_19_15_04_52_anger_357.png': 0.74326, 'image_analysis/231219Exp16Feat037/anger/2023_12_19_14_51_06_anger_53.png': 0.719775, 'image_analysis/231219Exp16Feat037/anger/2023_12_19_14_53_27_anger_110.png': 0.081454, 'image_analysis/231219Exp16Feat037/anger/2023_12_19_14_59_53_anger_253.png': 0.028199, 'image_analysis/231219Exp16Feat037/anger/2023_12_19_15_06_16_anger_386.png': 0.415589, 'image_analysis/231219Exp16Feat037/anger/2023_12_19_15_02_49_anger_316.png': 0.005014, 'image_analysis/231219Exp16Feat037/anger/2023_12_19_15_04_55_anger_358.png': 0.015223, 'image_analysis/231219Exp16Feat037/anger/2023_12_19_14_52_52_anger_96.png': 0.067803, 'image_analysis/231219Exp16Feat037/anger/2023_12_19_14_54_29_anger_135.png': 0.776535, 'image_analysis/231219Exp16Feat037/anger/2023_12_19_15_06_14_anger_385.png': 0.682313, 'image_analysis/231219Exp16Feat037/anger/2023_12_19_14_58_28_anger_223.png': 0.523031, 'image_analysis/231219Exp16Feat037/anger/2023_12_19_15_08_16_anger_424.png': 0.129266, 'image_analysis/231219Exp16Feat037/anger/2023_12_19_15_09_50_anger_454.png': 0.006327, 'image_analysis/231219Exp16Feat037/anger/2023_12_19_14_54_01_anger_124.png': 0.003693, 'image_analysis/231219Exp16Feat037/anger/2023_12_19_15_03_30_anger_330.png': 0.018837, 'image_analysis/231219Exp16Feat037/anger/2023_12_19_14_49_26_anger_9.png': 0.026856, 'image_analysis/231219Exp16Feat037/anger/2023_12_19_15_09_44_anger_452.png': 0.001994, 'image_analysis/231219Exp16Feat037/anger/2023_12_19_14_50_29_anger_38.png': 0.05105, 'image_analysis/231219Exp16Feat037/anger/2023_12_19_15_03_13_anger_324.png': 0.096256, 'image_analysis/231219Exp16Feat037/anger/2023_12_19_15_04_37_anger_352.png': 0.460128, 'image_analysis/231219Exp16Feat037/anger/2023_12_19_14_55_09_anger_150.png': 0.714599, 'image_analysis/231219Exp16Feat037/anger/2023_12_19_14_58_46_anger_229.png': 0.789629, 'image_analysis/231219Exp16Feat037/anger/2023_12_19_15_04_14_anger_345.png': 0.009109, 'image_analysis/231219Exp16Feat037/anger/2023_12_19_15_03_40_anger_334.png': 0.73259, 'image_analysis/231219Exp16Feat037/anger/2023_12_19_15_08_53_anger_436.png': 0.713742, 'image_analysis/231219Exp16Feat037/anger/2023_12_19_14_57_20_anger_198.png': 0.589454, 'image_analysis/231219Exp16Feat037/anger/2023_12_19_14_51_43_anger_68.png': 0.47502, 'image_analysis/231219Exp16Feat037/anger/2023_12_19_14_58_52_anger_231.png': 0.795947, 'image_analysis/231219Exp16Feat037/anger/2023_12_19_15_00_06_anger_257.png': 0.759022, 'image_analysis/231219Exp16Feat037/anger/2023_12_19_15_11_17_anger_480.png': 0.026026, 'image_analysis/231219Exp16Feat037/anger/2023_12_19_14_56_12_anger_174.png': 0.119723, 'image_analysis/231219Exp16Feat037/anger/2023_12_19_15_00_14_anger_260.png': 0.49418, 'image_analysis/231219Exp16Feat037/anger/2023_12_19_15_09_53_anger_455.png': 0.701907, 'image_analysis/231219Exp16Feat037/anger/2023_12_19_14_49_35_anger_13.png': 0.188203, 'image_analysis/231219Exp16Feat037/anger/2023_12_19_14_49_37_anger_14.png': 0.38135, 'image_analysis/231219Exp16Feat037/anger/2023_12_19_15_01_20_anger_284.png': 0.793809, 'image_analysis/231219Exp16Feat037/anger/2023_12_19_14_49_44_anger_17.png': 0.212316, 'image_analysis/231219Exp16Feat037/anger/2023_12_19_15_06_47_anger_395.png': 0.006199, 'image_analysis/231219Exp16Feat037/anger/2023_12_19_15_03_02_anger_320.png': 0.723821, 'image_analysis/231219Exp16Feat037/anger/2023_12_19_15_00_11_anger_259.png': 0.172668, 'image_analysis/231219Exp16Feat037/anger/2023_12_19_15_01_15_anger_282.png': 0.261997, 'image_analysis/231219Exp16Feat037/anger/2023_12_19_14_59_29_anger_244.png': 0.738442, 'image_analysis/231219Exp16Feat037/anger/2023_12_19_14_56_46_anger_186.png': 0.487017, 'image_analysis/231219Exp16Feat037/anger/2023_12_19_14_57_57_anger_212.png': 0.002993, 'image_analysis/231219Exp16Feat037/anger/2023_12_19_15_09_26_anger_446.png': 0.671959, 'image_analysis/231219Exp16Feat037/anger/2023_12_19_14_53_34_anger_113.png': 0.14848, 'image_analysis/231219Exp16Feat037/anger/2023_12_19_14_53_08_anger_103.png': 0.000911, 'image_analysis/231219Exp16Feat037/anger/2023_12_19_14_53_55_anger_121.png': 0.717013, 'image_analysis/231219Exp16Feat037/anger/2023_12_19_15_07_52_anger_416.png': 0.750625, 'image_analysis/231219Exp16Feat037/anger/2023_12_19_14_55_56_anger_168.png': 0.698106, 'image_analysis/231219Exp16Feat037/anger/2023_12_19_15_00_44_anger_271.png': 0.062742, 'image_analysis/231219Exp16Feat037/anger/2023_12_19_14_54_37_anger_138.png': 0.023164, 'image_analysis/231219Exp16Feat037/anger/2023_12_19_14_55_06_anger_149.png': 0.850867, 'image_analysis/231219Exp16Feat037/anger/2023_12_19_15_05_09_anger_363.png': 0.759819, 'image_analysis/231219Exp16Feat037/anger/2023_12_19_14_55_27_anger_157.png': 0.726631, 'image_analysis/231219Exp16Feat037/anger/2023_12_19_14_50_11_anger_30.png': 0.012628, 'image_analysis/231219Exp16Feat037/anger/2023_12_19_15_08_47_anger_434.png': 0.02598, 'image_analysis/231219Exp16Feat037/anger/2023_12_19_15_06_41_anger_393.png': 0.659958, 'image_analysis/231219Exp16Feat037/anger/2023_12_19_15_06_56_anger_399.png': 0.320252, 'image_analysis/231219Exp16Feat037/anger/2023_12_19_14_58_37_anger_226.png': 0.823223, 'image_analysis/231219Exp16Feat037/anger/2023_12_19_14_56_34_anger_182.png': 0.010595, 'image_analysis/231219Exp16Feat037/anger/2023_12_19_15_01_23_anger_285.png': 0.75322, 'image_analysis/231219Exp16Feat037/anger/2023_12_19_15_08_11_anger_422.png': 0.332437, 'image_analysis/231219Exp16Feat037/anger/2023_12_19_15_04_09_anger_343.png': 0.422824, 'image_analysis/231219Exp16Feat037/anger/2023_12_19_15_00_25_anger_264.png': 0.24253, 'image_analysis/231219Exp16Feat037/anger/2023_12_19_14_49_58_anger_24.png': 0.087619, 'image_analysis/231219Exp16Feat037/anger/2023_12_19_15_01_54_anger_297.png': 0.001993, 'image_analysis/231219Exp16Feat037/anger/2023_12_19_14_55_24_anger_156.png': 0.76253, 'image_analysis/231219Exp16Feat037/anger/2023_12_19_14_59_32_anger_245.png': 0.771339, 'image_analysis/231219Exp16Feat037/anger/2023_12_19_15_02_14_anger_304.png': 0.81155, 'image_analysis/231219Exp16Feat037/anger/2023_12_19_14_53_19_anger_107.png': 0.812202, 'image_analysis/231219Exp16Feat037/anger/2023_12_19_14_52_33_anger_88.png': 0.116373, 'image_analysis/231219Exp16Feat037/anger/2023_12_19_14_50_44_anger_44.png': 0.727818, 'image_analysis/231219Exp16Feat037/anger/2023_12_19_14_50_13_anger_31.png': 0.085117, 'image_analysis/231219Exp16Feat037/anger/2023_12_19_14_51_48_anger_70.png': 0.133002, 'image_analysis/231219Exp16Feat037/anger/2023_12_19_15_08_31_anger_429.png': 0.705081, 'image_analysis/231219Exp16Feat037/anger/2023_12_19_15_00_19_anger_262.png': 0.127877, 'image_analysis/231219Exp16Feat037/anger/2023_12_19_14_56_10_anger_173.png': 0.66215, 'image_analysis/231219Exp16Feat037/anger/2023_12_19_15_02_45_anger_314.png': 0.510565, 'image_analysis/231219Exp16Feat037/anger/2023_12_19_15_10_40_anger_468.png': 0.729079, 'image_analysis/231219Exp16Feat037/anger/2023_12_19_14_51_46_anger_69.png': 0.862081, 'image_analysis/231219Exp16Feat037/anger/2023_12_19_14_51_33_anger_64.png': 0.756216, 'image_analysis/231219Exp16Feat037/anger/2023_12_19_14_55_54_anger_167.png': 0.001464, 'image_analysis/231219Exp16Feat037/anger/2023_12_19_15_09_21_anger_445.png': 0.613404, 'image_analysis/231219Exp16Feat037/anger/2023_12_19_15_03_25_anger_328.png': 0.008017, 'image_analysis/231219Exp16Feat037/anger/2023_12_19_15_09_01_anger_439.png': 0.169597, 'image_analysis/231219Exp16Feat037/anger/2023_12_19_14_58_43_anger_228.png': 0.542402, 'image_analysis/231219Exp16Feat037/anger/2023_12_19_15_03_19_anger_326.png': 0.020269, 'image_analysis/231219Exp16Feat037/anger/2023_12_19_14_51_19_anger_58.png': 0.8548, 'image_analysis/231219Exp16Feat037/anger/2023_12_19_14_57_17_anger_197.png': 0.714764, 'image_analysis/231219Exp16Feat037/anger/2023_12_19_15_04_32_anger_350.png': 0.624269, 'image_analysis/231219Exp16Feat037/anger/2023_12_19_15_09_39_anger_450.png': 0.688183, 'image_analysis/231219Exp16Feat037/anger/2023_12_19_14_53_45_anger_117.png': 0.300832, 'image_analysis/231219Exp16Feat037/anger/2023_12_19_14_54_56_anger_145.png': 0.784815, 'image_analysis/231219Exp16Feat037/anger/2023_12_19_14_52_26_anger_85.png': 0.018644, 'image_analysis/231219Exp16Feat037/anger/2023_12_19_15_01_00_anger_276.png': 0.753793, 'image_analysis/231219Exp16Feat037/anger/2023_12_19_15_00_09_anger_258.png': 0.767484, 'image_analysis/231219Exp16Feat037/anger/2023_12_19_15_02_55_anger_318.png': 0.749729, 'image_analysis/231219Exp16Feat037/anger/2023_12_19_14_50_59_anger_50.png': 0.732402, 'image_analysis/231219Exp16Feat037/anger/2023_12_19_15_05_23_anger_368.png': 0.697455, 'image_analysis/231219Exp16Feat037/anger/2023_12_19_14_53_25_anger_109.png': 0.734049, 'image_analysis/231219Exp16Feat037/anger/2023_12_19_15_01_05_anger_278.png': 0.647454, 'image_analysis/231219Exp16Feat037/anger/2023_12_19_14_52_56_anger_98.png': 0.254826, 'image_analysis/231219Exp16Feat037/anger/2023_12_19_15_00_00_anger_255.png': 0.786418, 'image_analysis/231219Exp16Feat037/anger/2023_12_19_15_07_12_anger_404.png': 0.082871, 'image_analysis/231219Exp16Feat037/anger/2023_12_19_14_57_45_anger_207.png': 0.014111, 'image_analysis/231219Exp16Feat037/anger/2023_12_19_15_09_11_anger_442.png': 0.695687, 'image_analysis/231219Exp16Feat037/anger/2023_12_19_14_57_02_anger_192.png': 0.728616, 'image_analysis/231219Exp16Feat037/anger/2023_12_19_15_01_52_anger_296.png': 0.010921, 'image_analysis/231219Exp16Feat037/anger/2023_12_19_15_03_11_anger_323.png': 0.754531, 'image_analysis/231219Exp16Feat037/anger/2023_12_19_14_55_51_anger_166.png': 0.227145, 'image_analysis/231219Exp16Feat037/anger/2023_12_19_14_55_14_anger_152.png': 0.704388, 'image_analysis/231219Exp16Feat037/anger/2023_12_19_15_03_59_anger_340.png': 0.529054, 'image_analysis/231219Exp16Feat037/anger/2023_12_19_14_54_13_anger_129.png': 0.79496, 'image_analysis/231219Exp16Feat037/anger/2023_12_19_15_06_26_anger_389.png': 0.748842, 'image_analysis/231219Exp16Feat037/anger/2023_12_19_14_57_05_anger_193.png': 0.255917, 'image_analysis/231219Exp16Feat037/anger/2023_12_19_15_05_43_anger_374.png': 0.384819, 'image_analysis/231219Exp16Feat037/anger/2023_12_19_14_49_33_anger_12.png': 0.275732, 'image_analysis/231219Exp16Feat037/anger/2023_12_19_15_08_34_anger_430.png': 0.08938, 'image_analysis/231219Exp16Feat037/anger/2023_12_19_15_00_28_anger_265.png': 0.579383, 'image_analysis/231219Exp16Feat037/anger/2023_12_19_14_50_40_anger_42.png': 0.021023, 'image_analysis/231219Exp16Feat037/anger/2023_12_19_14_49_07_anger_0.png': 0.007325, 'image_analysis/231219Exp16Feat037/anger/2023_12_19_14_58_55_anger_232.png': 0.79757, 'image_analysis/231219Exp16Feat037/anger/2023_12_19_15_04_02_anger_341.png': 0.720246, 'image_analysis/231219Exp16Feat037/anger/2023_12_19_15_10_01_anger_457.png': 0.622551, 'image_analysis/231219Exp16Feat037/anger/2023_12_19_14_49_50_anger_20.png': 0.008046, 'image_analysis/231219Exp16Feat037/anger/2023_12_19_15_09_57_anger_456.png': 0.738845, 'image_analysis/231219Exp16Feat037/anger/2023_12_19_15_12_10_anger_495.png': 0.041696, 'image_analysis/231219Exp16Feat037/anger/2023_12_19_15_11_25_anger_482.png': 0.699761, 'image_analysis/231219Exp16Feat037/anger/2023_12_19_14_54_59_anger_146.png': 0.778359, 'image_analysis/231219Exp16Feat037/anger/2023_12_19_14_53_32_anger_112.png': 0.794879, 'image_analysis/231219Exp16Feat037/anger/2023_12_19_15_08_20_anger_426.png': 0.009348, 'image_analysis/231219Exp16Feat037/anger/2023_12_19_14_50_09_anger_29.png': 0.174261, 'image_analysis/231219Exp16Feat037/anger/2023_12_19_15_10_53_anger_472.png': 0.814019, 'image_analysis/231219Exp16Feat037/anger/2023_12_19_15_09_15_anger_443.png': 0.676774, 'image_analysis/231219Exp16Feat037/anger/2023_12_19_15_04_45_anger_354.png': 0.730953, 'image_analysis/231218Exp15NewFeat/anger/2023_12_19_11_46_41_anger_156.png': 0.248381, 'image_analysis/231218Exp15NewFeat/anger/2023_12_19_11_40_48_anger_27.png': 0.000622, 'image_analysis/231218Exp15NewFeat/anger/2023_12_19_11_58_23_anger_401.png': 0.179753, 'image_analysis/231218Exp15NewFeat/anger/2023_12_19_11_47_03_anger_164.png': 0.341468, 'image_analysis/231218Exp15NewFeat/anger/2023_12_19_11_53_31_anger_302.png': 0.065347, 'image_analysis/231218Exp15NewFeat/anger/2023_12_19_12_01_27_anger_461.png': 0.008222, 'image_analysis/231218Exp15NewFeat/anger/2023_12_19_11_55_01_anger_333.png': 0.376407, 'image_analysis/231218Exp15NewFeat/anger/2023_12_19_12_01_24_anger_460.png': 0.0136, 'image_analysis/231218Exp15NewFeat/anger/2023_12_19_11_58_05_anger_395.png': 0.482197, 'image_analysis/231218Exp15NewFeat/anger/2023_12_19_11_50_26_anger_237.png': 0.000623, 'image_analysis/231218Exp15NewFeat/anger/2023_12_19_11_41_50_anger_50.png': 0.010926, 'image_analysis/231218Exp15NewFeat/anger/2023_12_19_11_42_57_anger_74.png': 0.101316, 'image_analysis/231218Exp15NewFeat/anger/2023_12_19_11_46_00_anger_141.png': 0.009751, 'image_analysis/231218Exp15NewFeat/anger/2023_12_19_11_47_42_anger_178.png': 0.052873, 'image_analysis/231218Exp15NewFeat/anger/2023_12_19_11_46_39_anger_155.png': 0.109032, 'image_analysis/231218Exp15NewFeat/anger/2023_12_19_11_56_27_anger_362.png': 0.011454, 'image_analysis/231218Exp15NewFeat/anger/2023_12_19_11_50_07_anger_230.png': 0.064201, 'image_analysis/231218Exp15NewFeat/anger/2023_12_19_11_42_46_anger_70.png': 0.057999, 'image_analysis/231218Exp15NewFeat/anger/2023_12_19_12_02_40_anger_485.png': 0.099115, 'image_analysis/231218Exp15NewFeat/anger/2023_12_19_11_56_35_anger_365.png': 0.129041, 'image_analysis/231218Exp15NewFeat/anger/2023_12_19_11_53_23_anger_299.png': 0.079117, 'image_analysis/231218Exp15NewFeat/anger/2023_12_19_11_48_12_anger_189.png': 0.049172, 'image_analysis/231218Exp15NewFeat/anger/2023_12_19_11_58_38_anger_406.png': 0.202835, 'image_analysis/231218Exp15NewFeat/anger/2023_12_19_11_58_26_anger_402.png': 0.016796, 'image_analysis/231218Exp15NewFeat/anger/2023_12_19_12_00_44_anger_447.png': 0.280706, 'image_analysis/231218Exp15NewFeat/anger/2023_12_19_11_44_46_anger_114.png': 0.001598, 'image_analysis/231218Exp15NewFeat/anger/2023_12_19_11_47_22_anger_171.png': 0.283117, 'image_analysis/231218Exp15NewFeat/anger/2023_12_19_11_58_41_anger_407.png': 0.057279, 'image_analysis/231218Exp15NewFeat/anger/2023_12_19_11_48_54_anger_204.png': 0.002505, 'image_analysis/231218Exp15NewFeat/anger/2023_12_19_11_53_09_anger_294.png': 0.005092, 'image_analysis/231218Exp15NewFeat/anger/2023_12_19_11_52_31_anger_281.png': 0.410617, 'image_analysis/231218Exp15NewFeat/anger/2023_12_19_11_40_27_anger_19.png': 0.079621, 'image_analysis/231218Exp15NewFeat/anger/2023_12_19_11_50_04_anger_229.png': 0.277682, 'image_analysis/231218Exp15NewFeat/anger/2023_12_19_11_58_35_anger_405.png': 0.124768, 'image_analysis/231218Exp15NewFeat/anger/2023_12_19_11_52_23_anger_278.png': 0.328852, 'image_analysis/231218Exp15NewFeat/anger/2023_12_19_11_41_10_anger_35.png': 0.182729, 'image_analysis/231218Exp15NewFeat/anger/2023_12_19_11_54_24_anger_320.png': 0.386881, 'image_analysis/231218Exp15NewFeat/anger/2023_12_19_11_47_01_anger_163.png': 0.001201, 'image_analysis/231218Exp15NewFeat/anger/2023_12_19_11_42_17_anger_60.png': 0.133346, 'image_analysis/231218Exp15NewFeat/anger/2023_12_19_11_48_29_anger_195.png': 0.287732, 'image_analysis/231218Exp15NewFeat/anger/2023_12_19_11_49_36_anger_219.png': 0.07334, 'image_analysis/231218Exp15NewFeat/anger/2023_12_19_12_01_08_anger_455.png': 0.03361, 'image_analysis/231218Exp15NewFeat/anger/2023_12_19_11_56_38_anger_366.png': 0.008416, 'image_analysis/231218Exp15NewFeat/anger/2023_12_19_12_02_44_anger_486.png': 0.270274, 'image_analysis/231218Exp15NewFeat/anger/2023_12_19_11_39_44_anger_3.png': 0.001482, 'image_analysis/231218Exp15NewFeat/anger/2023_12_19_11_44_08_anger_100.png': 0.084327, 'image_analysis/231218Exp15NewFeat/anger/2023_12_19_11_57_29_anger_383.png': 0.105102, 'image_analysis/231218Exp15NewFeat/anger/2023_12_19_12_02_59_anger_491.png': 0.001028, 'image_analysis/231218Exp15NewFeat/anger/2023_12_19_11_49_25_anger_215.png': 0.215673, 'image_analysis/231218Exp15NewFeat/anger/2023_12_19_11_55_37_anger_345.png': 0.013321, 'image_analysis/231218Exp15NewFeat/anger/2023_12_19_11_45_48_anger_137.png': 0.046397, 'image_analysis/231218Exp15NewFeat/anger/2023_12_19_11_53_14_anger_296.png': 0.005271, 'image_analysis/231218Exp15NewFeat/anger/2023_12_19_11_57_41_anger_387.png': 0.360121, 'image_analysis/231218Exp15NewFeat/anger/2023_12_19_11_41_20_anger_39.png': 0.001687, 'image_analysis/231218Exp15NewFeat/anger/2023_12_19_12_02_37_anger_484.png': 0.132842, 'image_analysis/231218Exp15NewFeat/anger/2023_12_19_11_51_55_anger_268.png': 0.019939, 'image_analysis/231218Exp15NewFeat/anger/2023_12_19_11_57_05_anger_375.png': 0.302854, 'image_analysis/231218Exp15NewFeat/anger/2023_12_19_11_49_52_anger_225.png': 0.097514, 'image_analysis/231218Exp15NewFeat/anger/2023_12_19_11_54_41_anger_326.png': 0.014203, 'image_analysis/231218Exp15NewFeat/anger/2023_12_19_11_53_26_anger_300.png': 0.209739, 'image_analysis/231218Exp15NewFeat/anger/2023_12_19_11_41_07_anger_34.png': 0.001605, 'image_analysis/231218Exp15NewFeat/anger/2023_12_19_11_53_37_anger_304.png': 0.025224, 'image_analysis/231218Exp15NewFeat/anger/2023_12_19_11_49_55_anger_226.png': 0.187578, 'image_analysis/231218Exp15NewFeat/anger/2023_12_19_11_41_18_anger_38.png': 0.002091, 'image_analysis/231218Exp15NewFeat/anger/2023_12_19_12_00_37_anger_445.png': 0.267859, 'image_analysis/231218Exp15NewFeat/anger/2023_12_19_11_59_27_anger_422.png': 0.190682, 'image_analysis/231218Exp15NewFeat/anger/2023_12_19_11_45_43_anger_135.png': 0.005879, 'image_analysis/231218Exp15NewFeat/anger/2023_12_19_11_39_57_anger_8.png': 0.003626, 'image_analysis/231218Exp15NewFeat/anger/2023_12_19_12_00_01_anger_433.png': 0.219101, 'image_analysis/231218Exp15NewFeat/anger/2023_12_19_11_40_24_anger_18.png': 0.000996, 'image_analysis/231218Exp15NewFeat/anger/2023_12_19_11_43_00_anger_75.png': 0.009468, 'image_analysis/231218Exp15NewFeat/anger/2023_12_19_11_53_20_anger_298.png': 0.092073, 'image_analysis/231218Exp15NewFeat/anger/2023_12_19_11_42_49_anger_71.png': 0.088779, 'image_analysis/231218Exp15NewFeat/anger/2023_12_19_12_01_17_anger_458.png': 0.020602, 'image_analysis/231218Exp15NewFeat/anger/2023_12_19_11_43_16_anger_81.png': 0.329078, 'image_analysis/231218Exp15NewFeat/anger/2023_12_19_11_52_46_anger_286.png': 0.042919, 'image_analysis/231218Exp15NewFeat/anger/2023_12_19_11_58_08_anger_396.png': 0.030917, 'image_analysis/231218Exp15NewFeat/anger/2023_12_19_11_40_11_anger_13.png': 0.001744, 'image_analysis/231218Exp15NewFeat/anger/2023_12_19_11_50_55_anger_247.png': 0.053141, 'image_analysis/231218Exp15NewFeat/anger/2023_12_19_11_43_57_anger_96.png': 0.018851, 'image_analysis/231218Exp15NewFeat/anger/2023_12_19_11_44_59_anger_119.png': 0.129818, 'image_analysis/231218Exp15NewFeat/anger/2023_12_19_11_43_46_anger_92.png': 0.12928, 'image_analysis/231218Exp15NewFeat/anger/2023_12_19_11_54_09_anger_315.png': 0.010467, 'image_analysis/231218Exp15NewFeat/anger/2023_12_19_11_56_53_anger_371.png': 0.403723, 'image_analysis/231218Exp15NewFeat/anger/2023_12_19_12_01_20_anger_459.png': 0.032602, 'image_analysis/231218Exp15NewFeat/anger/2023_12_19_11_53_03_anger_292.png': 0.115994, 'image_analysis/231218Exp15NewFeat/anger/2023_12_19_11_42_01_anger_54.png': 0.03427, 'image_analysis/231218Exp15NewFeat/anger/2023_12_19_11_42_36_anger_66.png': 0.026716, 'image_analysis/231218Exp15NewFeat/anger/2023_12_19_11_59_45_anger_428.png': 0.009305, 'image_analysis/231218Exp15NewFeat/anger/2023_12_19_11_44_10_anger_101.png': 0.034898, 'image_analysis/231218Exp15NewFeat/anger/2023_12_19_11_44_29_anger_108.png': 0.282066, 'image_analysis/231218Exp15NewFeat/anger/2023_12_19_12_03_03_anger_492.png': 0.299966, 'image_analysis/231218Exp15NewFeat/anger/2023_12_19_11_53_34_anger_303.png': 0.047013, 'image_analysis/231218Exp15NewFeat/anger/2023_12_19_11_43_03_anger_76.png': 0.132453, 'image_analysis/231218Exp15NewFeat/anger/2023_12_19_11_53_06_anger_293.png': 0.114679, 'image_analysis/231218Exp15NewFeat/anger/2023_12_19_11_41_34_anger_44.png': 0.003103, 'image_analysis/231218Exp15NewFeat/anger/2023_12_19_11_57_53_anger_391.png': 0.600057, 'image_analysis/231218Exp15NewFeat/anger/2023_12_19_11_48_20_anger_192.png': 0.331382, 'image_analysis/231218Exp15NewFeat/anger/2023_12_19_11_41_04_anger_33.png': 0.022186, 'image_analysis/231218Exp15NewFeat/anger/2023_12_19_11_54_35_anger_324.png': 0.031896, 'image_analysis/231218Exp15NewFeat/anger/2023_12_19_11_49_50_anger_224.png': 0.58142, 'image_analysis/231218Exp15NewFeat/anger/2023_12_19_11_59_03_anger_414.png': 0.156413, 'image_analysis/231218Exp15NewFeat/anger/2023_12_19_12_02_50_anger_488.png': 0.056326, 'image_analysis/231218Exp15NewFeat/anger/2023_12_19_11_48_51_anger_203.png': 0.017984, 'image_analysis/231218Exp15NewFeat/anger/2023_12_19_11_40_38_anger_23.png': 0.013429, 'image_analysis/231218Exp15NewFeat/anger/2023_12_19_11_45_54_anger_139.png': 0.153602, 'image_analysis/231218Exp15NewFeat/anger/2023_12_19_11_59_42_anger_427.png': 0.012701, 'image_analysis/231218Exp15NewFeat/anger/2023_12_19_11_45_26_anger_129.png': 0.010453, 'image_analysis/231218Exp15NewFeat/anger/2023_12_19_11_42_29_anger_64.png': 0.163755, 'image_analysis/231218Exp15NewFeat/anger/2023_12_19_11_52_49_anger_287.png': 0.015191, 'image_analysis/231218Exp15NewFeat/anger/2023_12_19_11_39_47_anger_4.png': 0.166667, 'image_analysis/231218Exp15NewFeat/anger/2023_12_19_11_51_52_anger_267.png': 0.001853, 'image_analysis/231218Exp15NewFeat/anger/2023_12_19_12_00_56_anger_451.png': 0.034737, 'image_analysis/231218Exp15NewFeat/anger/2023_12_19_11_57_26_anger_382.png': 0.025671, 'image_analysis/231218Exp15NewFeat/anger/2023_12_19_11_47_53_anger_182.png': 0.011874, 'image_analysis/231218Exp15NewFeat/anger/2023_12_19_11_44_21_anger_105.png': 0.009889, 'image_analysis/231218Exp15NewFeat/anger/2023_12_19_11_58_02_anger_394.png': 0.007396, 'image_analysis/231218Exp15NewFeat/anger/2023_12_19_11_56_56_anger_372.png': 0.539778, 'image_analysis/231218Exp15NewFeat/anger/2023_12_19_11_53_52_anger_309.png': 0.053103, 'image_analysis/231218Exp15NewFeat/anger/2023_12_19_11_50_43_anger_243.png': 0.05196, 'image_analysis/231218Exp15NewFeat/anger/2023_12_19_11_45_02_anger_120.png': 0.014499, 'image_analysis/231218Exp15NewFeat/anger/2023_12_19_11_46_08_anger_144.png': 0.033545, 'image_analysis/231218Exp15NewFeat/anger/2023_12_19_11_44_32_anger_109.png': 0.034328, 'image_analysis/231218Exp15NewFeat/anger/2023_12_19_11_57_35_anger_385.png': 0.021213, 'image_analysis/231218Exp15NewFeat/anger/2023_12_19_12_01_02_anger_453.png': 0.197277, 'image_analysis/231218Exp15NewFeat/anger/2023_12_19_11_41_12_anger_36.png': 0.094668, 'image_analysis/231218Exp15NewFeat/anger/2023_12_19_11_50_21_anger_235.png': 0.379476, 'image_analysis/231218Exp15NewFeat/anger/2023_12_19_11_54_15_anger_317.png': 0.001899, 'image_analysis/231218Exp15NewFeat/anger/2023_12_19_11_44_13_anger_102.png': 0.113868, 'image_analysis/231218Exp15NewFeat/anger/2023_12_19_11_50_35_anger_240.png': 0.21316, 'image_analysis/231218Exp15NewFeat/anger/2023_12_19_11_43_22_anger_83.png': 0.497488, 'image_analysis/231218Exp15NewFeat/anger/2023_12_19_11_51_40_anger_263.png': 0.0041, 'image_analysis/231218Exp15NewFeat/anger/2023_12_19_12_01_11_anger_456.png': 0.002756, 'image_analysis/231218Exp15NewFeat/anger/2023_12_19_11_51_35_anger_261.png': 0.181226, 'image_analysis/231218Exp15NewFeat/anger/2023_12_19_11_54_38_anger_325.png': 0.20796, 'image_analysis/231218Exp15NewFeat/anger/2023_12_19_11_45_35_anger_132.png': 0.350598, 'image_analysis/231218Exp15NewFeat/anger/2023_12_19_11_50_29_anger_238.png': 0.005599, 'image_analysis/231218Exp15NewFeat/anger/2023_12_19_11_48_43_anger_200.png': 0.447366, 'image_analysis/231218Exp15NewFeat/anger/2023_12_19_11_45_46_anger_136.png': 0.147387, 'image_analysis/231218Exp15NewFeat/anger/2023_12_19_11_42_26_anger_63.png': 0.128535, 'image_analysis/231218Exp15NewFeat/anger/2023_12_19_11_49_47_anger_223.png': 0.380683, 'image_analysis/231218Exp15NewFeat/anger/2023_12_19_11_58_32_anger_404.png': 0.310865, 'image_analysis/231218Exp15NewFeat/anger/2023_12_19_12_00_28_anger_442.png': 0.003495, 'image_analysis/231218Exp15NewFeat/anger/2023_12_19_11_47_45_anger_179.png': 0.066328, 'image_analysis/231218Exp15NewFeat/anger/2023_12_19_11_49_39_anger_220.png': 0.48707, 'image_analysis/231218Exp15NewFeat/anger/2023_12_19_11_44_48_anger_115.png': 0.087861, 'image_analysis/231218Exp15NewFeat/anger/2023_12_19_11_43_30_anger_86.png': 0.180314, 'image_analysis/231218Exp15NewFeat/anger/2023_12_19_12_02_31_anger_482.png': 0.41539, 'image_analysis/231218Exp15NewFeat/anger/2023_12_19_12_03_09_anger_494.png': 0.168464, 'image_analysis/231218Exp15NewFeat/anger/2023_12_19_11_49_22_anger_214.png': 0.220863, 'image_analysis/231218Exp15NewFeat/anger/2023_12_19_11_46_30_anger_152.png': 0.130885, 'image_analysis/231218Exp15NewFeat/anger/2023_12_19_11_39_39_anger_1.png': 0.006155, 'image_analysis/231218Exp15NewFeat/anger/2023_12_19_12_00_25_anger_441.png': 0.006698, 'image_analysis/231218Exp15NewFeat/anger/2023_12_19_11_39_50_anger_5.png': 0.127025, 'image_analysis/231218Exp15NewFeat/anger/2023_12_19_12_00_04_anger_434.png': 0.021872, 'image_analysis/231218Exp15NewFeat/anger/2023_12_19_11_40_46_anger_26.png': 0.001183, 'image_analysis/231218Exp15NewFeat/anger/2023_12_19_11_46_44_anger_157.png': 0.123229, 'image_analysis/231218Exp15NewFeat/anger/2023_12_19_11_56_06_anger_355.png': 0.086343, 'image_analysis/231218Exp15NewFeat/anger/2023_12_19_11_41_44_anger_48.png': 0.054938, 'image_analysis/231218Exp15NewFeat/anger/2023_12_19_11_50_18_anger_234.png': 0.002223, 'image_analysis/231218Exp15NewFeat/anger/2023_12_19_11_45_21_anger_127.png': 0.216527, 'image_analysis/231218Exp15NewFeat/anger/2023_12_19_11_45_57_anger_140.png': 0.290387, 'image_analysis/231218Exp15NewFeat/anger/2023_12_19_12_03_25_anger_499.png': 0.391648, 'image_analysis/231218Exp15NewFeat/anger/2023_12_19_11_51_15_anger_254.png': 0.015511, 'image_analysis/231218Exp15NewFeat/anger/2023_12_19_11_41_31_anger_43.png': 0.001605, 'image_analysis/231218Exp15NewFeat/anger/2023_12_19_11_48_40_anger_199.png': 0.123288, 'image_analysis/231218Exp15NewFeat/anger/2023_12_19_12_00_53_anger_450.png': 0.269963, 'image_analysis/231218Exp15NewFeat/anger/2023_12_19_11_47_56_anger_183.png': 0.311315, 'image_analysis/231218Exp15NewFeat/anger/2023_12_19_11_54_12_anger_316.png': 0.005624, 'image_analysis/231218Exp15NewFeat/anger/2023_12_19_11_58_44_anger_408.png': 0.272471, 'image_analysis/231218Exp15NewFeat/anger/2023_12_19_11_46_24_anger_150.png': 0.170016, 'image_analysis/231218Exp15NewFeat/anger/2023_12_19_11_39_37_anger_0.png': 0.004275, 'image_analysis/231218Exp15NewFeat/anger/2023_12_19_11_47_25_anger_172.png': 0.002363, 'image_analysis/231218Exp15NewFeat/anger/2023_12_19_11_59_18_anger_419.png': 0.005762, 'image_analysis/231218Exp15NewFeat/anger/2023_12_19_11_58_29_anger_403.png': 0.07869, 'image_analysis/231218Exp15NewFeat/anger/2023_12_19_11_42_44_anger_69.png': 0.094116, 'image_analysis/231218Exp15NewFeat/anger/2023_12_19_11_53_29_anger_301.png': 0.234651, 'image_analysis/231218Exp15NewFeat/anger/2023_12_19_11_56_24_anger_361.png': 0.129752, 'image_analysis/231218Exp15NewFeat/anger/2023_12_19_12_02_07_anger_474.png': 0.326056, 'image_analysis/231218Exp15NewFeat/anger/2023_12_19_11_45_24_anger_128.png': 0.002227, 'image_analysis/231218Exp15NewFeat/anger/2023_12_19_11_52_17_anger_276.png': 0.004473, 'image_analysis/231218Exp15NewFeat/anger/2023_12_19_12_03_12_anger_495.png': 0.034617, 'image_analysis/231218Exp15NewFeat/anger/2023_12_19_11_40_09_anger_12.png': 0.043615, 'image_analysis/231218Exp15NewFeat/anger/2023_12_19_11_43_13_anger_80.png': 0.165459, 'image_analysis/231218Exp15NewFeat/anger/2023_12_19_11_50_40_anger_242.png': 0.070808, 'image_analysis/231218Exp15NewFeat/anger/2023_12_19_11_54_53_anger_330.png': 0.207712, 'image_analysis/231218Exp15NewFeat/anger/2023_12_19_11_50_46_anger_244.png': 0.495043, 'image_analysis/231218Exp15NewFeat/anger/2023_12_19_11_58_56_anger_412.png': 0.05303, 'image_analysis/231218Exp15NewFeat/anger/2023_12_19_11_57_32_anger_384.png': 0.094111, 'image_analysis/231218Exp15NewFeat/anger/2023_12_19_11_56_33_anger_364.png': 0.002029, 'image_analysis/231218Exp15NewFeat/anger/2023_12_19_11_59_58_anger_432.png': 0.035867, 'image_analysis/231218Exp15NewFeat/anger/2023_12_19_11_49_30_anger_217.png': 0.187936, 'image_analysis/231218Exp15NewFeat/anger/2023_12_19_11_59_33_anger_424.png': 0.018402, 'image_analysis/231218Exp15NewFeat/anger/2023_12_19_11_51_37_anger_262.png': 0.066624, 'image_analysis/231218Exp15NewFeat/anger/2023_12_19_11_58_11_anger_397.png': 0.00338, 'image_analysis/231218Exp15NewFeat/anger/2023_12_19_11_56_00_anger_353.png': 0.334175, 'image_analysis/231218Exp15NewFeat/anger/2023_12_19_11_50_37_anger_241.png': 0.04356, 'image_analysis/231218Exp15NewFeat/anger/2023_12_19_11_47_31_anger_174.png': 0.234906, 'image_analysis/231218Exp15NewFeat/anger/2023_12_19_11_46_02_anger_142.png': 0.214263, 'image_analysis/231218Exp15NewFeat/anger/2023_12_19_11_50_32_anger_239.png': 0.001042, 'image_analysis/231218Exp15NewFeat/anger/2023_12_19_11_55_46_anger_348.png': 0.009402, 'image_analysis/231218Exp15NewFeat/anger/2023_12_19_11_57_57_anger_392.png': 0.363385, 'image_analysis/231218Exp15NewFeat/anger/2023_12_19_12_02_19_anger_478.png': 0.104856, 'image_analysis/231218Exp15NewFeat/anger/2023_12_19_11_55_43_anger_347.png': 0.184559, 'image_analysis/231218Exp15NewFeat/anger/2023_12_19_11_50_01_anger_228.png': 0.288196, 'image_analysis/231218Exp15NewFeat/anger/2023_12_19_11_56_18_anger_359.png': 0.033811, 'image_analysis/231218Exp15NewFeat/anger/2023_12_19_11_59_36_anger_425.png': 0.147636, 'image_analysis/231218Exp15NewFeat/anger/2023_12_19_11_50_49_anger_245.png': 0.022696, 'image_analysis/231218Exp15NewFeat/anger/2023_12_19_11_43_43_anger_91.png': 0.014942, 'image_analysis/231218Exp15NewFeat/anger/2023_12_19_11_46_36_anger_154.png': 0.093848, 'image_analysis/231218Exp15NewFeat/anger/2023_12_19_11_53_46_anger_307.png': 0.002851, 'image_analysis/231218Exp15NewFeat/anger/2023_12_19_11_45_32_anger_131.png': 0.257087, 'image_analysis/231218Exp15NewFeat/anger/2023_12_19_11_40_03_anger_10.png': 0.070421, 'image_analysis/231218Exp15NewFeat/anger/2023_12_19_11_46_52_anger_160.png': 0.028188, 'image_analysis/231218Exp15NewFeat/anger/2023_12_19_11_49_44_anger_222.png': 0.003013, 'image_analysis/231218Exp15NewFeat/anger/2023_12_19_11_39_55_anger_7.png': 0.00945, 'image_analysis/231218Exp15NewFeat/anger/2023_12_19_11_58_47_anger_409.png': 0.216499, 'image_analysis/231218Exp15NewFeat/anger/2023_12_19_11_46_58_anger_162.png': 0.053201, 'image_analysis/231218Exp15NewFeat/anger/2023_12_19_11_41_47_anger_49.png': 0.006526, 'image_analysis/231218Exp15NewFeat/anger/2023_12_19_11_40_22_anger_17.png': 0.003684, 'image_analysis/231218Exp15NewFeat/anger/2023_12_19_11_50_23_anger_236.png': 0.001591, 'image_analysis/231218Exp15NewFeat/anger/2023_12_19_11_46_19_anger_148.png': 0.143871, 'image_analysis/231218Exp15NewFeat/anger/2023_12_19_11_51_46_anger_265.png': 0.020155, 'image_analysis/231218Exp15NewFeat/anger/2023_12_19_11_59_09_anger_416.png': 0.088136, 'image_analysis/231218Exp15NewFeat/anger/2023_12_19_11_47_28_anger_173.png': 0.085508, 'image_analysis/231218Exp15NewFeat/anger/2023_12_19_11_46_55_anger_161.png': 0.002734, 'image_analysis/231218Exp15NewFeat/anger/2023_12_19_11_40_17_anger_15.png': 0.042428, 'image_analysis/231218Exp15NewFeat/anger/2023_12_19_11_56_50_anger_370.png': 0.392187, 'image_analysis/231218Exp15NewFeat/anger/2023_12_19_11_52_57_anger_290.png': 0.077985, 'image_analysis/231218Exp15NewFeat/anger/2023_12_19_11_59_39_anger_426.png': 0.004982, 'image_analysis/231218Exp15NewFeat/anger/2023_12_19_12_01_14_anger_457.png': 0.088002, 'image_analysis/231218Exp15NewFeat/anger/2023_12_19_11_43_08_anger_78.png': 0.012263, 'image_analysis/231218Exp15NewFeat/anger/2023_12_19_11_43_27_anger_85.png': 0.041824, 'image_analysis/231218Exp15NewFeat/anger/2023_12_19_12_02_28_anger_481.png': 0.171929, 'image_analysis/231218Exp15NewFeat/anger/2023_12_19_11_57_08_anger_376.png': 0.007819, 'image_analysis/231218Exp15NewFeat/anger/2023_12_19_11_49_19_anger_213.png': 0.481841, 'image_analysis/231218Exp15NewFeat/anger/2023_12_19_11_45_07_anger_122.png': 0.022615, 'image_analysis/231218Exp15NewFeat/anger/2023_12_19_11_52_29_anger_280.png': 0.01697, 'image_analysis/231218Exp15NewFeat/anger/2023_12_19_11_44_02_anger_98.png': 0.225239, 'image_analysis/231218Exp15NewFeat/anger/2023_12_19_11_45_29_anger_130.png': 0.220786, 'image_analysis/231218Exp15NewFeat/anger/2023_12_19_11_57_23_anger_381.png': 0.000831, 'image_analysis/231218Exp15NewFeat/anger/2023_12_19_11_41_42_anger_47.png': 0.018124, 'image_analysis/231218Exp15NewFeat/anger/2023_12_19_11_40_56_anger_30.png': 0.003049, 'image_analysis/231218Exp15NewFeat/anger/2023_12_19_11_42_32_anger_65.png': 0.265054, 'image_analysis/231218Exp15NewFeat/anger/2023_12_19_11_53_55_anger_310.png': 0.055191, 'image_analysis/231218Exp15NewFeat/anger/2023_12_19_11_43_54_anger_95.png': 0.026643, 'image_analysis/231218Exp15NewFeat/anger/2023_12_19_11_41_36_anger_45.png': 0.001601, 'image_analysis/231218Exp15NewFeat/anger/2023_12_19_11_56_12_anger_357.png': 0.48277, 'image_analysis/231218Exp15NewFeat/anger/2023_12_19_11_59_06_anger_415.png': 0.033505, 'image_analysis/231218Exp15NewFeat/anger/2023_12_19_12_03_06_anger_493.png': 0.001439, 'image_analysis/231218Exp15NewFeat/anger/2023_12_19_12_02_34_anger_483.png': 0.472765, 'image_analysis/231218Exp15NewFeat/anger/2023_12_19_11_44_37_anger_111.png': 0.371897, 'image_analysis/231218Exp15NewFeat/anger/2023_12_19_11_41_28_anger_42.png': 0.008817, 'image_analysis/231218Exp15NewFeat/anger/2023_12_19_11_47_09_anger_166.png': 0.296835, 'image_analysis/231218Exp15NewFeat/anger/2023_12_19_11_48_15_anger_190.png': 0.060442, 'image_analysis/231218Exp15NewFeat/anger/2023_12_19_11_48_26_anger_194.png': 0.11543, 'image_analysis/231218Exp15NewFeat/anger/2023_12_19_11_52_20_anger_277.png': 0.020264, 'image_analysis/231218Exp15NewFeat/anger/2023_12_19_12_01_33_anger_463.png': 0.045848, 'image_analysis/231218Exp15NewFeat/anger/2023_12_19_12_01_48_anger_468.png': 0.165454, 'image_analysis/231218Exp15NewFeat/anger/2023_12_19_11_51_12_anger_253.png': 0.014622, 'image_analysis/231218Exp15NewFeat/anger/2023_12_19_11_44_40_anger_112.png': 0.118352, 'image_analysis/231218Exp15NewFeat/anger/2023_12_19_11_56_09_anger_356.png': 0.666345, 'image_analysis/231218Exp15NewFeat/anger/2023_12_19_11_49_16_anger_212.png': 0.002288, 'image_analysis/231218Exp15NewFeat/anger/2023_12_19_11_43_11_anger_79.png': 0.106997, 'image_analysis/231218Exp15NewFeat/anger/2023_12_19_11_45_37_anger_133.png': 0.074041, 'image_analysis/231218Exp15NewFeat/anger/2023_12_19_11_47_39_anger_177.png': 0.016722, 'image_analysis/231218Exp15NewFeat/anger/2023_12_19_11_42_22_anger_62.png': 0.079073, 'image_analysis/231218Exp15NewFeat/anger/2023_12_19_11_54_18_anger_318.png': 0.076148, 'image_analysis/231218Exp15NewFeat/anger/2023_12_19_11_49_27_anger_216.png': 0.090875, 'image_analysis/231218Exp15NewFeat/anger/2023_12_19_11_57_17_anger_379.png': 0.041791, 'image_analysis/231218Exp15NewFeat/anger/2023_12_19_12_00_22_anger_440.png': 0.327544, 'image_analysis/231218Exp15NewFeat/anger/2023_12_19_11_47_36_anger_176.png': 0.371173, 'image_analysis/231218Exp15NewFeat/anger/2023_12_19_11_47_06_anger_165.png': 0.384579, 'image_analysis/231218Exp15NewFeat/anger/2023_12_19_11_54_55_anger_331.png': 0.088776, 'image_analysis/231218Exp15NewFeat/anger/2023_12_19_11_59_30_anger_423.png': 0.029678, 'image_analysis/231218Exp15NewFeat/anger/2023_12_19_11_44_19_anger_104.png': 0.195242, 'image_analysis/231218Exp15NewFeat/anger/2023_12_19_12_00_31_anger_443.png': 0.360844, 'image_analysis/231218Exp15NewFeat/anger/2023_12_19_11_55_13_anger_337.png': 0.000398, 'image_analysis/231218Exp15NewFeat/anger/2023_12_19_11_59_48_anger_429.png': 0.08444, 'image_analysis/231218Exp15NewFeat/anger/2023_12_19_11_52_00_anger_270.png': 0.011812, 'image_analysis/231218Exp15NewFeat/anger/2023_12_19_12_01_42_anger_466.png': 0.078696, 'image_analysis/231218Exp15NewFeat/anger/2023_12_19_11_46_16_anger_147.png': 0.140881, 'image_analysis/231218Exp15NewFeat/anger/2023_12_19_12_02_22_anger_479.png': 0.003225, 'image_analysis/231218Exp15NewFeat/anger/2023_12_19_11_57_11_anger_377.png': 0.238517, 'image_analysis/231218Exp15NewFeat/anger/2023_12_19_11_48_23_anger_193.png': 0.194585, 'image_analysis/231218Exp15NewFeat/anger/2023_12_19_11_56_59_anger_373.png': 0.22967, 'image_analysis/231218Exp15NewFeat/anger/2023_12_19_11_42_06_anger_56.png': 0.013731, 'image_analysis/231218Exp15NewFeat/anger/2023_12_19_11_47_12_anger_167.png': 0.001232, 'image_analysis/231218Exp15NewFeat/anger/2023_12_19_11_44_56_anger_118.png': 0.023819, 'image_analysis/231218Exp15NewFeat/anger/2023_12_19_11_51_26_anger_258.png': 0.175198, 'image_analysis/231218Exp15NewFeat/anger/2023_12_19_12_02_56_anger_490.png': 0.367232, 'image_analysis/231218Exp15NewFeat/anger/2023_12_19_11_44_51_anger_116.png': 0.041487, 'image_analysis/231218Exp15NewFeat/anger/2023_12_19_11_57_02_anger_374.png': 0.070556, 'image_analysis/231218Exp15NewFeat/anger/2023_12_19_11_41_52_anger_51.png': 0.005002, 'image_analysis/231218Exp15NewFeat/anger/2023_12_19_11_48_01_anger_185.png': 0.236687, 'image_analysis/231218Exp15NewFeat/anger/2023_12_19_11_40_00_anger_9.png': 0.004907, 'image_analysis/231218Exp15NewFeat/anger/2023_12_19_11_49_13_anger_211.png': 0.010703, 'image_analysis/231218Exp15NewFeat/anger/2023_12_19_11_39_36_anger_test.png': 0.000142, 'image_analysis/231218Exp15NewFeat/anger/2023_12_19_11_50_09_anger_231.png': 0.024182, 'image_analysis/231218Exp15NewFeat/anger/2023_12_19_11_41_26_anger_41.png': 0.01713, 'image_analysis/231218Exp15NewFeat/anger/2023_12_19_11_42_09_anger_57.png': 0.053944, 'image_analysis/231218Exp15NewFeat/anger/2023_12_19_11_55_51_anger_350.png': 0.429984, 'image_analysis/231218Exp15NewFeat/anger/2023_12_19_11_40_06_anger_11.png': 0.032717, 'image_analysis/231218Exp15NewFeat/anger/2023_12_19_12_03_18_anger_497.png': 0.193708, 'image_analysis/231218Exp15NewFeat/anger/2023_12_19_11_54_06_anger_314.png': 0.545188, 'image_analysis/231218Exp15NewFeat/anger/2023_12_19_11_47_50_anger_181.png': 0.029659, 'image_analysis/231218Exp15NewFeat/anger/2023_12_19_12_01_36_anger_464.png': 0.204016, 'image_analysis/231218Exp15NewFeat/anger/2023_12_19_11_44_16_anger_103.png': 0.000212, 'image_analysis/231218Exp15NewFeat/anger/2023_12_19_11_50_52_anger_246.png': 0.006541, 'image_analysis/231218Exp15NewFeat/anger/2023_12_19_11_52_12_anger_274.png': 0.001677, 'image_analysis/231218Exp15NewFeat/anger/2023_12_19_11_48_32_anger_196.png': 0.148237, 'image_analysis/231218Exp15NewFeat/anger/2023_12_19_11_41_39_anger_46.png': 0.002737, 'image_analysis/231218Exp15NewFeat/anger/2023_12_19_11_55_34_anger_344.png': 0.414015, 'image_analysis/231218Exp15NewFeat/anger/2023_12_19_11_58_54_anger_411.png': 0.119078, 'image_analysis/231218Exp15NewFeat/anger/2023_12_19_11_49_58_anger_227.png': 0.225441, 'image_analysis/231218Exp15NewFeat/anger/2023_12_19_12_01_55_anger_470.png': 0.219515, 'image_analysis/231218Exp15NewFeat/anger/2023_12_19_11_46_11_anger_145.png': 0.293041, 'image_analysis/231218Exp15NewFeat/anger/2023_12_19_11_51_23_anger_257.png': 0.393524, 'image_analysis/231218Exp15NewFeat/anger/2023_12_19_11_51_32_anger_260.png': 0.043212, 'image_analysis/231218Exp15NewFeat/anger/2023_12_19_11_57_59_anger_393.png': 0.014896, 'image_analysis/231218Exp15NewFeat/anger/2023_12_19_11_51_03_anger_250.png': 0.325079, 'image_analysis/231218Exp15NewFeat/anger/2023_12_19_11_47_58_anger_184.png': 0.037534, 'image_analysis/231218Exp15NewFeat/anger/2023_12_19_11_42_41_anger_68.png': 0.167921, 'image_analysis/231218Exp15NewFeat/anger/2023_12_19_11_56_41_anger_367.png': 0.256318, 'image_analysis/231218Exp15NewFeat/anger/2023_12_19_11_40_40_anger_24.png': 0.134759, 'image_analysis/231218Exp15NewFeat/anger/2023_12_19_11_56_15_anger_358.png': 0.013235, 'image_analysis/231218Exp15NewFeat/anger/2023_12_19_11_45_10_anger_123.png': 0.002204, 'image_analysis/231218Exp15NewFeat/anger/2023_12_19_11_55_54_anger_351.png': 0.351638, 'image_analysis/231218Exp15NewFeat/anger/2023_12_19_11_59_21_anger_420.png': 0.001047, 'image_analysis/231218Exp15NewFeat/anger/2023_12_19_11_49_05_anger_208.png': 0.008964, 'image_analysis/231218Exp15NewFeat/anger/2023_12_19_11_57_38_anger_386.png': 0.069163, 'image_analysis/231218Exp15NewFeat/anger/2023_12_19_12_01_45_anger_467.png': 0.421258, 'image_analysis/231218Exp15NewFeat/anger/2023_12_19_11_44_24_anger_106.png': 0.348317, 'image_analysis/231218Exp15NewFeat/anger/2023_12_19_11_55_10_anger_336.png': 0.008279, 'image_analysis/231218Exp15NewFeat/anger/2023_12_19_11_48_48_anger_202.png': 0.362439, 'image_analysis/231218Exp15NewFeat/anger/2023_12_19_11_56_03_anger_354.png': 0.678812, 'image_analysis/231218Exp15NewFeat/anger/2023_12_19_11_46_05_anger_143.png': 0.00154, 'image_analysis/231218Exp15NewFeat/anger/2023_12_19_11_54_47_anger_328.png': 0.195279, 'image_analysis/231218Exp15NewFeat/anger/2023_12_19_11_43_25_anger_84.png': 0.218022, 'image_analysis/231218Exp15NewFeat/anger/2023_12_19_11_47_47_anger_180.png': 0.197628, 'image_analysis/231218Exp15NewFeat/anger/2023_12_19_11_48_09_anger_188.png': 0.146371, 'image_analysis/231218Exp15NewFeat/anger/2023_12_19_12_00_59_anger_452.png': 0.001803, 'image_analysis/231218Exp15NewFeat/anger/2023_12_19_11_55_57_anger_352.png': 0.035716, 'image_analysis/231218Exp15NewFeat/anger/2023_12_19_11_46_33_anger_153.png': 0.020603, 'image_analysis/231218Exp15NewFeat/anger/2023_12_19_11_44_35_anger_110.png': 0.006521, 'image_analysis/231218Exp15NewFeat/anger/2023_12_19_12_00_16_anger_438.png': 0.47635, 'image_analysis/231218Exp15NewFeat/anger/2023_12_19_11_46_27_anger_151.png': 0.028695, 'image_analysis/231218Exp15NewFeat/anger/2023_12_19_11_52_40_anger_284.png': 0.172166, 'image_analysis/231218Exp15NewFeat/anger/2023_12_19_11_52_09_anger_273.png': 0.35381, 'image_analysis/231218Exp15NewFeat/anger/2023_12_19_11_50_12_anger_232.png': 0.021021, 'image_analysis/231218Exp15NewFeat/anger/2023_12_19_11_51_00_anger_249.png': 0.00764, 'image_analysis/231218Exp15NewFeat/anger/2023_12_19_11_59_24_anger_421.png': 0.039886, 'image_analysis/231218Exp15NewFeat/anger/2023_12_19_11_45_15_anger_125.png': 0.161347, 'image_analysis/231218Exp15NewFeat/anger/2023_12_19_11_48_45_anger_201.png': 0.052908, 'image_analysis/231218Exp15NewFeat/anger/2023_12_19_11_49_11_anger_210.png': 0.283738, 'image_analysis/231218Exp15NewFeat/anger/2023_12_19_11_51_57_anger_269.png': 0.007132, 'image_analysis/231218Exp15NewFeat/anger/2023_12_19_11_43_41_anger_90.png': 0.044308, 'image_analysis/231218Exp15NewFeat/anger/2023_12_19_12_02_53_anger_489.png': 0.47724, 'image_analysis/231218Exp15NewFeat/anger/2023_12_19_11_42_03_anger_55.png': 0.011176, 'image_analysis/231218Exp15NewFeat/anger/2023_12_19_11_43_59_anger_97.png': 0.017758, 'image_analysis/231218Exp15NewFeat/anger/2023_12_19_11_48_57_anger_205.png': 0.103172, 'image_analysis/231218Exp15NewFeat/anger/2023_12_19_11_48_18_anger_191.png': 0.052837, 'image_analysis/231218Exp15NewFeat/anger/2023_12_19_11_42_14_anger_59.png': 0.016567, 'image_analysis/231218Exp15NewFeat/anger/2023_12_19_11_40_19_anger_16.png': 0.034057, 'image_analysis/231218Exp15NewFeat/anger/2023_12_19_11_54_32_anger_323.png': 0.382666, 'image_analysis/231218Exp15NewFeat/anger/2023_12_19_11_52_14_anger_275.png': 0.001434, 'image_analysis/231218Exp15NewFeat/anger/2023_12_19_11_52_06_anger_272.png': 0.157607, 'image_analysis/231218Exp15NewFeat/anger/2023_12_19_11_54_58_anger_332.png': 0.501037, 'image_analysis/231218Exp15NewFeat/anger/2023_12_19_11_59_52_anger_430.png': 0.188217, 'image_analysis/231218Exp15NewFeat/anger/2023_12_19_11_52_03_anger_271.png': 0.119615, 'image_analysis/231218Exp15NewFeat/anger/2023_12_19_11_45_13_anger_124.png': 0.232442, 'image_analysis/231218Exp15NewFeat/anger/2023_12_19_11_55_28_anger_342.png': 0.246685, 'image_analysis/231218Exp15NewFeat/anger/2023_12_19_12_00_41_anger_446.png': 0.447575, 'image_analysis/231218Exp15NewFeat/anger/2023_12_19_11_44_54_anger_117.png': 0.087652, 'image_analysis/231218Exp15NewFeat/anger/2023_12_19_11_59_15_anger_418.png': 0.018247, 'image_analysis/231218Exp15NewFeat/anger/2023_12_19_12_01_05_anger_454.png': 0.002346, 'image_analysis/231218Exp15NewFeat/anger/2023_12_19_11_54_44_anger_327.png': 0.16203, 'image_analysis/231218Exp15NewFeat/anger/2023_12_19_11_55_22_anger_340.png': 0.003906, 'image_analysis/231218Exp15NewFeat/anger/2023_12_19_11_52_43_anger_285.png': 0.035586, 'image_analysis/231218Exp15NewFeat/anger/2023_12_19_11_54_29_anger_322.png': 0.073371, 'image_analysis/231218Exp15NewFeat/anger/2023_12_19_12_01_30_anger_462.png': 0.104259, 'image_analysis/231218Exp15NewFeat/anger/2023_12_19_11_44_27_anger_107.png': 0.330985, 'image_analysis/231218Exp15NewFeat/anger/2023_12_19_11_42_11_anger_58.png': 0.134538, 'image_analysis/231218Exp15NewFeat/anger/2023_12_19_11_43_49_anger_93.png': 0.027327, 'image_analysis/231218Exp15NewFeat/anger/2023_12_19_12_03_21_anger_498.png': 0.120211, 'image_analysis/231218Exp15NewFeat/anger/2023_12_19_11_55_31_anger_343.png': 0.254962, 'image_analysis/231218Exp15NewFeat/anger/2023_12_19_11_48_37_anger_198.png': 0.498919, 'image_analysis/231218Exp15NewFeat/anger/2023_12_19_11_57_14_anger_378.png': 0.044184, 'image_analysis/231218Exp15NewFeat/anger/2023_12_19_11_42_54_anger_73.png': 0.002836, 'image_analysis/231218Exp15NewFeat/anger/2023_12_19_11_52_34_anger_282.png': 0.044599, 'image_analysis/231218Exp15NewFeat/anger/2023_12_19_11_55_04_anger_334.png': 0.384262, 'image_analysis/231218Exp15NewFeat/anger/2023_12_19_11_45_18_anger_126.png': 0.214612, 'image_analysis/231218Exp15NewFeat/anger/2023_12_19_11_56_21_anger_360.png': 0.029657, 'image_analysis/231218Exp15NewFeat/anger/2023_12_19_11_54_03_anger_313.png': 0.273432, 'image_analysis/231218Exp15NewFeat/anger/2023_12_19_11_49_08_anger_209.png': 0.131297, 'image_analysis/231218Exp15NewFeat/anger/2023_12_19_11_42_20_anger_61.png': 0.003327, 'image_analysis/231218Exp15NewFeat/anger/2023_12_19_11_40_14_anger_14.png': 0.015673, 'image_analysis/231218Exp15NewFeat/anger/2023_12_19_12_01_39_anger_465.png': 0.003955, 'image_analysis/231218Exp15NewFeat/anger/2023_12_19_11_54_21_anger_319.png': 0.379251, 'image_analysis/231218Exp15NewFeat/anger/2023_12_19_12_01_58_anger_471.png': 0.005794, 'image_analysis/231218Exp15NewFeat/anger/2023_12_19_12_00_34_anger_444.png': 0.050796, 'image_analysis/231218Exp15NewFeat/anger/2023_12_19_11_52_37_anger_283.png': 0.103399, 'image_analysis/231218Exp15NewFeat/anger/2023_12_19_11_45_40_anger_134.png': 0.001671, 'image_analysis/231218Exp15NewFeat/anger/2023_12_19_11_49_02_anger_207.png': 0.001261, 'image_analysis/231218Exp15NewFeat/anger/2023_12_19_11_40_30_anger_20.png': 0.010292, 'image_analysis/231218Exp15NewFeat/anger/2023_12_19_11_41_23_anger_40.png': 0.002728, 'image_analysis/231218Exp15NewFeat/anger/2023_12_19_11_41_15_anger_37.png': 0.001584, 'image_analysis/231218Exp15NewFeat/anger/2023_12_19_12_02_25_anger_480.png': 0.016039, 'image_analysis/231218Exp15NewFeat/anger/2023_12_19_12_00_47_anger_448.png': 0.019911, 'image_analysis/231218Exp15NewFeat/anger/2023_12_19_11_41_02_anger_32.png': 0.139524, 'image_analysis/231218Exp15NewFeat/anger/2023_12_19_11_57_47_anger_389.png': 0.459462, 'image_analysis/231218Exp15NewFeat/anger/2023_12_19_11_43_38_anger_89.png': 0.006772, 'image_analysis/231218Exp15NewFeat/anger/2023_12_19_12_03_15_anger_496.png': 0.333727, 'image_analysis/231218Exp15NewFeat/anger/2023_12_19_11_55_25_anger_341.png': 0.058395, 'image_analysis/231218Exp15NewFeat/anger/2023_12_19_11_40_51_anger_28.png': 0.0269, 'image_analysis/231218Exp15NewFeat/anger/2023_12_19_11_44_05_anger_99.png': 0.002129, 'image_analysis/231218Exp15NewFeat/anger/2023_12_19_12_02_16_anger_477.png': 0.033153, 'image_analysis/231218Exp15NewFeat/anger/2023_12_19_11_45_05_anger_121.png': 0.058706, 'image_analysis/231218Exp15NewFeat/anger/2023_12_19_11_48_04_anger_186.png': 0.099552, 'image_analysis/231218Exp15NewFeat/anger/2023_12_19_11_54_50_anger_329.png': 0.002209, 'image_analysis/231218Exp15NewFeat/anger/2023_12_19_11_53_57_anger_311.png': 0.383414, 'image_analysis/231218Exp15NewFeat/anger/2023_12_19_11_43_05_anger_77.png': 0.082047, 'image_analysis/231218Exp15NewFeat/anger/2023_12_19_11_49_33_anger_218.png': 0.058289, 'image_analysis/231218Exp15NewFeat/anger/2023_12_19_11_43_51_anger_94.png': 0.146669, 'image_analysis/231218Exp15NewFeat/anger/2023_12_19_11_57_50_anger_390.png': 0.129023, 'image_analysis/231218Exp15NewFeat/anger/2023_12_19_11_44_43_anger_113.png': 0.041332, 'image_analysis/231218Exp15NewFeat/anger/2023_12_19_11_47_20_anger_170.png': 0.039359, 'image_analysis/231218Exp15NewFeat/anger/2023_12_19_11_46_22_anger_149.png': 0.381163, 'image_analysis/231218Exp15NewFeat/anger/2023_12_19_11_40_59_anger_31.png': 0.006025, 'image_analysis/231218Exp15NewFeat/anger/2023_12_19_11_47_14_anger_168.png': 0.063295, 'image_analysis/231218Exp15NewFeat/anger/2023_12_19_11_55_07_anger_335.png': 0.013374, 'image_analysis/231218Exp15NewFeat/anger/2023_12_19_11_56_47_anger_369.png': 0.184667, 'image_analysis/231218Exp15NewFeat/anger/2023_12_19_11_51_18_anger_255.png': 0.018218, 'image_analysis/231218Exp15NewFeat/anger/2023_12_19_11_50_58_anger_248.png': 0.224839, 'image_analysis/231218Exp15NewFeat/anger/2023_12_19_12_00_19_anger_439.png': 0.023628, 'image_analysis/231218Exp15NewFeat/anger/2023_12_19_11_41_55_anger_52.png': 0.059512, 'image_analysis/231218Exp15NewFeat/anger/2023_12_19_11_42_38_anger_67.png': 0.128556, 'image_analysis/231218Exp15NewFeat/anger/2023_12_19_11_41_58_anger_53.png': 0.031762, 'image_analysis/231218Exp15NewFeat/anger/2023_12_19_11_48_34_anger_197.png': 0.039055, 'image_analysis/231218Exp15NewFeat/anger/2023_12_19_11_54_00_anger_312.png': 0.025616, 'image_analysis/231218Exp15NewFeat/anger/2023_12_19_11_45_51_anger_138.png': 0.012553, 'image_analysis/231218Exp15NewFeat/anger/2023_12_19_11_59_12_anger_417.png': 0.156019, 'image_analysis/231218Exp15NewFeat/anger/2023_12_19_11_48_07_anger_187.png': 0.010731, 'image_analysis/231218Exp15NewFeat/anger/2023_12_19_11_48_59_anger_206.png': 0.01316, 'image_analysis/231218Exp15NewFeat/anger/2023_12_19_12_02_13_anger_476.png': 0.003562, 'image_analysis/231218Exp15NewFeat/anger/2023_12_19_11_40_35_anger_22.png': 0.016123, 'image_analysis/231218Exp15NewFeat/anger/2023_12_19_11_51_29_anger_259.png': 0.026425, 'image_analysis/231218Exp15NewFeat/anger/2023_12_19_11_52_54_anger_289.png': 0.03886, 'image_analysis/231218Exp15NewFeat/anger/2023_12_19_11_52_26_anger_279.png': 0.046472, 'image_analysis/231218Exp15NewFeat/anger/2023_12_19_12_02_47_anger_487.png': 0.029298, 'image_analysis/231218Exp15NewFeat/anger/2023_12_19_11_47_34_anger_175.png': 0.117444, 'image_analysis/231218Exp15NewFeat/anger/2023_12_19_11_51_09_anger_252.png': 0.105264, 'image_analysis/231218Exp15NewFeat/anger/2023_12_19_12_00_10_anger_436.png': 0.378178, 'image_analysis/231218Exp15NewFeat/anger/2023_12_19_11_39_52_anger_6.png': 0.01497, 'image_analysis/231218Exp15NewFeat/anger/2023_12_19_11_42_52_anger_72.png': 0.189949, 'image_analysis/231218Exp15NewFeat/anger/2023_12_19_11_57_44_anger_388.png': 0.482286, 'image_analysis/231218Exp15NewFeat/anger/2023_12_19_11_55_49_anger_349.png': 0.21958, 'image_analysis/231218Exp15NewFeat/anger/2023_12_19_11_43_19_anger_82.png': 0.478982, 'image_analysis/231218Exp15NewFeat/anger/2023_12_19_11_56_30_anger_363.png': 0.461695, 'image_analysis/231218Exp15NewFeat/anger/2023_12_19_11_56_44_anger_368.png': 0.332185, 'image_analysis/231218Exp15NewFeat/anger/2023_12_19_11_58_20_anger_400.png': 0.00271, 'image_analysis/231218Exp15NewFeat/anger/2023_12_19_11_55_16_anger_338.png': 0.056434, 'image_analysis/231218Exp15NewFeat/anger/2023_12_19_11_52_51_anger_288.png': 0.107177, 'image_analysis/231218Exp15NewFeat/anger/2023_12_19_11_46_13_anger_146.png': 0.088199, 'image_analysis/231218Exp15NewFeat/anger/2023_12_19_11_49_41_anger_221.png': 0.201219, 'image_analysis/231218Exp15NewFeat/anger/2023_12_19_11_57_20_anger_380.png': 0.073816, 'image_analysis/231218Exp15NewFeat/anger/2023_12_19_11_58_14_anger_398.png': 0.008904, 'image_analysis/231218Exp15NewFeat/anger/2023_12_19_11_43_36_anger_88.png': 0.02707, 'image_analysis/231218Exp15NewFeat/anger/2023_12_19_11_50_15_anger_233.png': 0.015094, 'image_analysis/231218Exp15NewFeat/anger/2023_12_19_11_40_32_anger_21.png': 0.030041, 'image_analysis/231218Exp15NewFeat/anger/2023_12_19_12_02_04_anger_473.png': 0.025042, 'image_analysis/231218Exp15NewFeat/anger/2023_12_19_11_58_17_anger_399.png': 0.065039, 'image_analysis/231218Exp15NewFeat/anger/2023_12_19_11_55_40_anger_346.png': 0.019908, 'image_analysis/231218Exp15NewFeat/anger/2023_12_19_11_51_49_anger_266.png': 0.262253, 'image_analysis/231218Exp15NewFeat/anger/2023_12_19_11_39_42_anger_2.png': 0.001361, 'image_analysis/231218Exp15NewFeat/anger/2023_12_19_12_02_01_anger_472.png': 0.024576, 'image_analysis/231218Exp15NewFeat/anger/2023_12_19_11_54_27_anger_321.png': 0.043126, 'image_analysis/231218Exp15NewFeat/anger/2023_12_19_11_51_43_anger_264.png': 0.022679, 'image_analysis/231218Exp15NewFeat/anger/2023_12_19_11_53_11_anger_295.png': 0.045126, 'image_analysis/231218Exp15NewFeat/anger/2023_12_19_11_40_54_anger_29.png': 0.01187, 'image_analysis/231218Exp15NewFeat/anger/2023_12_19_11_53_40_anger_305.png': 0.262605, 'image_analysis/231218Exp15NewFeat/anger/2023_12_19_11_40_43_anger_25.png': 0.135133, 'image_analysis/231218Exp15NewFeat/anger/2023_12_19_12_00_50_anger_449.png': 0.009696, 'image_analysis/231218Exp15NewFeat/anger/2023_12_19_11_46_47_anger_158.png': 0.030671, 'image_analysis/231218Exp15NewFeat/anger/2023_12_19_11_53_43_anger_306.png': 0.009906, 'image_analysis/231218Exp15NewFeat/anger/2023_12_19_11_53_49_anger_308.png': 0.108827, 'image_analysis/231218Exp15NewFeat/anger/2023_12_19_11_51_06_anger_251.png': 0.10871, 'image_analysis/231218Exp15NewFeat/anger/2023_12_19_11_59_55_anger_431.png': 0.024643, 'image_analysis/231218Exp15NewFeat/anger/2023_12_19_11_47_17_anger_169.png': 0.2394, 'image_analysis/231218Exp15NewFeat/anger/2023_12_19_12_00_07_anger_435.png': 0.260545, 'image_analysis/231218Exp15NewFeat/anger/2023_12_19_11_55_19_anger_339.png': 0.008701, 'image_analysis/231218Exp15NewFeat/anger/2023_12_19_11_53_00_anger_291.png': 0.010136, 'image_analysis/231218Exp15NewFeat/anger/2023_12_19_11_58_50_anger_410.png': 0.422951, 'image_analysis/231218Exp15NewFeat/anger/2023_12_19_11_51_20_anger_256.png': 0.000556, 'image_analysis/231218Exp15NewFeat/anger/2023_12_19_11_43_33_anger_87.png': 0.016036, 'image_analysis/231218Exp15NewFeat/anger/2023_12_19_12_01_51_anger_469.png': 0.095695, 'image_analysis/231218Exp15NewFeat/anger/2023_12_19_11_53_17_anger_297.png': 0.001039, 'image_analysis/231218Exp15NewFeat/anger/2023_12_19_11_59_00_anger_413.png': 0.181383, 'image_analysis/231218Exp15NewFeat/anger/2023_12_19_12_02_10_anger_475.png': 0.026123, 'image_analysis/231218Exp15NewFeat/anger/2023_12_19_11_46_50_anger_159.png': 0.004786, 'image_analysis/231218Exp15NewFeat/anger/2023_12_19_12_00_13_anger_437.png': 0.001819}\n"
     ]
    }
   ],
   "source": [
    "print(ALL_dic['anger'])"
   ]
  },
  {
   "cell_type": "code",
   "execution_count": null,
   "metadata": {},
   "outputs": [],
   "source": []
  },
  {
   "cell_type": "code",
   "execution_count": 21,
   "metadata": {},
   "outputs": [
    {
     "data": {
      "text/plain": [
       "{'image_analysis/231219Exp16Feat037/anger/2023_12_19_15_10_59_anger_474.png': 0.013084,\n",
       " 'image_analysis/231219Exp16Feat037/anger/2023_12_19_15_04_21_anger_347.png': 0.135225,\n",
       " 'image_analysis/231219Exp16Feat037/anger/2023_12_19_15_02_27_anger_308.png': 0.449606,\n",
       " 'image_analysis/231219Exp16Feat037/anger/2023_12_19_15_03_30_anger_330.png': 0.026985,\n",
       " 'image_analysis/231219Exp16Feat037/anger/2023_12_19_15_06_16_anger_386.png': 0.048187,\n",
       " 'image_analysis/231219Exp16Feat037/anger/2023_12_19_15_01_56_anger_298.png': 0.05281,\n",
       " 'image_analysis/231219Exp16Feat037/anger/2023_12_19_15_06_26_anger_389.png': 0.467451,\n",
       " 'image_analysis/231219Exp16Feat037/anger/2023_12_19_15_08_57_anger_437.png': 0.273106,\n",
       " 'image_analysis/231219Exp16Feat037/anger/2023_12_19_14_54_37_anger_138.png': 0.021715,\n",
       " 'image_analysis/231219Exp16Feat037/anger/2023_12_19_15_02_59_anger_319.png': 0.370781,\n",
       " 'image_analysis/231219Exp16Feat037/anger/2023_12_19_15_11_17_anger_480.png': 0.003828}"
      ]
     },
     "execution_count": 21,
     "metadata": {},
     "output_type": "execute_result"
    }
   ],
   "source": [
    "import copy\n",
    "import os\n",
    "for target_emotion in ['anger']:\n",
    "    \n",
    "    result_dic = {}\n",
    "    \n",
    "    folderName = os.path.join('image_analysis/231218Exp15NewFeat/', target_emotion)\n",
    "    ls_name = os.listdir(folderName)\n",
    "    for i in ls_name:\n",
    "        if 'emotion' in i:\n",
    "            mypath = os.path.join(folderName, i)\n",
    "            \n",
    "            # feat analyze\n",
    "#             df = detector.detect_image(mypath)\n",
    "#             result = df[target_emotion][0] \n",
    "            \n",
    "            # csv analyze\n",
    "            temp = pd.read_csv(mypath)\n",
    "            result = temp[target_emotion][0]\n",
    "            result = round(result, 6)\n",
    "            fileName = temp['input'][0]\n",
    "            result_dic[os.path.join(folderName, i[:-12] + '.png')] = result\n",
    "    print('new feat emo finished')\n",
    "    \n",
    "\n",
    "    folderName = os.path.join('image_analysis/231219Exp16Feat037/', target_emotion)\n",
    "    ls_name = os.listdir(folderName)\n",
    "    count = 0\n",
    "    for i in ls_name:\n",
    "        if 'png' in i:\n",
    "            mypath = os.path.join(folderName, i)\n",
    "            \n",
    "            # feat analyze\n",
    "            df = detector.detect_image(mypath)\n",
    "            result = df[target_emotion][0] \n",
    "            \n",
    "            # csv analyze\n",
    "#             temp = pd.read_csv(mypath)\n",
    "#             result = temp[target_emotion][0]\n",
    "            result = round(result, 6)\n",
    "            fileName = df['input'][0]\n",
    "            result_dic[fileName] = result\n",
    "            \n",
    "            count += 1\n",
    "            if count > 10:\n",
    "                break\n",
    "    print('old ver image new feat analyze finished')\n",
    "    "
   ]
  },
  {
   "cell_type": "markdown",
   "metadata": {},
   "source": [
    "# choose top 10"
   ]
  },
  {
   "cell_type": "markdown",
   "metadata": {},
   "source": [
    "## ALL_dic, top 50"
   ]
  },
  {
   "cell_type": "code",
   "execution_count": 19,
   "metadata": {},
   "outputs": [
    {
     "name": "stdout",
     "output_type": "stream",
     "text": [
      "['image_analysis/231218Exp15NewFeat/happiness/2023_12_19_13_14_42_happiness_337.png', 0.956833]\n",
      "['image_analysis/231218Exp15NewFeat/happiness/2023_12_19_13_20_47_happiness_443.png', 0.951191]\n",
      "['image_analysis/231218Exp15NewFeat/happiness/2023_12_19_13_15_05_happiness_344.png', 0.950566]\n",
      "['image_analysis/231218Exp15NewFeat/happiness/2023_12_19_13_14_38_happiness_336.png', 0.95015]\n",
      "['image_analysis/231218Exp15NewFeat/happiness/2023_12_19_13_21_39_happiness_457.png', 0.946825]\n",
      "['image_analysis/231218Exp15NewFeat/happiness/2023_12_19_13_16_14_happiness_365.png', 0.944964]\n",
      "['image_analysis/231218Exp15NewFeat/happiness/2023_12_19_13_13_21_happiness_313.png', 0.944349]\n",
      "['image_analysis/231218Exp15NewFeat/happiness/2023_12_19_13_19_57_happiness_429.png', 0.942714]\n",
      "['image_analysis/231218Exp15NewFeat/happiness/2023_12_19_13_18_39_happiness_407.png', 0.939112]\n",
      "['image_analysis/231218Exp15NewFeat/happiness/2023_12_19_13_12_17_happiness_294.png', 0.938941]\n",
      "['image_analysis/231218Exp15NewFeat/happiness/2023_12_19_13_14_09_happiness_327.png', 0.93535]\n",
      "['image_analysis/231218Exp15NewFeat/happiness/2023_12_19_13_15_01_happiness_343.png', 0.933883]\n",
      "['image_analysis/231218Exp15NewFeat/happiness/2023_12_19_13_16_33_happiness_370.png', 0.933322]\n",
      "['image_analysis/231218Exp15NewFeat/happiness/2023_12_19_13_16_44_happiness_373.png', 0.932397]\n",
      "['image_analysis/231218Exp15NewFeat/happiness/2023_12_19_13_21_13_happiness_450.png', 0.932199]\n",
      "['image_analysis/231218Exp15NewFeat/happiness/2023_12_19_13_16_29_happiness_369.png', 0.932169]\n",
      "['image_analysis/231218Exp15NewFeat/happiness/2023_12_19_13_17_24_happiness_385.png', 0.931824]\n",
      "['image_analysis/231218Exp15NewFeat/happiness/2023_12_19_13_20_59_happiness_446.png', 0.93073]\n",
      "['image_analysis/231218Exp15NewFeat/happiness/2023_12_19_13_04_11_happiness_146.png', 0.929506]\n",
      "['image_analysis/231218Exp15NewFeat/happiness/2023_12_19_13_11_55_happiness_287.png', 0.927202]\n",
      "['image_analysis/231218Exp15NewFeat/happiness/2023_12_19_13_22_16_happiness_467.png', 0.924615]\n",
      "['image_analysis/231218Exp15NewFeat/happiness/2023_12_19_13_11_20_happiness_276.png', 0.921775]\n",
      "['image_analysis/231218Exp15NewFeat/happiness/2023_12_19_13_08_41_happiness_228.png', 0.921352]\n",
      "['image_analysis/231218Exp15NewFeat/happiness/2023_12_19_13_14_52_happiness_340.png', 0.920534]\n",
      "['image_analysis/231218Exp15NewFeat/happiness/2023_12_19_13_06_44_happiness_193.png', 0.919601]\n",
      "['image_analysis/231218Exp15NewFeat/happiness/2023_12_19_13_22_25_happiness_469.png', 0.916838]\n",
      "['image_analysis/231218Exp15NewFeat/happiness/2023_12_19_13_07_57_happiness_215.png', 0.916164]\n",
      "['image_analysis/231218Exp15NewFeat/happiness/2023_12_19_13_21_02_happiness_447.png', 0.915599]\n",
      "['image_analysis/231218Exp15NewFeat/happiness/2023_12_19_13_06_02_happiness_180.png', 0.915296]\n",
      "['image_analysis/231218Exp15NewFeat/happiness/2023_12_19_13_08_07_happiness_218.png', 0.914777]\n"
     ]
    }
   ],
   "source": [
    "for target_emotion in ['happiness']:\n",
    "    res_value_order = sorted(ALL_dic[target_emotion].items(), key=lambda item: item[1], reverse = True)\n",
    "    res_value_order = [list(x) for x in res_value_order[:30]]\n",
    "#     print(target_emotion)\n",
    "    for i in res_value_order:\n",
    "            print(i)\n",
    "#     print(res_value_order)\n",
    "#     print()\n",
    "\n",
    "\n",
    "# len(ALL_dic[target_emotion])"
   ]
  },
  {
   "cell_type": "code",
   "execution_count": 26,
   "metadata": {},
   "outputs": [
    {
     "data": {
      "text/plain": [
       "45372"
      ]
     },
     "execution_count": 26,
     "metadata": {},
     "output_type": "execute_result"
    }
   ],
   "source": [
    "6440*2+14300+4400+431*16*2"
   ]
  },
  {
   "cell_type": "code",
   "execution_count": 27,
   "metadata": {},
   "outputs": [
    {
     "data": {
      "text/plain": [
       "6896"
      ]
     },
     "execution_count": 27,
     "metadata": {},
     "output_type": "execute_result"
    }
   ],
   "source": [
    "431*16"
   ]
  },
  {
   "cell_type": "code",
   "execution_count": 23,
   "metadata": {},
   "outputs": [
    {
     "name": "stdout",
     "output_type": "stream",
     "text": [
      "[['image_analysis/231218Exp15NewFeat/happiness/2023_12_19_13_14_42_happiness_337.png', 0.956833], ['image_analysis/231218Exp15NewFeat/happiness/2023_12_19_13_20_47_happiness_443.png', 0.951191], ['image_analysis/231218Exp15NewFeat/happiness/2023_12_19_13_15_05_happiness_344.png', 0.950566], ['image_analysis/231218Exp15NewFeat/happiness/2023_12_19_13_14_38_happiness_336.png', 0.95015], ['image_analysis/231218Exp15NewFeat/happiness/2023_12_19_13_21_39_happiness_457.png', 0.946825], ['image_analysis/231218Exp15NewFeat/happiness/2023_12_19_13_16_14_happiness_365.png', 0.944964], ['image_analysis/231218Exp15NewFeat/happiness/2023_12_19_13_13_21_happiness_313.png', 0.944349], ['image_analysis/231218Exp15NewFeat/happiness/2023_12_19_13_19_57_happiness_429.png', 0.942714], ['image_analysis/231218Exp15NewFeat/happiness/2023_12_19_13_18_39_happiness_407.png', 0.939112], ['image_analysis/231218Exp15NewFeat/happiness/2023_12_19_13_12_17_happiness_294.png', 0.938941], ['image_analysis/231218Exp15NewFeat/happiness/2023_12_19_13_14_09_happiness_327.png', 0.93535], ['image_analysis/231218Exp15NewFeat/happiness/2023_12_19_13_15_01_happiness_343.png', 0.933883], ['image_analysis/231218Exp15NewFeat/happiness/2023_12_19_13_16_33_happiness_370.png', 0.933322], ['image_analysis/231218Exp15NewFeat/happiness/2023_12_19_13_16_44_happiness_373.png', 0.932397], ['image_analysis/231218Exp15NewFeat/happiness/2023_12_19_13_21_13_happiness_450.png', 0.932199], ['image_analysis/231218Exp15NewFeat/happiness/2023_12_19_13_16_29_happiness_369.png', 0.932169], ['image_analysis/231218Exp15NewFeat/happiness/2023_12_19_13_17_24_happiness_385.png', 0.931824], ['image_analysis/231218Exp15NewFeat/happiness/2023_12_19_13_20_59_happiness_446.png', 0.93073], ['image_analysis/231218Exp15NewFeat/happiness/2023_12_19_13_04_11_happiness_146.png', 0.929506], ['image_analysis/231218Exp15NewFeat/happiness/2023_12_19_13_11_55_happiness_287.png', 0.927202], ['image_analysis/231218Exp15NewFeat/happiness/2023_12_19_13_22_16_happiness_467.png', 0.924615], ['image_analysis/231218Exp15NewFeat/happiness/2023_12_19_13_11_20_happiness_276.png', 0.921775], ['image_analysis/231218Exp15NewFeat/happiness/2023_12_19_13_08_41_happiness_228.png', 0.921352], ['image_analysis/231218Exp15NewFeat/happiness/2023_12_19_13_14_52_happiness_340.png', 0.920534], ['image_analysis/231218Exp15NewFeat/happiness/2023_12_19_13_06_44_happiness_193.png', 0.919601], ['image_analysis/231218Exp15NewFeat/happiness/2023_12_19_13_22_25_happiness_469.png', 0.916838], ['image_analysis/231218Exp15NewFeat/happiness/2023_12_19_13_07_57_happiness_215.png', 0.916164], ['image_analysis/231218Exp15NewFeat/happiness/2023_12_19_13_21_02_happiness_447.png', 0.915599], ['image_analysis/231218Exp15NewFeat/happiness/2023_12_19_13_06_02_happiness_180.png', 0.915296], ['image_analysis/231218Exp15NewFeat/happiness/2023_12_19_13_08_07_happiness_218.png', 0.914777], ['image_analysis/231218Exp15NewFeat/happiness/2023_12_19_13_23_19_happiness_484.png', 0.913821], ['image_analysis/231218Exp15NewFeat/happiness/2023_12_19_13_11_48_happiness_285.png', 0.913365], ['image_analysis/231218Exp15NewFeat/happiness/2023_12_19_13_21_58_happiness_462.png', 0.911515], ['image_analysis/231218Exp15NewFeat/happiness/2023_12_19_13_13_49_happiness_321.png', 0.910806], ['image_analysis/231218Exp15NewFeat/happiness/2023_12_19_13_18_35_happiness_406.png', 0.910584], ['image_analysis/231218Exp15NewFeat/happiness/2023_12_19_13_16_37_happiness_371.png', 0.910564], ['image_analysis/231218Exp15NewFeat/happiness/2023_12_19_13_11_27_happiness_278.png', 0.910493], ['image_analysis/231218Exp15NewFeat/happiness/2023_12_19_13_23_15_happiness_483.png', 0.910242], ['image_analysis/231218Exp15NewFeat/happiness/2023_12_19_13_11_16_happiness_275.png', 0.909978], ['image_analysis/231218Exp15NewFeat/happiness/2023_12_19_13_08_49_happiness_230.png', 0.908898], ['image_analysis/231218Exp15NewFeat/happiness/2023_12_19_13_15_48_happiness_357.png', 0.908892], ['image_analysis/231218Exp15NewFeat/happiness/2023_12_19_13_07_15_happiness_202.png', 0.908821], ['image_analysis/231218Exp15NewFeat/happiness/2023_12_19_13_19_42_happiness_425.png', 0.907925], ['image_analysis/231218Exp15NewFeat/happiness/2023_12_19_13_17_20_happiness_384.png', 0.906674], ['image_analysis/231218Exp15NewFeat/happiness/2023_12_19_13_08_18_happiness_221.png', 0.906671], ['image_analysis/231218Exp15NewFeat/happiness/2023_12_19_13_09_24_happiness_241.png', 0.906305], ['image_analysis/231218Exp15NewFeat/happiness/2023_12_19_13_24_07_happiness_497.png', 0.904271], ['image_analysis/231218Exp15NewFeat/happiness/2023_12_19_13_13_17_happiness_312.png', 0.903765], ['image_analysis/231218Exp15NewFeat/happiness/2023_12_19_13_17_01_happiness_378.png', 0.902309], ['image_analysis/231218Exp15NewFeat/happiness/2023_12_19_13_19_19_happiness_418.png', 0.902022]]\n"
     ]
    }
   ],
   "source": [
    "res_value_order = sorted(ALL_dic['happiness'].items(), key=lambda item: item[1], reverse = True)\n",
    "res_value_order = [list(x) for x in res_value_order[:50]]\n",
    "print(res_value_order)\n",
    "# copyImageToNewFolder(res_value_order, 'happiness')"
   ]
  },
  {
   "cell_type": "code",
   "execution_count": 12,
   "metadata": {},
   "outputs": [],
   "source": [
    "an_temp = [['image_analysis/231219Exp16Feat037/anger/2023_12_19_14_58_49_anger_230.png', 0.877257], ['image_analysis/231219Exp16Feat037/anger/2023_12_19_14_51_46_anger_69.png', 0.862081], ['image_analysis/231219Exp16Feat037/anger/2023_12_19_14_51_19_anger_58.png', 0.8548], ['image_analysis/231219Exp16Feat037/anger/2023_12_19_14_53_06_anger_102.png', 0.850181], ['image_analysis/231219Exp16Feat037/anger/2023_12_19_14_51_51_anger_71.png', 0.84205], ['image_analysis/231219Exp16Feat037/anger/2023_12_19_15_10_12_anger_460.png', 0.83136], ['image_analysis/231219Exp16Feat037/anger/2023_12_19_15_10_44_anger_469.png', 0.825715], ['image_analysis/231219Exp16Feat037/anger/2023_12_19_15_07_47_anger_414.png', 0.823748], ['image_analysis/231219Exp16Feat037/anger/2023_12_19_14_52_11_anger_79.png', 0.821694], ['image_analysis/231219Exp16Feat037/anger/2023_12_19_15_03_28_anger_329.png', 0.821136]]"
   ]
  },
  {
   "cell_type": "code",
   "execution_count": 6,
   "metadata": {},
   "outputs": [
    {
     "ename": "NameError",
     "evalue": "name 'an_temp' is not defined",
     "output_type": "error",
     "traceback": [
      "\u001b[0;31m---------------------------------------------------------------------------\u001b[0m",
      "\u001b[0;31mNameError\u001b[0m                                 Traceback (most recent call last)",
      "\u001b[0;32m/tmp/ipykernel_1637191/4026270298.py\u001b[0m in \u001b[0;36m<module>\u001b[0;34m\u001b[0m\n\u001b[1;32m     43\u001b[0m     \u001b[0mres_value_order\u001b[0m \u001b[0;34m=\u001b[0m \u001b[0;34m[\u001b[0m\u001b[0mlist\u001b[0m\u001b[0;34m(\u001b[0m\u001b[0mx\u001b[0m\u001b[0;34m)\u001b[0m \u001b[0;32mfor\u001b[0m \u001b[0mx\u001b[0m \u001b[0;32min\u001b[0m \u001b[0mres_value_order\u001b[0m\u001b[0;34m[\u001b[0m\u001b[0;34m:\u001b[0m\u001b[0;36m100\u001b[0m\u001b[0;34m]\u001b[0m\u001b[0;34m]\u001b[0m\u001b[0;34m\u001b[0m\u001b[0;34m\u001b[0m\u001b[0m\n\u001b[1;32m     44\u001b[0m \u001b[0;34m\u001b[0m\u001b[0m\n\u001b[0;32m---> 45\u001b[0;31m     \u001b[0mres_value_order\u001b[0m \u001b[0;34m=\u001b[0m \u001b[0man_temp\u001b[0m\u001b[0;34m\u001b[0m\u001b[0;34m\u001b[0m\u001b[0m\n\u001b[0m\u001b[1;32m     46\u001b[0m \u001b[0;31m#     print(target_emotion)\u001b[0m\u001b[0;34m\u001b[0m\u001b[0;34m\u001b[0m\u001b[0;34m\u001b[0m\u001b[0m\n\u001b[1;32m     47\u001b[0m \u001b[0;31m#     print(res_value_order)\u001b[0m\u001b[0;34m\u001b[0m\u001b[0;34m\u001b[0m\u001b[0;34m\u001b[0m\u001b[0m\n",
      "\u001b[0;31mNameError\u001b[0m: name 'an_temp' is not defined"
     ]
    }
   ],
   "source": [
    "# ALL_dic\n",
    "import matplotlib.pyplot as plt\n",
    "NUM_OF_SELECT = 4 - 1\n",
    "\n",
    "def get_img_array(path, show=False):\n",
    "    original_image = Image.open(path)\n",
    "    # use crop, by hand\n",
    "    \n",
    "#     print(original_image.size)\n",
    "    # Define the crop area\n",
    "    left = 280  # X-coordinate of the top left corner\n",
    "    top = 75   # Y-coordinate of the top left corner\n",
    "    right = 1000 # X-coordinate of the bottom right corner\n",
    "    bottom = 700 # Y-coordinate of the bottom right corner\n",
    "    crop_area = (left, top, right, bottom)\n",
    "\n",
    "    # Crop the image\n",
    "    cropped_image = original_image.crop(crop_area)\n",
    "#     print(cropped_image.size)\n",
    "\n",
    "#     tmp_img_reshape = tmp_img.resize((320, 240))\n",
    "    \n",
    "    if show:\n",
    "        # Display the image\n",
    "        plt.imshow(cropped_image)\n",
    "        plt.axis('off')  # Turn off axis numbers\n",
    "        plt.show()\n",
    "    \n",
    "    # convert the images to (R,G,B) arrays\n",
    "    tmp_img_array = np.array(cropped_image)\n",
    "    \n",
    "    # flatten the arrays so they are 1 dimensional vectors\n",
    "    tmp_img_array = tmp_img_array.flatten()\n",
    "    \n",
    "    # divide the arrays by 255, the maximum RGB value to make sure every value is on a 0-1 scale\n",
    "    tmp_img_array = tmp_img_array/255\n",
    "    \n",
    "    return tmp_img_array\n",
    "\n",
    "# for target_emotion in ['anger', 'disgust', 'fear', 'happiness', 'sadness', 'surprise']:\n",
    "for target_emotion in ['anger']:\n",
    "    res_value_order = sorted(ALL_dic[target_emotion].items(), key=lambda item: item[1], reverse = True)\n",
    "    res_value_order = [list(x) for x in res_value_order[:20]]\n",
    "    \n",
    "    res_value_order = an_temp\n",
    "#     print(target_emotion)\n",
    "#     print(res_value_order)\n",
    "#     print()\n",
    "    \n",
    "    # get all img array\n",
    "    res_img_array = {}\n",
    "\n",
    "    for i in res_value_order:\n",
    "        temp_img_array = get_img_array(i[0])\n",
    "        res_img_array[i[0]] = [i[1], temp_img_array]\n",
    "    \n",
    "    \n",
    "\n",
    "    # compute all similarity\n",
    "    data_length = len(res_img_array.keys())\n",
    "    nameList = list(res_img_array.keys())\n",
    "    cos_dis_result = {}\n",
    "    cos_dis_result_listform = []\n",
    "    counter = 0\n",
    "    for i in range(data_length):\n",
    "        for j in range(i + 1, data_length):\n",
    "            vec1 = res_img_array[nameList[i]][1]\n",
    "            vec2 = res_img_array[nameList[j]][1]\n",
    "            cos_dis = cal_cosine_distance(vec1, vec2)\n",
    "            if cos_dis == 0.0:\n",
    "                raise Exception('ERROR, counter is ' + str(counter), i, j)\n",
    "            tmp = [nameList[i], nameList[j], cos_dis]\n",
    "            cos_dis_result_listform.append(tmp)\n",
    "            cos_dis_result[counter] = tmp\n",
    "            counter += 1\n",
    "            \n",
    "            \n",
    "    rescale_cos_dis_result = rescale(cos_dis_result)\n",
    "    \n",
    "    # in this dic, I use all img name as the first id of the dic, there inner dic, which contains all the img name except itself.\n",
    "    # I store the rating in the inner dic\n",
    "    #     print('res_img_array', res_img_array)\n",
    "    res_dic_rescaled_cos_dis = {i:{} for i in res_img_array.keys()}\n",
    "    \n",
    "    for i in rescale_cos_dis_result:\n",
    "        tempa = i[1][0]\n",
    "        tempb = i[1][1]\n",
    "        temp_score = i[1][2]\n",
    "        res_dic_rescaled_cos_dis[tempa][tempb] = temp_score\n",
    "        res_dic_rescaled_cos_dis[tempb][tempa] = temp_score    \n",
    "\n",
    "    # greedy search\n",
    "#     print('res_dic_rescaled_cos_dis', res_dic_rescaled_cos_dis)\n",
    "    \n",
    "    count = 1\n",
    "    finalResult = []\n",
    "    finalResult.append(res_value_order[0])\n",
    "#     finalResult.append(res_value_order[-1])\n",
    "    x_list = []\n",
    "    # print(finalResult)\n",
    "    for i in range(len(finalResult)):\n",
    "        x_list.append(finalResult[i][0])\n",
    "    # print(x_list)\n",
    "    for count in range(NUM_OF_SELECT):\n",
    "        # for storing the distance from the selected list to others \n",
    "        y_list = []\n",
    "\n",
    "        # find interest keys, which is not in x_list\n",
    "        cur_keys = ''\n",
    "\n",
    "        for i in x_list:\n",
    "            if cur_keys == '':\n",
    "                cur_keys = res_dic_rescaled_cos_dis[i].keys()\n",
    "            else:\n",
    "                type(cur_keys)\n",
    "                cur_keys = cur_keys & res_dic_rescaled_cos_dis[i].keys()\n",
    "        cur_dic = dict.fromkeys(cur_keys, 0)\n",
    "        for k in x_list:\n",
    "            assert k not in cur_dic \n",
    "        for i in cur_dic.keys():\n",
    "            for j in x_list:\n",
    "                cur_dic[i] += res_dic_rescaled_cos_dis[i][j]\n",
    "    #     print(len(cur_keys))\n",
    "        largeest_dis_target_name = max(cur_dic, key=cur_dic.get)\n",
    "        pos_of_largeest_dis_target_name = [index1 for index1,value1 in \n",
    "         enumerate(res_value_order) for index2,value2 in enumerate(value1) if value2==largeest_dis_target_name][0]\n",
    "        x_list.append(largeest_dis_target_name)\n",
    "        finalResult.append(res_value_order[pos_of_largeest_dis_target_name])\n",
    "        \n",
    "#     finalResult = sorted(finalResult, key=lambda x: x[1], reverse = True)\n",
    "#     print(finalResult[:10])"
   ]
  },
  {
   "cell_type": "code",
   "execution_count": 14,
   "metadata": {},
   "outputs": [
    {
     "name": "stdout",
     "output_type": "stream",
     "text": [
      "[['image_analysis/231219Exp16Feat037/anger/2023_12_19_14_58_49_anger_230.png', 0.877257], ['image_analysis/231219Exp16Feat037/anger/2023_12_19_14_51_19_anger_58.png', 0.8548], ['image_analysis/231219Exp16Feat037/anger/2023_12_19_15_10_44_anger_469.png', 0.825715], ['image_analysis/231219Exp16Feat037/anger/2023_12_19_14_51_46_anger_69.png', 0.862081]]\n"
     ]
    }
   ],
   "source": [
    "print(finalResult)"
   ]
  },
  {
   "cell_type": "code",
   "execution_count": 28,
   "metadata": {},
   "outputs": [],
   "source": [
    "# selected\n",
    "selected_Online_Exp_2 = {}\n",
    "selected_Online_Exp_2['anger'] = [['image_analysis/231219Exp16Feat037/anger/2023_12_19_14_58_49_anger_230.png', 0.877257], ['image_analysis/231219Exp16Feat037/anger/2023_12_19_14_51_19_anger_58.png', 0.8548], ['image_analysis/231219Exp16Feat037/anger/2023_12_19_15_10_44_anger_469.png', 0.825715], ['image_analysis/231219Exp16Feat037/anger/2023_12_19_14_51_46_anger_69.png', 0.862081]]\n",
    "selected_Online_Exp_2['disgust'] = [['image_analysis/231219Exp16Feat037/disgust/2023_12_19_16_38_10_disgust_446.png', 0.935409], ['image_analysis/231218Exp15NewFeat/disgust/2023_12_19_12_12_37_disgust_192.png', 0.933728], ['image_analysis/231218Exp15NewFeat/disgust/2023_12_19_12_13_54_disgust_215.png', 0.922659], ['image_analysis/231219Exp16Feat037/disgust/2023_12_19_16_32_44_disgust_325.png', 0.922036]]\n",
    "selected_Online_Exp_2['fear'] = [['image_analysis/231219Exp16Feat037/fear/2023_12_19_16_55_14_fear_356.png', 0.938642], ['image_analysis/231218Exp15NewFeat/fear/2023_12_19_12_46_22_fear_321.png', 0.930199], ['image_analysis/231218Exp15NewFeat/fear/2023_12_19_12_40_52_fear_218.png', 0.914898], ['image_analysis/231219Exp16Feat037/fear/2023_12_19_17_01_10_fear_491.png', 0.911653]]\n",
    "selected_Online_Exp_2['happiness'] = [['image_analysis/231218Exp15NewFeat/happiness/2023_12_19_13_14_42_happiness_337.png', 0.956833], ['image_analysis/231218Exp15NewFeat/happiness/2023_12_19_15_24_06_happiness_278.png', 0.910493], ['image_analysis/231218Exp15NewFeat/happiness/2023_12_19_13_17_34_happiness_388.png', 0.8365], ['image_analysis/231218Exp15NewFeat/happiness/2023_12_19_15_26_26_happiness_334.png', 0.4834]]\n",
    "selected_Online_Exp_2['sadness'] = [['image_analysis/231219Exp16Feat037/sadness/2023_12_19_15_51_40_sadness_370.png', 0.92779], ['image_analysis/231218Exp15NewFeat/sadness/2023_12_19_13_28_55_sadness_79.png', 0.904773], ['image_analysis/231219Exp16Feat037/sadness/2023_12_19_15_55_02_sadness_437.png', 0.904087], ['image_analysis/231219Exp16Feat037/sadness/2023_12_19_15_47_59_sadness_293.png', 0.901349]]\n",
    "selected_Online_Exp_2['surprise'] = [['image_analysis/231218Exp15NewFeat/surprise/2023_12_19_13_57_55_surprise_101.png', 0.998629], ['image_analysis/231219Exp16Feat037/surprise/2023_12_19_16_00_58_surprise_64.png', 0.997973], ['image_analysis/231219Exp16Feat037/surprise/2023_12_19_16_19_25_surprise_496.png', 0.997658], ['image_analysis/231218Exp15NewFeat/surprise/2023_12_19_13_55_34_surprise_55.png', 0.997651]]\n",
    "\n"
   ]
  },
  {
   "cell_type": "code",
   "execution_count": null,
   "metadata": {},
   "outputs": [],
   "source": []
  },
  {
   "cell_type": "code",
   "execution_count": 15,
   "metadata": {},
   "outputs": [],
   "source": [
    "# COPY_FLAG = 0 # 1 is copy, 0 - no copy\n",
    "# NUM_OF_SELECT = 5 - 1\n",
    "\n",
    "# # get all img array, for anger\n",
    "# for target_emotion in ['anger', 'disgust', 'fear', 'happiness', 'sadness', 'surprise']:\n",
    "#     folderName = os.path.join('image_analysis/211223ExpHumanoidRaw/Exp7HumanoidRaw/', target_emotion)\n",
    "#     ls_name = os.listdir(folderName)\n",
    "# #     print(ls_name)\n",
    "#     result_dic = {}\n",
    "\n",
    "#     for i in ls_name:\n",
    "#         if 'emotion' in i:\n",
    "#             mypath = os.path.join(folderName, i)\n",
    "#             temp = pd.read_csv(mypath)\n",
    "#             result = temp[target_emotion][0]\n",
    "#             result = round(result, 6)\n",
    "#             fileName = temp['input'][0]\n",
    "#             result_dic[i[:-12] + '.png'] = result\n",
    "#     # sort in value order \n",
    "#     res_value_order = sorted(result_dic.items(), key=lambda item: item[1], reverse = True)\n",
    "    \n",
    "#     ##### choose top 10\n",
    "#     res_value_order = res_value_order[:10]\n",
    "#     print(target_emotion)\n",
    "# #     print(len(res_value_order))\n",
    "# #     print(len(res_value_order))\n",
    "#     for i in res_value_order:\n",
    "#         print(i)\n",
    "#     print()"
   ]
  },
  {
   "cell_type": "code",
   "execution_count": 48,
   "metadata": {},
   "outputs": [
    {
     "name": "stdout",
     "output_type": "stream",
     "text": [
      "10\n",
      "max is: 0.0013050432051180394 \n",
      "min is: 9.090029064962035e-05\n",
      "rescaling...\n",
      "rescaled.\n",
      "2021_12_23_15_32_12_anger_772.png 0.936236\n",
      "2021_12_23_15_33_23_anger_902.png 0.913679\n",
      "2021_12_23_15_30_17_anger_562.png 0.914131\n",
      "2021_12_23_15_27_09_anger_212.png 0.931665\n",
      "2021_12_23_15_30_51_anger_622.png 0.929667\n",
      "10\n",
      "max is: 0.0011884868817438887 \n",
      "min is: 0.00012923191170677306\n",
      "rescaling...\n",
      "rescaled.\n",
      "2021_12_23_15_42_21_disgust_822.png 0.827066\n",
      "2021_12_23_15_36_16_disgust_142.png 0.756644\n",
      "2021_12_23_15_42_43_disgust_862.png 0.767849\n",
      "2021_12_23_15_40_02_disgust_562.png 0.803605\n",
      "2021_12_23_15_42_00_disgust_782.png 0.789126\n",
      "10\n",
      "max is: 0.0008899584555609463 \n",
      "min is: 6.940063140969954e-05\n",
      "rescaling...\n",
      "rescaled.\n",
      "2021_12_23_15_50_44_fear_792.png 0.836327\n",
      "2021_12_23_15_50_03_fear_712.png 0.741456\n",
      "2021_12_23_15_51_09_fear_842.png 0.619278\n",
      "2021_12_23_15_52_23_fear_982.png 0.695252\n",
      "2021_12_23_15_49_53_fear_692.png 0.651133\n",
      "10\n",
      "max is: 0.0014465283592445255 \n",
      "min is: 0.00012206624062360838\n",
      "rescaling...\n",
      "rescaled.\n",
      "2021_12_23_16_02_49_happiness_982.png 0.895467\n",
      "2021_12_23_15_56_09_happiness_242.png 0.856129\n",
      "2021_12_23_15_56_02_happiness_232.png 0.848836\n",
      "2021_12_23_16_00_18_happiness_702.png 0.855988\n",
      "2021_12_23_16_01_03_happiness_782.png 0.822102\n",
      "10\n",
      "max is: 0.0012212219471809949 \n",
      "min is: 8.989793138891589e-05\n",
      "rescaling...\n",
      "rescaled.\n",
      "2021_12_23_16_08_31_sadness_622.png 0.912592\n",
      "2021_12_23_16_10_03_sadness_792.png 0.866104\n",
      "2021_12_23_16_11_40_sadness_972.png 0.874338\n",
      "2021_12_23_16_09_41_sadness_752.png 0.903788\n",
      "2021_12_23_16_10_19_sadness_822.png 0.909977\n",
      "10\n",
      "max is: 0.0011011777033802517 \n",
      "min is: 0.00013032431908299724\n",
      "rescaling...\n",
      "rescaled.\n",
      "2021_12_23_16_16_59_surprise_422.png 0.972415\n",
      "2021_12_23_16_16_35_surprise_382.png 0.923391\n",
      "2021_12_23_16_19_28_surprise_682.png 0.951813\n",
      "2021_12_23_16_21_15_surprise_862.png 0.971868\n",
      "2021_12_23_16_22_22_surprise_982.png 0.937312\n"
     ]
    }
   ],
   "source": [
    "COPY_FLAG = 0 # 1 is copy, 0 - no copy\n",
    "NUM_OF_SELECT = 5 - 1\n",
    "\n",
    "# get all img array, for anger\n",
    "for target_emotion in ['anger', 'disgust', 'fear', 'happiness', 'sadness', 'surprise']:\n",
    "    folderName = os.path.join('image_analysis/211223ExpHumanoidRaw/Exp7HumanoidRaw/', target_emotion)\n",
    "    ls_name = os.listdir(folderName)\n",
    "#     print(ls_name)\n",
    "    result_dic = {}\n",
    "\n",
    "    for i in ls_name:\n",
    "        if 'emotion' in i:\n",
    "            mypath = os.path.join(folderName, i)\n",
    "            temp = pd.read_csv(mypath)\n",
    "            result = temp[target_emotion][0]\n",
    "            result = round(result, 6)\n",
    "            fileName = temp['input'][0]\n",
    "            result_dic[i[:-12] + '.png'] = result\n",
    "    # sort in value order \n",
    "    res_value_order = sorted(result_dic.items(), key=lambda item: item[1], reverse = True)\n",
    "    \n",
    "    ##### choose top 10\n",
    "    res_value_order = res_value_order[:10]\n",
    "    print(len(res_value_order))\n",
    "#     print(len(res_value_order))\n",
    "#     print(res_value_order)\n",
    "#     break\n",
    "    \n",
    "\n",
    "    \n",
    "    # get all img array\n",
    "    res_img_array = {}\n",
    "\n",
    "    for i in res_value_order:\n",
    "        temp_img_array = get_img_array(os.path.join(folderName, i[0]))\n",
    "        res_img_array[i[0]] = [i[1], temp_img_array]\n",
    "\n",
    "    # compute all similarity\n",
    "    data_length = len(res_img_array.keys())\n",
    "    nameList = list(res_img_array.keys())\n",
    "    cos_dis_result = {}\n",
    "    cos_dis_result_listform = []\n",
    "    counter = 0\n",
    "    for i in range(data_length):\n",
    "        for j in range(i + 1, data_length):\n",
    "            vec1 = res_img_array[nameList[i]][1]\n",
    "            vec2 = res_img_array[nameList[j]][1]\n",
    "            cos_dis = cal_cosine_distance(vec1, vec2)\n",
    "            if cos_dis == 0.0:\n",
    "                raise Exception('ERROR, counter is ' + str(counter), i, j)\n",
    "            tmp = [nameList[i], nameList[j], cos_dis]\n",
    "            cos_dis_result_listform.append(tmp)\n",
    "            cos_dis_result[counter] = tmp\n",
    "            counter += 1\n",
    "    rescale_cos_dis_result = rescale(cos_dis_result)\n",
    "\n",
    "    # in this dic, I use all img name as the first id of the dic, there inner dic, which contains all the img name except itself.\n",
    "    # I store the rating in the inner dic\n",
    "    #     print('res_img_array', res_img_array)\n",
    "    res_dic_rescaled_cos_dis = {i:{} for i in res_img_array.keys()}\n",
    "    \n",
    "    for i in rescale_cos_dis_result:\n",
    "        tempa = i[1][0]\n",
    "        tempb = i[1][1]\n",
    "        temp_score = i[1][2]\n",
    "        res_dic_rescaled_cos_dis[tempa][tempb] = temp_score\n",
    "        res_dic_rescaled_cos_dis[tempb][tempa] = temp_score    \n",
    "\n",
    "    # greedy search\n",
    "#     print('res_dic_rescaled_cos_dis', res_dic_rescaled_cos_dis)\n",
    "    \n",
    "    count = 1\n",
    "    finalResult = []\n",
    "    finalResult.append(res_value_order[0])\n",
    "#     finalResult.append(res_value_order[-1])\n",
    "    x_list = []\n",
    "    # print(finalResult)\n",
    "    for i in range(len(finalResult)):\n",
    "        x_list.append(finalResult[i][0])\n",
    "    # print(x_list)\n",
    "    for count in range(NUM_OF_SELECT):\n",
    "        # for storing the distance from the selected list to others \n",
    "        y_list = []\n",
    "\n",
    "        # find interest keys, which is not in x_list\n",
    "        cur_keys = ''\n",
    "\n",
    "        for i in x_list:\n",
    "            if cur_keys == '':\n",
    "                cur_keys = res_dic_rescaled_cos_dis[i].keys()\n",
    "            else:\n",
    "                type(cur_keys)\n",
    "                cur_keys = cur_keys & res_dic_rescaled_cos_dis[i].keys()\n",
    "        cur_dic = dict.fromkeys(cur_keys, 0)\n",
    "        for k in x_list:\n",
    "            assert k not in cur_dic \n",
    "        for i in cur_dic.keys():\n",
    "            for j in x_list:\n",
    "                cur_dic[i] += res_dic_rescaled_cos_dis[i][j]\n",
    "    #     print(len(cur_keys))\n",
    "        largeest_dis_target_name = max(cur_dic, key=cur_dic.get)\n",
    "        pos_of_largeest_dis_target_name = [index1 for index1,value1 in \n",
    "         enumerate(res_value_order) for index2,value2 in enumerate(value1) if value2==largeest_dis_target_name][0]\n",
    "        x_list.append(largeest_dis_target_name)\n",
    "        finalResult.append(res_value_order[pos_of_largeest_dis_target_name])\n",
    "\n",
    "\n",
    "    # Copy files\n",
    "    sum_folderName = os.path.join(folderName, 'selected{}'.format(NUM_OF_SELECT))\n",
    "    img_only_folderName = os.path.join(folderName, 'selected_imgonly{}'.format(NUM_OF_SELECT))\n",
    "    if COPY_FLAG and not os.path.exists(sum_folderName):\n",
    "        try:\n",
    "            os.mkdir(sum_folderName)\n",
    "        except Exception as e:\n",
    "            print(e)\n",
    "    if COPY_FLAG and not os.path.exists(img_only_folderName):\n",
    "        try:\n",
    "            os.mkdir(img_only_folderName)\n",
    "        except Exception as e:\n",
    "            print(e)\n",
    "\n",
    "    import shutil\n",
    "    for i in finalResult:\n",
    "        # i is fig name\n",
    "        print(i[0], i[1])\n",
    "        img_file_name = os.path.join(folderName, i[0])\n",
    "        csv_file_name = os.path.join(folderName, i[0][:-4] + '.csv')\n",
    "        axes_file_name = os.path.join(folderName, i[0][:-4] + '_axes_data.csv')\n",
    "        emotion_file_name = os.path.join(folderName, i[0][:-4] + '_emotion.csv')\n",
    "\n",
    "        # all files\n",
    "        if COPY_FLAG and not os.path.exists(os.path.join(sum_folderName, i[0])):\n",
    "            shutil.copy(img_file_name, sum_folderName)\n",
    "            print('copied0')\n",
    "        if COPY_FLAG and not os.path.exists(os.path.join(sum_folderName, i[0][:-4] + '.csv')):\n",
    "            shutil.copy(csv_file_name, sum_folderName)\n",
    "            print('copied1')\n",
    "        if COPY_FLAG and not os.path.exists(os.path.join(sum_folderName, i[0][:-4] + '_axes_data.csv')):\n",
    "            shutil.copy(axes_file_name, sum_folderName)\n",
    "            print('copied2')\n",
    "        if COPY_FLAG and not os.path.exists(os.path.join(sum_folderName, i[0][:-4] + '_emotion.csv')):\n",
    "            shutil.copy(emotion_file_name, sum_folderName)\n",
    "            print('copied3')\n",
    "\n",
    "        if COPY_FLAG and not os.path.exists(os.path.join(img_only_folderName, i[0])):\n",
    "            shutil.copy(img_file_name, img_only_folderName)\n",
    "            print('copied4')"
   ]
  },
  {
   "cell_type": "code",
   "execution_count": 189,
   "metadata": {},
   "outputs": [
    {
     "data": {
      "text/plain": [
       "'2023_02_10_15_12_04_anger_8.png'"
      ]
     },
     "execution_count": 189,
     "metadata": {},
     "output_type": "execute_result"
    }
   ],
   "source": []
  },
  {
   "cell_type": "code",
   "execution_count": 86,
   "metadata": {},
   "outputs": [
    {
     "name": "stdout",
     "output_type": "stream",
     "text": [
      "(55302, ['2023_02_10_15_30_46_anger_490.png', '2023_02_10_15_12_04_anger_8.png', 1.0])\n",
      "(1509, ['2023_02_10_15_24_05_anger_335.png', '2023_02_10_15_24_08_anger_336.png', 0.0])\n"
     ]
    }
   ],
   "source": [
    "print(rescale_cos_dis_result[0])\n",
    "print(rescale_cos_dis_result[-1])"
   ]
  },
  {
   "cell_type": "code",
   "execution_count": 133,
   "metadata": {},
   "outputs": [],
   "source": []
  },
  {
   "cell_type": "code",
   "execution_count": 134,
   "metadata": {},
   "outputs": [
    {
     "data": {
      "text/plain": [
       "[[0, ('2023_02_10_15_28_04_anger_433.png', 0.890863)],\n",
       " [0, ('2023_02_10_15_25_54_anger_381.png', 0.000222)]]"
      ]
     },
     "execution_count": 134,
     "metadata": {},
     "output_type": "execute_result"
    }
   ],
   "source": []
  },
  {
   "cell_type": "code",
   "execution_count": 139,
   "metadata": {},
   "outputs": [
    {
     "data": {
      "text/plain": [
       "[('2023_02_10_15_28_04_anger_433.png', 0.890863),\n",
       " ('2023_02_10_15_28_40_anger_446.png', 0.879018),\n",
       " 6.64947043207409e-05]"
      ]
     },
     "execution_count": 139,
     "metadata": {},
     "output_type": "execute_result"
    }
   ],
   "source": [
    "cos_dis_result_listform[0]\n",
    "cos_dis_result_listform[1]"
   ]
  },
  {
   "cell_type": "code",
   "execution_count": 137,
   "metadata": {},
   "outputs": [
    {
     "name": "stdout",
     "output_type": "stream",
     "text": [
      "124750\n"
     ]
    },
    {
     "ename": "IndexError",
     "evalue": "list index out of range",
     "output_type": "error",
     "traceback": [
      "\u001b[0;31m---------------------------------------------------------------------------\u001b[0m",
      "\u001b[0;31mIndexError\u001b[0m                                Traceback (most recent call last)",
      "Cell \u001b[0;32mIn[137], line 5\u001b[0m\n\u001b[1;32m      3\u001b[0m \u001b[38;5;28mprint\u001b[39m(\u001b[38;5;28mlen\u001b[39m(cos_dis_result_listform))\n\u001b[1;32m      4\u001b[0m \u001b[38;5;28;01mfor\u001b[39;00m i \u001b[38;5;129;01min\u001b[39;00m \u001b[38;5;28mrange\u001b[39m(\u001b[38;5;241m500\u001b[39m\u001b[38;5;241m*\u001b[39m\u001b[38;5;241m500\u001b[39m):\n\u001b[0;32m----> 5\u001b[0m     mat_2d\u001b[38;5;241m.\u001b[39mappend(\u001b[43mcos_dis_result_listform\u001b[49m\u001b[43m[\u001b[49m\u001b[43mi\u001b[49m\u001b[43m]\u001b[49m[\u001b[38;5;241m2\u001b[39m])\n\u001b[1;32m      6\u001b[0m ary \u001b[38;5;241m=\u001b[39m np\u001b[38;5;241m.\u001b[39marray(mat_2d)\u001b[38;5;241m.\u001b[39mreshape(\u001b[38;5;241m500\u001b[39m, \u001b[38;5;241m500\u001b[39m)\n",
      "\u001b[0;31mIndexError\u001b[0m: list index out of range"
     ]
    }
   ],
   "source": [
    "# construct a 500 x 500 matrix\n",
    "mat_2d = []\n",
    "print(len(cos_dis_result_listform))\n",
    "for i in range(500*500):\n",
    "    mat_2d.append(cos_dis_result_listform[i][2])\n",
    "ary = np.array(mat_2d).reshape(500, 500)"
   ]
  },
  {
   "cell_type": "markdown",
   "metadata": {},
   "source": [
    "## For fast test"
   ]
  },
  {
   "cell_type": "code",
   "execution_count": 28,
   "metadata": {},
   "outputs": [
    {
     "name": "stdout",
     "output_type": "stream",
     "text": [
      "Final selection for happiness [[0, ('2021_12_23_15_32_12_anger_772.png', 0.936236)]]\n",
      "Final selection for happiness [[0, ('2021_12_23_15_32_12_anger_772.png', 0.936236)]]\n"
     ]
    },
    {
     "ename": "TypeError",
     "evalue": "can only concatenate str (not \"tuple\") to str",
     "output_type": "error",
     "traceback": [
      "\u001b[0;31m---------------------------------------------------------------------------\u001b[0m",
      "\u001b[0;31mTypeError\u001b[0m                                 Traceback (most recent call last)",
      "Cell \u001b[0;32mIn[28], line 16\u001b[0m\n\u001b[1;32m     14\u001b[0m \u001b[38;5;28;01mimport\u001b[39;00m \u001b[38;5;21;01mshutil\u001b[39;00m\n\u001b[1;32m     15\u001b[0m \u001b[38;5;28;01mfor\u001b[39;00m i \u001b[38;5;129;01min\u001b[39;00m finalResult:\n\u001b[0;32m---> 16\u001b[0m     temp \u001b[38;5;241m=\u001b[39m pd\u001b[38;5;241m.\u001b[39mread_csv(\u001b[43mfolderName\u001b[49m\u001b[43m \u001b[49m\u001b[38;5;241;43m+\u001b[39;49m\u001b[43m \u001b[49m\u001b[43mi\u001b[49m\u001b[43m[\u001b[49m\u001b[38;5;241;43m1\u001b[39;49m\u001b[43m]\u001b[49m\u001b[43m[\u001b[49m\u001b[43m:\u001b[49m\u001b[38;5;241;43m-\u001b[39;49m\u001b[38;5;241;43m4\u001b[39;49m\u001b[43m]\u001b[49m \u001b[38;5;241m+\u001b[39m \u001b[38;5;124m'\u001b[39m\u001b[38;5;124m_emotion.csv\u001b[39m\u001b[38;5;124m'\u001b[39m)\n\u001b[1;32m     17\u001b[0m     targetID \u001b[38;5;241m=\u001b[39m RCSystem\u001b[38;5;241m.\u001b[39mget_target(target_emotion)\n\u001b[1;32m     18\u001b[0m     temp_result \u001b[38;5;241m=\u001b[39m temp\u001b[38;5;241m.\u001b[39miloc[:, \u001b[38;5;241m-\u001b[39m\u001b[38;5;241m8\u001b[39m:]\u001b[38;5;241m.\u001b[39miloc[\u001b[38;5;241m0\u001b[39m, targetID]\n",
      "\u001b[0;31mTypeError\u001b[0m: can only concatenate str (not \"tuple\") to str"
     ]
    }
   ],
   "source": [
    "target_emotion = 'happiness'\n",
    "print('Final selection for ' + target_emotion, finalResult)\n",
    "\n",
    "# show the result\n",
    "finalResult = sorted(finalResult, key=lambda x:x[0])\n",
    "print('Final selection for ' + target_emotion, finalResult)\n",
    "# Copy files\n",
    "sum_folderName = os.path.join(\"image_analysis/211223ExpHumanoidRaw/Exp7HumanoidRaw/\", target_emotion, '/')\n",
    "if not os.path.exists(sum_folderName):\n",
    "    try:\n",
    "        os.mkdir(sum_folderName)\n",
    "    except Exception as e:\n",
    "        print(e)\n",
    "import shutil\n",
    "for i in finalResult:\n",
    "    print(folderName)\n",
    "    temp = pd.read_csv(folderName + i[1][:-4] + '_emotion.csv')\n",
    "    targetID = RCSystem.get_target(target_emotion)\n",
    "    temp_result = temp.iloc[:, -8:].iloc[0, targetID]\n",
    "    print(i[0], i[1][:-4]+'.png', temp_result)\n",
    "    tempFileAU = i[1]\n",
    "    tempFileFig = i[1][:-4]+'.png'\n",
    "    tempFilePyfeat = i[1][:-4] + '_emotion.csv'\n",
    "#         shutil.copy(folderNameAU + tempFileAU, sum_folderName)\n",
    "#         shutil.copy(folderName + tempFileFig, sum_folderName)\n",
    "#         shutil.copy(folderName + tempFilePyfeat, sum_folderName)"
   ]
  },
  {
   "cell_type": "code",
   "execution_count": 56,
   "metadata": {},
   "outputs": [
    {
     "name": "stdout",
     "output_type": "stream",
     "text": [
      "max is: 0.003410925908368223 \n",
      "min is: 6.420692183173315e-05\n",
      "rescaling...\n",
      "rescaled.\n"
     ]
    }
   ],
   "source": []
  },
  {
   "cell_type": "code",
   "execution_count": 58,
   "metadata": {},
   "outputs": [],
   "source": [
    "# for i in range(5):\n",
    "#     print(test_rescle[i])\n",
    "\n",
    "# for i in range(-5, 0):\n",
    "#     print(test_rescle[i])"
   ]
  },
  {
   "cell_type": "code",
   "execution_count": 24,
   "metadata": {},
   "outputs": [
    {
     "ename": "NameError",
     "evalue": "name 'result_AU2' is not defined",
     "output_type": "error",
     "traceback": [
      "\u001b[0;31m---------------------------------------------------------------------------\u001b[0m",
      "\u001b[0;31mNameError\u001b[0m                                 Traceback (most recent call last)",
      "Cell \u001b[0;32mIn[24], line 11\u001b[0m\n\u001b[1;32m      9\u001b[0m mat_2d \u001b[38;5;241m=\u001b[39m []\n\u001b[1;32m     10\u001b[0m \u001b[38;5;28;01mfor\u001b[39;00m i \u001b[38;5;129;01min\u001b[39;00m \u001b[38;5;28mrange\u001b[39m(\u001b[38;5;241m100\u001b[39m):\n\u001b[0;32m---> 11\u001b[0m     mat_2d\u001b[38;5;241m.\u001b[39mappend(\u001b[43mresult_AU2\u001b[49m[i][\u001b[38;5;241m2\u001b[39m])\n\u001b[1;32m     12\u001b[0m ary \u001b[38;5;241m=\u001b[39m np\u001b[38;5;241m.\u001b[39marray(mat_2d)\u001b[38;5;241m.\u001b[39mreshape(\u001b[38;5;241m10\u001b[39m, \u001b[38;5;241m10\u001b[39m)\n\u001b[1;32m     14\u001b[0m \u001b[38;5;66;03m#     finalResult.append([2, top_name_list[2]])\u001b[39;00m\n",
      "\u001b[0;31mNameError\u001b[0m: name 'result_AU2' is not defined"
     ]
    }
   ],
   "source": [
    "# greedy search\n",
    "\n",
    "count = 1\n",
    "#     print('top_name_list', top_name_list, '\\n')\n",
    "finalResult = []\n",
    "finalResult.append([0, res_value_order[0]])\n",
    "\n",
    "# construct a 10 x 10 matrix\n",
    "mat_2d = []\n",
    "for i in range(100):\n",
    "    mat_2d.append(result_AU2[i][2])\n",
    "ary = np.array(mat_2d).reshape(10, 10)\n",
    "\n",
    "#     finalResult.append([2, top_name_list[2]])\n",
    "while count < 5:\n",
    "    x_list = []\n",
    "    y_list = []\n",
    "#         print()\n",
    "    for i in range(len(finalResult)):\n",
    "        x_list.append(finalResult[i][0])\n",
    "\n",
    "    for i in x_list:\n",
    "        y_list.append(ary[i])\n",
    "#         print(y_list)\n",
    "#     print(ary[i])\n",
    "#     print(np.argmax(ary[i]))\n",
    "    sum_v = np.zeros(10)\n",
    "    for i in y_list:\n",
    "        sum_v += i\n",
    "    for i in x_list:\n",
    "        sum_v[i] = 0\n",
    "    y = np.argmax(sum_v)\n",
    "    finalResult.append([y, top_name_list[y]])\n",
    "    count += 1\n",
    "    print('x_list', x_list)\n",
    "#         print(sum_v, y)\n",
    "#         np.partition(k.flatten(), -2)[-2]\n",
    "#         print(ary[x].index(max(ary[x])))\n",
    "#     print(max(ary[x]))\n",
    "print('Final selection for ' + target_emotion, finalResult)\n",
    "\n",
    "# show the result\n",
    "finalResult = sorted(finalResult, key=lambda x:x[0])\n",
    "print('Final selection for ' + target_emotion, finalResult)"
   ]
  },
  {
   "cell_type": "markdown",
   "metadata": {},
   "source": [
    "### For Test"
   ]
  },
  {
   "cell_type": "code",
   "execution_count": 82,
   "metadata": {},
   "outputs": [
    {
     "name": "stdout",
     "output_type": "stream",
     "text": [
      "0.11000954841219102\n",
      "0.889990451587809\n",
      "anger/2023_02_10_15_11_49_anger_0.png anger/2023_02_10_15_11_53_anger_2.png\n"
     ]
    }
   ],
   "source": [
    "# For test\n",
    "    \n",
    "    \n",
    "# open images\n",
    "folderName = 'anger'\n",
    "a = os.path.join(folderName, '2023_02_10_15_11_49_anger_0.png')\n",
    "b = os.path.join(folderName, '2023_02_10_15_11_53_anger_2.png')\n",
    "# for i in range(50):\n",
    "# a = os.path.join(folderName, res_value_order[0][0][:-12]+'.png')\n",
    "# b = os.path.join(folderName, res_value_order[i][0][:-12]+'.png')\n",
    "img1 = Image.open(a)\n",
    "img2 = Image.open(b)\n",
    "\n",
    "# make sure images have same dimensions, use .resize to scale image 2 to match image 1 dimensions\n",
    "# also reduce the shape by half just to save some processing power\n",
    "\n",
    "img1_reshape = img1.resize((round(img1.size[0]*0.5), round(img1.size[1]*0.5)))\n",
    "img2_reshape = img2.resize((round(img1.size[0]*0.5), round(img1.size[1]*0.5)))\n",
    "# img1 (640, 480)\n",
    "# img2 (640, 480)\n",
    "# img1_reshape (320, 240)\n",
    "\n",
    "# convert the images to (R,G,B) arrays\n",
    "img_array1 = np.array(img1_reshape)\n",
    "img_array2 = np.array(img2_reshape)\n",
    "\n",
    "# flatten the arrays so they are 1 dimensional vectors\n",
    "img_array1 = img_array1.flatten()\n",
    "img_array2 = img_array2.flatten()\n",
    "\n",
    "# divide the arrays by 255, the maximum RGB value to make sure every value is on a 0-1 scale\n",
    "# img_array1 = img_array1/255\n",
    "# img_array2 = img_array2/255\n",
    "\n",
    "print(cal_cosine_distance(img_array1, img_array2))\n",
    "print(cal_cosine_similarity(img_array1, img_array2))\n",
    "print(a, b)"
   ]
  },
  {
   "cell_type": "code",
   "execution_count": null,
   "metadata": {},
   "outputs": [],
   "source": [
    "# greedy search\n",
    "\n",
    "    count = 1\n",
    "#     print('top_name_list', top_name_list, '\\n')\n",
    "    finalResult = []\n",
    "    finalResult.append([0, top_name_list[0]])\n",
    "    \n",
    "    # construct a 10 x 10 matrix\n",
    "    mat_2d = []\n",
    "    for i in range(100):\n",
    "        mat_2d.append(result_AU2[i][2])\n",
    "    ary = np.array(mat_2d).reshape(10, 10)\n",
    "    \n",
    "#     finalResult.append([2, top_name_list[2]])\n",
    "    while count < 5:\n",
    "        x_list = []\n",
    "        y_list = []\n",
    "#         print()\n",
    "        for i in range(len(finalResult)):\n",
    "            x_list.append(finalResult[i][0])\n",
    "\n",
    "        for i in x_list:\n",
    "            y_list.append(ary[i])\n",
    "#         xprint(y_list)\n",
    "    #     print(ary[i])\n",
    "    #     print(np.argmax(ary[i]))\n",
    "        sum_v = np.zeros(10)\n",
    "        for i in y_list:\n",
    "            sum_v += i\n",
    "        for i in x_list:\n",
    "            sum_v[i] = 0\n",
    "        y = np.argmax(sum_v)\n",
    "        finalResult.append([y, top_name_list[y]])\n",
    "        count += 1\n",
    "        print('x_list', x_list)\n",
    "#         print(sum_v, y)\n",
    "    #         np.partition(k.flatten(), -2)[-2]\n",
    "    #         print(ary[x].index(max(ary[x])))\n",
    "    #     print(max(ary[x]))\n",
    "    print('Final selection for ' + target_emotion, finalResult)\n",
    "    \n",
    "    # show the result\n",
    "    finalResult = sorted(finalResult, key=lambda x:x[0])\n",
    "    print('Final selection for ' + target_emotion, finalResult)\n",
    "    \n",
    "    \n",
    "    # Copy files\n",
    "    sum_folderName = \"image_analysis/211223Exp/Exp7/selected_files/\" + target_emotion + '/'\n",
    "    if not os.path.exists(sum_folderName):\n",
    "        try:\n",
    "            os.mkdir(sum_folderName)\n",
    "        except Exception as e:\n",
    "            print(e)\n",
    "    import shutil\n",
    "    for i in finalResult:\n",
    "        temp = pd.read_csv(folderName + i[1][:-4] + '_emotion.csv')\n",
    "        targetID = RCSystem.get_target(target_emotion)\n",
    "        temp_result = temp.iloc[:, -8:].iloc[0, targetID]\n",
    "        print(i[0], i[1][:-4]+'.png', temp_result)\n",
    "        tempFileAU = i[1]\n",
    "        tempFileFig = i[1][:-4]+'.png'\n",
    "        tempFilePyfeat = i[1][:-4] + '_emotion.csv'\n",
    "#         shutil.copy(folderNameAU + tempFileAU, sum_folderName)\n",
    "#         shutil.copy(folderName + tempFileFig, sum_folderName)\n",
    "#         shutil.copy(folderName + tempFilePyfeat, sum_folderName)\n",
    "    "
   ]
  }
 ],
 "metadata": {
  "kernelspec": {
   "display_name": "py37pyfeat1",
   "language": "python",
   "name": "py37pyfeat1"
  },
  "language_info": {
   "codemirror_mode": {
    "name": "ipython",
    "version": 3
   },
   "file_extension": ".py",
   "mimetype": "text/x-python",
   "name": "python",
   "nbconvert_exporter": "python",
   "pygments_lexer": "ipython3",
   "version": "3.7.12"
  }
 },
 "nbformat": 4,
 "nbformat_minor": 4
}
