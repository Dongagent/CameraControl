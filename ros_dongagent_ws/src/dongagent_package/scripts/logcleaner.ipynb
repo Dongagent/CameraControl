{
 "cells": [
  {
   "cell_type": "markdown",
   "metadata": {},
   "source": [
    "# LOG cleaning"
   ]
  },
  {
   "cell_type": "code",
   "execution_count": 2,
   "metadata": {},
   "outputs": [
    {
     "name": "stdout",
     "output_type": "stream",
     "text": [
      "Read file End or Error\n"
     ]
    }
   ],
   "source": [
    "import re\n",
    "\n",
    "lineList = []\n",
    "pattern='^Using downloaded|^Loading Face Detection|^Input|N/A|^/home/dongagent/anaconda3/lib/python3.8|built|configuration'\n",
    "pattern+='|^  lib|Stream|Metadata|encoder|Press|Loading'\n",
    "matchPattern = re.compile(pattern)\n",
    "file = open('output.log', 'r')\n",
    "while 1:\n",
    "    line = file.readline()\n",
    "    if not line:\n",
    "        print(\"Read file End or Error\")\n",
    "        break\n",
    "    elif matchPattern.search(line):\n",
    "        # print('matched!')\n",
    "        pass\n",
    "    else:\n",
    "        lineList.append(line)\n",
    "file.close()\n",
    "file = open(r'target.log', 'w',encoding='UTF-8')\n",
    "for i in lineList:\n",
    "    file.write(i)\n",
    "file.close()\n"
   ]
  },
  {
   "cell_type": "code",
   "execution_count": null,
   "metadata": {},
   "outputs": [],
   "source": [
    "file = open('target.txt', 'r')\n",
    "line = file.readline()\n",
    "print(line)"
   ]
  }
 ],
 "metadata": {
  "kernelspec": {
   "display_name": "Python 3",
   "language": "python",
   "name": "python3"
  },
  "language_info": {
   "codemirror_mode": {
    "name": "ipython",
    "version": 3
   },
   "file_extension": ".py",
   "mimetype": "text/x-python",
   "name": "python",
   "nbconvert_exporter": "python",
   "pygments_lexer": "ipython3",
   "version": "3.8.5"
  }
 },
 "nbformat": 4,
 "nbformat_minor": 4
}
