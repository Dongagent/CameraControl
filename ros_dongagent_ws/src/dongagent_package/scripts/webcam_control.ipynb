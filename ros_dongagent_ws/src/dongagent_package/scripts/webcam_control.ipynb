{
 "cells": [
  {
   "cell_type": "code",
   "execution_count": 20,
   "id": "ad507b8a-bdb4-48e1-b9e2-37c48e4475ab",
   "metadata": {},
   "outputs": [],
   "source": [
    "import time\n",
    "import os\n",
    "import platform, subprocess\n",
    "\n",
    "SPACE = ' '\n",
    "LINUXVIDEOPATH = '/dev/video0' # ffplay\n",
    "DEBUG = 0\n",
    "\n",
    "class mycamera():\n",
    "    def __init__(self, duration=3, fps=60):\n",
    "        self.connection = True\n",
    "        \n",
    "        # Camera Parameters\n",
    "        self.DEVICE_ID = 1\n",
    "        self.WIDTH = 1280\n",
    "        self.HEIGHT = 720\n",
    "        self.FPS = fps\n",
    "        self.FRAMERATE = fps\n",
    "        self.counter = 0 # used in the fileName\n",
    "        self.fileName =  \"\"\n",
    "        self.readablefileName = ''\n",
    "        self.VIDEOSIZE = \"1280x720\"\n",
    "        self.DURATION = duration\n",
    "        self.client = \"\"\n",
    "        self.photoform = '%01d.png' # what we need is 2.png\n",
    "        \n",
    "        \n",
    "    \n",
    "    def take_picture(self, isUsingCounter=True, appendix='', folder=''):\n",
    "        # we don't need this\n",
    "        # Allright, we need this \n",
    "        self.counter += 1\n",
    "        if isUsingCounter:\n",
    "            self.fileName = time.strftime(\"%Y_%m_%d_%H_%M_%S_No\", time.localtime()) + str(self.counter)\n",
    "            if appendix:\n",
    "                self.fileName += \"_\" + appendix + self.photoform\n",
    "            else:\n",
    "                self.fileName += self.photoform\n",
    "        else:\n",
    "            self.fileName = time.strftime(\"%Y_%m_%d_%H_%M_%S\", time.localtime()) \n",
    "            if appendix:\n",
    "                self.fileName += \"_\" + appendix + self.photoform\n",
    "            else:\n",
    "                self.fileName += self.photoform\n",
    "        if DEBUG == 2:\n",
    "            print(\"Filename is {}\".format(self.fileName))\n",
    "            return\n",
    "        if folder:\n",
    "            folderPath = \"image_analysis/{}/\".format(folder)\n",
    "            if not os.path.exists(folderPath):\n",
    "                try:\n",
    "                    os.mkdir(folderPath)\n",
    "                except Exception as e:\n",
    "                    print(e)\n",
    "        if not folder:\n",
    "            self.fileName = \"image_analysis/temp/{}\".format(self.fileName)\n",
    "        else:\n",
    "            self.fileName = folderPath + self.fileName\n",
    "        \n",
    "        self.readablefileName = self.fileName[:-8] + '2.png'\n",
    "        \n",
    "\n",
    "        if os.path.exists(self.fileName):\n",
    "            raise Exception(\"Same File!\")\n",
    "        if \"Linux\" in platform.platform():\n",
    "            # Remember to check the path everytime.\n",
    "            videoPath = LINUXVIDEOPATH\n",
    "            fParam = \"v4l2\"\n",
    "            videoTypeParm = \"-input_format\"\n",
    "        elif \"Windows\" in platform.platform():\n",
    "            videoPath = \"video='C922 Pro Stream Webcam'\"\n",
    "            fParam = \"dshow\" \n",
    "            videoTypeParm = \"-vcodec\"\n",
    "\n",
    "        # only the command is different from take_video\n",
    "        command = \"ffmpeg -f {} -i {} -vframes 2 {}\".format(\n",
    "            fParam, \n",
    "            videoPath, \n",
    "            self.fileName)\n",
    "        print(command)\n",
    "        # ffmpeg -f v4l2 -i /dev/video2 -vframes 1 /home/dongagent/github/CameraControl/algorithm/test.png\n",
    "\n",
    "        if \"Linux\" in platform.platform():\n",
    "            # Linux\n",
    "            return subprocess.Popen([command], stdout=subprocess.PIPE, shell=True)\n",
    "        elif \"Windows\" in platform.platform():\n",
    "            # Windows\n",
    "            return subprocess.Popen([\"pwsh\", \"-Command\", command], stdout=subprocess.PIPE)"
   ]
  },
  {
   "cell_type": "code",
   "execution_count": 22,
   "id": "9211c492-1043-433a-9af9-1e2cead17fa3",
   "metadata": {},
   "outputs": [
    {
     "name": "stdout",
     "output_type": "stream",
     "text": [
      "ffmpeg -f v4l2 -i /dev/video0 -vframes 2 image_analysis/temp/2022_12_09_02_25_07_No1%01d.png\n"
     ]
    },
    {
     "data": {
      "text/plain": [
       "0"
      ]
     },
     "execution_count": 22,
     "metadata": {},
     "output_type": "execute_result"
    }
   ],
   "source": [
    "cameraa = mycamera()\n",
    "process = cameraa.take_picture()\n",
    "process.wait()\n"
   ]
  },
  {
   "cell_type": "code",
   "execution_count": 24,
   "id": "0a2424b6-1304-495f-a955-1ac040531ce2",
   "metadata": {},
   "outputs": [
    {
     "name": "stderr",
     "output_type": "stream",
     "text": [
      "/home/dongagent/anaconda3/envs/py37/lib/python3.7/site-packages/ipykernel_launcher.py workdir\n",
      "\n"
     ]
    },
    {
     "ename": "SystemExit",
     "evalue": "1",
     "output_type": "error",
     "traceback": [
      "An exception has occurred, use %tb to see the full traceback.\n",
      "\u001b[0;31mSystemExit\u001b[0m\u001b[0;31m:\u001b[0m 1\n"
     ]
    },
    {
     "name": "stderr",
     "output_type": "stream",
     "text": [
      "/home/dongagent/anaconda3/envs/py37/lib/python3.7/site-packages/IPython/core/interactiveshell.py:3445: UserWarning: To exit: use 'exit', 'quit', or Ctrl-D.\n",
      "  warn(\"To exit: use 'exit', 'quit', or Ctrl-D.\", stacklevel=1)\n"
     ]
    }
   ],
   "source": []
  }
 ],
 "metadata": {
  "kernelspec": {
   "display_name": "Python 3",
   "language": "python",
   "name": "python3"
  },
  "language_info": {
   "codemirror_mode": {
    "name": "ipython",
    "version": 3
   },
   "file_extension": ".py",
   "mimetype": "text/x-python",
   "name": "python",
   "nbconvert_exporter": "python",
   "pygments_lexer": "ipython3",
   "version": "3.8.5"
  }
 },
 "nbformat": 4,
 "nbformat_minor": 5
}
