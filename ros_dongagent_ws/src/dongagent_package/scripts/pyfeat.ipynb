{
 "cells": [
  {
   "cell_type": "code",
   "execution_count": null,
   "id": "fd6ad47c-558d-4093-be08-ef57dfa72a1a",
   "metadata": {},
   "outputs": [],
   "source": [
    "!pip list | grep torch"
   ]
  },
  {
   "cell_type": "code",
   "execution_count": 73,
   "id": "e8f8efeb-d371-41d9-a82d-ebd89e2f6817",
   "metadata": {},
   "outputs": [
    {
     "name": "stdout",
     "output_type": "stream",
     "text": [
      "initialize_robotParams\n",
      "\n",
      "\n",
      "Smoothly execution activated\n",
      "return_to_stable_state, self.robotParams are all set\n",
      "self.lastState [64, 64, 128, 128, 128, 0, 0, 0, 0, 0, 0, 0, 0, 0, 0, 0, 0, 0, 0, 0, 0, 0, 0, 0, 0, 0, 0, 0, 0, 0, 0, 32, 128, 128, 128, 0]\n",
      "self.nextState [86, 86, 128, 128, 128, 0, 0, 0, 0, 0, 0, 0, 0, 0, 0, 0, 0, 0, 0, 0, 0, 0, 0, 0, 0, 0, 0, 0, 0, 0, 0, 0, 128, 128, 122]\n",
      "Smoothly execution activated\n"
     ]
    }
   ],
   "source": [
    "# Return to StandardPose\n",
    "import RCSystem\n",
    "\n",
    "rb = RCSystem.robot(duration=3)\n",
    "rb.switch_to_customizedPose(rb.AUPose['StandardPose'])\n",
    "rb.connect_ros(True, False)\n"
   ]
  },
  {
   "cell_type": "code",
   "execution_count": null,
   "id": "4ae01804-6452-49db-a6c3-5aef708d8b28",
   "metadata": {},
   "outputs": [],
   "source": []
  },
  {
   "cell_type": "code",
   "execution_count": 11,
   "id": "cb89f08b-9db9-4aba-af8d-4a762b9ee4ec",
   "metadata": {},
   "outputs": [
    {
     "name": "stdout",
     "output_type": "stream",
     "text": [
      "{'x6': 255, 'x7': 255, 'x9': 255, 'x13': 255, 'x16': 255, 'x17': 255, 'x18': 255, 'x22': 255}\n",
      "[  0   0   0   0   0   0   0   0   0   0   0   0   0   0   0   0   0   0\n",
      "   0   0   0   0   0   0   0   0   0 255 255   0   0 255   0   0   0]\n",
      "{'x28': 255, 'x29': 255, 'x32': 255}\n"
     ]
    }
   ],
   "source": [
    "import defaultPose\n",
    "import numpy as np\n",
    "neutral_baseline = defaultPose.prototypeFacialExpressions[\"netural\"]\n",
    "baseline = defaultPose.prototypeFacialExpressions[\"happiness\"]\n",
    "\n",
    "subtract = abs(np.array(neutral_baseline) - np.array(baseline))\n",
    "axes = {}\n",
    "for i in range(len(subtract)):\n",
    "    if subtract[i] != 0:\n",
    "        axes[\"x{}\".format(i+1)] = subtract[i]\n",
    "print(axes)\n",
    "\n",
    "subtract = abs(np.array(defaultPose.prototypeFacialExpressions[\"happiness\"]) - np.array(defaultPose.hotExpressions[\"hotHappiness\"]))\n",
    "print(subtract)\n",
    "axes = {}\n",
    "for i in range(len(subtract)):\n",
    "    if subtract[i] != 0:\n",
    "        axes[\"x{}\".format(i+1)] = subtract[i]\n",
    "print(axes)\n",
    "# anger [1, 2, 6, 7, 11, 15]\n",
    "# Happiness[6, 7, 9, 13, 16, 17, 18, 22]"
   ]
  },
  {
   "cell_type": "code",
   "execution_count": 74,
   "id": "d390658f-3dd6-4d82-b77a-0d0524e80fb9",
   "metadata": {},
   "outputs": [
    {
     "name": "stdout",
     "output_type": "stream",
     "text": [
      "[86, 86, 128, 128, 128, 22, 22, 0, 0, 0, 41, 0, 0, 0, 102, 0, 0, 0, 0, 0, 0, 0, 0, 0, 0, 0, 0, 0, 0, 0, 0, 0, 128, 128, 122]\n",
      "initialize_robotParams\n",
      "\n",
      "\n",
      "Smoothly execution activated\n",
      "return_to_stable_state, self.robotParams are all set\n",
      "self.lastState [64, 64, 128, 128, 128, 0, 0, 0, 0, 0, 0, 0, 0, 0, 0, 0, 0, 0, 0, 0, 0, 0, 0, 0, 0, 0, 0, 0, 0, 0, 0, 32, 128, 128, 128, 0]\n",
      "self.nextState [86, 86, 128, 128, 128, 22, 22, 0, 0, 0, 41, 0, 0, 0, 102, 0, 0, 0, 0, 0, 0, 0, 0, 0, 0, 0, 0, 0, 0, 0, 0, 0, 128, 128, 122]\n",
      "Smoothly execution activated\n",
      "Loading Face Detection model:  retinaface\n",
      "Using downloaded and verified file: /home/dongagent/anaconda3/lib/python3.8/site-packages/py_feat-0.3.7-py3.8.egg/feat/resources/mobilenet0.25_Final.pth\n",
      "Using downloaded and verified file: /home/dongagent/anaconda3/lib/python3.8/site-packages/py_feat-0.3.7-py3.8.egg/feat/resources/mobilenet_224_model_best_gdconv_external.pth.tar\n",
      "Using downloaded and verified file: /home/dongagent/anaconda3/lib/python3.8/site-packages/py_feat-0.3.7-py3.8.egg/feat/resources/hog_pca_all_emotio.joblib\n",
      "Using downloaded and verified file: /home/dongagent/anaconda3/lib/python3.8/site-packages/py_feat-0.3.7-py3.8.egg/feat/resources/hog_pca_all_emotio.joblib\n",
      "Using downloaded and verified file: /home/dongagent/anaconda3/lib/python3.8/site-packages/py_feat-0.3.7-py3.8.egg/feat/resources/hog_scalar_aus.joblib\n",
      "Using downloaded and verified file: /home/dongagent/anaconda3/lib/python3.8/site-packages/py_feat-0.3.7-py3.8.egg/feat/resources/RF_568.joblib\n",
      "Using downloaded and verified file: /home/dongagent/anaconda3/lib/python3.8/site-packages/py_feat-0.3.7-py3.8.egg/feat/resources/hog_pca_all_emotio.joblib\n",
      "Using downloaded and verified file: /home/dongagent/anaconda3/lib/python3.8/site-packages/py_feat-0.3.7-py3.8.egg/feat/resources/hog_scalar_aus.joblib\n",
      "Using downloaded and verified file: /home/dongagent/anaconda3/lib/python3.8/site-packages/py_feat-0.3.7-py3.8.egg/feat/resources/ResMaskNet_Z_resmasking_dropout1_rot30.pth\n",
      "Loading Face Landmark model:  mobilenet\n",
      "Loading au model:  rf\n"
     ]
    },
    {
     "name": "stderr",
     "output_type": "stream",
     "text": [
      "/home/dongagent/anaconda3/lib/python3.8/site-packages/sklearn/base.py:329: UserWarning: Trying to unpickle estimator PCA from version 0.24.1 when using version 0.23.2. This might lead to breaking code or invalid results. Use at your own risk.\n",
      "  warnings.warn(\n",
      "/home/dongagent/anaconda3/lib/python3.8/site-packages/sklearn/base.py:329: UserWarning: Trying to unpickle estimator DecisionTreeClassifier from version 0.24.1 when using version 0.23.2. This might lead to breaking code or invalid results. Use at your own risk.\n",
      "  warnings.warn(\n",
      "/home/dongagent/anaconda3/lib/python3.8/site-packages/sklearn/base.py:329: UserWarning: Trying to unpickle estimator RandomForestClassifier from version 0.24.1 when using version 0.23.2. This might lead to breaking code or invalid results. Use at your own risk.\n",
      "  warnings.warn(\n",
      "/home/dongagent/anaconda3/lib/python3.8/site-packages/sklearn/base.py:329: UserWarning: Trying to unpickle estimator StandardScaler from version 0.24.1 when using version 0.23.2. This might lead to breaking code or invalid results. Use at your own risk.\n",
      "  warnings.warn(\n"
     ]
    },
    {
     "name": "stdout",
     "output_type": "stream",
     "text": [
      "Loading emotion model:  resmasknet\n",
      "Loading facepose model:  pnp\n",
      "      anger   disgust      fear  happiness   sadness  surprise   neutral  \\\n",
      "0  0.000994  0.001126  0.000758   0.037015  0.020625  0.188419  0.751063   \n",
      "\n",
      "                                               input  \n",
      "0  /home/dongagent/github/CameraControl/algorithm...  \n",
      "pyfeat result:  0.037015483\n"
     ]
    }
   ],
   "source": [
    "import RCSystem\n",
    "import defaultPose\n",
    "import copy\n",
    "import time\n",
    "# Anger\n",
    "Final_result = {\n",
    "    'target': 0.04359174519777298, \n",
    "    'params': {\n",
    "        'x1': 19.24340653213026, \n",
    "        'x11': 207.03553547894342, \n",
    "        'x15': 118.9994735267825, \n",
    "        'x6': 77.97557520279014, \n",
    "        'x7': 76.18064913543611}\n",
    "}\n",
    "\n",
    "Final_result = {\n",
    "    'target': 0.012286920100450516, \n",
    "    'params': {\n",
    "        'x1': 39.78475331282131, \n",
    "        'x11': 39.77860268573168, \n",
    "        'x15': 14.811321102890863, \n",
    "        'x6': 220.87491717260846}\n",
    "}\n",
    "Final_result = {\n",
    "    'target': 0.01906174048781395, \n",
    "    'params': {'x1': 197.67202301496775, 'x11': 224.94287383109588, 'x15': 57.927811912050835, 'x6': 94.96829956413046}\n",
    "}\n",
    "\n",
    "Final_result = {'target': 0.021121272817254066, 'params': \n",
    "                {'x1': 197.67202301496775, 'x11': 224.94287383109588, 'x15': 57.927811912050835, 'x6': 94.96829956413046}}\n",
    "\n",
    "Final_result = {'target': 0.028251759707927704, 'params': {'x1': 197.67202301496775, 'x11': 224.94287383109588, 'x15': 57.927811912050835, 'x6': 94.96829956413046}}\n",
    "\n",
    "Final_result = {'target': 0.026210946962237358, 'params': {'x1': 95.50773030607743, 'x11': 242.43214813452863, 'x15': 186.6584551619083, 'x6': 152.65791347024432}}\n",
    "\n",
    "# Best by py-feat # 22\n",
    "Final_result = {'target': 0.03486187383532524, 'params': {'x1': 182.0477023830536, 'x11': 190.62177902945336, 'x15': 11.044503946614798, 'x6': 102.69791843198763}}\n",
    "\n",
    "# Best I thought\n",
    "Final_result = {'target': 0.022552868351340294, 'params': {'x1': 197.67202301496775, 'x11': 224.94287383109588, 'x15': 57.927811912050835, 'x6': 94.96829956413046}}\n",
    "\n",
    "# Best \n",
    "Final_result = {'target': 0.018799269571900368, 'params': {'x11': 41.000005745751935, 'x15': 101.75836276831566, 'x6': 22.061358723618913}}\n",
    "\n",
    "\n",
    "# Happiness\n",
    "\n",
    "# Final_result = {'target': 0.6831660270690918, 'params': {'x16': 220.87491717260846, 'x18': 153.28432799451824, 'x28': 180.55850733799159, 'x29': 5.249046045429624, 'x32': 247.32701230130854, 'x6': 212.27287340410754, 'x9': 54.14647322296042}}\n",
    "\n",
    "# Final_result = {'target': 0.6223621368408203, 'params': {'x16': 220.87491717260846, 'x18': 153.28432799451824, 'x28': 180.55850733799159, 'x29': 5.249046045429624, 'x32': 247.32701230130854, 'x6': 212.27287340410754, 'x9': 54.14647322296042}}\n",
    "\n",
    "# Final_result = {'target': 0.7114092111587524, 'params': {'x16': 220.87491717260846, 'x18': 153.28432799451824, 'x28': 180.55850733799159, 'x29': 5.249046045429624, 'x32': 193.98197043239887, 'x6': 212.27287340410754, 'x9': 54.14647322296042}}\n",
    "\n",
    "# Final_result = {'target': 0.5807003974914551, 'params': {'x16': 220.87491717260846, 'x18': 153.28432799451824, 'x28': 180.55850733799159, 'x29': 5.249046045429624, 'x32': 193.98197043239887, 'x6': 212.27287340410754, 'x9': 54.14647322296042}}\n",
    "\n",
    "# Best # 22\n",
    "# [86, 86, 128, 128, 128, 62, 62, 0, 253, 0, 0, 0, 253, 0, 0, 172, 172, 127, 0, 0, 0, 127, 0, 0, 0, 0, 0, 141, 69, 0, 0, 84, 128, 128, 122]\n",
    "# Final_result = {'target': 0.8695987462997437, 'params': {'x16': 171.59800310665995, 'x18': 126.68641049639601, 'x28': 141.1315389891181, 'x29': 68.71561151609762, 'x32': 84.15255955995656, 'x6': 62.45892190919146, 'x9': 252.7459651617753}}\n",
    "\n",
    "\n",
    "neutral = [86, 86, 128, 128, 128, 0, 0, 0, 0, 0, 0, 0, 0, 0, 0, 0, 0, 0, 0, 0, 0, 0, 0, 0, 0, 0, 0, 0, 0, 0, 0, 0, 128, 128, 122]\n",
    "finalResult = copy.copy(neutral)\n",
    "for k,v in Final_result[\"params\"].items():\n",
    "        # print(k,v)\n",
    "        if \"x\" in k:\n",
    "            finalResult[int(k[1:])-1] = round(v)\n",
    "# x2 = x1, use one axis for eyes upper lid\n",
    "finalResult[1] = finalResult[0]\n",
    "# x7 = x6, use one axis for eyes lower lid\n",
    "finalResult[6] = finalResult[5]\n",
    "# x13 = x9\n",
    "finalResult[12] = finalResult[8]\n",
    "# x17 = x16\n",
    "finalResult[16] = finalResult[15]\n",
    "# x22 = x18\n",
    "finalResult[21] = finalResult[17]\n",
    "print(finalResult)\n",
    "finalResult = RCSystem.checkParameters(finalResult)\n",
    "\n",
    "rb = RCSystem.robot(duration=3)\n",
    "rb.switch_to_customizedPose(finalResult)\n",
    "rb.connect_ros(isSmoothly=True, isRecording=False) # isSmoothly = True ,isRecording = True\n",
    "\n",
    "time.sleep(3)\n",
    "rb.take_picture(isUsingCounter=False, appendix='_test')\n",
    "print(\"pyfeat result: \", RCSystem.py_feat_analysis(img=rb.fileName, target_emotion=\"happiness\"))\n"
   ]
  },
  {
   "cell_type": "code",
   "execution_count": 17,
   "id": "6900be64-5fc5-4550-a49f-d46f7e6d274a",
   "metadata": {},
   "outputs": [],
   "source": [
    "neutral = [86, 86, 128, 128, 128, 0, 0, 0, 0, 0, 0, 0, 0, 0, 0, 0, 0, 0, 0, 0, 0, 0, 0, 0, 0, 0, 0, 0, 0, 0, 0, 0, 128, 128, 122]\n",
    "finalResult = copy.copy(neutral)\n",
    "for k,v in Final_result[\"params\"].items():\n",
    "        # print(k,v)\n",
    "        if \"x\" in k:\n",
    "            finalResult[int(k[1:])-1] = round(v)\n",
    "finalResult[1] = finalResult[0]\n",
    "finalResult[6] = finalResult[5]\n",
    "# print(finalResult)\n",
    "finalResult = RCSystem.checkParameters(finalResult)\n",
    "\n",
    "rb = RCSystem.robot(duration=3)\n",
    "rb.switch_to_customizedPose(finalResult)\n",
    "rb.connect_ros(isSmoothly=True, isRecording=False) # isSmoothly = True ,isRecording = True\n",
    "time.sleep(3)\n",
    "rb.take_picture(isUsingCounter=False, appendix='_test')\n",
    "print(\"pyfeat result: \", RCSystem.py_feat_analysis(img=rb.fileName, target_emotion=\"Happiness\"))\n",
    "\n",
    "# time.sleep(10)\n",
    "\n"
   ]
  },
  {
   "cell_type": "code",
   "execution_count": 39,
   "id": "744d18ba-27c8-497f-be55-5b31a2a77ef0",
   "metadata": {},
   "outputs": [
    {
     "name": "stdout",
     "output_type": "stream",
     "text": [
      "self.lastState [86, 86, 128, 128, 128, 0, 0, 0, 0, 0, 0, 0, 0, 0, 0, 0, 0, 0, 0, 0, 0, 0, 0, 0, 0, 0, 0, 0, 0, 0, 0, 0, 128, 128, 122, 0]\n",
      "self.nextState [0, 0, 128, 128, 128, 255, 255, 0, 0, 0, 255, 0, 0, 0, 255, 0, 0, 0, 0, 0, 0, 0, 0, 0, 0, 0, 0, 0, 0, 0, 0, 0, 128, 128, 122]\n",
      "Smoothly execution activated\n",
      "Loading Face Detection model:  retinaface\n",
      "Using downloaded and verified file: /home/dongagent/anaconda3/lib/python3.8/site-packages/py_feat-0.3.7-py3.8.egg/feat/resources/mobilenet0.25_Final.pth\n",
      "Using downloaded and verified file: /home/dongagent/anaconda3/lib/python3.8/site-packages/py_feat-0.3.7-py3.8.egg/feat/resources/mobilenet_224_model_best_gdconv_external.pth.tar\n",
      "Using downloaded and verified file: /home/dongagent/anaconda3/lib/python3.8/site-packages/py_feat-0.3.7-py3.8.egg/feat/resources/hog_pca_all_emotio.joblib\n",
      "Using downloaded and verified file: /home/dongagent/anaconda3/lib/python3.8/site-packages/py_feat-0.3.7-py3.8.egg/feat/resources/hog_pca_all_emotio.joblib\n",
      "Using downloaded and verified file: /home/dongagent/anaconda3/lib/python3.8/site-packages/py_feat-0.3.7-py3.8.egg/feat/resources/hog_scalar_aus.joblib\n",
      "Using downloaded and verified file: /home/dongagent/anaconda3/lib/python3.8/site-packages/py_feat-0.3.7-py3.8.egg/feat/resources/RF_568.joblib\n",
      "Using downloaded and verified file: /home/dongagent/anaconda3/lib/python3.8/site-packages/py_feat-0.3.7-py3.8.egg/feat/resources/hog_pca_all_emotio.joblib\n",
      "Using downloaded and verified file: /home/dongagent/anaconda3/lib/python3.8/site-packages/py_feat-0.3.7-py3.8.egg/feat/resources/hog_scalar_aus.joblib\n",
      "Using downloaded and verified file: /home/dongagent/anaconda3/lib/python3.8/site-packages/py_feat-0.3.7-py3.8.egg/feat/resources/ResMaskNet_Z_resmasking_dropout1_rot30.pth\n",
      "Loading Face Landmark model:  mobilenet\n",
      "Loading au model:  rf\n"
     ]
    },
    {
     "name": "stderr",
     "output_type": "stream",
     "text": [
      "/home/dongagent/anaconda3/lib/python3.8/site-packages/sklearn/base.py:329: UserWarning: Trying to unpickle estimator PCA from version 0.24.1 when using version 0.23.2. This might lead to breaking code or invalid results. Use at your own risk.\n",
      "  warnings.warn(\n",
      "/home/dongagent/anaconda3/lib/python3.8/site-packages/sklearn/base.py:329: UserWarning: Trying to unpickle estimator DecisionTreeClassifier from version 0.24.1 when using version 0.23.2. This might lead to breaking code or invalid results. Use at your own risk.\n",
      "  warnings.warn(\n",
      "/home/dongagent/anaconda3/lib/python3.8/site-packages/sklearn/base.py:329: UserWarning: Trying to unpickle estimator RandomForestClassifier from version 0.24.1 when using version 0.23.2. This might lead to breaking code or invalid results. Use at your own risk.\n",
      "  warnings.warn(\n",
      "/home/dongagent/anaconda3/lib/python3.8/site-packages/sklearn/base.py:329: UserWarning: Trying to unpickle estimator StandardScaler from version 0.24.1 when using version 0.23.2. This might lead to breaking code or invalid results. Use at your own risk.\n",
      "  warnings.warn(\n"
     ]
    },
    {
     "name": "stdout",
     "output_type": "stream",
     "text": [
      "Loading emotion model:  resmasknet\n",
      "Loading facepose model:  pnp\n",
      "      anger   disgust      fear  happiness   sadness  surprise   neutral  \\\n",
      "0  0.003934  0.006214  0.000313   0.005102  0.048449  0.001171  0.934816   \n",
      "\n",
      "                                               input  \n",
      "0  /home/dongagent/github/CameraControl/algorithm...  \n",
      "pyfeat result:  0.0039339093\n",
      "self.lastState [0, 0, 128, 128, 128, 255, 255, 0, 0, 0, 255, 0, 0, 0, 255, 0, 0, 0, 0, 0, 0, 0, 0, 0, 0, 0, 0, 0, 0, 0, 0, 0, 128, 128, 122, 0]\n",
      "self.nextState [86, 86, 128, 128, 128, 0, 0, 0, 0, 0, 0, 0, 0, 0, 0, 0, 0, 0, 0, 0, 0, 0, 0, 0, 0, 0, 0, 0, 0, 0, 0, 0, 128, 128, 122]\n",
      "Smoothly execution activated\n"
     ]
    }
   ],
   "source": [
    "# Standard angry\n",
    "rb.switch_to_customizedPose(defaultPose.prototypeFacialExpressions[\"happiness\"])\n",
    "rb.connect_ros(isSmoothly=True, isRecording=False) # isSmoothly = True ,isRecording = True\n",
    "time.sleep(3)\n",
    "rb.take_picture(isUsingCounter=False, appendix='prototypehappiness_test')\n",
    "print(\"pyfeat result: \", RCSystem.py_feat_analysis(img=rb.fileName, target_emotion=\"Happiness\"))\n",
    "\n",
    "rb.switch_to_customizedPose(rb.AUPose['StandardPose'])\n",
    "rb.connect_ros(True, False)"
   ]
  },
  {
   "cell_type": "code",
   "execution_count": 14,
   "id": "fc30301a-f085-4c77-8e07-d75691dbf134",
   "metadata": {},
   "outputs": [
    {
     "name": "stdout",
     "output_type": "stream",
     "text": [
      "initialize_robotParams\n",
      "\n",
      "\n",
      "Smoothly execution activated\n",
      "return_to_stable_state, self.robotParams are all set\n",
      "self.lastState [64, 64, 128, 128, 128, 0, 0, 0, 0, 0, 0, 0, 0, 0, 0, 0, 0, 0, 0, 0, 0, 0, 0, 0, 0, 0, 0, 0, 0, 0, 0, 32, 128, 128, 128, 0]\n",
      "self.nextState [86, 86, 128, 128, 128, 255, 255, 0, 255, 0, 0, 0, 255, 0, 0, 255, 255, 255, 0, 0, 0, 255, 0, 0, 0, 0, 0, 0, 0, 0, 0, 0, 128, 128, 122]\n",
      "Smoothly execution activated\n"
     ]
    },
    {
     "name": "stderr",
     "output_type": "stream",
     "text": [
      "/home/dongagent/anaconda3/lib/python3.8/site-packages/nilearn/datasets/__init__.py:93: FutureWarning: Fetchers from the nilearn.datasets module will be updated in version 0.9 to return python strings instead of bytes and Pandas dataframes instead of Numpy arrays.\n",
      "  warn(\"Fetchers from the nilearn.datasets module will be \"\n",
      "/home/dongagent/anaconda3/lib/python3.8/site-packages/torch/cuda/__init__.py:80: UserWarning: CUDA initialization: CUDA unknown error - this may be due to an incorrectly set up environment, e.g. changing env variable CUDA_VISIBLE_DEVICES after program start. Setting the available devices to be zero. (Triggered internally at  ../c10/cuda/CUDAFunctions.cpp:112.)\n",
      "  return torch._C._cuda_getDeviceCount() > 0\n",
      "/home/dongagent/anaconda3/lib/python3.8/site-packages/sklearn/base.py:329: UserWarning: Trying to unpickle estimator PCA from version 0.24.1 when using version 0.23.2. This might lead to breaking code or invalid results. Use at your own risk.\n",
      "  warnings.warn(\n",
      "/home/dongagent/anaconda3/lib/python3.8/site-packages/sklearn/base.py:329: UserWarning: Trying to unpickle estimator DecisionTreeClassifier from version 0.24.1 when using version 0.23.2. This might lead to breaking code or invalid results. Use at your own risk.\n",
      "  warnings.warn(\n",
      "/home/dongagent/anaconda3/lib/python3.8/site-packages/sklearn/base.py:329: UserWarning: Trying to unpickle estimator RandomForestClassifier from version 0.24.1 when using version 0.23.2. This might lead to breaking code or invalid results. Use at your own risk.\n",
      "  warnings.warn(\n"
     ]
    },
    {
     "name": "stdout",
     "output_type": "stream",
     "text": [
      "Loading Face Detection model:  retinaface\n",
      "Using downloaded and verified file: /home/dongagent/anaconda3/lib/python3.8/site-packages/py_feat-0.3.7-py3.8.egg/feat/resources/mobilenet0.25_Final.pth\n",
      "Using downloaded and verified file: /home/dongagent/anaconda3/lib/python3.8/site-packages/py_feat-0.3.7-py3.8.egg/feat/resources/mobilenet_224_model_best_gdconv_external.pth.tar\n",
      "Using downloaded and verified file: /home/dongagent/anaconda3/lib/python3.8/site-packages/py_feat-0.3.7-py3.8.egg/feat/resources/hog_pca_all_emotio.joblib\n",
      "Using downloaded and verified file: /home/dongagent/anaconda3/lib/python3.8/site-packages/py_feat-0.3.7-py3.8.egg/feat/resources/hog_pca_all_emotio.joblib\n",
      "Using downloaded and verified file: /home/dongagent/anaconda3/lib/python3.8/site-packages/py_feat-0.3.7-py3.8.egg/feat/resources/hog_scalar_aus.joblib\n",
      "Using downloaded and verified file: /home/dongagent/anaconda3/lib/python3.8/site-packages/py_feat-0.3.7-py3.8.egg/feat/resources/RF_568.joblib\n",
      "Using downloaded and verified file: /home/dongagent/anaconda3/lib/python3.8/site-packages/py_feat-0.3.7-py3.8.egg/feat/resources/hog_pca_all_emotio.joblib\n",
      "Using downloaded and verified file: /home/dongagent/anaconda3/lib/python3.8/site-packages/py_feat-0.3.7-py3.8.egg/feat/resources/hog_scalar_aus.joblib\n",
      "Using downloaded and verified file: /home/dongagent/anaconda3/lib/python3.8/site-packages/py_feat-0.3.7-py3.8.egg/feat/resources/ResMaskNet_Z_resmasking_dropout1_rot30.pth\n",
      "Loading Face Landmark model:  mobilenet\n",
      "Loading au model:  rf\n"
     ]
    },
    {
     "name": "stderr",
     "output_type": "stream",
     "text": [
      "/home/dongagent/anaconda3/lib/python3.8/site-packages/sklearn/base.py:329: UserWarning: Trying to unpickle estimator StandardScaler from version 0.24.1 when using version 0.23.2. This might lead to breaking code or invalid results. Use at your own risk.\n",
      "  warnings.warn(\n"
     ]
    },
    {
     "name": "stdout",
     "output_type": "stream",
     "text": [
      "Loading emotion model:  resmasknet\n",
      "Loading facepose model:  pnp\n",
      "     anger   disgust      fear  happiness   sadness  surprise   neutral  \\\n",
      "0  0.00128  0.001573  0.000303   0.625767  0.008321  0.005846  0.356911   \n",
      "\n",
      "                                               input  \n",
      "0  /home/dongagent/github/CameraControl/algorithm...  \n",
      "pyfeat result:  0.6257665\n",
      "self.lastState [86, 86, 128, 128, 128, 255, 255, 0, 255, 0, 0, 0, 255, 0, 0, 255, 255, 255, 0, 0, 0, 255, 0, 0, 0, 0, 0, 0, 0, 0, 0, 0, 128, 128, 122, 0]\n",
      "self.nextState [86, 86, 128, 128, 128, 255, 255, 0, 255, 0, 0, 0, 255, 0, 0, 255, 255, 255, 0, 0, 0, 255, 0, 0, 0, 0, 0, 255, 255, 0, 0, 255, 128, 128, 122]\n",
      "Smoothly execution activated\n",
      "Loading Face Detection model:  retinaface\n",
      "Using downloaded and verified file: /home/dongagent/anaconda3/lib/python3.8/site-packages/py_feat-0.3.7-py3.8.egg/feat/resources/mobilenet0.25_Final.pth\n",
      "Using downloaded and verified file: /home/dongagent/anaconda3/lib/python3.8/site-packages/py_feat-0.3.7-py3.8.egg/feat/resources/mobilenet_224_model_best_gdconv_external.pth.tar\n",
      "Using downloaded and verified file: /home/dongagent/anaconda3/lib/python3.8/site-packages/py_feat-0.3.7-py3.8.egg/feat/resources/hog_pca_all_emotio.joblib\n",
      "Using downloaded and verified file: /home/dongagent/anaconda3/lib/python3.8/site-packages/py_feat-0.3.7-py3.8.egg/feat/resources/hog_pca_all_emotio.joblib\n",
      "Using downloaded and verified file: /home/dongagent/anaconda3/lib/python3.8/site-packages/py_feat-0.3.7-py3.8.egg/feat/resources/hog_scalar_aus.joblib\n",
      "Using downloaded and verified file: /home/dongagent/anaconda3/lib/python3.8/site-packages/py_feat-0.3.7-py3.8.egg/feat/resources/RF_568.joblib\n",
      "Using downloaded and verified file: /home/dongagent/anaconda3/lib/python3.8/site-packages/py_feat-0.3.7-py3.8.egg/feat/resources/hog_pca_all_emotio.joblib\n",
      "Using downloaded and verified file: /home/dongagent/anaconda3/lib/python3.8/site-packages/py_feat-0.3.7-py3.8.egg/feat/resources/hog_scalar_aus.joblib\n",
      "Using downloaded and verified file: /home/dongagent/anaconda3/lib/python3.8/site-packages/py_feat-0.3.7-py3.8.egg/feat/resources/ResMaskNet_Z_resmasking_dropout1_rot30.pth\n",
      "Loading Face Landmark model:  mobilenet\n",
      "Loading au model:  rf\n"
     ]
    },
    {
     "name": "stderr",
     "output_type": "stream",
     "text": [
      "/home/dongagent/anaconda3/lib/python3.8/site-packages/sklearn/base.py:329: UserWarning: Trying to unpickle estimator PCA from version 0.24.1 when using version 0.23.2. This might lead to breaking code or invalid results. Use at your own risk.\n",
      "  warnings.warn(\n",
      "/home/dongagent/anaconda3/lib/python3.8/site-packages/sklearn/base.py:329: UserWarning: Trying to unpickle estimator DecisionTreeClassifier from version 0.24.1 when using version 0.23.2. This might lead to breaking code or invalid results. Use at your own risk.\n",
      "  warnings.warn(\n",
      "/home/dongagent/anaconda3/lib/python3.8/site-packages/sklearn/base.py:329: UserWarning: Trying to unpickle estimator RandomForestClassifier from version 0.24.1 when using version 0.23.2. This might lead to breaking code or invalid results. Use at your own risk.\n",
      "  warnings.warn(\n",
      "/home/dongagent/anaconda3/lib/python3.8/site-packages/sklearn/base.py:329: UserWarning: Trying to unpickle estimator StandardScaler from version 0.24.1 when using version 0.23.2. This might lead to breaking code or invalid results. Use at your own risk.\n",
      "  warnings.warn(\n"
     ]
    },
    {
     "name": "stdout",
     "output_type": "stream",
     "text": [
      "Loading emotion model:  resmasknet\n",
      "Loading facepose model:  pnp\n",
      "      anger   disgust      fear  happiness   sadness  surprise   neutral  \\\n",
      "0  0.000462  0.000849  0.000163   0.691628  0.008091  0.005896  0.292911   \n",
      "\n",
      "                                               input  \n",
      "0  /home/dongagent/github/CameraControl/algorithm...  \n",
      "pyfeat result:  0.69162756\n"
     ]
    }
   ],
   "source": [
    "import RCSystem\n",
    "import defaultPose\n",
    "import time\n",
    "rb = RCSystem.robot(duration=2)\n",
    "\n",
    "rb.switch_to_customizedPose(defaultPose.prototypeFacialExpressions[\"happiness\"])\n",
    "rb.connect_ros(True, False)\n",
    "time.sleep(2)\n",
    "rb.take_picture(isUsingCounter=False, appendix='prototypehappiness_test')\n",
    "print(\"pyfeat result: \", RCSystem.py_feat_analysis(img=rb.fileName, target_emotion=\"Happiness\"))\n",
    "\n",
    "time.sleep(3)\n",
    "rb.switch_to_customizedPose(defaultPose.hotExpressions[\"hotHappiness\"])\n",
    "rb.connect_ros(True, False)\n",
    "time.sleep(2)\n",
    "rb.take_picture(isUsingCounter=False, appendix='prototypehappiness_test')\n",
    "print(\"pyfeat result: \", RCSystem.py_feat_analysis(img=rb.fileName, target_emotion=\"Happiness\"))\n",
    "\n",
    "\n"
   ]
  },
  {
   "cell_type": "code",
   "execution_count": 70,
   "id": "6cfd8d0c-8306-4801-ba8e-2f611cef33cc",
   "metadata": {},
   "outputs": [
    {
     "name": "stdout",
     "output_type": "stream",
     "text": [
      "[198, 198, 128, 128, 128, 95, 95, 0, 0, 0, 225, 0, 0, 0, 58, 0, 0, 0, 0, 0, 0, 0, 0, 0, 0, 0, 0, 0, 0, 0, 0, 0, 128, 128, 122]\n",
      "self.lastState [49, 49, 128, 128, 128, 196, 196, 0, 0, 0, 158, 0, 0, 0, 63, 0, 0, 0, 0, 0, 0, 0, 0, 0, 0, 0, 0, 0, 0, 0, 0, 0, 128, 128, 122, 0]\n",
      "self.nextState [198, 198, 128, 128, 128, 95, 95, 0, 0, 0, 225, 0, 0, 0, 58, 0, 0, 0, 0, 0, 0, 0, 0, 0, 0, 0, 0, 0, 0, 0, 0, 0, 128, 128, 122]\n",
      "Smoothly execution activated\n"
     ]
    }
   ],
   "source": [
    "a = [49, 49, 128, 128, 128, 196, 196, 0, 0, 0, 158, 0, 0, 0, 63, 0, 0, 0, 0, 0, 0, 0, 0, 0, 0, 0, 0, 0, 0, 0, 0, 0, 128, 128, 122]\n",
    "# a = [216, 216, 128, 128, 128, 138, 138, 0, 0, 0, 183, 0, 0, 0, 75, 0, 0, 0, 0, 0, 0, 0, 0, 0, 0, 0, 0, 0, 0, 0, 0, 0, 128, 128, 122]\n",
    "a = [198, 198, 128, 128, 128, 95, 95, 0, 0, 0, 225, 0, 0, 0, 58, 0, 0, 0, 0, 0, 0, 0, 0, 0, 0, 0, 0, 0, 0, 0, 0, 0, 128, 128, 122]\n",
    "print(a)\n",
    "# a = copy.copy(rb.AUPose['StandardPose'])\n",
    "# a[15],a[16] = 200,200\n",
    "# a[17]=100\n",
    "# a[21]=a[17]\n",
    "# a[27]=100\n",
    "# a[31]=200\n",
    "rb.switch_to_customizedPose(a)\n",
    "rb.connect_ros(True, False)"
   ]
  },
  {
   "cell_type": "code",
   "execution_count": 71,
   "id": "a82670c9-daab-45af-98e7-b9ad4560dc5c",
   "metadata": {},
   "outputs": [
    {
     "name": "stdout",
     "output_type": "stream",
     "text": [
      "initialize_robotParams\n",
      "\n",
      "\n",
      "Smoothly execution activated\n",
      "return_to_stable_state, self.robotParams are all set\n",
      "self.lastState [64, 64, 128, 128, 128, 0, 0, 0, 0, 0, 0, 0, 0, 0, 0, 0, 0, 0, 0, 0, 0, 0, 0, 0, 0, 0, 0, 0, 0, 0, 0, 32, 128, 128, 128, 0]\n",
      "self.nextState [86, 86, 128, 128, 128, 0, 0, 0, 0, 0, 0, 0, 0, 0, 0, 0, 0, 0, 0, 0, 0, 0, 0, 0, 0, 0, 0, 0, 0, 0, 0, 0, 128, 128, 122]\n",
      "Smoothly execution activated\n"
     ]
    }
   ],
   "source": [
    "import RCSystem\n",
    "\n",
    "rb = RCSystem.robot(duration=3)\n",
    "rb.switch_to_customizedPose(rb.AUPose['StandardPose'])\n",
    "rb.connect_ros(True, False)\n"
   ]
  },
  {
   "cell_type": "code",
   "execution_count": 37,
   "id": "911340f3-caa0-429e-a938-6061e1fcee51",
   "metadata": {},
   "outputs": [
    {
     "name": "stdout",
     "output_type": "stream",
     "text": [
      "Loading Face Detection model:  retinaface\n",
      "Using downloaded and verified file: /home/dongagent/anaconda3/lib/python3.8/site-packages/py_feat-0.3.7-py3.8.egg/feat/resources/mobilenet0.25_Final.pth\n",
      "Using downloaded and verified file: /home/dongagent/anaconda3/lib/python3.8/site-packages/py_feat-0.3.7-py3.8.egg/feat/resources/mobilenet_224_model_best_gdconv_external.pth.tar\n",
      "Using downloaded and verified file: /home/dongagent/anaconda3/lib/python3.8/site-packages/py_feat-0.3.7-py3.8.egg/feat/resources/hog_pca_all_emotio.joblib\n",
      "Using downloaded and verified file: /home/dongagent/anaconda3/lib/python3.8/site-packages/py_feat-0.3.7-py3.8.egg/feat/resources/hog_pca_all_emotio.joblib\n",
      "Using downloaded and verified file: /home/dongagent/anaconda3/lib/python3.8/site-packages/py_feat-0.3.7-py3.8.egg/feat/resources/hog_scalar_aus.joblib\n",
      "Using downloaded and verified file: /home/dongagent/anaconda3/lib/python3.8/site-packages/py_feat-0.3.7-py3.8.egg/feat/resources/RF_568.joblib\n",
      "Using downloaded and verified file: /home/dongagent/anaconda3/lib/python3.8/site-packages/py_feat-0.3.7-py3.8.egg/feat/resources/hog_pca_all_emotio.joblib\n",
      "Using downloaded and verified file: /home/dongagent/anaconda3/lib/python3.8/site-packages/py_feat-0.3.7-py3.8.egg/feat/resources/hog_scalar_aus.joblib\n",
      "Using downloaded and verified file: /home/dongagent/anaconda3/lib/python3.8/site-packages/py_feat-0.3.7-py3.8.egg/feat/resources/ResMaskNet_Z_resmasking_dropout1_rot30.pth\n",
      "Loading Face Landmark model:  mobilenet\n",
      "Loading au model:  rf\n"
     ]
    },
    {
     "name": "stderr",
     "output_type": "stream",
     "text": [
      "/home/dongagent/anaconda3/lib/python3.8/site-packages/sklearn/base.py:329: UserWarning: Trying to unpickle estimator PCA from version 0.24.1 when using version 0.23.2. This might lead to breaking code or invalid results. Use at your own risk.\n",
      "  warnings.warn(\n",
      "/home/dongagent/anaconda3/lib/python3.8/site-packages/sklearn/base.py:329: UserWarning: Trying to unpickle estimator DecisionTreeClassifier from version 0.24.1 when using version 0.23.2. This might lead to breaking code or invalid results. Use at your own risk.\n",
      "  warnings.warn(\n",
      "/home/dongagent/anaconda3/lib/python3.8/site-packages/sklearn/base.py:329: UserWarning: Trying to unpickle estimator RandomForestClassifier from version 0.24.1 when using version 0.23.2. This might lead to breaking code or invalid results. Use at your own risk.\n",
      "  warnings.warn(\n",
      "/home/dongagent/anaconda3/lib/python3.8/site-packages/sklearn/base.py:329: UserWarning: Trying to unpickle estimator StandardScaler from version 0.24.1 when using version 0.23.2. This might lead to breaking code or invalid results. Use at your own risk.\n",
      "  warnings.warn(\n"
     ]
    },
    {
     "name": "stdout",
     "output_type": "stream",
     "text": [
      "Loading emotion model:  resmasknet\n",
      "Loading facepose model:  pnp\n",
      "     anger   disgust      fear  happiness   sadness  surprise   neutral  \\\n",
      "0  0.97182  0.002774  0.000671    0.00016  0.001287  0.000857  0.022432   \n",
      "\n",
      "              input  \n",
      "0  anger_human2.png  \n"
     ]
    }
   ],
   "source": [
    "# Human pyfeat\n",
    "import RCSystem\n",
    "from feat import Detector\n",
    "face_model = \"retinaface\"\n",
    "landmark_model = \"mobilenet\"\n",
    "au_model = \"rf\"\n",
    "emotion_model = \"resmasknet\"\n",
    "detector = Detector(face_model = face_model, landmark_model = landmark_model, au_model = au_model, emotion_model = emotion_model)\n",
    "\n",
    "image_prediction = detector.detect_image(\"anger_human2.png\")\n",
    "df = image_prediction.head()\n",
    "print(df.iloc[:, -8:])\n",
    "\n",
    "\n"
   ]
  },
  {
   "cell_type": "code",
   "execution_count": null,
   "id": "c7b0dc98-803c-49d5-9718-a2d1aad3fb0c",
   "metadata": {},
   "outputs": [],
   "source": [
    "# from feat import Fex\n",
    "# fex = Fex()\n",
    "\n",
    "# from feat import Detector\n",
    "# detector = Detector()\n",
    "\n",
    "from feat import Detector\n",
    "face_model = \"retinaface\"\n",
    "landmark_model = \"mobilenet\"\n",
    "au_model = \"rf\"\n",
    "emotion_model = \"resmasknet\"\n",
    "detector = Detector(face_model = face_model, landmark_model = landmark_model, au_model = au_model, emotion_model = emotion_model)\n",
    "\n",
    "# image prediction\n",
    "# for i in [\"happyness\", \"sadness\", \"surprise\"]:\n",
    "# for i in [\"anger\", \"disgust\", \"fear\"]:\n",
    "#     image_prediction = detector.detect_image(i + \".png\")\n",
    "#     image_prediction.plot_detections()\n",
    "\n",
    "# video prediction\n",
    "import os\n",
    "filePath = \"../Study3/\"\n",
    "videoNames = os.listdir(filePath)\n",
    "flag = 0\n",
    "for i in videoNames:\n",
    "    if flag < 1:\n",
    "        tempVideoPath = os.path.join(filePath, i)\n",
    "        print(tempVideoPath)\n",
    "        # video_prediction = detector.detect_video(tempVideoPath, skip_frames=0)\n",
    "        video_prediction = detector.detect_video(tempVideoPath)\n",
    "        video_prediction.emotions().plot()\n",
    "        print(video_prediction.head())\n",
    "\n",
    "        flag += 1"
   ]
  },
  {
   "cell_type": "code",
   "execution_count": null,
   "id": "d00b3561-92d7-4084-9749-f2c39500fbad",
   "metadata": {},
   "outputs": [],
   "source": [
    "from feat import Detector\n",
    "face_model = \"retinaface\"\n",
    "landmark_model = \"mobilenet\"\n",
    "au_model = \"rf\"\n",
    "emotion_model = \"resmasknet\"\n",
    "detector = Detector(face_model = face_model, landmark_model = landmark_model, au_model = au_model, emotion_model = emotion_model)\n"
   ]
  },
  {
   "cell_type": "code",
   "execution_count": null,
   "id": "5c3cb40d-4401-4909-b79d-aa38bba3b010",
   "metadata": {},
   "outputs": [],
   "source": [
    "# image prediction\n",
    "\n",
    "for i in [\"anger\", \"disgust\", \"fear\", \"happyness\", \"sadness\", \"surprise\"]:\n",
    "#     image_prediction = detector.detect_image(i + \".png\")\n",
    "#     image_prediction.head()\n",
    "    image_prediction = detector.detect_image(\"Study2/\" + i + \".png\")\n",
    "    df = image_prediction.head()\n",
    "    print(df.iloc[:, -8:])"
   ]
  },
  {
   "cell_type": "markdown",
   "id": "b6eb8308-603f-4ada-95a4-db875bd63467",
   "metadata": {},
   "source": [
    "# Confusion Matrix"
   ]
  },
  {
   "cell_type": "code",
   "execution_count": 76,
   "id": "199bcc29-614c-4f10-9eb1-dbf9bc69cc69",
   "metadata": {},
   "outputs": [
    {
     "name": "stdout",
     "output_type": "stream",
     "text": [
      "/home/dongagent/github/CameraControl/ros_dongagent_ws/src/dongagent_package/scripts\n"
     ]
    }
   ],
   "source": [
    "!pwd"
   ]
  },
  {
   "cell_type": "code",
   "execution_count": 75,
   "id": "e79a94a7-db05-471b-b0f8-289322ce6aee",
   "metadata": {},
   "outputs": [
    {
     "ename": "FileNotFoundError",
     "evalue": "[Errno 2] No such file or directory: 'db_confussion_raw_study2.csv'",
     "output_type": "error",
     "traceback": [
      "\u001b[0;31m---------------------------------------------------------------------------\u001b[0m",
      "\u001b[0;31mFileNotFoundError\u001b[0m                         Traceback (most recent call last)",
      "\u001b[0;32m<ipython-input-75-280b93d6627d>\u001b[0m in \u001b[0;36m<module>\u001b[0;34m\u001b[0m\n\u001b[1;32m      3\u001b[0m \u001b[0;32mimport\u001b[0m \u001b[0mmatplotlib\u001b[0m\u001b[0;34m.\u001b[0m\u001b[0mpyplot\u001b[0m \u001b[0;32mas\u001b[0m \u001b[0mplt\u001b[0m\u001b[0;34m\u001b[0m\u001b[0;34m\u001b[0m\u001b[0m\n\u001b[1;32m      4\u001b[0m \u001b[0;32mimport\u001b[0m \u001b[0mnumpy\u001b[0m \u001b[0;32mas\u001b[0m \u001b[0mnp\u001b[0m\u001b[0;34m\u001b[0m\u001b[0;34m\u001b[0m\u001b[0m\n\u001b[0;32m----> 5\u001b[0;31m \u001b[0mdf\u001b[0m \u001b[0;34m=\u001b[0m \u001b[0mpd\u001b[0m\u001b[0;34m.\u001b[0m\u001b[0mread_csv\u001b[0m\u001b[0;34m(\u001b[0m\u001b[0;34m\"db_confussion_raw_study2.csv\"\u001b[0m\u001b[0;34m)\u001b[0m\u001b[0;34m\u001b[0m\u001b[0;34m\u001b[0m\u001b[0m\n\u001b[0m\u001b[1;32m      6\u001b[0m \u001b[0;34m\u001b[0m\u001b[0m\n\u001b[1;32m      7\u001b[0m \u001b[0my_pred\u001b[0m \u001b[0;34m=\u001b[0m \u001b[0mdf\u001b[0m\u001b[0;34m.\u001b[0m\u001b[0miloc\u001b[0m\u001b[0;34m[\u001b[0m\u001b[0;34m:\u001b[0m\u001b[0;34m,\u001b[0m \u001b[0;36m3\u001b[0m\u001b[0;34m:\u001b[0m\u001b[0;34m]\u001b[0m\u001b[0;34m\u001b[0m\u001b[0;34m\u001b[0m\u001b[0m\n",
      "\u001b[0;32m~/anaconda3/lib/python3.8/site-packages/pandas/io/parsers.py\u001b[0m in \u001b[0;36mread_csv\u001b[0;34m(filepath_or_buffer, sep, delimiter, header, names, index_col, usecols, squeeze, prefix, mangle_dupe_cols, dtype, engine, converters, true_values, false_values, skipinitialspace, skiprows, skipfooter, nrows, na_values, keep_default_na, na_filter, verbose, skip_blank_lines, parse_dates, infer_datetime_format, keep_date_col, date_parser, dayfirst, cache_dates, iterator, chunksize, compression, thousands, decimal, lineterminator, quotechar, quoting, doublequote, escapechar, comment, encoding, dialect, error_bad_lines, warn_bad_lines, delim_whitespace, low_memory, memory_map, float_precision)\u001b[0m\n\u001b[1;32m    684\u001b[0m     )\n\u001b[1;32m    685\u001b[0m \u001b[0;34m\u001b[0m\u001b[0m\n\u001b[0;32m--> 686\u001b[0;31m     \u001b[0;32mreturn\u001b[0m \u001b[0m_read\u001b[0m\u001b[0;34m(\u001b[0m\u001b[0mfilepath_or_buffer\u001b[0m\u001b[0;34m,\u001b[0m \u001b[0mkwds\u001b[0m\u001b[0;34m)\u001b[0m\u001b[0;34m\u001b[0m\u001b[0;34m\u001b[0m\u001b[0m\n\u001b[0m\u001b[1;32m    687\u001b[0m \u001b[0;34m\u001b[0m\u001b[0m\n\u001b[1;32m    688\u001b[0m \u001b[0;34m\u001b[0m\u001b[0m\n",
      "\u001b[0;32m~/anaconda3/lib/python3.8/site-packages/pandas/io/parsers.py\u001b[0m in \u001b[0;36m_read\u001b[0;34m(filepath_or_buffer, kwds)\u001b[0m\n\u001b[1;32m    450\u001b[0m \u001b[0;34m\u001b[0m\u001b[0m\n\u001b[1;32m    451\u001b[0m     \u001b[0;31m# Create the parser.\u001b[0m\u001b[0;34m\u001b[0m\u001b[0;34m\u001b[0m\u001b[0;34m\u001b[0m\u001b[0m\n\u001b[0;32m--> 452\u001b[0;31m     \u001b[0mparser\u001b[0m \u001b[0;34m=\u001b[0m \u001b[0mTextFileReader\u001b[0m\u001b[0;34m(\u001b[0m\u001b[0mfp_or_buf\u001b[0m\u001b[0;34m,\u001b[0m \u001b[0;34m**\u001b[0m\u001b[0mkwds\u001b[0m\u001b[0;34m)\u001b[0m\u001b[0;34m\u001b[0m\u001b[0;34m\u001b[0m\u001b[0m\n\u001b[0m\u001b[1;32m    453\u001b[0m \u001b[0;34m\u001b[0m\u001b[0m\n\u001b[1;32m    454\u001b[0m     \u001b[0;32mif\u001b[0m \u001b[0mchunksize\u001b[0m \u001b[0;32mor\u001b[0m \u001b[0miterator\u001b[0m\u001b[0;34m:\u001b[0m\u001b[0;34m\u001b[0m\u001b[0;34m\u001b[0m\u001b[0m\n",
      "\u001b[0;32m~/anaconda3/lib/python3.8/site-packages/pandas/io/parsers.py\u001b[0m in \u001b[0;36m__init__\u001b[0;34m(self, f, engine, **kwds)\u001b[0m\n\u001b[1;32m    944\u001b[0m             \u001b[0mself\u001b[0m\u001b[0;34m.\u001b[0m\u001b[0moptions\u001b[0m\u001b[0;34m[\u001b[0m\u001b[0;34m\"has_index_names\"\u001b[0m\u001b[0;34m]\u001b[0m \u001b[0;34m=\u001b[0m \u001b[0mkwds\u001b[0m\u001b[0;34m[\u001b[0m\u001b[0;34m\"has_index_names\"\u001b[0m\u001b[0;34m]\u001b[0m\u001b[0;34m\u001b[0m\u001b[0;34m\u001b[0m\u001b[0m\n\u001b[1;32m    945\u001b[0m \u001b[0;34m\u001b[0m\u001b[0m\n\u001b[0;32m--> 946\u001b[0;31m         \u001b[0mself\u001b[0m\u001b[0;34m.\u001b[0m\u001b[0m_make_engine\u001b[0m\u001b[0;34m(\u001b[0m\u001b[0mself\u001b[0m\u001b[0;34m.\u001b[0m\u001b[0mengine\u001b[0m\u001b[0;34m)\u001b[0m\u001b[0;34m\u001b[0m\u001b[0;34m\u001b[0m\u001b[0m\n\u001b[0m\u001b[1;32m    947\u001b[0m \u001b[0;34m\u001b[0m\u001b[0m\n\u001b[1;32m    948\u001b[0m     \u001b[0;32mdef\u001b[0m \u001b[0mclose\u001b[0m\u001b[0;34m(\u001b[0m\u001b[0mself\u001b[0m\u001b[0;34m)\u001b[0m\u001b[0;34m:\u001b[0m\u001b[0;34m\u001b[0m\u001b[0;34m\u001b[0m\u001b[0m\n",
      "\u001b[0;32m~/anaconda3/lib/python3.8/site-packages/pandas/io/parsers.py\u001b[0m in \u001b[0;36m_make_engine\u001b[0;34m(self, engine)\u001b[0m\n\u001b[1;32m   1176\u001b[0m     \u001b[0;32mdef\u001b[0m \u001b[0m_make_engine\u001b[0m\u001b[0;34m(\u001b[0m\u001b[0mself\u001b[0m\u001b[0;34m,\u001b[0m \u001b[0mengine\u001b[0m\u001b[0;34m=\u001b[0m\u001b[0;34m\"c\"\u001b[0m\u001b[0;34m)\u001b[0m\u001b[0;34m:\u001b[0m\u001b[0;34m\u001b[0m\u001b[0;34m\u001b[0m\u001b[0m\n\u001b[1;32m   1177\u001b[0m         \u001b[0;32mif\u001b[0m \u001b[0mengine\u001b[0m \u001b[0;34m==\u001b[0m \u001b[0;34m\"c\"\u001b[0m\u001b[0;34m:\u001b[0m\u001b[0;34m\u001b[0m\u001b[0;34m\u001b[0m\u001b[0m\n\u001b[0;32m-> 1178\u001b[0;31m             \u001b[0mself\u001b[0m\u001b[0;34m.\u001b[0m\u001b[0m_engine\u001b[0m \u001b[0;34m=\u001b[0m \u001b[0mCParserWrapper\u001b[0m\u001b[0;34m(\u001b[0m\u001b[0mself\u001b[0m\u001b[0;34m.\u001b[0m\u001b[0mf\u001b[0m\u001b[0;34m,\u001b[0m \u001b[0;34m**\u001b[0m\u001b[0mself\u001b[0m\u001b[0;34m.\u001b[0m\u001b[0moptions\u001b[0m\u001b[0;34m)\u001b[0m\u001b[0;34m\u001b[0m\u001b[0;34m\u001b[0m\u001b[0m\n\u001b[0m\u001b[1;32m   1179\u001b[0m         \u001b[0;32melse\u001b[0m\u001b[0;34m:\u001b[0m\u001b[0;34m\u001b[0m\u001b[0;34m\u001b[0m\u001b[0m\n\u001b[1;32m   1180\u001b[0m             \u001b[0;32mif\u001b[0m \u001b[0mengine\u001b[0m \u001b[0;34m==\u001b[0m \u001b[0;34m\"python\"\u001b[0m\u001b[0;34m:\u001b[0m\u001b[0;34m\u001b[0m\u001b[0;34m\u001b[0m\u001b[0m\n",
      "\u001b[0;32m~/anaconda3/lib/python3.8/site-packages/pandas/io/parsers.py\u001b[0m in \u001b[0;36m__init__\u001b[0;34m(self, src, **kwds)\u001b[0m\n\u001b[1;32m   2006\u001b[0m         \u001b[0mkwds\u001b[0m\u001b[0;34m[\u001b[0m\u001b[0;34m\"usecols\"\u001b[0m\u001b[0;34m]\u001b[0m \u001b[0;34m=\u001b[0m \u001b[0mself\u001b[0m\u001b[0;34m.\u001b[0m\u001b[0musecols\u001b[0m\u001b[0;34m\u001b[0m\u001b[0;34m\u001b[0m\u001b[0m\n\u001b[1;32m   2007\u001b[0m \u001b[0;34m\u001b[0m\u001b[0m\n\u001b[0;32m-> 2008\u001b[0;31m         \u001b[0mself\u001b[0m\u001b[0;34m.\u001b[0m\u001b[0m_reader\u001b[0m \u001b[0;34m=\u001b[0m \u001b[0mparsers\u001b[0m\u001b[0;34m.\u001b[0m\u001b[0mTextReader\u001b[0m\u001b[0;34m(\u001b[0m\u001b[0msrc\u001b[0m\u001b[0;34m,\u001b[0m \u001b[0;34m**\u001b[0m\u001b[0mkwds\u001b[0m\u001b[0;34m)\u001b[0m\u001b[0;34m\u001b[0m\u001b[0;34m\u001b[0m\u001b[0m\n\u001b[0m\u001b[1;32m   2009\u001b[0m         \u001b[0mself\u001b[0m\u001b[0;34m.\u001b[0m\u001b[0munnamed_cols\u001b[0m \u001b[0;34m=\u001b[0m \u001b[0mself\u001b[0m\u001b[0;34m.\u001b[0m\u001b[0m_reader\u001b[0m\u001b[0;34m.\u001b[0m\u001b[0munnamed_cols\u001b[0m\u001b[0;34m\u001b[0m\u001b[0;34m\u001b[0m\u001b[0m\n\u001b[1;32m   2010\u001b[0m \u001b[0;34m\u001b[0m\u001b[0m\n",
      "\u001b[0;32mpandas/_libs/parsers.pyx\u001b[0m in \u001b[0;36mpandas._libs.parsers.TextReader.__cinit__\u001b[0;34m()\u001b[0m\n",
      "\u001b[0;32mpandas/_libs/parsers.pyx\u001b[0m in \u001b[0;36mpandas._libs.parsers.TextReader._setup_parser_source\u001b[0;34m()\u001b[0m\n",
      "\u001b[0;31mFileNotFoundError\u001b[0m: [Errno 2] No such file or directory: 'db_confussion_raw_study2.csv'"
     ]
    }
   ],
   "source": [
    "import pandas as pd\n",
    "import seaborn as sn\n",
    "import matplotlib.pyplot as plt\n",
    "import numpy as np\n",
    "df = pd.read_csv(\"db_confussion_raw_study2.csv\")\n",
    "\n",
    "y_pred = df.iloc[:, 3:]\n",
    "print(y_pred.shape)\n",
    "y_actual=np.array([0,1,2,3,4,5,0,1,2,3,4,5])\n",
    "temp = np.array([0,1,2,3,4,5,0,1,2,3,4,5])\n",
    "for i in range(29):\n",
    "    temp = np.vstack([temp, y_actual])\n",
    "\n",
    "y_actual = temp\n",
    "\n",
    "# confusion matrix function receive one dimension vector\n",
    "y_pred = np.array(df.iloc[:, 3:]).flatten()\n",
    "y_actual = np.array(y_actual).flatten()\n",
    "\n",
    "# background\n",
    "# ---------------\n",
    "from matplotlib.pyplot import figure\n",
    "fig, ax = plt.subplots(figsize=(10,8)) # set figure size\n",
    "fig.set_facecolor('white') # set background color\n",
    "# ---------------\n",
    "\n",
    "def switch_to_Emotion(x):\n",
    "    if x == 0:\n",
    "        return \"Anger\"\n",
    "    elif x == 1:\n",
    "        return \"Disgust\"\n",
    "    elif x == 2:\n",
    "        return \"Fear\"\n",
    "    elif x == 3:\n",
    "        return \"Happiness\"\n",
    "    elif x == 4:\n",
    "        return \"Sadness\"\n",
    "    elif x == 5:\n",
    "        return \"Surprise\"\n",
    "    else:\n",
    "        raise Error\n",
    "y_emo_pred = []\n",
    "y_emo_actual = []\n",
    "\n",
    "for i in range(y_pred.shape[0]):\n",
    "    y_emo_pred.append(switch_to_Emotion(y_pred[i]))\n",
    "    y_emo_actual.append(switch_to_Emotion(y_actual[i]))\n",
    "\n",
    "# print(y_actual)\n",
    "# print(y_pred)\n",
    "\n",
    "data = {'y_Actual':    y_emo_pred,\n",
    "        'y_Predicted': y_emo_actual\n",
    "        }\n",
    "\n",
    "df = pd.DataFrame(data, columns=['y_Actual','y_Predicted'])\n",
    "print(df)\n",
    "confusion_matrix = pd.crosstab(df['y_Actual'], df['y_Predicted'], rownames=['Actual'], colnames=['Predicted']) / 60 # proportion\n",
    "# confusion_matrix = pd.crosstab(df['y_Actual'], df['y_Predicted'], rownames=['Actual'], colnames=['Predicted'], margins = True)\n",
    "sn.heatmap(confusion_matrix, annot=True)\n",
    "plt.show()\n",
    "# fig.savefig(\"confusionmatrix_proportion.png\", format=\"png\", dpi=300)\n",
    "# fig.savefig(\"confusionmatrix_proportion.eps\", format=\"eps\")\n",
    "\n",
    "\n",
    "# confusion matrix with sklearn\n",
    "# from sklearn.metrics import confusion_matrix\n",
    "# confusion_matrix = confusion_matrix(y_actual, y_pred)\n",
    "\n"
   ]
  },
  {
   "cell_type": "markdown",
   "id": "c06afdc6-ef1a-44bd-8efb-3bed8ffdc61b",
   "metadata": {},
   "source": [
    "# Correlation Matrix"
   ]
  },
  {
   "cell_type": "code",
   "execution_count": null,
   "id": "a95c48c8-abb5-4c1e-8449-787eaa3085cd",
   "metadata": {},
   "outputs": [],
   "source": [
    "# Corr matrix\n",
    "import pandas as pd\n",
    "import seaborn as sn\n",
    "import matplotlib.pyplot as plt\n",
    "%config InlineBackend.figure_format = 'svg'\n",
    "df = pd.read_csv(\"db_raw_study2.csv\")\n",
    "df = df.iloc[:, 3:]\n",
    "\n",
    "corrMatrix = df.corr()\n",
    "\n",
    "# background\n",
    "# ---------------\n",
    "from matplotlib.pyplot import figure\n",
    "fig, ax = plt.subplots(figsize=(10,8)) # set figure size\n",
    "fig.set_facecolor('white') # set background color\n",
    "# ---------------\n",
    "\n",
    "sn.heatmap(corrMatrix, annot = True) # generate heatmap\n",
    "\n",
    "plt.show()\n",
    "fig.savefig(\"correlationmatrix.png\", format=\"png\", dpi=300)\n",
    "fig.savefig(\"correlationmatrix.eps\", format=\"eps\")\n",
    "\n",
    "\n",
    "# consistance"
   ]
  },
  {
   "cell_type": "code",
   "execution_count": null,
   "id": "e2a3944b-33ef-4f8c-baa4-c6b60c0737e7",
   "metadata": {},
   "outputs": [],
   "source": [
    "# Corr matrix\n",
    "import pandas as pd\n",
    "import seaborn as sn\n",
    "import matplotlib.pyplot as plt\n",
    "%config InlineBackend.figure_format = 'svg'\n",
    "df = pd.read_csv(\"db_raw_study2.csv\")\n",
    "df = df.iloc[:, 3:]\n",
    "\n",
    "corrMatrix = df.corr()\n",
    "\n",
    "from matplotlib.pyplot import figure\n",
    "fig, ax = plt.subplots(figsize=(10,8)) # set figure size\n",
    "fig.set_facecolor('white') # set background color\n",
    "sn.heatmap(corrMatrix, annot = True) # generate heatmap\n",
    "\n",
    "plt.show()"
   ]
  }
 ],
 "metadata": {
  "kernelspec": {
   "display_name": "Python 3",
   "language": "python",
   "name": "python3"
  },
  "language_info": {
   "codemirror_mode": {
    "name": "ipython",
    "version": 3
   },
   "file_extension": ".py",
   "mimetype": "text/x-python",
   "name": "python",
   "nbconvert_exporter": "python",
   "pygments_lexer": "ipython3",
   "version": "3.8.5"
  }
 },
 "nbformat": 4,
 "nbformat_minor": 5
}
