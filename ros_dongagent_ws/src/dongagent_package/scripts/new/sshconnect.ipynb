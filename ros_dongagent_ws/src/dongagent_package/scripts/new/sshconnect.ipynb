{
 "cells": [
  {
   "cell_type": "code",
   "execution_count": 1,
   "metadata": {},
   "outputs": [],
   "source": [
    "import cv2"
   ]
  },
  {
   "cell_type": "code",
   "execution_count": 2,
   "metadata": {},
   "outputs": [],
   "source": [
    "import torch"
   ]
  },
  {
   "cell_type": "code",
   "execution_count": 3,
   "metadata": {},
   "outputs": [
    {
     "data": {
      "text/plain": [
       "True"
      ]
     },
     "execution_count": 3,
     "metadata": {},
     "output_type": "execute_result"
    }
   ],
   "source": [
    "torch.cuda.is_available()"
   ]
  },
  {
   "cell_type": "code",
   "execution_count": 4,
   "metadata": {},
   "outputs": [
    {
     "data": {
      "text/plain": [
       "0"
      ]
     },
     "execution_count": 4,
     "metadata": {},
     "output_type": "execute_result"
    }
   ],
   "source": [
    "torch.cuda.current_device()"
   ]
  },
  {
   "cell_type": "code",
   "execution_count": 5,
   "metadata": {},
   "outputs": [
    {
     "name": "stdout",
     "output_type": "stream",
     "text": [
      "Thu Feb  2 08:59:27 2023       \n",
      "+-----------------------------------------------------------------------------+\n",
      "| NVIDIA-SMI 470.161.03   Driver Version: 470.161.03   CUDA Version: 11.4     |\n",
      "|-------------------------------+----------------------+----------------------+\n",
      "| GPU  Name        Persistence-M| Bus-Id        Disp.A | Volatile Uncorr. ECC |\n",
      "| Fan  Temp  Perf  Pwr:Usage/Cap|         Memory-Usage | GPU-Util  Compute M. |\n",
      "|                               |                      |               MIG M. |\n",
      "|===============================+======================+======================|\n",
      "|   0  NVIDIA GeForce ...  Off  | 00000000:01:00.0 Off |                  N/A |\n",
      "| N/A   36C    P5    18W /  N/A |   1264MiB /  7982MiB |     38%      Default |\n",
      "|                               |                      |                  N/A |\n",
      "+-------------------------------+----------------------+----------------------+\n",
      "                                                                               \n",
      "+-----------------------------------------------------------------------------+\n",
      "| Processes:                                                                  |\n",
      "|  GPU   GI   CI        PID   Type   Process name                  GPU Memory |\n",
      "|        ID   ID                                                   Usage      |\n",
      "|=============================================================================|\n",
      "|    0   N/A  N/A      1209      G   /usr/lib/xorg/Xorg                134MiB |\n",
      "|    0   N/A  N/A      2098      G   /usr/lib/xorg/Xorg                460MiB |\n",
      "|    0   N/A  N/A      2268      G   /usr/bin/gnome-shell              379MiB |\n",
      "|    0   N/A  N/A     63410      G   /opt/zoom/zoom                     10MiB |\n",
      "|    0   N/A  N/A     67411      G   ...832199797968684977,131072      259MiB |\n",
      "+-----------------------------------------------------------------------------+\n"
     ]
    }
   ],
   "source": [
    "!nvidia-smi"
   ]
  },
  {
   "cell_type": "code",
   "execution_count": 8,
   "metadata": {},
   "outputs": [],
   "source": [
    "import paramiko\n",
    "import os\n",
    "\n",
    "ssh_config = paramiko.SSHConfig()"
   ]
  },
  {
   "cell_type": "code",
   "execution_count": 11,
   "metadata": {},
   "outputs": [],
   "source": [
    "try:\n",
    "    ssh_config.parse(open(os.path.expanduser('~/.ssh/config')))\n",
    "except IOError as e:\n",
    "    print(e)\n"
   ]
  },
  {
   "cell_type": "code",
   "execution_count": 15,
   "metadata": {},
   "outputs": [],
   "source": [
    "labwebserver_config = ssh_config.lookup(\"labwebserver\")"
   ]
  },
  {
   "cell_type": "code",
   "execution_count": 16,
   "metadata": {},
   "outputs": [
    {
     "data": {
      "text/plain": [
       "{'ignoreunknown': 'UseKeychain',\n",
       " 'addkeystoagent': 'yes',\n",
       " 'usekeychain': 'yes',\n",
       " 'identityfile': ['/home/dongagent/github/.ssh/id_github',\n",
       "  '/home/dongagent/.ssh/id_rsa'],\n",
       " 'hostname': '133.3.249.99',\n",
       " 'user': 'dongagent',\n",
       " 'localforward': ['8080 133.3.249.99:8000']}"
      ]
     },
     "execution_count": 16,
     "metadata": {},
     "output_type": "execute_result"
    }
   ],
   "source": [
    "labwebserver_config"
   ]
  },
  {
   "cell_type": "code",
   "execution_count": 14,
   "metadata": {},
   "outputs": [],
   "source": [
    "auth_params = {'load_system_host_keys': True,\n",
    "               'compress': True}"
   ]
  },
  {
   "cell_type": "code",
   "execution_count": 19,
   "metadata": {},
   "outputs": [],
   "source": [
    "\n",
    "try:\n",
    "    auth_params['username'] = labwebserver_config['user']\n",
    "    auth_params['hostname'] = labwebserver_config['hostname']\n",
    "except KeyError:\n",
    "    import getpass\n",
    "    auth_params['username'] = getpass.getuser()\n",
    "\n",
    "    \n",
    "try:\n",
    "    auth_params['key_filename'] = os.path.expanduser(labwebserver_config['identityfile'][1])\n",
    "except KeyError:\n",
    "    pass "
   ]
  },
  {
   "cell_type": "code",
   "execution_count": 20,
   "metadata": {},
   "outputs": [
    {
     "data": {
      "text/plain": [
       "{'load_system_host_keys': True,\n",
       " 'compress': True,\n",
       " 'username': 'dongagent',\n",
       " 'hostname': '133.3.249.99',\n",
       " 'key_filename': '/home/dongagent/.ssh/id_rsa'}"
      ]
     },
     "execution_count": 20,
     "metadata": {},
     "output_type": "execute_result"
    }
   ],
   "source": [
    "auth_params"
   ]
  },
  {
   "cell_type": "code",
   "execution_count": 77,
   "metadata": {},
   "outputs": [
    {
     "data": {
      "text/plain": [
       "{'load_system_host_keys': True,\n",
       " 'compress': True,\n",
       " 'username': 'dongagent',\n",
       " 'hostname': '133.3.249.99',\n",
       " 'key_filename': '/home/dongagent/.ssh/id_rsa'}"
      ]
     },
     "execution_count": 77,
     "metadata": {},
     "output_type": "execute_result"
    }
   ],
   "source": [
    "auth_params"
   ]
  },
  {
   "cell_type": "code",
   "execution_count": 82,
   "metadata": {},
   "outputs": [
    {
     "data": {
      "text/plain": [
       "'/home/dongagent/.ssh/id_rsa'"
      ]
     },
     "execution_count": 82,
     "metadata": {},
     "output_type": "execute_result"
    }
   ],
   "source": [
    "labwebserver_config['identityfile'][1]"
   ]
  },
  {
   "cell_type": "code",
   "execution_count": 83,
   "metadata": {},
   "outputs": [
    {
     "data": {
      "text/plain": [
       "'/home/dongagent/.ssh/id_rsa'"
      ]
     },
     "execution_count": 83,
     "metadata": {},
     "output_type": "execute_result"
    }
   ],
   "source": [
    "auth_params['key_filename']"
   ]
  },
  {
   "cell_type": "code",
   "execution_count": 78,
   "metadata": {},
   "outputs": [],
   "source": [
    "import json\n",
    "try:\n",
    "    ssh_client = paramiko.client.SSHClient()\n",
    "    ssh_client.set_missing_host_key_policy(paramiko.AutoAddPolicy())\n",
    "    ssh_client.connect(\n",
    "        hostname=auth_params['hostname'],\n",
    "        username=auth_params['username'],\n",
    "        key_filename=auth_params['key_filename'],\n",
    "    )\n",
    "except Exception as e:\n",
    "    print(e)"
   ]
  },
  {
   "cell_type": "code",
   "execution_count": 81,
   "metadata": {},
   "outputs": [],
   "source": [
    "command = \"cat /home/labExperiment/experiments/current/nikola_hitl_2nd/data/nikola_hitl_2nd_test1_0_.txt\"\n",
    "stdin,stdout,stderr=ssh_client.exec_command(command)\n",
    "rawdata = stdout.readlines()"
   ]
  },
  {
   "cell_type": "code",
   "execution_count": 80,
   "metadata": {},
   "outputs": [
    {
     "data": {
      "text/plain": [
       "['{\"userData\": {\"size\": {\"w\": 360, \"h\": 688}, \"screen\": {\"availHeight\": 780, \"availLeft\": 0, \"availTop\": 0, \"availWidth\": 360, \"colorDepth\": 24, \"height\": 780, \"pixelDepth\": 24, \"width\": 360}, \"navigator\": {\"appVersion\": \"5.0 (Linux; Android 11; GM1910) AppleWebKit/537.36 (KHTML, like Gecko) Chrome/109.0.0.0 Mobile Safari/537.36\", \"language\": \"zh-CN\", \"platform\": \"Linux aarch64\", \"userAgent\": \"Mozilla/5.0 (Linux; Android 11; GM1910) AppleWebKit/537.36 (KHTML, like Gecko) Chrome/109.0.0.0 Mobile Safari/537.36\", \"vendor\": \"Google Inc.\"}}, \"experiment_name\": \"nikola_hitl_2nd\", \"experiment_instance\": \"test1\", \"condition\": \"0\", \"worker_id\": \"NO_WORKER_ID_WHEN_RUNNING_LOCAL\", \"totalTime\": 23331}\\n',\n",
       " '{\"userData\": {\"size\": {\"w\": 948, \"h\": 781}, \"screen\": {\"availHeight\": 1053, \"availLeft\": 0, \"availTop\": 27, \"availWidth\": 1920, \"colorDepth\": 24, \"height\": 1080, \"pixelDepth\": 24, \"width\": 1920}, \"navigator\": {\"appVersion\": \"5.0 (X11; Linux x86_64) AppleWebKit/537.36 (KHTML, like Gecko) Chrome/103.0.0.0 Safari/537.36\", \"language\": \"zh-CN\", \"platform\": \"Linux x86_64\", \"userAgent\": \"Mozilla/5.0 (X11; Linux x86_64) AppleWebKit/537.36 (KHTML, like Gecko) Chrome/103.0.0.0 Safari/537.36\", \"vendor\": \"Google Inc.\"}}, \"experiment_name\": \"nikola_hitl_2nd\", \"experiment_instance\": \"test1\", \"condition\": \"0\", \"worker_id\": \"NO_WORKER_ID_WHEN_RUNNING_LOCAL\", \"totalTime\": 48474}\\n',\n",
       " '{\"userData\": {\"size\": {\"w\": 360, \"h\": 709}, \"screen\": {\"availHeight\": 800, \"availLeft\": 0, \"availTop\": 0, \"availWidth\": 360, \"colorDepth\": 24, \"height\": 800, \"pixelDepth\": 24, \"width\": 360}, \"navigator\": {\"appVersion\": \"5.0 (Linux; Android 12; RMX3357) AppleWebKit/537.36 (KHTML, like Gecko) Chrome/109.0.0.0 Mobile Safari/537.36\", \"language\": \"zh-CN\", \"platform\": \"Linux aarch64\", \"userAgent\": \"Mozilla/5.0 (Linux; Android 12; RMX3357) AppleWebKit/537.36 (KHTML, like Gecko) Chrome/109.0.0.0 Mobile Safari/537.36\", \"vendor\": \"Google Inc.\"}}, \"experiment_name\": \"nikola_hitl_2nd\", \"experiment_instance\": \"test1\", \"condition\": \"0\", \"worker_id\": \"NO_WORKER_ID_WHEN_RUNNING_LOCAL\", \"payload\": \"2\", \"totalTime\": 9680}\\n']"
      ]
     },
     "execution_count": 80,
     "metadata": {},
     "output_type": "execute_result"
    }
   ],
   "source": [
    "rawdata"
   ]
  },
  {
   "cell_type": "code",
   "execution_count": 74,
   "metadata": {},
   "outputs": [
    {
     "data": {
      "text/plain": [
       "list"
      ]
     },
     "execution_count": 74,
     "metadata": {},
     "output_type": "execute_result"
    }
   ],
   "source": [
    "type(json.loads(json.dumps(rawdata)))"
   ]
  },
  {
   "cell_type": "code",
   "execution_count": 86,
   "metadata": {},
   "outputs": [
    {
     "data": {
      "text/plain": [
       "3"
      ]
     },
     "execution_count": 86,
     "metadata": {},
     "output_type": "execute_result"
    }
   ],
   "source": [
    "len(rawdata)"
   ]
  },
  {
   "cell_type": "code",
   "execution_count": null,
   "metadata": {},
   "outputs": [],
   "source": []
  },
  {
   "cell_type": "code",
   "execution_count": 84,
   "metadata": {},
   "outputs": [
    {
     "data": {
      "text/plain": [
       "{'userData': {'size': {'w': 360, 'h': 688},\n",
       "  'screen': {'availHeight': 780,\n",
       "   'availLeft': 0,\n",
       "   'availTop': 0,\n",
       "   'availWidth': 360,\n",
       "   'colorDepth': 24,\n",
       "   'height': 780,\n",
       "   'pixelDepth': 24,\n",
       "   'width': 360},\n",
       "  'navigator': {'appVersion': '5.0 (Linux; Android 11; GM1910) AppleWebKit/537.36 (KHTML, like Gecko) Chrome/109.0.0.0 Mobile Safari/537.36',\n",
       "   'language': 'zh-CN',\n",
       "   'platform': 'Linux aarch64',\n",
       "   'userAgent': 'Mozilla/5.0 (Linux; Android 11; GM1910) AppleWebKit/537.36 (KHTML, like Gecko) Chrome/109.0.0.0 Mobile Safari/537.36',\n",
       "   'vendor': 'Google Inc.'}},\n",
       " 'experiment_name': 'nikola_hitl_2nd',\n",
       " 'experiment_instance': 'test1',\n",
       " 'condition': '0',\n",
       " 'worker_id': 'NO_WORKER_ID_WHEN_RUNNING_LOCAL',\n",
       " 'totalTime': 23331}"
      ]
     },
     "execution_count": 84,
     "metadata": {},
     "output_type": "execute_result"
    }
   ],
   "source": [
    "json.loads(rawdata[0])"
   ]
  },
  {
   "cell_type": "code",
   "execution_count": 87,
   "metadata": {},
   "outputs": [],
   "source": [
    "def rawdata_extractor(d):\n",
    "    return_list = []\n",
    "    for dd in d:\n",
    "        temp = json.loads(dd)\n",
    "        print(temp[\"payload\"])\n",
    "        return_list.append(temp[\"payload\"])\n",
    "    return return_list"
   ]
  },
  {
   "cell_type": "code",
   "execution_count": 88,
   "metadata": {},
   "outputs": [
    {
     "ename": "KeyError",
     "evalue": "'payload'",
     "output_type": "error",
     "traceback": [
      "\u001b[0;31m---------------------------------------------------------------------------\u001b[0m",
      "\u001b[0;31mKeyError\u001b[0m                                  Traceback (most recent call last)",
      "\u001b[0;32m<ipython-input-88-5d362875c8a4>\u001b[0m in \u001b[0;36m<module>\u001b[0;34m\u001b[0m\n\u001b[0;32m----> 1\u001b[0;31m \u001b[0mpayload_data\u001b[0m \u001b[0;34m=\u001b[0m \u001b[0mrawdata_extractor\u001b[0m\u001b[0;34m(\u001b[0m\u001b[0mrawdata\u001b[0m\u001b[0;34m)\u001b[0m\u001b[0;34m\u001b[0m\u001b[0;34m\u001b[0m\u001b[0m\n\u001b[0m",
      "\u001b[0;32m<ipython-input-87-16624fb762d7>\u001b[0m in \u001b[0;36mrawdata_extractor\u001b[0;34m(d)\u001b[0m\n\u001b[1;32m      3\u001b[0m     \u001b[0;32mfor\u001b[0m \u001b[0mdd\u001b[0m \u001b[0;32min\u001b[0m \u001b[0md\u001b[0m\u001b[0;34m:\u001b[0m\u001b[0;34m\u001b[0m\u001b[0;34m\u001b[0m\u001b[0m\n\u001b[1;32m      4\u001b[0m         \u001b[0mtemp\u001b[0m \u001b[0;34m=\u001b[0m \u001b[0mjson\u001b[0m\u001b[0;34m.\u001b[0m\u001b[0mloads\u001b[0m\u001b[0;34m(\u001b[0m\u001b[0mdd\u001b[0m\u001b[0;34m)\u001b[0m\u001b[0;34m\u001b[0m\u001b[0;34m\u001b[0m\u001b[0m\n\u001b[0;32m----> 5\u001b[0;31m         \u001b[0mprint\u001b[0m\u001b[0;34m(\u001b[0m\u001b[0mtemp\u001b[0m\u001b[0;34m[\u001b[0m\u001b[0;34m\"payload\"\u001b[0m\u001b[0;34m]\u001b[0m\u001b[0;34m)\u001b[0m\u001b[0;34m\u001b[0m\u001b[0;34m\u001b[0m\u001b[0m\n\u001b[0m\u001b[1;32m      6\u001b[0m         \u001b[0mreturn_list\u001b[0m\u001b[0;34m.\u001b[0m\u001b[0mappend\u001b[0m\u001b[0;34m(\u001b[0m\u001b[0mtemp\u001b[0m\u001b[0;34m[\u001b[0m\u001b[0;34m\"payload\"\u001b[0m\u001b[0;34m]\u001b[0m\u001b[0;34m)\u001b[0m\u001b[0;34m\u001b[0m\u001b[0;34m\u001b[0m\u001b[0m\n\u001b[1;32m      7\u001b[0m     \u001b[0;32mreturn\u001b[0m \u001b[0mreturn_list\u001b[0m\u001b[0;34m\u001b[0m\u001b[0;34m\u001b[0m\u001b[0m\n",
      "\u001b[0;31mKeyError\u001b[0m: 'payload'"
     ]
    }
   ],
   "source": [
    "payload_data = rawdata_extractor(rawdata)"
   ]
  },
  {
   "cell_type": "code",
   "execution_count": 68,
   "metadata": {},
   "outputs": [
    {
     "name": "stdout",
     "output_type": "stream",
     "text": [
      "[{}, {}, '4']\n"
     ]
    }
   ],
   "source": [
    "print(payload_data)"
   ]
  },
  {
   "cell_type": "code",
   "execution_count": null,
   "metadata": {},
   "outputs": [],
   "source": []
  },
  {
   "cell_type": "code",
   "execution_count": 21,
   "metadata": {},
   "outputs": [
    {
     "ename": "NameError",
     "evalue": "name 'DbAuthInfo' is not defined",
     "output_type": "error",
     "traceback": [
      "\u001b[0;31m---------------------------------------------------------------------------\u001b[0m",
      "\u001b[0;31mNameError\u001b[0m                                 Traceback (most recent call last)",
      "\u001b[0;32m<ipython-input-21-bb52a9d44afa>\u001b[0m in \u001b[0;36m<module>\u001b[0;34m\u001b[0m\n\u001b[0;32m----> 1\u001b[0;31m \u001b[0mDbAuthInfo\u001b[0m\u001b[0;34m\u001b[0m\u001b[0;34m\u001b[0m\u001b[0m\n\u001b[0m",
      "\u001b[0;31mNameError\u001b[0m: name 'DbAuthInfo' is not defined"
     ]
    }
   ],
   "source": [
    "DbAuthInfo"
   ]
  },
  {
   "cell_type": "code",
   "execution_count": null,
   "metadata": {},
   "outputs": [],
   "source": []
  }
 ],
 "metadata": {
  "kernelspec": {
   "display_name": "Python 3",
   "language": "python",
   "name": "python3"
  },
  "language_info": {
   "codemirror_mode": {
    "name": "ipython",
    "version": 3
   },
   "file_extension": ".py",
   "mimetype": "text/x-python",
   "name": "python",
   "nbconvert_exporter": "python",
   "pygments_lexer": "ipython3",
   "version": "3.8.5"
  }
 },
 "nbformat": 4,
 "nbformat_minor": 4
}
