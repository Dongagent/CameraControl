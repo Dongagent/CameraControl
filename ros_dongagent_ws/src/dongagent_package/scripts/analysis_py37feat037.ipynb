{
 "cells": [
  {
   "cell_type": "markdown",
   "id": "f4f0df93-a25f-4e52-9b74-d80256e467ed",
   "metadata": {},
   "source": [
    "# Notice: Py-Feat ver 0.3.7 ONLY"
   ]
  },
  {
   "cell_type": "markdown",
   "id": "b6d4ec4d-54bf-49d4-901e-44ba3fe7eef2",
   "metadata": {},
   "source": [
    "## check your env is py37feat1"
   ]
  },
  {
   "cell_type": "code",
   "execution_count": 1,
   "id": "9cf83bf9-b79b-4323-9038-ce2640c991e1",
   "metadata": {},
   "outputs": [
    {
     "name": "stdout",
     "output_type": "stream",
     "text": [
      "py-feat                       0.6.1\n",
      "Python 3.8.17\n",
      "# conda environments:\n",
      "#\n",
      "base                     /home/dongagent/anaconda3\n",
      "py37pyfeat1              /home/dongagent/anaconda3/envs/py37pyfeat1\n",
      "py38featlatest        *  /home/dongagent/anaconda3/envs/py38featlatest\n",
      "py38pyfeat               /home/dongagent/anaconda3/envs/py38pyfeat\n",
      "pyfeat_py310             /home/dongagent/anaconda3/envs/pyfeat_py310\n",
      "pytorch                  /home/dongagent/anaconda3/envs/pytorch\n",
      "\n"
     ]
    }
   ],
   "source": [
    "!pip list | grep feat\n",
    "!python --version\n",
    "!conda env list"
   ]
  },
  {
   "cell_type": "code",
   "execution_count": null,
   "id": "5c14cde9-42ac-4c90-b12d-9e1a8f078928",
   "metadata": {},
   "outputs": [],
   "source": [
    "import os\n",
    "def checkEmoOrder(folderPath, emo):\n",
    "    if os.path.exists(folderPath):\n",
    "        target_emotion = 'anger'\n",
    "        folderName = os.path.join('image_analysis/anger/')\n",
    "        ls_name = os.listdir(folderName)\n",
    "    #     print(ls_name)\n",
    "        result_dic = {}\n",
    "\n",
    "        for i in ls_name:\n",
    "            if 'emotion' in i:\n",
    "                mypath = os.path.join(folderPath, i)\n",
    "                temp = pd.read_csv(mypath)\n",
    "                result = temp[target_emotion][0]\n",
    "                result = round(result, 6)\n",
    "                fileName = temp['input'][0]\n",
    "                result_dic[i[:-12] + '.png'] = result\n",
    "        # sort in value order \n",
    "        res_value_order = sorted(result_dic.items(), key=lambda item: item[1], reverse = True)\n",
    "\n",
    "#         ##### choose top 10\n",
    "#         res_value_order = res_value_order[:10]\n",
    "#         print(target_emotion)\n",
    "#     #     print(len(res_value_order))\n",
    "#     #     print(len(res_value_order))\n",
    "#         for i in res_value_order:\n",
    "#             print(i)\n",
    "#         print()\n",
    "        return res_value_order\n",
    "    else:\n",
    "        print(\"folderNameNotExists\")\n",
    "        \n",
    "# Test\n",
    "anger_res = checkEmoOrder('image_analysis/anger/', 'anger')\n",
    "print(anger_res[:10])"
   ]
  }
 ],
 "metadata": {
  "kernelspec": {
   "display_name": "py37pyfeat1",
   "language": "python",
   "name": "py37pyfeat1"
  },
  "language_info": {
   "codemirror_mode": {
    "name": "ipython",
    "version": 3
   },
   "file_extension": ".py",
   "mimetype": "text/x-python",
   "name": "python",
   "nbconvert_exporter": "python",
   "pygments_lexer": "ipython3",
   "version": "3.7.12"
  }
 },
 "nbformat": 4,
 "nbformat_minor": 5
}
