{
 "cells": [
  {
   "cell_type": "code",
   "execution_count": 2,
   "metadata": {},
   "outputs": [
    {
     "name": "stderr",
     "output_type": "stream",
     "text": [
      "/home/dongagent/anaconda3/envs/py37pyfeat1/lib/python3.7/site-packages/nilearn/datasets/__init__.py:96: FutureWarning: Fetchers from the nilearn.datasets module will be updated in version 0.9 to return python strings instead of bytes and Pandas dataframes instead of Numpy arrays.\n",
      "  \"Numpy arrays.\", FutureWarning)\n"
     ]
    }
   ],
   "source": [
    "import cv2, os\n",
    "from feat import Detector\n",
    "import pandas as pd\n",
    "import RCSystem"
   ]
  },
  {
   "cell_type": "code",
   "execution_count": 3,
   "metadata": {},
   "outputs": [
    {
     "name": "stdout",
     "output_type": "stream",
     "text": [
      "Loading Face Detection model:  retinaface\n",
      "Using downloaded and verified file: /home/dongagent/anaconda3/envs/py37pyfeat1/lib/python3.7/site-packages/py_feat-0.3.7-py3.7.egg/feat/resources/mobilenet0.25_Final.pth\n",
      "Using downloaded and verified file: /home/dongagent/anaconda3/envs/py37pyfeat1/lib/python3.7/site-packages/py_feat-0.3.7-py3.7.egg/feat/resources/mobilefacenet_model_best.pth.tar\n",
      "Using downloaded and verified file: /home/dongagent/anaconda3/envs/py37pyfeat1/lib/python3.7/site-packages/py_feat-0.3.7-py3.7.egg/feat/resources/hog_pca_all_emotio.joblib\n",
      "Using downloaded and verified file: /home/dongagent/anaconda3/envs/py37pyfeat1/lib/python3.7/site-packages/py_feat-0.3.7-py3.7.egg/feat/resources/hog_pca_all_emotio.joblib\n",
      "Using downloaded and verified file: /home/dongagent/anaconda3/envs/py37pyfeat1/lib/python3.7/site-packages/py_feat-0.3.7-py3.7.egg/feat/resources/hog_scalar_aus.joblib\n",
      "Using downloaded and verified file: /home/dongagent/anaconda3/envs/py37pyfeat1/lib/python3.7/site-packages/py_feat-0.3.7-py3.7.egg/feat/resources/RF_568.joblib\n",
      "Using downloaded and verified file: /home/dongagent/anaconda3/envs/py37pyfeat1/lib/python3.7/site-packages/py_feat-0.3.7-py3.7.egg/feat/resources/hog_pca_all_emotio.joblib\n",
      "Using downloaded and verified file: /home/dongagent/anaconda3/envs/py37pyfeat1/lib/python3.7/site-packages/py_feat-0.3.7-py3.7.egg/feat/resources/hog_scalar_aus.joblib\n",
      "Using downloaded and verified file: /home/dongagent/anaconda3/envs/py37pyfeat1/lib/python3.7/site-packages/py_feat-0.3.7-py3.7.egg/feat/resources/ResMaskNet_Z_resmasking_dropout1_rot30.pth\n",
      "Loading Face Landmark model:  mobilefacenet\n",
      "Loading au model:  rf\n"
     ]
    },
    {
     "name": "stderr",
     "output_type": "stream",
     "text": [
      "/home/dongagent/anaconda3/envs/py37pyfeat1/lib/python3.7/site-packages/sklearn/base.py:333: UserWarning: Trying to unpickle estimator PCA from version 0.24.1 when using version 1.0.1. This might lead to breaking code or invalid results. Use at your own risk. For more info please refer to:\n",
      "https://scikit-learn.org/stable/modules/model_persistence.html#security-maintainability-limitations\n",
      "  UserWarning,\n",
      "/home/dongagent/anaconda3/envs/py37pyfeat1/lib/python3.7/site-packages/sklearn/base.py:333: UserWarning: Trying to unpickle estimator DecisionTreeClassifier from version 0.24.1 when using version 1.0.1. This might lead to breaking code or invalid results. Use at your own risk. For more info please refer to:\n",
      "https://scikit-learn.org/stable/modules/model_persistence.html#security-maintainability-limitations\n",
      "  UserWarning,\n",
      "/home/dongagent/anaconda3/envs/py37pyfeat1/lib/python3.7/site-packages/sklearn/base.py:333: UserWarning: Trying to unpickle estimator RandomForestClassifier from version 0.24.1 when using version 1.0.1. This might lead to breaking code or invalid results. Use at your own risk. For more info please refer to:\n",
      "https://scikit-learn.org/stable/modules/model_persistence.html#security-maintainability-limitations\n",
      "  UserWarning,\n",
      "/home/dongagent/anaconda3/envs/py37pyfeat1/lib/python3.7/site-packages/sklearn/base.py:333: UserWarning: Trying to unpickle estimator StandardScaler from version 0.24.1 when using version 1.0.1. This might lead to breaking code or invalid results. Use at your own risk. For more info please refer to:\n",
      "https://scikit-learn.org/stable/modules/model_persistence.html#security-maintainability-limitations\n",
      "  UserWarning,\n"
     ]
    },
    {
     "name": "stdout",
     "output_type": "stream",
     "text": [
      "Loading emotion model:  resmasknet\n"
     ]
    }
   ],
   "source": [
    "fig = 'nikola.png'\n",
    "emotion_model = \"resmasknet\"\n",
    "# emotion_model = \"rf\"\n",
    "\n",
    "detector = Detector(emotion_model=emotion_model, landmark_model='mobilefacenet')"
   ]
  },
  {
   "cell_type": "code",
   "execution_count": 4,
   "metadata": {},
   "outputs": [
    {
     "data": {
      "text/plain": [
       "<feat.detector.Detector at 0x7efd0c66aad0>"
      ]
     },
     "execution_count": 4,
     "metadata": {},
     "output_type": "execute_result"
    }
   ],
   "source": [
    "detector"
   ]
  },
  {
   "cell_type": "code",
   "execution_count": 5,
   "metadata": {},
   "outputs": [
    {
     "name": "stdout",
     "output_type": "stream",
     "text": [
      "image_analysis/211223Exp/Exp7/anger/2021_12_23_15_25_16_anger_02.png\n",
      "0.24052065146665938\n",
      "0.011432564\n"
     ]
    }
   ],
   "source": [
    "target_emotion = 'anger'\n",
    "folderName = os.path.join('image_analysis/211223Exp/Exp7/', 'anger')\n",
    "ls_name = os.listdir(folderName)\n",
    "result_dic = {}\n",
    "counter = 0\n",
    "for i in ls_name:\n",
    "    if '_02.png' in i:\n",
    "        testfile = os.path.join(folderName, i)\n",
    "        print(testfile) \n",
    "        # run pyfeat\n",
    "        img_pred = detector.detect_image(testfile)\n",
    "        df = img_pred.head()\n",
    "        emo_df = df.iloc[-1:,-9:]\n",
    "        py_feat_output = emo_df.iloc[0, RCSystem.get_target(target_emotion)]\n",
    "        print(py_feat_output)\n",
    "        csv_name = testfile[:-4]+\".csv\"\n",
    "        df_csv = pd.read_csv(csv_name)\n",
    "#         print(df_csv)\n",
    "#         print(df_csv.iloc[-1:,-9:].iloc[-1, 0])\n",
    "        print(df_csv.iloc[-1:,-8:].iloc[0, RCSystem.get_target(target_emotion)])\n",
    "        if counter > 5:\n",
    "            pass\n",
    "        counter += 1\n",
    "# print(emo_df)"
   ]
  },
  {
   "cell_type": "code",
   "execution_count": 6,
   "metadata": {},
   "outputs": [
    {
     "name": "stdout",
     "output_type": "stream",
     "text": [
      "       AU43     anger   disgust      fear  happiness   sadness  surprise  \\\n",
      "0  0.240521  0.011433  0.589865  0.014724   0.298936  0.048997  0.003255   \n",
      "\n",
      "   neutral  \n",
      "0  0.03279  \n"
     ]
    }
   ],
   "source": [
    "print(df.iloc[:, -9:-1])"
   ]
  },
  {
   "cell_type": "code",
   "execution_count": 7,
   "metadata": {},
   "outputs": [
    {
     "name": "stdout",
     "output_type": "stream",
     "text": [
      "       AU43     anger   disgust      fear  happiness   sadness  surprise  \\\n",
      "0  0.240521  0.011433  0.589865  0.014724   0.298936  0.048997  0.003255   \n",
      "\n",
      "   neutral                                              input  \n",
      "0  0.03279  image_analysis/211223Exp/Exp7/anger/2021_12_23...  \n"
     ]
    }
   ],
   "source": [
    "print(emo_df)"
   ]
  },
  {
   "cell_type": "code",
   "execution_count": 8,
   "metadata": {},
   "outputs": [
    {
     "data": {
      "text/html": [
       "<div>\n",
       "<style scoped>\n",
       "    .dataframe tbody tr th:only-of-type {\n",
       "        vertical-align: middle;\n",
       "    }\n",
       "\n",
       "    .dataframe tbody tr th {\n",
       "        vertical-align: top;\n",
       "    }\n",
       "\n",
       "    .dataframe thead th {\n",
       "        text-align: right;\n",
       "    }\n",
       "</style>\n",
       "<table border=\"1\" class=\"dataframe\">\n",
       "  <thead>\n",
       "    <tr style=\"text-align: right;\">\n",
       "      <th></th>\n",
       "      <th>anger</th>\n",
       "      <th>disgust</th>\n",
       "      <th>fear</th>\n",
       "      <th>happiness</th>\n",
       "      <th>sadness</th>\n",
       "      <th>surprise</th>\n",
       "      <th>neutral</th>\n",
       "      <th>input</th>\n",
       "    </tr>\n",
       "  </thead>\n",
       "  <tbody>\n",
       "    <tr>\n",
       "      <th>0</th>\n",
       "      <td>0.011433</td>\n",
       "      <td>0.59013</td>\n",
       "      <td>0.014728</td>\n",
       "      <td>0.298622</td>\n",
       "      <td>0.049027</td>\n",
       "      <td>0.003258</td>\n",
       "      <td>0.032803</td>\n",
       "      <td>image_analysis/anger/2021_12_23_15_25_16_anger...</td>\n",
       "    </tr>\n",
       "  </tbody>\n",
       "</table>\n",
       "</div>"
      ],
      "text/plain": [
       "      anger  disgust      fear  happiness   sadness  surprise   neutral  \\\n",
       "0  0.011433  0.59013  0.014728   0.298622  0.049027  0.003258  0.032803   \n",
       "\n",
       "                                               input  \n",
       "0  image_analysis/anger/2021_12_23_15_25_16_anger...  "
      ]
     },
     "execution_count": 8,
     "metadata": {},
     "output_type": "execute_result"
    }
   ],
   "source": [
    "df_csv.iloc[-1:,-8:]"
   ]
  },
  {
   "cell_type": "code",
   "execution_count": null,
   "metadata": {},
   "outputs": [],
   "source": []
  },
  {
   "cell_type": "code",
   "execution_count": 9,
   "metadata": {},
   "outputs": [
    {
     "name": "stderr",
     "output_type": "stream",
     "text": [
      "100%|█████████████████████████████████████████████| 1/1 [00:00<00:00,  1.10it/s]\n"
     ]
    }
   ],
   "source": [
    "try:\n",
    "    image_prediction = detector.detect_image(fig)\n",
    "except Exception as e:\n",
    "    print(e)\n",
    "# df = image_prediction.head()\n",
    "# print(df.iloc[:, -8:])\n",
    "# if is_save_csv:\n",
    "#     csv_name = img[:-4]+\".csv\"\n",
    "#     csv_emotion_name = img[:-4]+\"_emotion.csv\"\n",
    "#     df.to_csv(csv_name)\n",
    "#     df.iloc[:, -8:].to_csv(csv_emotion_name)\n",
    "# targetID = get_target(target_emotion)\n",
    "# return df.iloc[:, -8:].iloc[0,targetID]"
   ]
  },
  {
   "cell_type": "code",
   "execution_count": 12,
   "metadata": {},
   "outputs": [
    {
     "name": "stdout",
     "output_type": "stream",
     "text": [
      "      anger   disgust      fear  happiness  sadness  surprise   neutral  \\\n",
      "0  0.000057  0.000115  0.000157   0.021446   0.0058  0.035132  0.937292   \n",
      "\n",
      "        input  frame  \n",
      "0  nikola.png      0  \n"
     ]
    }
   ],
   "source": [
    "df = image_prediction.head()\n",
    "print(df.iloc[:, -9:])\n"
   ]
  },
  {
   "cell_type": "code",
   "execution_count": null,
   "metadata": {},
   "outputs": [],
   "source": []
  }
 ],
 "metadata": {
  "kernelspec": {
   "display_name": "py37pyfeat1",
   "language": "python",
   "name": "py37pyfeat1"
  },
  "language_info": {
   "codemirror_mode": {
    "name": "ipython",
    "version": 3
   },
   "file_extension": ".py",
   "mimetype": "text/x-python",
   "name": "python",
   "nbconvert_exporter": "python",
   "pygments_lexer": "ipython3",
   "version": "3.7.12"
  }
 },
 "nbformat": 4,
 "nbformat_minor": 4
}
