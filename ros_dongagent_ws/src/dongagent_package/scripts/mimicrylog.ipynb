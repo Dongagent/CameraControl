{
 "cells": [
  {
   "cell_type": "code",
   "execution_count": 56,
   "id": "10a2dbfa-8868-4b79-bdda-15efea129979",
   "metadata": {},
   "outputs": [],
   "source": [
    "# Log analysis\n",
    "# log1\n",
    "\n",
    "def analyze_my_mimicry_log_file(filename, skip_index):\n",
    "    # read file\n",
    "    with open(filename, 'r') as f:\n",
    "        lines = f.readlines()\n",
    "        tmp = []\n",
    "        for line in lines:\n",
    "            if line.strip() != '':\n",
    "                tmp.append(line.strip())\n",
    "        lines = tmp\n",
    "    \n",
    "    # construct a dic for data storing\n",
    "    pos = {'index10':[], 'index20':[], 'index30':[], 'index40':[], 'index50':[]}\n",
    "    term = ''\n",
    "    while lines:\n",
    "        t = lines.pop(0)\n",
    "        if 'index' in t:\n",
    "            term = t.split(' ')[0]\n",
    "        else:\n",
    "            pos[term].append(int(t))\n",
    "    # print(pos)\n",
    "    # construct\n",
    "    l_index50 = len(pos['index50'])\n",
    "    for i, v in enumerate(pos['index50']):\n",
    "        if i < l_index50 - 1:\n",
    "            pos['index50'][i] = [pos['index50'][i], pos['index50'][i+1]]\n",
    "        else:\n",
    "            pos['index50'][i] = [pos['index50'][i], pos['index50'][i]]\n",
    "    print('Real experiment for', filename)\n",
    "    \n",
    "    for idx, i in enumerate(pos['index50']):\n",
    "        if idx in skip_index:\n",
    "            continue \n",
    "        min_v, max_v = i[0], i[1]\n",
    "        print(f'The {idx} block, min, max is {min_v}, {max_v}')\n",
    "        print('Within this block')\n",
    "        pidx10 = []\n",
    "        pidx20 = []\n",
    "        pidx30 = []\n",
    "        pidx40 = []\n",
    "        for j in pos['index10']:\n",
    "            if j > min_v and j < max_v:\n",
    "                pidx10.append(j)\n",
    "        print('index10 has:', pidx10)\n",
    "\n",
    "        for j in pos['index20']:\n",
    "            if j > min_v and j < max_v:\n",
    "                pidx20.append(j)\n",
    "        print('index20 has:', pidx20)\n",
    "\n",
    "        for j in pos['index30']:\n",
    "            if j > min_v and j < max_v:\n",
    "                pidx30.append(j)\n",
    "        print('index30 has:', pidx30)\n",
    "\n",
    "        for j in pos['index40']:\n",
    "            if j > min_v and j < max_v:\n",
    "                pidx40.append(j)\n",
    "        print('index40 has:', pidx40)"
   ]
  },
  {
   "cell_type": "code",
   "execution_count": 67,
   "id": "f860dced-2548-49dd-82ca-10e4206b3ae3",
   "metadata": {},
   "outputs": [
    {
     "name": "stdout",
     "output_type": "stream",
     "text": [
      "Real experiment for mimicry_yang_01.txt\n",
      "The 1 block, min, max is 552269, 1001650\n",
      "Within this block\n",
      "index10 has: [612918, 634724, 689613, 733724, 756279, 789613, 856779, 892112]\n",
      "index20 has: [579085, 601641, 668307, 700641, 723196, 768307, 811169, 845752]\n",
      "index30 has: [568307, 589863, 657529, 679085, 712169, 745752, 833974, 868557]\n",
      "index40 has: [557792, 623696, 646252, 779085, 800141, 823196, 880834, 904139]\n",
      "The 2 block, min, max is 1001650, 1427322\n",
      "Within this block\n",
      "index10 has: [1028965, 1040243, 1106410, 1128465, 1171577, 1262549, 1275576]\n",
      "index20 has: [1063298, 1085104, 1139994, 1182605, 1205660, 1228965, 1308658]\n",
      "index30 has: [1007173, 1018188, 1095632, 1161049, 1217688, 1251521, 1286353]\n",
      "index40 has: [1052521, 1074576, 1117688, 1150521, 1194633, 1240493, 1298131]\n"
     ]
    }
   ],
   "source": [
    "filename = 'mimicry_yang_01.txt'\n",
    "analyze_my_mimicry_log_file(filename, skip_index=[0, 3])"
   ]
  },
  {
   "cell_type": "markdown",
   "id": "9e0c24c0-ef8f-410b-a918-425d7824772e",
   "metadata": {
    "jp-MarkdownHeadingCollapsed": true,
    "tags": []
   },
   "source": [
    "## debug"
   ]
  },
  {
   "cell_type": "code",
   "execution_count": 47,
   "id": "583f3554-9587-4436-833b-7b511f0a9548",
   "metadata": {},
   "outputs": [
    {
     "name": "stdout",
     "output_type": "stream",
     "text": [
      "Real experiment for mimicry_yang_01.txt\n",
      "The 1 block, min, max is 552269, 1001650\n",
      "Within this block\n",
      "index10 has: [612918, 634724, 689613, 733724, 756279, 789613, 856779, 892112]\n",
      "index20 has: [579085, 601641, 668307, 700641, 723196, 768307, 811169, 845752]\n",
      "index30 has: [568307, 589863, 657529, 679085, 712169, 745752, 833974, 868557]\n",
      "index40 has: [557792, 623696, 646252, 779085, 800141, 823196, 880834, 904139]\n",
      "The 2 block, min, max is 1001650, 1427322\n",
      "Within this block\n",
      "index10 has: [1028965, 1040243, 1106410, 1128465, 1171577, 1262549, 1275576]\n",
      "index20 has: [1063298, 1085104, 1139994, 1182605, 1205660, 1228965, 1308658]\n",
      "index30 has: [1007173, 1018188, 1095632, 1161049, 1217688, 1251521, 1286353]\n",
      "index40 has: [1052521, 1074576, 1117688, 1150521, 1194633, 1240493, 1298131]\n"
     ]
    }
   ],
   "source": [
    "# read file\n",
    "filename = 'mimicry_yang_01.txt'\n",
    "exp_data = []\n",
    "\n",
    "with open(filename, 'r') as f:\n",
    "    lines = f.readlines()\n",
    "    tmp = []\n",
    "    for line in lines:\n",
    "        if line.strip() != '':\n",
    "            tmp.append(line.strip())\n",
    "    lines = tmp\n",
    "\n",
    "# construct a dic for data storing\n",
    "pos = {'index10':[], 'index20':[], 'index30':[], 'index40':[], 'index50':[]}\n",
    "term = ''\n",
    "while lines:\n",
    "    t = lines.pop(0)\n",
    "    if 'index' in t:\n",
    "        term = t.split(' ')[0]\n",
    "    else:\n",
    "        pos[term].append(int(t))\n",
    "        \n",
    "        \n",
    "# construct\n",
    "l_index50 = len(pos['index50'])\n",
    "for i, v in enumerate(pos['index50']):\n",
    "    if i < l_index50 - 1:\n",
    "        pos['index50'][i] = [pos['index50'][i], pos['index50'][i+1]]\n",
    "    else:\n",
    "        pos['index50'][i] = [pos['index50'][i], pos['index50'][i]]\n",
    "print('Real experiment for', filename)\n",
    "\n",
    "for idx, i in enumerate(pos['index50']):\n",
    "    if idx == 0 or idx == 3:\n",
    "        continue \n",
    "    min_v, max_v = i[0], i[1]\n",
    "    print(f'The {idx} block, min, max is {min_v}, {max_v}')\n",
    "    print('Within this block')\n",
    "    pidx10 = []\n",
    "    pidx20 = []\n",
    "    pidx30 = []\n",
    "    pidx40 = []\n",
    "    for j in pos['index10']:\n",
    "        if j > min_v and j < max_v:\n",
    "            pidx10.append(j)\n",
    "    print('index10 has:', pidx10)\n",
    "\n",
    "    for j in pos['index20']:\n",
    "        if j > min_v and j < max_v:\n",
    "            pidx20.append(j)\n",
    "    print('index20 has:', pidx20)\n",
    "\n",
    "    for j in pos['index30']:\n",
    "        if j > min_v and j < max_v:\n",
    "            pidx30.append(j)\n",
    "    print('index30 has:', pidx30)\n",
    "\n",
    "    for j in pos['index40']:\n",
    "        if j > min_v and j < max_v:\n",
    "            pidx40.append(j)\n",
    "    print('index40 has:', pidx40)\n",
    "    \n",
    "    exp_data += pidx10\n",
    "    exp_data += pidx20\n",
    "    exp_data += pidx30\n",
    "    exp_data += pidx40"
   ]
  },
  {
   "cell_type": "code",
   "execution_count": 38,
   "id": "6d641858-a119-4cfc-831d-88c4f7aa42fa",
   "metadata": {},
   "outputs": [],
   "source": [
    "exp_data_1 = exp_data[:32]\n",
    "exp_data_2 = exp_data[32:]"
   ]
  },
  {
   "cell_type": "code",
   "execution_count": 45,
   "id": "81eccf3f-ae4c-458d-b421-38075155a2c9",
   "metadata": {},
   "outputs": [
    {
     "name": "stdout",
     "output_type": "stream",
     "text": [
      "[5604, 16619, 27396, 38674, 50952, 61729, 73007, 83535, 94063, 104841, 116119, 126896, 138425, 148952, 159480, 170008, 181036, 193064, 204091, 216119, 227396, 238924, 249952, 260980, 274007, 284784, 296562, 307089, 358746]\n"
     ]
    }
   ],
   "source": [
    "exp_data_2.sort()\n",
    "# print(exp_data_2)\n",
    "test = []\n",
    "for k in exp_data_2:\n",
    "    test.append(k-min(exp_data_2) + 5604)\n",
    "print(test)"
   ]
  },
  {
   "cell_type": "code",
   "execution_count": 34,
   "id": "0c94e490-a036-4409-8844-d0740db2a41f",
   "metadata": {},
   "outputs": [
    {
     "name": "stdout",
     "output_type": "stream",
     "text": [
      "[557792, 568307, 579085, 589863, 601641, 612918, 623696, 634724, 646252, 657529, 668307, 679085, 689613, 700641, 712169, 723196, 733724, 745752, 756279, 768307, 779085, 789613, 800141, 811169, 823196, 833974, 845752, 856779, 868557, 880834, 892112, 904139, 1007173, 1018188, 1028965, 1040243, 1052521, 1063298, 1074576, 1085104, 1095632, 1106410, 1117688, 1128465, 1139994, 1150521, 1161049, 1171577, 1182605, 1194633, 1205660, 1217688, 1228965, 1240493, 1251521, 1262549, 1275576, 1286353, 1298131, 1308658, 1360315]\n"
     ]
    }
   ],
   "source": [
    "exp_data.sort()\n",
    "print(exp_data)"
   ]
  },
  {
   "cell_type": "code",
   "execution_count": 36,
   "id": "1a8e9ae8-c6f6-4cb3-8bae-4754a7c48f83",
   "metadata": {},
   "outputs": [
    {
     "name": "stdout",
     "output_type": "stream",
     "text": [
      "[5607, 16122, 26900, 37678, 49456, 60733, 71511, 82539, 94067, 105344, 116122, 126900, 137428, 148456, 159984, 171011, 181539, 193567, 204094, 216122, 226900, 237428, 247956, 258984, 271011, 281789, 293567, 304594, 316372, 328649, 339927, 351954, 454988, 466003, 476780, 488058, 500336, 511113, 522391, 532919, 543447, 554225, 565503, 576280, 587809, 598336, 608864, 619392, 630420, 642448, 653475, 665503, 676780, 688308, 699336, 710364, 723391, 734168, 745946, 756473, 808130]\n"
     ]
    }
   ],
   "source": [
    "test = []\n",
    "\n",
    "for k in exp_data:\n",
    "    test.append(k-min(exp_data) + 5607)\n",
    "print(test)"
   ]
  },
  {
   "cell_type": "markdown",
   "id": "fa52714f-2ed1-4dd8-ab78-df4f1ba2c736",
   "metadata": {
    "jp-MarkdownHeadingCollapsed": true,
    "tags": []
   },
   "source": [
    "## p2 log"
   ]
  },
  {
   "cell_type": "code",
   "execution_count": 63,
   "id": "5f33d80e-6f4b-478c-8226-ddd86ef15d3f",
   "metadata": {},
   "outputs": [],
   "source": [
    "# Log analysis\n",
    "# log1\n",
    "\n",
    "def analyze_my_mimicry_log_file(filename, skip_index):\n",
    "    # read file\n",
    "    with open(filename, 'r') as f:\n",
    "        lines = f.readlines()\n",
    "        tmp = []\n",
    "        for line in lines:\n",
    "            if line.strip() != '':\n",
    "                tmp.append(line.strip())\n",
    "        lines = tmp\n",
    "    \n",
    "    # construct a dic for data storing\n",
    "    pos = {'index10':[], 'index20':[], 'index30':[], 'index40':[], 'index50':[]}\n",
    "    term = ''\n",
    "    while lines:\n",
    "        t = lines.pop(0)\n",
    "        if 'index' in t:\n",
    "            term = t.split(' ')[0]\n",
    "        else:\n",
    "            pos[term].append(int(t))\n",
    "    # print(pos)\n",
    "    # construct\n",
    "    l_index50 = len(pos['index50'])\n",
    "    for i, v in enumerate(pos['index50']):\n",
    "        if i < l_index50 - 1:\n",
    "            pos['index50'][i] = [pos['index50'][i], pos['index50'][i+1]]\n",
    "        else:\n",
    "            pos['index50'][i] = [pos['index50'][i], pos['index50'][i]]\n",
    "    print('Real experiment for', filename)\n",
    "    \n",
    "    for idx, i in enumerate(pos['index50']):\n",
    "        if idx in skip_index:\n",
    "            continue \n",
    "        min_v, max_v = i[0], i[1]\n",
    "        print(f'The {idx} block, min, max is {min_v}, {max_v}')\n",
    "        print('Within this block')\n",
    "        pidx10 = []\n",
    "        pidx20 = []\n",
    "        pidx30 = []\n",
    "        pidx40 = []\n",
    "        for j in pos['index10']:\n",
    "            if j > min_v and j < max_v:\n",
    "                pidx10.append(j)\n",
    "        print('index10 has:', pidx10)\n",
    "\n",
    "        for j in pos['index20']:\n",
    "            if j > min_v and j < max_v:\n",
    "                pidx20.append(j)\n",
    "        print('index20 has:', pidx20)\n",
    "\n",
    "        for j in pos['index30']:\n",
    "            if j > min_v and j < max_v:\n",
    "                pidx30.append(j)\n",
    "        print('index30 has:', pidx30)\n",
    "\n",
    "        for j in pos['index40']:\n",
    "            if j > min_v and j < max_v:\n",
    "                pidx40.append(j)\n",
    "        print('index40 has:', pidx40)"
   ]
  },
  {
   "cell_type": "code",
   "execution_count": 64,
   "id": "a1867bd7-28da-48aa-84eb-0b950dfa286f",
   "metadata": {},
   "outputs": [
    {
     "name": "stdout",
     "output_type": "stream",
     "text": [
      "Real experiment for mimicry_yang_02.txt\n",
      "The 2 block, min, max is 265753, 747385\n",
      "Within this block\n",
      "index10 has: [271276, 303346, 436680, 469763, 513624, 536680, 570263, 582040]\n",
      "index20 has: [292569, 326402, 359735, 371013, 392568, 425652, 492568, 605595]\n",
      "index30 has: [315124, 348207, 403096, 459235, 481791, 503096, 524652, 559235]\n",
      "index40 has: [281790, 337179, 381790, 414124, 447207, 547457, 594318, 617623]\n",
      "The 3 block, min, max is 747385, 1999999\n",
      "Within this block\n",
      "index10 has: [763923, 830839, 896256, 963423, 974700, 1032088, 1054393]\n",
      "index20 has: [785978, 798256, 841367, 863423, 874200, 928340, 1008283]\n",
      "index30 has: [809033, 885728, 940368, 951395, 997255, 1021311, 1043866]\n",
      "index40 has: [752908, 774700, 820311, 852145, 906784, 917312, 986228]\n",
      "The 4 block, min, max is 1999999, 1999999\n",
      "Within this block\n",
      "index10 has: []\n",
      "index20 has: []\n",
      "index30 has: []\n",
      "index40 has: []\n"
     ]
    }
   ],
   "source": [
    "filename = 'mimicry_yang_02.txt'\n",
    "analyze_my_mimicry_log_file(filename, skip_index=[0, 1])"
   ]
  },
  {
   "cell_type": "code",
   "execution_count": null,
   "id": "cc4b6564-c92c-452b-8d06-6513e1fee705",
   "metadata": {},
   "outputs": [],
   "source": []
  },
  {
   "cell_type": "markdown",
   "id": "cd722bfc-1d64-4e42-8c3f-fecb788121ed",
   "metadata": {
    "jp-MarkdownHeadingCollapsed": true,
    "tags": []
   },
   "source": [
    "## p3 log"
   ]
  },
  {
   "cell_type": "code",
   "execution_count": 71,
   "id": "6aeefb39-5f90-472a-8894-2bb5722ce8b3",
   "metadata": {},
   "outputs": [
    {
     "name": "stdout",
     "output_type": "stream",
     "text": [
      "Real experiment for mimicry_yang_03.txt\n",
      "The 2 block, min, max is 197096, 643428\n",
      "Within this block\n",
      "index10 has: [223912, 279551, 334440, 356995, 478801, 513384, 525661, 548966]\n",
      "index20 has: [213134, 257745, 302356, 378551, 401106, 413134, 434440, 455995]\n",
      "index30 has: [234690, 246468, 268523, 345468, 368023, 390579, 444968, 468023]\n",
      "index40 has: [202619, 291078, 313134, 323912, 423911, 490579, 501606, 536938]\n",
      "The 3 block, min, max is 643428, 1999999\n",
      "Within this block\n",
      "index10 has: [648951, 682022, 716354, 759466, 882271, 917355, 939910]\n",
      "index20 has: [659966, 748188, 792299, 824383, 847439, 859466, 904327]\n",
      "index30 has: [770244, 802827, 813355, 836411, 893299, 928131, 950437]\n",
      "index40 has: [670744, 694299, 705076, 726883, 737410, 781772, 870744]\n"
     ]
    }
   ],
   "source": [
    "filename = 'mimicry_yang_03.txt'\n",
    "analyze_my_mimicry_log_file(filename, [0, 1, 4])"
   ]
  },
  {
   "cell_type": "markdown",
   "id": "102df69a-d4a2-495d-bbc6-cb3a69098755",
   "metadata": {},
   "source": [
    "## p4 log"
   ]
  },
  {
   "cell_type": "code",
   "execution_count": 74,
   "id": "d3535a54-03b2-4c0b-af46-8fba44229227",
   "metadata": {},
   "outputs": [
    {
     "name": "stdout",
     "output_type": "stream",
     "text": [
      "Real experiment for mimicry_yang_04.txt\n",
      "The 1 block, min, max is 365730, 834602\n",
      "Within this block\n",
      "index10 has: [415102, 503074, 525630, 559213, 624630, 670241, 694296, 705573]\n",
      "index20 has: [371253, 392546, 437157, 470990, 536657, 569741, 603074, 636658]\n",
      "index30 has: [381768, 426379, 448185, 459713, 492546, 547185, 592546, 717601]\n",
      "index40 has: [403324, 481768, 514102, 581769, 613602, 647435, 659213, 682018]\n",
      "The 2 block, min, max is 834602, 99999999\n",
      "Within this block\n",
      "index10 has: [885473, 896251, 961418, 972946, 1061918, 1073446, 1119306]\n",
      "index20 has: [840125, 851140, 928584, 1004530, 1027586, 1095501, 1141611]\n",
      "index30 has: [873196, 907529, 950640, 983474, 1015558, 1038613, 1108529]\n",
      "index40 has: [861918, 918056, 939362, 994002, 1050641, 1084473, 1131084]\n"
     ]
    }
   ],
   "source": [
    "filename = 'mimicry_yang_04.txt'\n",
    "analyze_my_mimicry_log_file(filename, [0, 3])"
   ]
  },
  {
   "cell_type": "markdown",
   "id": "a5574059-9869-4522-b7da-faaccb832ee6",
   "metadata": {
    "tags": []
   },
   "source": [
    "## p5 log"
   ]
  },
  {
   "cell_type": "code",
   "execution_count": 76,
   "id": "9ce3a034-aecd-4e28-939b-1e8e3032607f",
   "metadata": {},
   "outputs": [
    {
     "name": "stdout",
     "output_type": "stream",
     "text": [
      "Real experiment for mimicry_yang_05.txt\n",
      "The 0 block, min, max is 253189, 337435\n",
      "Within this block\n",
      "index10 has: [269227]\n",
      "index20 has: [258712]\n",
      "index30 has: [290783]\n",
      "index40 has: [280005]\n",
      "The 1 block, min, max is 337435, 732778\n",
      "Within this block\n",
      "index10 has: [342958, 375029, 419890, 485807, 497335, 553473, 608362, 689305]\n",
      "index20 has: [398084, 453473, 518890, 574779, 585307, 619140, 653723, 666000]\n",
      "index30 has: [353473, 386807, 408862, 464251, 508362, 541445, 596335, 641945]\n",
      "index40 has: [364251, 431418, 442695, 474779, 530918, 564250, 630918, 677278]\n",
      "The 2 block, min, max is 732778, 9999999\n",
      "Within this block\n",
      "index10 has: [738301, 760093, 826760, 859593, 913733, 936788, 971621]\n",
      "index20 has: [783649, 816232, 871121, 892177, 960093, 993676]\n",
      "index30 has: [771371, 794426, 805704, 881649, 902705, 948816]\n",
      "index40 has: [749315, 837538, 848816, 925761, 982648]\n",
      "The 3 block, min, max is 9999999, 9999999\n",
      "Within this block\n",
      "index10 has: []\n",
      "index20 has: []\n",
      "index30 has: []\n",
      "index40 has: []\n"
     ]
    }
   ],
   "source": [
    "filename = 'mimicry_yang_05.txt'\n",
    "analyze_my_mimicry_log_file(filename, [99, ])"
   ]
  },
  {
   "cell_type": "markdown",
   "id": "2e7b7f6c-76fd-4421-a30c-5c2d23d67161",
   "metadata": {},
   "source": [
    "## p6 log"
   ]
  },
  {
   "cell_type": "code",
   "execution_count": 77,
   "id": "3e747741-7bc1-441a-843a-7eed14603f12",
   "metadata": {},
   "outputs": [
    {
     "name": "stdout",
     "output_type": "stream",
     "text": [
      "Real experiment for mimicry_yang_06.txt\n",
      "The 0 block, min, max is 67086, 146001\n",
      "Within this block\n",
      "index10 has: [93902]\n",
      "index20 has: [104680]\n",
      "index30 has: [72609]\n",
      "index40 has: [83124]\n",
      "The 1 block, min, max is 146001, 576091\n",
      "Within this block\n",
      "index10 has: [162039, 206651, 228456, 294373, 362039, 439484, 450511, 497871]\n",
      "index20 has: [172817, 262039, 327456, 339484, 372817, 404901, 416929, 474566]\n",
      "index30 has: [151524, 183595, 272817, 283345, 350011, 383345, 393873, 427706]\n",
      "index40 has: [195373, 217428, 239984, 251261, 305901, 316928, 462289, 485843]\n",
      "The 2 block, min, max is 576091, 9999999\n",
      "Within this block\n",
      "index10 has: [581613, 614684]\n",
      "index20 has: [626962, 649017, 670073]\n",
      "index30 has: [637739, 659545, 680851]\n",
      "index40 has: [592628, 603406]\n",
      "The 3 block, min, max is 9999999, 9999999\n",
      "Within this block\n",
      "index10 has: []\n",
      "index20 has: []\n",
      "index30 has: []\n",
      "index40 has: []\n"
     ]
    }
   ],
   "source": [
    "filename = 'mimicry_yang_06.txt'\n",
    "analyze_my_mimicry_log_file(filename, [99, ])"
   ]
  },
  {
   "cell_type": "markdown",
   "id": "17552081-1128-4e2a-a6ee-9344b4dec544",
   "metadata": {},
   "source": [
    "## p7 log"
   ]
  },
  {
   "cell_type": "code",
   "execution_count": 81,
   "id": "2c9526fe-fe5b-47a6-a926-f1ae5582e83f",
   "metadata": {},
   "outputs": [
    {
     "name": "stdout",
     "output_type": "stream",
     "text": [
      "Real experiment for mimicry_yang_07.txt\n",
      "The 1 block, min, max is 162778, 626419\n",
      "Within this block\n",
      "index10 has: [168301, 212150, 245233, 268039, 333705, 366789, 389594, 433706]\n",
      "index20 has: [178816, 234205, 300122, 322677, 400122, 444483, 467288, 502621]\n",
      "index30 has: [189594, 256761, 311150, 344233, 410650, 421678, 456261, 514648]\n",
      "index40 has: [200372, 223427, 278816, 289594, 356261, 378817, 479066, 491343]\n",
      "The 2 block, min, max is 626419, 9999999\n",
      "Within this block\n",
      "index10 has: [642957, 653734, 775290, 830430, 853735, 887318, 933428]\n",
      "index20 has: [688067, 720401, 731179, 753235, 785818, 807374, 900345]\n",
      "index30 has: [699345, 709873, 742457, 764763, 796346, 819402, 876290]\n",
      "index40 has: [631942, 665013, 677290, 842457, 865262, 911122, 922900]\n"
     ]
    }
   ],
   "source": [
    "filename = 'mimicry_yang_07.txt'\n",
    "analyze_my_mimicry_log_file(filename, [0, 3])"
   ]
  },
  {
   "cell_type": "markdown",
   "id": "06cfd721-f33f-40df-bc1f-4f641dd5cd1f",
   "metadata": {},
   "source": [
    "## p8 log"
   ]
  },
  {
   "cell_type": "code",
   "execution_count": 82,
   "id": "a7f26788-3b71-4dba-a310-5e9577048672",
   "metadata": {},
   "outputs": [
    {
     "name": "stdout",
     "output_type": "stream",
     "text": [
      "Real experiment for mimicry_yang_08.txt\n",
      "The 1 block, min, max is 163407, 555650\n",
      "Within this block\n",
      "index10 has: [168930, 190223, 279445, 290223, 356890, 400751, 491972, 515277]\n",
      "index20 has: [212779, 224056, 257390, 323307, 390223, 422306, 445112, 479695]\n",
      "index30 has: [201001, 234834, 311778, 334334, 367417, 434334, 456890, 503249]\n",
      "index40 has: [179445, 245862, 268667, 300751, 344862, 379445, 411279, 467917]\n",
      "The 2 block, min, max is 555650, 9999999\n",
      "Within this block\n",
      "index10 has: [660410, 671688, 704521, 725577, 771688, 816548, 840353]\n",
      "index20 has: [572187, 606521, 639104, 693993, 736605, 794493, 862658]\n",
      "index30 has: [561173, 594243, 649632, 715049, 759660, 782965, 805520]\n",
      "index40 has: [582965, 617298, 628576, 682465, 748633, 829576, 852131]\n"
     ]
    }
   ],
   "source": [
    "filename = 'mimicry_yang_08.txt'\n",
    "analyze_my_mimicry_log_file(filename, [0, 3])"
   ]
  },
  {
   "cell_type": "markdown",
   "id": "32987bdd-179e-41cd-a0d3-9123972033e7",
   "metadata": {},
   "source": [
    "## p9 log"
   ]
  },
  {
   "cell_type": "code",
   "execution_count": 83,
   "id": "d527bc07-bca9-4f5b-b4c1-5e3af53ea64f",
   "metadata": {},
   "outputs": [
    {
     "name": "stdout",
     "output_type": "stream",
     "text": [
      "Real experiment for mimicry_yang_09.txt\n",
      "The 1 block, min, max is 983273, 1382875\n",
      "Within this block\n",
      "index10 has: [1054700, 1088533, 1131645, 1154200, 1187283, 1242172, 1276755, 1299560]\n",
      "index20 has: [988796, 1020866, 1120616, 1164727, 1220616, 1254200, 1311838, 1335142]\n",
      "index30 has: [999310, 1043922, 1099310, 1143172, 1210088, 1264977, 1287783, 1323115]\n",
      "index40 has: [1010089, 1032645, 1065728, 1077255, 1110088, 1176755, 1199311, 1231144]\n",
      "The 2 block, min, max is 1382875, 9999999\n",
      "Within this block\n",
      "index10 has: [1433747, 1466329, 1498913, 1531747, 1542275, 1621718, 1643774]\n",
      "index20 has: [1399413, 1444524, 1487636, 1563831, 1598914, 1667578, 1689884]\n",
      "index30 has: [1410191, 1421469, 1455802, 1476857, 1509691, 1586886, 1610191]\n",
      "index40 has: [1388398, 1521219, 1552803, 1575859, 1632746, 1656802, 1679356]\n"
     ]
    }
   ],
   "source": [
    "filename = 'mimicry_yang_09.txt'\n",
    "analyze_my_mimicry_log_file(filename, [0, 3])"
   ]
  },
  {
   "cell_type": "code",
   "execution_count": null,
   "id": "31ffd577-068d-40ce-849a-ee411b182ed7",
   "metadata": {},
   "outputs": [],
   "source": []
  }
 ],
 "metadata": {
  "kernelspec": {
   "display_name": "Python 3 (ipykernel)",
   "language": "python",
   "name": "python3"
  },
  "language_info": {
   "codemirror_mode": {
    "name": "ipython",
    "version": 3
   },
   "file_extension": ".py",
   "mimetype": "text/x-python",
   "name": "python",
   "nbconvert_exporter": "python",
   "pygments_lexer": "ipython3",
   "version": "3.8.3"
  }
 },
 "nbformat": 4,
 "nbformat_minor": 5
}
