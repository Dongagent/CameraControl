{
 "cells": [
  {
   "cell_type": "code",
   "execution_count": 42,
   "id": "32224c46-6f4a-4b03-a0a3-48e609e06dc7",
   "metadata": {},
   "outputs": [],
   "source": [
    "# Find all logs for ratings\n",
    "allLogFiles = os.listdir('RatingResultLog/Logfiles')\n",
    "cleanAllLogFiles = [i for i in allLogFiles if 'DYNRAT' in i and '_' not in i]\n",
    "cleanAllLogFiles.sort()\n",
    "print(len(cleanAllLogFiles))\n",
    "tmp_pid = [i for i in range(1, 27) if i not in [3, 7, 8]]\n",
    "pids = []\n",
    "for i in tmp_pid:\n",
    "    if i // 10 == 0:\n",
    "        pids.append('my' + '0' + str(i))\n",
    "    else:\n",
    "        pids.append('my' + str(i))\n",
    "print(pids)\n",
    "def generate_tables(pid):\n",
    "    tables = [i for i in cleanAllLogFiles if pid in i]\n",
    "    # print(tables)\n",
    "    rootPath = 'RatingResultLog/Logfiles'\n",
    "    df1 = pd.read_csv(os.path.join(rootPath, tables[0]), sep='\\t')\n",
    "    df2 = pd.read_csv(os.path.join(rootPath, tables[1]), sep='\\t')\n",
    "    df = pd.concat([df1, df2], ignore_index=True)\n",
    "\n",
    "    df['emotion_category'] = df['code'].apply(lambda x: 'An' if x in [10, 20] else 'Ha')\n",
    "    df['emotion_type'] = df['code'].apply(lambda x: 'prototype' if x in [10, 30] else 'BO')\n",
    "    \n",
    "    new_order = ['code', 'emotion_category', 'emotion_type'] + [col for col in df if col not in ['code', 'emotion_category', 'emotion_type']]\n",
    "    df = df[new_order]\n",
    "    # print(df)\n",
    "    grouped_means = df.groupby('code')[['valence', 'arousal', 'humanlike']].mean()\n",
    "    # print(grouped_means)\n",
    "\n",
    "    return df, grouped_means\n",
    "    \n",
    "    \n",
    "\n",
    "ALLTables = []\n",
    "AVERTables = []\n",
    "for pid in pids:\n",
    "    tmpALLTable, tmpAVERTable = generate_tables(pid)\n",
    "    tmpALLTable['participant_id'] = pid\n",
    "    tmpAVERTable['participant_id'] = pid\n",
    "    ALLTables.append(tmpALLTable)\n",
    "    AVERTables.append(tmpAVERTable)\n",
    "# print(cleanAllLogFiles)\n",
    "\n",
    "AVERTables = pd.concat(AVERTables)\n",
    "AVERTables.reset_index(inplace=True)\n",
    "AVERTables['emotion_category'] = AVERTables['code'].apply(lambda x: 'An' if x in [10, 20] else 'Ha')\n",
    "AVERTables['emotion_type'] = AVERTables['code'].apply(lambda x: 'prototype' if x in [10, 30] else 'BO')\n",
    "new_order = ['participant_id', 'code', 'emotion_category', 'emotion_type'] + [col for col in AVERTables if col not in ['participant_id', 'code', 'emotion_category', 'emotion_type']]\n",
    "AVERTables = AVERTables[new_order]\n",
    "print(AVERTables)"
   ]
  },
  {
   "cell_type": "code",
   "execution_count": 43,
   "id": "70cc42b2-e114-4162-8075-d98f57f1e3fb",
   "metadata": {},
   "outputs": [],
   "source": [
    "AVERTables.to_csv('mimicry_aver.csv')"
   ]
  },
  {
   "cell_type": "code",
   "execution_count": 32,
   "id": "030061ce-7dbd-405b-a7fb-bb85f7baa3fb",
   "metadata": {},
   "outputs": [],
   "source": [
    "import pandas as pd\n",
    "filePath = 'RatingResultLog/Logfiles/DYNRAT1-my01.txt'\n",
    "\n",
    "df = pd.read_csv(filePath, sep='\\t')\n",
    "# print(df)"
   ]
  },
  {
   "cell_type": "code",
   "execution_count": 6,
   "id": "c9c9a4b4-ce26-44ae-8273-0522d0c42782",
   "metadata": {},
   "outputs": [
    {
     "name": "stdout",
     "output_type": "stream",
     "text": [
      "       valence   arousal  humanlike\n",
      "code                               \n",
      "10    3.000000  3.857143   7.285714\n",
      "20    2.857143  5.142857   7.285714\n",
      "30    4.571429  2.142857   4.142857\n",
      "40    4.428571  1.857143   4.285714\n"
     ]
    }
   ],
   "source": [
    "# Group the data by 'code' and calculate the mean for each group\n",
    "grouped_means = df.groupby('code')[['valence', 'arousal', 'humanlike']].mean()\n",
    "\n",
    "print(grouped_means)"
   ]
  },
  {
   "cell_type": "code",
   "execution_count": 8,
   "id": "0a628d39-b7ac-40ed-8d21-a77256de2539",
   "metadata": {},
   "outputs": [
    {
     "data": {
      "text/plain": [
       "True"
      ]
     },
     "execution_count": 8,
     "metadata": {},
     "output_type": "execute_result"
    }
   ],
   "source": [
    "import os\n",
    "os.path.exists('RatingResultLog/Logfiles/DYNRAT2-my01.txt')"
   ]
  },
  {
   "cell_type": "code",
   "execution_count": 10,
   "id": "a756d420-3730-4ed0-8fb1-79ac088898e1",
   "metadata": {},
   "outputs": [
    {
     "name": "stdout",
     "output_type": "stream",
     "text": [
      "      valence  arousal  humanlike\n",
      "code                             \n",
      "10       3.25    3.750      7.125\n",
      "20       3.00    5.250      6.750\n",
      "30       4.75    1.750      4.750\n",
      "40       3.75    2.625      4.750\n"
     ]
    }
   ],
   "source": [
    "df2 = pd.read_csv('RatingResultLog/Logfiles/DYNRAT2-my01.txt', sep='\\t')\n",
    "# print(df2)\n",
    "grouped_means2 = df2.groupby('code')[['valence', 'arousal', 'humanlike']].mean()\n",
    "print(grouped_means2)"
   ]
  },
  {
   "cell_type": "code",
   "execution_count": null,
   "id": "d1f03129-8f7e-4b68-b081-34f003e9447d",
   "metadata": {},
   "outputs": [],
   "source": [
    "# concat two tables\n"
   ]
  },
  {
   "cell_type": "code",
   "execution_count": null,
   "id": "cad37a75-0271-45d2-bf4a-ab262fe10203",
   "metadata": {},
   "outputs": [],
   "source": []
  },
  {
   "cell_type": "markdown",
   "id": "890fc01a-4c80-4253-9752-09e3726c6182",
   "metadata": {},
   "source": [
    "# ANOVA analysis"
   ]
  },
  {
   "cell_type": "code",
   "execution_count": 44,
   "id": "10ee8467-f970-4ab3-9407-ec33b16928e4",
   "metadata": {},
   "outputs": [
    {
     "name": "stdout",
     "output_type": "stream",
     "text": [
      "   ...1 participant_id  code emotion_category emotion_type    measure  \\\n",
      "0     0           my01    10               An    prototype    valence   \n",
      "1     0           my01    10               An    prototype    arousal   \n",
      "2     0           my01    10               An    prototype  humanlike   \n",
      "3     1           my01    20               An           BO    valence   \n",
      "4     1           my01    20               An           BO    arousal   \n",
      "\n",
      "      value  \n",
      "0  3.133333  \n",
      "1  3.800000  \n",
      "2  7.200000  \n",
      "3  2.933333  \n",
      "4  5.200000  \n"
     ]
    }
   ],
   "source": [
    "import pandas as pd\n",
    "\n",
    "# Load the data\n",
    "data = pd.read_csv('mimicry_aver_long.csv')\n",
    "\n",
    "# Display the first few rows to confirm it's loaded correctly\n",
    "print(data.head())\n"
   ]
  },
  {
   "cell_type": "code",
   "execution_count": 45,
   "id": "69c88392-aac0-46a2-8a4b-9a87bf0d5234",
   "metadata": {},
   "outputs": [
    {
     "name": "stdout",
     "output_type": "stream",
     "text": [
      "ANOVA for valence:\n",
      "                                         sum_sq    df          F        PR(>F)\n",
      "C(emotion_category)                   60.274831   1.0  32.924187  1.335203e-07\n",
      "C(emotion_type)                        8.240048   1.0   4.500998  3.668655e-02\n",
      "C(emotion_category):C(emotion_type)    3.600435   1.0   1.966681  1.643185e-01\n",
      "Residual                             161.102995  88.0        NaN           NaN\n",
      "\n",
      "\n",
      "ANOVA for arousal:\n",
      "                                         sum_sq    df          F        PR(>F)\n",
      "C(emotion_category)                   57.923913   1.0  48.454175  5.790826e-10\n",
      "C(emotion_type)                        0.156957   1.0   0.131296  7.179605e-01\n",
      "C(emotion_category):C(emotion_type)   17.916957   1.0  14.987788  2.074143e-04\n",
      "Residual                             105.198454  88.0        NaN           NaN\n",
      "\n",
      "\n",
      "ANOVA for humanlike:\n",
      "                                         sum_sq    df         F    PR(>F)\n",
      "C(emotion_category)                    9.352657   1.0  4.650482  0.033772\n",
      "C(emotion_type)                        9.437874   1.0  4.692855  0.032992\n",
      "C(emotion_category):C(emotion_type)    0.408889   1.0  0.203314  0.653168\n",
      "Residual                             176.978164  88.0       NaN       NaN\n",
      "\n",
      "\n"
     ]
    }
   ],
   "source": [
    "import statsmodels.api as sm\n",
    "from statsmodels.formula.api import ols\n",
    "\n",
    "# ANOVA for each measure\n",
    "for measure in data['measure'].unique():\n",
    "    model = ols(f'value ~ C(emotion_category) * C(emotion_type)', data=data[data['measure'] == measure]).fit()\n",
    "    anova_table = sm.stats.anova_lm(model, typ=2)  # Type 2 ANOVA DataFrame\n",
    "    print(f'ANOVA for {measure}:')\n",
    "    print(anova_table)\n",
    "    print('\\n')\n"
   ]
  },
  {
   "cell_type": "code",
   "execution_count": 46,
   "id": "76e19495-4b24-4b4a-b69f-857b36a8cf8d",
   "metadata": {},
   "outputs": [
    {
     "name": "stdout",
     "output_type": "stream",
     "text": [
      "Tukey HSD results for valence:\n",
      "Multiple Comparison of Means - Tukey HSD, FWER=0.05\n",
      "=================================================\n",
      "group1 group2 meandiff p-adj lower  upper  reject\n",
      "-------------------------------------------------\n",
      "    An     Ha   1.6188   0.0 1.0446 2.1931   True\n",
      "-------------------------------------------------\n",
      "Tukey HSD results for arousal:\n",
      "Multiple Comparison of Means - Tukey HSD, FWER=0.05\n",
      "===================================================\n",
      "group1 group2 meandiff p-adj  lower   upper  reject\n",
      "---------------------------------------------------\n",
      "    An     Ha   -1.587   0.0 -2.0718 -1.1021   True\n",
      "---------------------------------------------------\n",
      "Tukey HSD results for humanlike:\n",
      "Multiple Comparison of Means - Tukey HSD, FWER=0.05 \n",
      "====================================================\n",
      "group1 group2 meandiff p-adj   lower   upper  reject\n",
      "----------------------------------------------------\n",
      "    An     Ha  -0.6377 0.0365 -1.2345 -0.0408   True\n",
      "----------------------------------------------------\n"
     ]
    }
   ],
   "source": [
    "from statsmodels.stats.multicomp import pairwise_tukeyhsd\n",
    "\n",
    "# For simplicity, example of analyzing main effects after significant interaction\n",
    "# Adjust for all combinations of categories within each measure\n",
    "for measure in data['measure'].unique():\n",
    "    tukey = pairwise_tukeyhsd(endog=data[data['measure'] == measure]['value'],\n",
    "                              groups=data[data['measure'] == measure]['emotion_category'],\n",
    "                              alpha=0.05)\n",
    "    print(f'Tukey HSD results for {measure}:')\n",
    "    print(tukey)\n"
   ]
  },
  {
   "cell_type": "code",
   "execution_count": null,
   "id": "b715012d-4608-4ceb-9fc4-25868f819e7b",
   "metadata": {},
   "outputs": [],
   "source": []
  }
 ],
 "metadata": {
  "kernelspec": {
   "display_name": "Python 3 (ipykernel)",
   "language": "python",
   "name": "python3"
  },
  "language_info": {
   "codemirror_mode": {
    "name": "ipython",
    "version": 3
   },
   "file_extension": ".py",
   "mimetype": "text/x-python",
   "name": "python",
   "nbconvert_exporter": "python",
   "pygments_lexer": "ipython3",
   "version": "3.8.3"
  }
 },
 "nbformat": 4,
 "nbformat_minor": 5
}
