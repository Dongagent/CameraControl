{
 "cells": [
  {
   "cell_type": "code",
   "execution_count": 77,
   "metadata": {},
   "outputs": [
    {
     "name": "stdout",
     "output_type": "stream",
     "text": [
      "0.985665765813916\n",
      "0.014334234186084038\n"
     ]
    }
   ],
   "source": [
    "# basic test\n",
    "import numpy as np\n",
    "from scipy.spatial import distance\n",
    "\n",
    "def cal_cosine_distance(x, y):\n",
    "    dist = distance.cosine(x, y)\n",
    "    return dist\n",
    "\n",
    "a = np.array([1, 1, 2, 3, 4])\n",
    "b = np.array([1, 2, 2, 3, 4])\n",
    "\n",
    "c = a.dot(b)/(np.linalg.norm(a) * np.linalg.norm(b)) # higher -> more similar\n",
    "d = cal_cosine_distance(a, b) # smaller -> more similar\n",
    "\n",
    "print(c)\n",
    "print(d)"
   ]
  },
  {
   "cell_type": "markdown",
   "metadata": {},
   "source": [
    "# prepared functions"
   ]
  },
  {
   "cell_type": "code",
   "execution_count": 255,
   "metadata": {},
   "outputs": [],
   "source": [
    "\n",
    "import os\n",
    "import pandas as pd\n",
    "import copy\n",
    "import numpy as np\n",
    "from scipy.spatial import distance\n",
    "from PIL import Image\n",
    "import numpy as np\n",
    "\n",
    "# \n",
    "def cal_cosine_distance(x, y):\n",
    "    # The smaller value, the more similar for x and y\n",
    "    dist = distance.cosine(x, y)\n",
    "    return dist\n",
    "\n",
    "def cal_cosine_similarity(x, y):\n",
    "    # The bigger value, the more similar for x and y\n",
    "    sim = 1 - distance.cosine(x, y)\n",
    "    return sim\n",
    "\n",
    "def get_img_array(path):\n",
    "    tmp_img = Image.open(path)\n",
    "    # reshape to (320, 240)\n",
    "    tmp_img_reshape = tmp_img.resize((320, 240))\n",
    "    \n",
    "    # convert the images to (R,G,B) arrays\n",
    "    tmp_img_array = np.array(tmp_img_reshape)\n",
    "    \n",
    "    # flatten the arrays so they are 1 dimensional vectors\n",
    "    tmp_img_array = tmp_img_array.flatten()\n",
    "    \n",
    "    # divide the arrays by 255, the maximum RGB value to make sure every value is on a 0-1 scale\n",
    "    tmp_img_array = tmp_img_array/255\n",
    "    \n",
    "    return tmp_img_array\n",
    "\n",
    "# rescale the distance value\n",
    "def rescale(result):\n",
    "    test = copy.deepcopy(result)\n",
    "    sorted_test = sorted(test.items(), key=lambda item: item[1][2], reverse = True)\n",
    "    print('max is:', sorted_test[0][1][2], '\\nmin is:', sorted_test[-1][1][2])\n",
    "    max_v = sorted_test[0][1][2]\n",
    "    min_v = sorted_test[-1][1][2]\n",
    "    print('rescaling...')\n",
    "#     print(len(sorted_test))\n",
    "    for i in range(len(sorted_test)):\n",
    "        sorted_test[i][1][2] = (sorted_test[i][1][2] - min_v) / (max_v - min_v)\n",
    "    print('rescaled.')\n",
    "    return sorted_test\n",
    "\n",
    "def get_target(emotion_name):\n",
    "    # Anger, Disgust, Fear, Happiness, Sadness, Surprise, Neutral\n",
    "    # or lowercase\n",
    "    if emotion_name in [\"Anger\", \"anger\"]:\n",
    "        return 0\n",
    "    elif emotion_name in [\"Disgust\", \"disgust\"]:\n",
    "        return 1\n",
    "    elif emotion_name in [\"Fear\", \"fear\"]:\n",
    "        return 2\n",
    "    elif emotion_name in [\"Happiness\", \"happiness\"]:\n",
    "        return 3\n",
    "    elif emotion_name in [\"Sadness\", \"sadness\"]:\n",
    "        return 4\n",
    "    elif emotion_name in [\"Surprise\", \"surprise\"]:\n",
    "        return 5\n",
    "    elif emotion_name in [\"Neutral\", \"neutral\"]:\n",
    "        return 6\n"
   ]
  },
  {
   "cell_type": "markdown",
   "metadata": {},
   "source": [
    "# main loop for dealing with cosine distance "
   ]
  },
  {
   "cell_type": "code",
   "execution_count": 257,
   "metadata": {},
   "outputs": [
    {
     "ename": "SyntaxError",
     "evalue": "invalid syntax (2981895799.py, line 99)",
     "output_type": "error",
     "traceback": [
      "\u001b[0;36m  Cell \u001b[0;32mIn[257], line 99\u001b[0;36m\u001b[0m\n\u001b[0;31m    if COPY_FLAG and not os.path.exists(sum_folderName):\u001b[0m\n\u001b[0m                                                       ^\u001b[0m\n\u001b[0;31mSyntaxError\u001b[0m\u001b[0;31m:\u001b[0m invalid syntax\n"
     ]
    }
   ],
   "source": [
    "\n",
    "COPY_FLAG = 1 # 1 is copy, 0 - no copy\n",
    "NUM_OF_SELECT = 100\n",
    "\n",
    "# get all img array, for anger\n",
    "for target_emotion in ['anger', 'disgust', 'fear', 'happiness', 'sadness', 'surprise']:\n",
    "    folderName = os.path.join(target_emotion)\n",
    "    ls_name = os.listdir(folderName)\n",
    "    result_dic = {}\n",
    "\n",
    "    for i in ls_name:\n",
    "        if 'emotion' in i:\n",
    "            temp = pd.read_csv(os.path.join(folderName, i))\n",
    "            result = temp[target_emotion][0]\n",
    "            result = round(result, 6)\n",
    "            fileName = temp['input'][0]\n",
    "            result_dic[i[:-12] + '.png'] = result\n",
    "    # sort in value order \n",
    "    res_value_order = sorted(result_dic.items(), key=lambda item: item[1], reverse = True)\n",
    "\n",
    "    # get all img array\n",
    "    res_img_array = {}\n",
    "\n",
    "    for i in res_value_order:\n",
    "        temp_img_array = get_img_array(os.path.join(target_emotion, i[0]))\n",
    "        res_img_array[i] = [i[1], temp_img_array]\n",
    "\n",
    "    # compute all similarity\n",
    "    data_length = len(res_img_array.keys())\n",
    "    nameList = list(res_img_array.keys())\n",
    "    cos_dis_result = {}\n",
    "    cos_dis_result_listform = []\n",
    "    counter = 0\n",
    "    for i in range(data_length):\n",
    "        for j in range(i + 1, data_length):\n",
    "            vec1 = res_img_array[nameList[i]][1]\n",
    "            vec2 = res_img_array[nameList[j]][1]\n",
    "            cos_dis = cal_cosine_distance(vec1, vec2)\n",
    "            if cos_dis == 0.0:\n",
    "                raise Exception('ERROR, counter is ' + str(counter), i, j)\n",
    "            tmp = [nameList[i], nameList[j], cos_dis]\n",
    "            cos_dis_result_listform.append(tmp)\n",
    "            cos_dis_result[counter] = tmp\n",
    "            counter += 1\n",
    "    rescale_cos_dis_result = rescale(cos_dis_result)\n",
    "\n",
    "    # in this dic, I use all img name as the first id of the dic, there inner dic, which contains all the img name except itself.\n",
    "    # I store the rating in the inner dic\n",
    "    res_dic_rescaled_cos_dis = {i:{} for i in res_img_array.keys()}\n",
    "\n",
    "    for i in rescale_cos_dis_result:\n",
    "        tempa = i[1][0]\n",
    "        tempb = i[1][1]\n",
    "        temp_score = i[1][2]\n",
    "        res_dic_rescaled_cos_dis[tempa][tempb] = temp_score\n",
    "        res_dic_rescaled_cos_dis[tempb][tempa] = temp_score    \n",
    "\n",
    "    # greedy search\n",
    "\n",
    "    count = 1\n",
    "    finalResult = []\n",
    "    finalResult.append(res_value_order[0])\n",
    "    finalResult.append(res_value_order[-1])\n",
    "    x_list = []\n",
    "    # print(finalResult)\n",
    "    for i in range(len(finalResult)):\n",
    "        x_list.append(finalResult[i][0])\n",
    "    # print(x_list)\n",
    "    for count in range(NUM_OF_SELECT):\n",
    "        # for storing the distance from the selected list to others \n",
    "        y_list = []\n",
    "\n",
    "        # find intersect keys, which is not in x_list\n",
    "        cur_keys = ''\n",
    "\n",
    "        for i in x_list:\n",
    "            if cur_keys == '':\n",
    "                cur_keys = res_dic_rescaled_cos_dis[i].keys()\n",
    "            else:\n",
    "                type(cur_keys)\n",
    "                cur_keys = cur_keys & res_dic_rescaled_cos_dis[i].keys()\n",
    "        cur_dic = dict.fromkeys(cur_keys, 0)\n",
    "        for k in x_list:\n",
    "            assert k not in cur_dic \n",
    "        for i in cur_dic.keys():\n",
    "            for j in x_list:\n",
    "                cur_dic[i] += res_dic_rescaled_cos_dis[i][j]\n",
    "    #     print(len(cur_keys))\n",
    "        largeest_dis_target_name = max(cur_dic, key=cur_dic.get)\n",
    "        pos_of_largeest_dis_target_name = [index1 for index1,value1 in \n",
    "         enumerate(res_value_order) for index2,value2 in enumerate(value1) if value2==largeest_dis_target_name][0]\n",
    "        x_list.append(largeest_dis_target_name)\n",
    "        finalResult.append(res_value_order[pos_of_largeest_dis_target_name])\n",
    "\n",
    "\n",
    "    # Copy files\n",
    "    sum_folderName = os.path.join(target_emotion, 'selected{}'.format(NUM_OF_SELECT))\n",
    "    img_only_folderName = os.path.join(target_emotion, 'selected_imgonly{}'.format(NUM_OF_SELECT))\n",
    "    if COPY_FLAG and not os.path.exists(sum_folderName):\n",
    "        try:\n",
    "            os.mkdir(sum_folderName)\n",
    "        except Exception as e:\n",
    "            print(e)\n",
    "    if COPY_FLAG and not os.path.exists(img_only_folderName):\n",
    "        try:\n",
    "            os.mkdir(img_only_folderName)\n",
    "        except Exception as e:\n",
    "            print(e)\n",
    "\n",
    "    import shutil\n",
    "    for i in finalResult:\n",
    "        # i is fig name\n",
    "        print(i[0])\n",
    "        img_file_name = os.path.join(target_emotion, i[0])\n",
    "        csv_file_name = os.path.join(target_emotion, i[0][:-4] + '.csv')\n",
    "        axes_file_name = os.path.join(target_emotion, i[0][:-4] + '_axes_data.csv')\n",
    "        emotion_file_name = os.path.join(target_emotion, i[0][:-4] + '_emotion.csv')\n",
    "\n",
    "        # all files\n",
    "        if COPY_FLAG and not os.path.exists(os.path.join(sum_folderName, i[0])):\n",
    "            shutil.copy(img_file_name, sum_folderName)\n",
    "            print('copied0')\n",
    "        if COPY_FLAG and not os.path.exists(os.path.join(sum_folderName, i[0][:-4] + '.csv')):\n",
    "            shutil.copy(csv_file_name, sum_folderName)\n",
    "            print('copied1')\n",
    "        if COPY_FLAG and not os.path.exists(os.path.join(sum_folderName, i[0][:-4] + '_axes_data.csv')):\n",
    "            shutil.copy(axes_file_name, sum_folderName)\n",
    "            print('copied2')\n",
    "        if COPY_FLAG and not os.path.exists(os.path.join(sum_folderName, i[0][:-4] + '_emotion.csv')):\n",
    "            shutil.copy(emotion_file_name, sum_folderName)\n",
    "            print('copied3')\n",
    "\n",
    "        if COPY_FLAG and not os.path.exists(os.path.join(img_only_folderName, i[0])):\n",
    "            shutil.copy(img_file_name, img_only_folderName)\n",
    "            print('copied4')"
   ]
  },
  {
   "cell_type": "code",
   "execution_count": 189,
   "metadata": {},
   "outputs": [
    {
     "data": {
      "text/plain": [
       "'2023_02_10_15_12_04_anger_8.png'"
      ]
     },
     "execution_count": 189,
     "metadata": {},
     "output_type": "execute_result"
    }
   ],
   "source": []
  },
  {
   "cell_type": "code",
   "execution_count": 86,
   "metadata": {},
   "outputs": [
    {
     "name": "stdout",
     "output_type": "stream",
     "text": [
      "(55302, ['2023_02_10_15_30_46_anger_490.png', '2023_02_10_15_12_04_anger_8.png', 1.0])\n",
      "(1509, ['2023_02_10_15_24_05_anger_335.png', '2023_02_10_15_24_08_anger_336.png', 0.0])\n"
     ]
    }
   ],
   "source": [
    "print(rescale_cos_dis_result[0])\n",
    "print(rescale_cos_dis_result[-1])"
   ]
  },
  {
   "cell_type": "code",
   "execution_count": 133,
   "metadata": {},
   "outputs": [],
   "source": []
  },
  {
   "cell_type": "code",
   "execution_count": 134,
   "metadata": {},
   "outputs": [
    {
     "data": {
      "text/plain": [
       "[[0, ('2023_02_10_15_28_04_anger_433.png', 0.890863)],\n",
       " [0, ('2023_02_10_15_25_54_anger_381.png', 0.000222)]]"
      ]
     },
     "execution_count": 134,
     "metadata": {},
     "output_type": "execute_result"
    }
   ],
   "source": []
  },
  {
   "cell_type": "code",
   "execution_count": 139,
   "metadata": {},
   "outputs": [
    {
     "data": {
      "text/plain": [
       "[('2023_02_10_15_28_04_anger_433.png', 0.890863),\n",
       " ('2023_02_10_15_28_40_anger_446.png', 0.879018),\n",
       " 6.64947043207409e-05]"
      ]
     },
     "execution_count": 139,
     "metadata": {},
     "output_type": "execute_result"
    }
   ],
   "source": [
    "cos_dis_result_listform[0]\n",
    "cos_dis_result_listform[1]"
   ]
  },
  {
   "cell_type": "code",
   "execution_count": 137,
   "metadata": {},
   "outputs": [
    {
     "name": "stdout",
     "output_type": "stream",
     "text": [
      "124750\n"
     ]
    },
    {
     "ename": "IndexError",
     "evalue": "list index out of range",
     "output_type": "error",
     "traceback": [
      "\u001b[0;31m---------------------------------------------------------------------------\u001b[0m",
      "\u001b[0;31mIndexError\u001b[0m                                Traceback (most recent call last)",
      "Cell \u001b[0;32mIn[137], line 5\u001b[0m\n\u001b[1;32m      3\u001b[0m \u001b[38;5;28mprint\u001b[39m(\u001b[38;5;28mlen\u001b[39m(cos_dis_result_listform))\n\u001b[1;32m      4\u001b[0m \u001b[38;5;28;01mfor\u001b[39;00m i \u001b[38;5;129;01min\u001b[39;00m \u001b[38;5;28mrange\u001b[39m(\u001b[38;5;241m500\u001b[39m\u001b[38;5;241m*\u001b[39m\u001b[38;5;241m500\u001b[39m):\n\u001b[0;32m----> 5\u001b[0m     mat_2d\u001b[38;5;241m.\u001b[39mappend(\u001b[43mcos_dis_result_listform\u001b[49m\u001b[43m[\u001b[49m\u001b[43mi\u001b[49m\u001b[43m]\u001b[49m[\u001b[38;5;241m2\u001b[39m])\n\u001b[1;32m      6\u001b[0m ary \u001b[38;5;241m=\u001b[39m np\u001b[38;5;241m.\u001b[39marray(mat_2d)\u001b[38;5;241m.\u001b[39mreshape(\u001b[38;5;241m500\u001b[39m, \u001b[38;5;241m500\u001b[39m)\n",
      "\u001b[0;31mIndexError\u001b[0m: list index out of range"
     ]
    }
   ],
   "source": [
    "# construct a 500 x 500 matrix\n",
    "mat_2d = []\n",
    "print(len(cos_dis_result_listform))\n",
    "for i in range(500*500):\n",
    "    mat_2d.append(cos_dis_result_listform[i][2])\n",
    "ary = np.array(mat_2d).reshape(500, 500)"
   ]
  },
  {
   "cell_type": "code",
   "execution_count": null,
   "metadata": {},
   "outputs": [],
   "source": [
    "\n",
    "print('Final selection for ' + target_emotion, finalResult)\n",
    "\n",
    "# show the result\n",
    "finalResult = sorted(finalResult, key=lambda x:x[0])\n",
    "print('Final selection for ' + target_emotion, finalResult)\n",
    "# Copy files\n",
    "sum_folderName = \"image_analysis/211223Exp/Exp7/selected_files/\" + target_emotion + '/'\n",
    "if not os.path.exists(sum_folderName):\n",
    "    try:\n",
    "        os.mkdir(sum_folderName)\n",
    "    except Exception as e:\n",
    "        print(e)\n",
    "import shutil\n",
    "for i in finalResult:\n",
    "    temp = pd.read_csv(folderName + i[1][:-4] + '_emotion.csv')\n",
    "    targetID = RCSystem.get_target(target_emotion)\n",
    "    temp_result = temp.iloc[:, -8:].iloc[0, targetID]\n",
    "    print(i[0], i[1][:-4]+'.png', temp_result)\n",
    "    tempFileAU = i[1]\n",
    "    tempFileFig = i[1][:-4]+'.png'\n",
    "    tempFilePyfeat = i[1][:-4] + '_emotion.csv'\n",
    "#         shutil.copy(folderNameAU + tempFileAU, sum_folderName)\n",
    "#         shutil.copy(folderName + tempFileFig, sum_folderName)\n",
    "#         shutil.copy(folderName + tempFilePyfeat, sum_folderName)"
   ]
  },
  {
   "cell_type": "code",
   "execution_count": 56,
   "metadata": {},
   "outputs": [
    {
     "name": "stdout",
     "output_type": "stream",
     "text": [
      "max is: 0.003410925908368223 \n",
      "min is: 6.420692183173315e-05\n",
      "rescaling...\n",
      "rescaled.\n"
     ]
    }
   ],
   "source": []
  },
  {
   "cell_type": "code",
   "execution_count": 58,
   "metadata": {},
   "outputs": [],
   "source": [
    "# for i in range(5):\n",
    "#     print(test_rescle[i])\n",
    "\n",
    "# for i in range(-5, 0):\n",
    "#     print(test_rescle[i])"
   ]
  },
  {
   "cell_type": "code",
   "execution_count": null,
   "metadata": {},
   "outputs": [],
   "source": [
    "# greedy search\n",
    "\n",
    "count = 1\n",
    "#     print('top_name_list', top_name_list, '\\n')\n",
    "finalResult = []\n",
    "finalResult.append([0, res_value_order[0]])\n",
    "\n",
    "# construct a 10 x 10 matrix\n",
    "mat_2d = []\n",
    "for i in range(100):\n",
    "    mat_2d.append(result_AU2[i][2])\n",
    "ary = np.array(mat_2d).reshape(10, 10)\n",
    "\n",
    "#     finalResult.append([2, top_name_list[2]])\n",
    "while count < 5:\n",
    "    x_list = []\n",
    "    y_list = []\n",
    "#         print()\n",
    "    for i in range(len(finalResult)):\n",
    "        x_list.append(finalResult[i][0])\n",
    "\n",
    "    for i in x_list:\n",
    "        y_list.append(ary[i])\n",
    "#         print(y_list)\n",
    "#     print(ary[i])\n",
    "#     print(np.argmax(ary[i]))\n",
    "    sum_v = np.zeros(10)\n",
    "    for i in y_list:\n",
    "        sum_v += i\n",
    "    for i in x_list:\n",
    "        sum_v[i] = 0\n",
    "    y = np.argmax(sum_v)\n",
    "    finalResult.append([y, top_name_list[y]])\n",
    "    count += 1\n",
    "    print('x_list', x_list)\n",
    "#         print(sum_v, y)\n",
    "#         np.partition(k.flatten(), -2)[-2]\n",
    "#         print(ary[x].index(max(ary[x])))\n",
    "#     print(max(ary[x]))\n",
    "print('Final selection for ' + target_emotion, finalResult)\n",
    "\n",
    "# show the result\n",
    "finalResult = sorted(finalResult, key=lambda x:x[0])\n",
    "print('Final selection for ' + target_emotion, finalResult)"
   ]
  },
  {
   "cell_type": "markdown",
   "metadata": {},
   "source": [
    "### For Test"
   ]
  },
  {
   "cell_type": "code",
   "execution_count": 82,
   "metadata": {},
   "outputs": [
    {
     "name": "stdout",
     "output_type": "stream",
     "text": [
      "0.11000954841219102\n",
      "0.889990451587809\n",
      "anger/2023_02_10_15_11_49_anger_0.png anger/2023_02_10_15_11_53_anger_2.png\n"
     ]
    }
   ],
   "source": [
    "# For test\n",
    "    \n",
    "    \n",
    "# open images\n",
    "folderName = 'anger'\n",
    "a = os.path.join(folderName, '2023_02_10_15_11_49_anger_0.png')\n",
    "b = os.path.join(folderName, '2023_02_10_15_11_53_anger_2.png')\n",
    "# for i in range(50):\n",
    "# a = os.path.join(folderName, res_value_order[0][0][:-12]+'.png')\n",
    "# b = os.path.join(folderName, res_value_order[i][0][:-12]+'.png')\n",
    "img1 = Image.open(a)\n",
    "img2 = Image.open(b)\n",
    "\n",
    "# make sure images have same dimensions, use .resize to scale image 2 to match image 1 dimensions\n",
    "# also reduce the shape by half just to save some processing power\n",
    "\n",
    "img1_reshape = img1.resize((round(img1.size[0]*0.5), round(img1.size[1]*0.5)))\n",
    "img2_reshape = img2.resize((round(img1.size[0]*0.5), round(img1.size[1]*0.5)))\n",
    "# img1 (640, 480)\n",
    "# img2 (640, 480)\n",
    "# img1_reshape (320, 240)\n",
    "\n",
    "# convert the images to (R,G,B) arrays\n",
    "img_array1 = np.array(img1_reshape)\n",
    "img_array2 = np.array(img2_reshape)\n",
    "\n",
    "# flatten the arrays so they are 1 dimensional vectors\n",
    "img_array1 = img_array1.flatten()\n",
    "img_array2 = img_array2.flatten()\n",
    "\n",
    "# divide the arrays by 255, the maximum RGB value to make sure every value is on a 0-1 scale\n",
    "# img_array1 = img_array1/255\n",
    "# img_array2 = img_array2/255\n",
    "\n",
    "print(cal_cosine_distance(img_array1, img_array2))\n",
    "print(cal_cosine_similarity(img_array1, img_array2))\n",
    "print(a, b)"
   ]
  },
  {
   "cell_type": "code",
   "execution_count": null,
   "metadata": {},
   "outputs": [],
   "source": [
    "# greedy search\n",
    "\n",
    "    count = 1\n",
    "#     print('top_name_list', top_name_list, '\\n')\n",
    "    finalResult = []\n",
    "    finalResult.append([0, top_name_list[0]])\n",
    "    \n",
    "    # construct a 10 x 10 matrix\n",
    "    mat_2d = []\n",
    "    for i in range(100):\n",
    "        mat_2d.append(result_AU2[i][2])\n",
    "    ary = np.array(mat_2d).reshape(10, 10)\n",
    "    \n",
    "#     finalResult.append([2, top_name_list[2]])\n",
    "    while count < 5:\n",
    "        x_list = []\n",
    "        y_list = []\n",
    "#         print()\n",
    "        for i in range(len(finalResult)):\n",
    "            x_list.append(finalResult[i][0])\n",
    "\n",
    "        for i in x_list:\n",
    "            y_list.append(ary[i])\n",
    "#         xprint(y_list)\n",
    "    #     print(ary[i])\n",
    "    #     print(np.argmax(ary[i]))\n",
    "        sum_v = np.zeros(10)\n",
    "        for i in y_list:\n",
    "            sum_v += i\n",
    "        for i in x_list:\n",
    "            sum_v[i] = 0\n",
    "        y = np.argmax(sum_v)\n",
    "        finalResult.append([y, top_name_list[y]])\n",
    "        count += 1\n",
    "        print('x_list', x_list)\n",
    "#         print(sum_v, y)\n",
    "    #         np.partition(k.flatten(), -2)[-2]\n",
    "    #         print(ary[x].index(max(ary[x])))\n",
    "    #     print(max(ary[x]))\n",
    "    print('Final selection for ' + target_emotion, finalResult)\n",
    "    \n",
    "    # show the result\n",
    "    finalResult = sorted(finalResult, key=lambda x:x[0])\n",
    "    print('Final selection for ' + target_emotion, finalResult)\n",
    "    \n",
    "    \n",
    "    # Copy files\n",
    "    sum_folderName = \"image_analysis/211223Exp/Exp7/selected_files/\" + target_emotion + '/'\n",
    "    if not os.path.exists(sum_folderName):\n",
    "        try:\n",
    "            os.mkdir(sum_folderName)\n",
    "        except Exception as e:\n",
    "            print(e)\n",
    "    import shutil\n",
    "    for i in finalResult:\n",
    "        temp = pd.read_csv(folderName + i[1][:-4] + '_emotion.csv')\n",
    "        targetID = RCSystem.get_target(target_emotion)\n",
    "        temp_result = temp.iloc[:, -8:].iloc[0, targetID]\n",
    "        print(i[0], i[1][:-4]+'.png', temp_result)\n",
    "        tempFileAU = i[1]\n",
    "        tempFileFig = i[1][:-4]+'.png'\n",
    "        tempFilePyfeat = i[1][:-4] + '_emotion.csv'\n",
    "#         shutil.copy(folderNameAU + tempFileAU, sum_folderName)\n",
    "#         shutil.copy(folderName + tempFileFig, sum_folderName)\n",
    "#         shutil.copy(folderName + tempFilePyfeat, sum_folderName)\n",
    "    "
   ]
  }
 ],
 "metadata": {
  "kernelspec": {
   "display_name": "py37",
   "language": "python",
   "name": "py37"
  },
  "language_info": {
   "codemirror_mode": {
    "name": "ipython",
    "version": 3
   },
   "file_extension": ".py",
   "mimetype": "text/x-python",
   "name": "python",
   "nbconvert_exporter": "python",
   "pygments_lexer": "ipython3",
   "version": "3.7.10"
  }
 },
 "nbformat": 4,
 "nbformat_minor": 4
}
