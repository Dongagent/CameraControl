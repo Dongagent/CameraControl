{
 "cells": [
  {
   "cell_type": "code",
   "execution_count": 1,
   "metadata": {},
   "outputs": [
    {
     "name": "stderr",
     "output_type": "stream",
     "text": [
      "/home/dongagent/.local/lib/python3.8/site-packages/pandas/core/computation/expressions.py:20: UserWarning: Pandas requires version '2.7.3' or newer of 'numexpr' (version '2.7.1' currently installed).\n",
      "  from pandas.core.computation.check import NUMEXPR_INSTALLED\n",
      "/home/dongagent/anaconda3/lib/python3.8/site-packages/statsmodels/tsa/base/tsa_model.py:7: FutureWarning: pandas.Int64Index is deprecated and will be removed from pandas in a future version. Use pandas.Index with the appropriate dtype instead.\n",
      "  from pandas import (to_datetime, Int64Index, DatetimeIndex, Period,\n",
      "/home/dongagent/anaconda3/lib/python3.8/site-packages/statsmodels/tsa/base/tsa_model.py:7: FutureWarning: pandas.Float64Index is deprecated and will be removed from pandas in a future version. Use pandas.Index with the appropriate dtype instead.\n",
      "  from pandas import (to_datetime, Int64Index, DatetimeIndex, Period,\n",
      "/home/dongagent/anaconda3/lib/python3.8/site-packages/nilearn/input_data/__init__.py:27: FutureWarning: The import path 'nilearn.input_data' is deprecated in version 0.9. Importing from 'nilearn.input_data' will be possible at least until release 0.13.0. Please import from 'nilearn.maskers' instead.\n",
      "  warnings.warn(message, FutureWarning)\n"
     ]
    },
    {
     "name": "stdout",
     "output_type": "stream",
     "text": [
      "[INFO]robot initializing...\n",
      "initialize_robotParams\n",
      "\n",
      "\n",
      "[INFO]Smoothly execution activated\n",
      "[INFO]return_to_stable_state, self.robotParams are all set\n",
      "[INFO]robot initialized.\n"
     ]
    }
   ],
   "source": [
    "import RCSystem\n",
    "import defaultPose\n",
    "import copy\n",
    "rb = RCSystem.robot(duration=2, webcam=False)"
   ]
  },
  {
   "cell_type": "code",
   "execution_count": 2,
   "metadata": {},
   "outputs": [
    {
     "name": "stdout",
     "output_type": "stream",
     "text": [
      "[INFO]Smoothly execution activated\n"
     ]
    },
    {
     "data": {
      "text/plain": [
       "0"
      ]
     },
     "execution_count": 2,
     "metadata": {},
     "output_type": "execute_result"
    }
   ],
   "source": [
    "\n",
    "rb.switch_to_customizedPose(rb.AUPose['StandardPose'])\n",
    "rb.connect_ros(True, False)"
   ]
  },
  {
   "cell_type": "code",
   "execution_count": 114,
   "metadata": {},
   "outputs": [
    {
     "name": "stdout",
     "output_type": "stream",
     "text": [
      "[86, 86, 128, 128, 128, 255, 255, 0, 255, 0, 0, 0, 255, 0, 0, 255, 255, 255, 0, 0, 0, 255, 0, 0, 0, 0, 0, 0, 0, 0, 0, 0, 128, 128, 122]\n"
     ]
    }
   ],
   "source": [
    "print(defaultPose.prototypeFacialExpressions['happiness'])"
   ]
  },
  {
   "cell_type": "code",
   "execution_count": 115,
   "metadata": {},
   "outputs": [
    {
     "name": "stdout",
     "output_type": "stream",
     "text": [
      "[86, 86, 128, 128, 128, 0, 0, 0, 0, 0, 0, 0, 0, 0, 0, 0, 0, 0, 0, 0, 0, 0, 0, 0, 0, 0, 0, 0, 0, 0, 0, 0, 128, 128, 95]\n"
     ]
    }
   ],
   "source": [
    "print(rb.AUPose['StandardPose'])"
   ]
  },
  {
   "cell_type": "markdown",
   "metadata": {},
   "source": [
    "# cuntomize here"
   ]
  },
  {
   "cell_type": "code",
   "execution_count": 3,
   "metadata": {},
   "outputs": [
    {
     "name": "stdout",
     "output_type": "stream",
     "text": [
      "[INFO]Smoothly execution activated\n"
     ]
    }
   ],
   "source": [
    "mypose = copy.deepcopy(rb.AUPose['StandardPose'])\n",
    "# mypose[3] = 128\n",
    "mypose[34] = 95\n",
    "mypose[1] = 86\n",
    "mypose[0] = 86\n",
    "# mypose[0] = mypose[1] \n",
    "\n",
    "rb.switch_to_customizedPose(mypose)\n",
    "rb.connect_ros(True, False)\n",
    "\n",
    "import time \n",
    "time.sleep(1)"
   ]
  },
  {
   "cell_type": "markdown",
   "metadata": {},
   "source": [
    "# return "
   ]
  },
  {
   "cell_type": "code",
   "execution_count": 97,
   "metadata": {},
   "outputs": [],
   "source": [
    "# return \n",
    "def returnnnnn():\n",
    "    mypose = rb.AUPose['StandardPose']\n",
    "    mypose[34] = 95\n",
    "    rb.switch_to_customizedPose(mypose)\n",
    "    rb.connect_ros(True, False)\n",
    "    print('returnnnnn')"
   ]
  },
  {
   "cell_type": "markdown",
   "metadata": {},
   "source": [
    "\n",
    "# mypose[0] + mypose[5] <= 262"
   ]
  },
  {
   "cell_type": "code",
   "execution_count": null,
   "metadata": {},
   "outputs": [],
   "source": []
  },
  {
   "cell_type": "code",
   "execution_count": 106,
   "metadata": {},
   "outputs": [
    {
     "name": "stdout",
     "output_type": "stream",
     "text": [
      "[INFO]Smoothly execution activated\n"
     ]
    },
    {
     "data": {
      "text/plain": [
       "0"
      ]
     },
     "execution_count": 106,
     "metadata": {},
     "output_type": "execute_result"
    }
   ],
   "source": [
    "# happy\n",
    "import copy\n",
    "mypose = copy.deepcopy(defaultPose.prototypeFacialExpressions['happiness'])\n",
    "mypose[34] = 95\n",
    "# mypose[0] = 142, 142\n",
    "\n",
    "# mypose[0], mypose[1] = 255, 255\n",
    "# mypose[5], mypose[6], mypose[7], mypose[8] = 120, 120, 0, 203\n",
    "255 - mypose[0] + 255 - mypose[5] >= 248\n",
    "\n",
    "mypose[7], mypose[8] = 0, 203\n",
    "mypose[0] = 42\n",
    "mypose[5] = 220\n",
    "mypose[1] = mypose[0]\n",
    "mypose[6] = mypose[5]\n",
    "# mypose[6] = 255\n",
    "rb.switch_to_customizedPose(mypose)\n",
    "rb.connect_ros(True, False)"
   ]
  },
  {
   "cell_type": "code",
   "execution_count": null,
   "metadata": {},
   "outputs": [],
   "source": [
    "\n",
    "\n",
    "\n",
    "\n",
    "print(len(mypose))"
   ]
  },
  {
   "cell_type": "markdown",
   "metadata": {},
   "source": [
    "# recover from "
   ]
  },
  {
   "cell_type": "code",
   "execution_count": 6,
   "metadata": {},
   "outputs": [],
   "source": [
    "# build my customize \n",
    "import copy\n",
    "import numpy as np\n",
    "import pandas as pd\n",
    "# mypath = '/home/dongagent/github/CameraControl/ros_dongagent_ws/src/dongagent_package/scripts/image_analysis/happiness/2023_12_25_17_03_54_happiness_50_axes_data.csv'\n",
    "# mypath = '/home/dongagent/github/CameraControl/ros_dongagent_ws/src/dongagent_package/scripts/image_analysis/happiness/2023_12_25_17_04_06_happiness_54_axes_data.csv'\n",
    "# mypath = '/home/dongagent/github/CameraControl/ros_dongagent_ws/src/dongagent_package/scripts/image_analysis/happiness/' + '2023_12_25_17_55_38_happiness_0_axes_data.csv'\n",
    "# tmp_an = pd.read_csv(mypath)\n",
    "# print(tmp_an)\n",
    "# print(tmp_an['x1'])\n",
    "# print(tmp_an['x6'])"
   ]
  },
  {
   "cell_type": "code",
   "execution_count": 11,
   "metadata": {},
   "outputs": [],
   "source": [
    "\n",
    "\n",
    "def checkParameters(robotParams):\n",
    "    # Axis (8, 9), (12, 13), (18, 19), (22, 23), \n",
    "    # we should use a * b = 0 for each group. \n",
    "    # Which means, take (8, 9) for example. \n",
    "    # When axis 8 has value, we should make sure axis 9 is set to 0. \n",
    "    if robotParams[8-1] * robotParams[9-1] != 0:\n",
    "        robotParams[np.random.choice([8-1, 9-1])] = 0\n",
    "    if robotParams[12-1] * robotParams[13-1] != 0:\n",
    "        robotParams[np.random.choice([12-1, 13-1])] = 0\n",
    "    if robotParams[18-1] * robotParams[19-1] != 0:\n",
    "        robotParams[np.random.choice([18-1, 19-1])] = 0\n",
    "\n",
    "    # This part might cause left not equal to right\n",
    "    # if robotParams[22-1] * robotParams[23-1] != 0:\n",
    "    #     robotParams[np.random.choice([22-1, 23-1])] = 0\n",
    "        \n",
    "    # x22 = x18, x23 = x19\n",
    "    robotParams[21] = robotParams[17]\n",
    "    robotParams[22] = robotParams[18]\n",
    "\n",
    "\n",
    "    assert robotParams[8-1] * robotParams[9-1] == 0\n",
    "    assert robotParams[12-1] * robotParams[13-1] == 0\n",
    "    assert robotParams[18-1] * robotParams[19-1] == 0\n",
    "    assert robotParams[22-1] * robotParams[23-1] == 0\n",
    "    return robotParams\n",
    "\n",
    "def fix_robot_param(fixedrobotcode):\n",
    "\n",
    "    # x2 = x1, use one axis for eyes upper lid\n",
    "    # fixedrobotcode[0] = 0\n",
    "    fixedrobotcode[1] = fixedrobotcode[0]\n",
    "    # x7 = x6, use one axis for eyes lower lid\n",
    "    fixedrobotcode[6] = fixedrobotcode[5]\n",
    "    # x12 = x8\n",
    "    fixedrobotcode[11] = fixedrobotcode[7]\n",
    "    # x13 = x9\n",
    "    fixedrobotcode[12] = fixedrobotcode[8]\n",
    "    # x14  = x10\n",
    "    fixedrobotcode[13] = fixedrobotcode[9]\n",
    "    # x17 = x16\n",
    "    fixedrobotcode[16] = fixedrobotcode[15]\n",
    "    # x22 = x18\n",
    "    fixedrobotcode[21] = fixedrobotcode[17]\n",
    "    # x23 = x19\n",
    "    fixedrobotcode[22] = fixedrobotcode[18]\n",
    "    # x24 = x20\n",
    "    fixedrobotcode[23] = fixedrobotcode[19]\n",
    "    # To open all axes\n",
    "    # x4 = x3\n",
    "    fixedrobotcode[3] = fixedrobotcode[2]\n",
    "    # x15 = x11\n",
    "    fixedrobotcode[14] = fixedrobotcode[10]\n",
    "    fixedrobotcode = checkParameters(fixedrobotcode)\n",
    "    return fixedrobotcode\n",
    "\n",
    "def recover_param_from_csv(csv_name, steps=20):\n",
    "    df = pd.read_csv(csv_name)\n",
    "    neutral = [86, 86, 128, 128, 128, 0, 0, 0, 0, 0, 0, 0, 0, 0, 0, 0, 0, 0, 0, 0, 0, 0, 0, 0, 0, 0, 0, 0, 0, 0, 0, 0, 128, 128, 95]\n",
    "    fixedrobotcode = copy.copy(neutral)\n",
    "    # dict = {}\n",
    "    for k,v in df.to_dict().items():\n",
    "    #     print('k,v', k,v)\n",
    "        if \"x\" in k:\n",
    "            fixedrobotcode[int(k[1:])-1] = round(v[0])\n",
    "    \n",
    "    fixedrobotcode = fix_robot_param(fixedrobotcode)\n",
    "\n",
    "    # control robot\n",
    "    rb.switch_to_customizedPose(fixedrobotcode)\n",
    "    global smoothSleepTime\n",
    "    smoothSleepTime = 0.03\n",
    "    returncode = rb.connect_ros(isSmoothly=True, isRecording=False, steps=steps) # isSmoothly = True ,isRecording = True\n",
    "    time.sleep(0.5)\n",
    "    \n"
   ]
  },
  {
   "cell_type": "code",
   "execution_count": 16,
   "metadata": {},
   "outputs": [
    {
     "name": "stdout",
     "output_type": "stream",
     "text": [
      "{'x1': 84, 'x2': 84, 'x3': 128, 'x4': 128, 'x5': 128, 'x6': 198, 'x7': 198, 'x8': 93, 'x9': 0, 'x10': 0, 'x11': 0, 'x12': 93, 'x13': 0, 'x14': 0, 'x15': 0, 'x16': 255, 'x17': 255, 'x18': 255, 'x19': 0, 'x20': 255, 'x21': 0, 'x22': 255, 'x23': 0, 'x24': 255, 'x25': 0, 'x26': 0, 'x27': 0, 'x28': 255, 'x29': 0, 'x30': 162, 'x31': 0, 'x32': 68, 'x33': 128, 'x34': 128, 'x35': 95}\n"
     ]
    }
   ],
   "source": [
    "print(rb.robotParams)"
   ]
  },
  {
   "cell_type": "code",
   "execution_count": 12,
   "metadata": {},
   "outputs": [
    {
     "name": "stdout",
     "output_type": "stream",
     "text": [
      "[INFO]Smoothly execution activated\n"
     ]
    }
   ],
   "source": [
    "fn = '2023_12_25_18_57_16_happiness_426_axes_data.csv'\n",
    "recover_param_from_csv(f'image_analysis/happiness/{fn}')"
   ]
  },
  {
   "cell_type": "code",
   "execution_count": 93,
   "metadata": {},
   "outputs": [
    {
     "name": "stdout",
     "output_type": "stream",
     "text": [
      "86\n",
      "255\n"
     ]
    }
   ],
   "source": [
    "# print(fixedrobotcode[0])\n",
    "print(fixedrobotcode[32-1])"
   ]
  },
  {
   "cell_type": "code",
   "execution_count": 89,
   "metadata": {},
   "outputs": [
    {
     "name": "stdout",
     "output_type": "stream",
     "text": [
      "[INFO]Smoothly execution activated\n",
      "returnnnnn\n",
      "[INFO]Smoothly execution activated\n"
     ]
    },
    {
     "data": {
      "text/plain": [
       "0"
      ]
     },
     "execution_count": 89,
     "metadata": {},
     "output_type": "execute_result"
    }
   ],
   "source": [
    "returnnnnn()\n",
    "# fixedrobotcode[0] = 86\n",
    "# fixedrobotcode[1] = fixedrobotcode[0]\n",
    "# fixedrobotcode[5] = 255\n",
    "# fixedrobotcode[6] = fixedrobotcode[5]\n",
    "rb.switch_to_customizedPose(fixedrobotcode)\n",
    "rb.connect_ros(True, False)"
   ]
  },
  {
   "cell_type": "code",
   "execution_count": null,
   "metadata": {},
   "outputs": [],
   "source": [
    "returnnnnn()"
   ]
  },
  {
   "cell_type": "code",
   "execution_count": 61,
   "metadata": {},
   "outputs": [
    {
     "name": "stdout",
     "output_type": "stream",
     "text": [
      "x1: 120, x2: 120, x3: 128, x4: 128, x5: 128, x6: 0, x7: 0, x8: 106, x9: 0, x10: 255, x11: 0, x12: 0, x13: 35, x14: 255, x15: 0, x16: 255, x17: 255, x18: 200, x19: 0, x20: 158, x21: 0, x22: 200, x23: 0, x24: 158, x25: 0, x26: 0, x27: 0, x28: 255, x29: 143, x30: 0, x31: 0, x32: 0, x33: 128, x34: 128, x35: 95, \n"
     ]
    }
   ],
   "source": [
    "axes_data = \"\"\n",
    "\n",
    "for i, axis in enumerate(fixedrobotcode):\n",
    "    axes_data += f\"x{i+1}: {axis}, \"\n",
    "print(axes_data)"
   ]
  },
  {
   "cell_type": "code",
   "execution_count": 2,
   "metadata": {},
   "outputs": [
    {
     "name": "stdout",
     "output_type": "stream",
     "text": [
      "[INFO]robot initializing...\n",
      "initialize_robotParams\n",
      "\n",
      "\n",
      "[INFO]Smoothly execution activated\n",
      "[INFO]return_to_stable_state, self.robotParams are all set\n",
      "[INFO]WebcamStreamWidget initializing...\n",
      "[INFO]WebcamStreamWidget initialized.\n",
      "[INFO]robot and webcam initialized.\n"
     ]
    }
   ],
   "source": [
    "from RCSystem import *\n",
    "import RCSystem\n",
    "import defaultPose\n",
    "import copy\n",
    "import time\n",
    "rb = RCSystem.robot(duration=3, webcam=True)"
   ]
  },
  {
   "cell_type": "code",
   "execution_count": 7,
   "metadata": {},
   "outputs": [],
   "source": [
    "def py_feat_analysis(img, target_emotion, is_save_csv=True):\n",
    "    from feat import Detector\n",
    "    '''\n",
    "        @img: file name \n",
    "        @target_emotion: Anger, Disgust, Fear, Happiness, Sadness, Surprise\n",
    "    '''\n",
    "    global detector\n",
    "    \n",
    "    image_prediction = detector.detect_image(img)\n",
    "    df = image_prediction.head()\n",
    "    if FEAT_VERSION == 0:\n",
    "        emo_df = df.iloc[-1:,-8:] # feat 0.3.7\n",
    "    elif FEAT_VERSION == 1:\n",
    "        emo_df = df.iloc[-1:,-9:-1] # feat 0.5.0\n",
    "    else:\n",
    "        raise Exception(\"FEAT_VERSION is not correct\")\n",
    "\n",
    "    if is_save_csv:\n",
    "        csv_name = img[:-4]+\".csv\"\n",
    "        csv_emotion_name = img[:-4]+\"_emotion.csv\"\n",
    "        df.to_csv(csv_name)\n",
    "        emo_df.to_csv(csv_emotion_name)\n",
    "    targetID = get_target(target_emotion)\n",
    "    if DEBUG > 0:\n",
    "        print(\"[INFO]py_feat_analysis: {}\".format(list(df[target_emotion])[0]))\n",
    "    # return emo_df.iloc[0,targetID]\n",
    "    return list(df[target_emotion])[0]"
   ]
  },
  {
   "cell_type": "code",
   "execution_count": 15,
   "metadata": {},
   "outputs": [
    {
     "name": "stdout",
     "output_type": "stream",
     "text": [
      "switch to:  anger\n",
      "[INFO]Smoothly execution activated\n",
      "[INFO]frame captured.\n"
     ]
    },
    {
     "name": "stderr",
     "output_type": "stream",
     "text": [
      "100%|███████████████████████████████████████████████████████████████████████████████████████████████████████████████| 1/1 [00:01<00:00,  1.09s/it]\n"
     ]
    },
    {
     "name": "stdout",
     "output_type": "stream",
     "text": [
      "py_feat_analysis result is:  0.02138419821858406\n",
      "switch to:  disgust\n",
      "[INFO]Smoothly execution activated\n",
      "[INFO]frame captured.\n"
     ]
    },
    {
     "name": "stderr",
     "output_type": "stream",
     "text": [
      "100%|███████████████████████████████████████████████████████████████████████████████████████████████████████████████| 1/1 [00:01<00:00,  1.07s/it]\n"
     ]
    },
    {
     "name": "stdout",
     "output_type": "stream",
     "text": [
      "py_feat_analysis result is:  0.03056081011891365\n",
      "switch to:  fear\n",
      "[INFO]Smoothly execution activated\n",
      "[INFO]frame captured.\n"
     ]
    },
    {
     "name": "stderr",
     "output_type": "stream",
     "text": [
      "100%|███████████████████████████████████████████████████████████████████████████████████████████████████████████████| 1/1 [00:01<00:00,  1.07s/it]\n"
     ]
    },
    {
     "name": "stdout",
     "output_type": "stream",
     "text": [
      "py_feat_analysis result is:  0.01827377825975418\n",
      "switch to:  happiness\n",
      "[INFO]Smoothly execution activated\n",
      "[INFO]frame captured.\n"
     ]
    },
    {
     "name": "stderr",
     "output_type": "stream",
     "text": [
      "100%|███████████████████████████████████████████████████████████████████████████████████████████████████████████████| 1/1 [00:01<00:00,  1.08s/it]\n"
     ]
    },
    {
     "name": "stdout",
     "output_type": "stream",
     "text": [
      "py_feat_analysis result is:  0.23581530153751373\n",
      "switch to:  sadness\n",
      "[INFO]Smoothly execution activated\n",
      "[INFO]frame captured.\n"
     ]
    },
    {
     "name": "stderr",
     "output_type": "stream",
     "text": [
      "100%|███████████████████████████████████████████████████████████████████████████████████████████████████████████████| 1/1 [00:01<00:00,  1.07s/it]\n"
     ]
    },
    {
     "name": "stdout",
     "output_type": "stream",
     "text": [
      "py_feat_analysis result is:  0.5012462735176086\n",
      "switch to:  surprise\n",
      "[INFO]Smoothly execution activated\n",
      "[INFO]frame captured.\n"
     ]
    },
    {
     "name": "stderr",
     "output_type": "stream",
     "text": [
      "100%|███████████████████████████████████████████████████████████████████████████████████████████████████████████████| 1/1 [00:01<00:00,  1.08s/it]\n"
     ]
    },
    {
     "name": "stdout",
     "output_type": "stream",
     "text": [
      "py_feat_analysis result is:  0.6261047720909119\n",
      "[INFO]Smoothly execution activated\n"
     ]
    },
    {
     "data": {
      "text/plain": [
       "0"
      ]
     },
     "execution_count": 15,
     "metadata": {},
     "output_type": "execute_result"
    }
   ],
   "source": [
    "\n",
    "headYaw_fix_flag = True\n",
    "headYaw_fix = 95\n",
    "global detector\n",
    "detector = Detector(emotion_model = \"resmasknet\", landmark_model='mobilefacenet')\n",
    "for k,v in defaultPose.prototypeFacialExpressions.items():\n",
    "    if k == 'neutral':\n",
    "        continue\n",
    "    print(\"switch to: \", k)\n",
    "    v[34] = 95\n",
    "    rb.switch_to_customizedPose(v)\n",
    "    rb.connect_ros(isSmoothly=True, isRecording=False) # isSmoothly = True ,isRecording = True\n",
    "    rb.take_picture_cv(isUsingCounter=False, appendix='{}_{}'.format(k, 'test'), folder=k)\n",
    "    time.sleep(3)\n",
    "    print(\"py_feat_analysis result is: \", py_feat_analysis(rb.fileName, k))\n",
    "\n",
    "    # save robot param data\n",
    "    robot_param = pd.DataFrame({k:[v] for k, v in rb.robotParams.items()})\n",
    "    robot_param_name = rb.readablefileName[:-4]+\"_rb_paramdata.csv\"\n",
    "    robot_param.to_csv(robot_param_name, index=False, sep=',')\n",
    "\n",
    "rb.switch_to_customizedPose(rb.AUPose['StandardPose'])\n",
    "rb.connect_ros(True, False)"
   ]
  },
  {
   "cell_type": "code",
   "execution_count": 17,
   "metadata": {},
   "outputs": [
    {
     "name": "stdout",
     "output_type": "stream",
     "text": [
      "switch to:  hotAnger\n",
      "[INFO]Smoothly execution activated\n",
      "[INFO]frame captured.\n"
     ]
    },
    {
     "name": "stderr",
     "output_type": "stream",
     "text": [
      "100%|███████████████████████████████████████████████████████████████████████████████████████████████████████████████| 1/1 [00:01<00:00,  1.11s/it]\n"
     ]
    },
    {
     "name": "stdout",
     "output_type": "stream",
     "text": [
      "py_feat_analysis result is:  0.1619025468826294\n",
      "switch to:  hotDisgust\n",
      "[INFO]Smoothly execution activated\n",
      "[INFO]frame captured.\n"
     ]
    },
    {
     "name": "stderr",
     "output_type": "stream",
     "text": [
      "100%|███████████████████████████████████████████████████████████████████████████████████████████████████████████████| 1/1 [00:01<00:00,  1.13s/it]\n"
     ]
    },
    {
     "name": "stdout",
     "output_type": "stream",
     "text": [
      "py_feat_analysis result is:  3.043833567062393e-05\n",
      "switch to:  hotFear\n",
      "[INFO]Smoothly execution activated\n",
      "[INFO]frame captured.\n"
     ]
    },
    {
     "name": "stderr",
     "output_type": "stream",
     "text": [
      "100%|███████████████████████████████████████████████████████████████████████████████████████████████████████████████| 1/1 [00:01<00:00,  1.12s/it]\n"
     ]
    },
    {
     "name": "stdout",
     "output_type": "stream",
     "text": [
      "py_feat_analysis result is:  0.39156797528266907\n",
      "switch to:  hotHappiness\n",
      "[INFO]Smoothly execution activated\n",
      "[INFO]frame captured.\n"
     ]
    },
    {
     "name": "stderr",
     "output_type": "stream",
     "text": [
      "100%|███████████████████████████████████████████████████████████████████████████████████████████████████████████████| 1/1 [00:01<00:00,  1.11s/it]\n"
     ]
    },
    {
     "name": "stdout",
     "output_type": "stream",
     "text": [
      "py_feat_analysis result is:  0.034188851714134216\n",
      "switch to:  hotSadness\n",
      "[INFO]Smoothly execution activated\n",
      "[INFO]frame captured.\n"
     ]
    },
    {
     "name": "stderr",
     "output_type": "stream",
     "text": [
      "100%|███████████████████████████████████████████████████████████████████████████████████████████████████████████████| 1/1 [00:01<00:00,  1.18s/it]\n"
     ]
    },
    {
     "name": "stdout",
     "output_type": "stream",
     "text": [
      "py_feat_analysis result is:  0.05745970457792282\n",
      "switch to:  hotSurprise\n",
      "[INFO]Smoothly execution activated\n",
      "[INFO]frame captured.\n"
     ]
    },
    {
     "name": "stderr",
     "output_type": "stream",
     "text": [
      "100%|███████████████████████████████████████████████████████████████████████████████████████████████████████████████| 1/1 [00:01<00:00,  1.18s/it]\n"
     ]
    },
    {
     "name": "stdout",
     "output_type": "stream",
     "text": [
      "py_feat_analysis result is:  0.9935128092765808\n",
      "[INFO]Smoothly execution activated\n"
     ]
    },
    {
     "data": {
      "text/plain": [
       "0"
      ]
     },
     "execution_count": 17,
     "metadata": {},
     "output_type": "execute_result"
    }
   ],
   "source": [
    "headYaw_fix_flag = True\n",
    "headYaw_fix = 95\n",
    "global detector\n",
    "detector = Detector(emotion_model = \"resmasknet\", landmark_model='mobilefacenet')\n",
    "for k,v in defaultPose.hotExpressions.items():\n",
    "    if k == 'neutral':\n",
    "        continue\n",
    "    print(\"switch to: \", k)\n",
    "    v[34] = 95\n",
    "    rb.switch_to_customizedPose(v)\n",
    "    rb.connect_ros(isSmoothly=True, isRecording=False) # isSmoothly = True ,isRecording = True\n",
    "    rb.take_picture_cv(isUsingCounter=False, appendix='{}_{}'.format(k, 'test'), folder=k)\n",
    "    time.sleep(3)\n",
    "    print(\"py_feat_analysis result is: \", py_feat_analysis(rb.fileName, k[3:].lower()))\n",
    "\n",
    "    # save robot param data\n",
    "    robot_param = pd.DataFrame({k:[v] for k, v in rb.robotParams.items()})\n",
    "    robot_param_name = rb.readablefileName[:-4]+\"_rb_paramdata.csv\"\n",
    "    robot_param.to_csv(robot_param_name, index=False, sep=',')\n",
    "\n",
    "rb.switch_to_customizedPose(rb.AUPose['StandardPose'])\n",
    "rb.connect_ros(True, False)\n"
   ]
  }
 ],
 "metadata": {
  "kernelspec": {
   "display_name": "py38pyfeat",
   "language": "python",
   "name": "py38pyfeat"
  },
  "language_info": {
   "codemirror_mode": {
    "name": "ipython",
    "version": 3
   },
   "file_extension": ".py",
   "mimetype": "text/x-python",
   "name": "python",
   "nbconvert_exporter": "python",
   "pygments_lexer": "ipython3",
   "version": "3.8.15"
  }
 },
 "nbformat": 4,
 "nbformat_minor": 4
}
