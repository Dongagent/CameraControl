{
 "cells": [
  {
   "cell_type": "markdown",
   "metadata": {},
   "source": [
    "# Remember to change the ipython core at the beginning of using this file."
   ]
  },
  {
   "cell_type": "code",
   "execution_count": 56,
   "metadata": {},
   "outputs": [
    {
     "name": "stdout",
     "output_type": "stream",
     "text": [
      "[INFO]robot initializing...\n",
      "initialize_robotParams\n",
      "\n",
      "\n",
      "[INFO]Smoothly execution activated\n",
      "[INFO]return_to_stable_state, self.robotParams are all set\n",
      "[INFO]robot initialized.\n"
     ]
    }
   ],
   "source": [
    "import RCSystem\n",
    "import defaultPose\n",
    "import copy\n",
    "import time, os\n",
    "rb = ''\n",
    "rb = RCSystem.robot(duration=2, webcam=False)"
   ]
  },
  {
   "cell_type": "code",
   "execution_count": 57,
   "metadata": {},
   "outputs": [
    {
     "name": "stdout",
     "output_type": "stream",
     "text": [
      "\n",
      "\n",
      "[INFO]Smoothly execution activated\n",
      "[INFO]return_to_stable_state, self.robotParams are all set\n",
      "[INFO]Smoothly execution activated\n"
     ]
    },
    {
     "data": {
      "text/plain": [
       "0"
      ]
     },
     "execution_count": 57,
     "metadata": {},
     "output_type": "execute_result"
    }
   ],
   "source": [
    "rb.return_to_stable_state()\n",
    "rb.connect_ros(True, False)"
   ]
  },
  {
   "cell_type": "markdown",
   "metadata": {},
   "source": [
    "# return "
   ]
  },
  {
   "cell_type": "code",
   "execution_count": 4,
   "metadata": {},
   "outputs": [],
   "source": [
    "# return \n",
    "global smoothSleepTime\n",
    "smoothSleepTime = 0.05\n",
    "def returnnnnn():\n",
    "    mypose = rb.AUPose['StandardPose']\n",
    "    mypose[34] = 105\n",
    "    rb.switch_to_customizedPose(mypose)\n",
    "    rb.connect_ros(True, False, steps=50)\n",
    "    print('returnnnnn')"
   ]
  },
  {
   "cell_type": "code",
   "execution_count": 5,
   "metadata": {},
   "outputs": [
    {
     "name": "stdout",
     "output_type": "stream",
     "text": [
      "[INFO]Smoothly execution activated\n",
      "returnnnnn\n"
     ]
    }
   ],
   "source": [
    "returnnnnn()"
   ]
  },
  {
   "cell_type": "code",
   "execution_count": 58,
   "metadata": {},
   "outputs": [
    {
     "name": "stdout",
     "output_type": "stream",
     "text": [
      "{'x1': 64, 'x2': 64, 'x3': 128, 'x4': 128, 'x5': 128, 'x6': 0, 'x7': 0, 'x8': 0, 'x9': 0, 'x10': 0, 'x11': 0, 'x12': 0, 'x13': 0, 'x14': 0, 'x15': 0, 'x16': 0, 'x17': 0, 'x18': 0, 'x19': 0, 'x20': 0, 'x21': 0, 'x22': 0, 'x23': 0, 'x24': 0, 'x25': 0, 'x26': 0, 'x27': 0, 'x28': 0, 'x29': 0, 'x30': 0, 'x31': 0, 'x32': 32, 'x33': 128, 'x34': 128, 'x35': 105}\n",
      "[86, 86, 128, 128, 128, 255, 255, 0, 255, 0, 0, 0, 255, 0, 0, 255, 255, 255, 0, 0, 0, 255, 0, 0, 0, 0, 0, 0, 0, 0, 0, 0, 128, 128, 122]\n",
      "[86, 86, 128, 128, 128, 0, 0, 0, 0, 0, 0, 0, 0, 0, 0, 0, 0, 0, 0, 0, 0, 0, 0, 0, 0, 0, 0, 0, 0, 0, 0, 0, 128, 128, 105]\n"
     ]
    }
   ],
   "source": [
    "print(rb.lastParams)\n",
    "print(defaultPose.prototypeFacialExpressions['happiness'])\n",
    "\n",
    "\n",
    "\n",
    "print(rb.AUPose['StandardPose'])"
   ]
  },
  {
   "cell_type": "markdown",
   "metadata": {},
   "source": [
    "# Webcam (if you use"
   ]
  },
  {
   "cell_type": "code",
   "execution_count": 59,
   "metadata": {},
   "outputs": [
    {
     "name": "stdout",
     "output_type": "stream",
     "text": [
      "[INFO]WebcamStreamWidget initializing...\n",
      "[INFO]WebcamStreamWidget initialized.\n"
     ]
    }
   ],
   "source": [
    "DEVICE_ID = 2\n",
    "WIDTH = 1280\n",
    "HEIGHT = 720\n",
    "\n",
    "webcam = RCSystem.WebcamStreamWidget(DEVICE_ID, WIDTH, HEIGHT)\n",
    "webcam.start()"
   ]
  },
  {
   "cell_type": "code",
   "execution_count": 60,
   "metadata": {},
   "outputs": [],
   "source": [
    "def start_taking_v(appendix='', folder=''):\n",
    "    fileName = time.strftime(\"%Y_%m_%d_%H_%M_%S\", time.localtime()) \n",
    "    if appendix:\n",
    "        fileName += \"_\" + appendix + \".mkv\"\n",
    "    else:\n",
    "        fileName += \".mkv\"\n",
    "        \n",
    "    if not os.path.exists('video_analysis/temp'):\n",
    "        os.makedirs('video_analysis/temp')\n",
    "        \n",
    "    if folder:\n",
    "        folderPath = \"video_analysis/{}/\".format(folder)\n",
    "        if not os.path.exists(folderPath):\n",
    "            try:\n",
    "                os.makedirs(folderPath)\n",
    "                print('[INFO]make video folder')\n",
    "            except Exception as e:\n",
    "                print(e)\n",
    "    # setup filename\n",
    "    if not folder:\n",
    "        fileName = \"video_analysis/temp/{}\".format(fileName)\n",
    "    else:\n",
    "        fileName = folderPath + fileName\n",
    "        \n",
    "\n",
    "        \n",
    "    # save file in another thread\n",
    "    if fileName:\n",
    "        webcam.start_video_recording(fileName)\n",
    "        print('[INFO]video recording started.')\n",
    "        return 0\n",
    "    else:\n",
    "        raise ValueError('[ValueError] self.readablefileName is {}.'.format(fileName))\n",
    "        \n",
    "# stop video recording\n",
    "def stop_taking_v():\n",
    "    webcam.stop_video_recording()\n",
    "    print('[INFO]video recording stopped.')"
   ]
  },
  {
   "cell_type": "markdown",
   "metadata": {},
   "source": [
    "# cuntomize here"
   ]
  },
  {
   "cell_type": "code",
   "execution_count": 6,
   "metadata": {},
   "outputs": [],
   "source": [
    "global smoothSleepTime\n",
    "smoothSleepTime = 0.05\n",
    "def change_one_axis(x, y, steps=25): \n",
    "    mypose = copy.deepcopy(rb.AUPose['StandardPose']) \n",
    "    mypose[34] = 105\n",
    "    mypose[x] = y\n",
    "    rb.switch_to_customizedPose(mypose)\n",
    "    rb.connect_ros(True, False, steps=steps, isUsingSigmoid=True, sigmoid_factor=7) # isSmoothly = True ,isRecording = True\n",
    "    time.sleep(1)\n",
    "    \n",
    "def change_multi_axes(xs, ys, steps=25):\n",
    "    mypose = copy.deepcopy(rb.AUPose['StandardPose']) \n",
    "    mypose[34] = 105\n",
    "    for i, x in enumerate(xs):\n",
    "        mypose[x] = ys[i]\n",
    "    rb.switch_to_customizedPose(mypose)\n",
    "    rb.connect_ros(True, False, steps=steps, isUsingSigmoid=True, sigmoid_factor=7) # isSmoothly = True ,isRecording = True\n",
    "    time.sleep(1)"
   ]
  },
  {
   "cell_type": "markdown",
   "metadata": {},
   "source": [
    "# adjust nikola param by hand"
   ]
  },
  {
   "cell_type": "raw",
   "metadata": {},
   "source": [
    "mypose[33] = 83\n",
    "mypose[34] = 180\n",
    "\n",
    "mypose[33] = 2\n",
    "mypose[34] = 152\n",
    "\n",
    "\n",
    "mypose[33] = 245\n",
    "mypose[34] = 10\n",
    "\n",
    "mypose[33] = 193\n",
    "mypose[34] = 91\n",
    "\n",
    "mypose[33] = 133\n",
    "mypose[34] = 162\n",
    "\n",
    "mypose[33] = 60\n",
    "mypose[34] = 123\n",
    "\n",
    "mypose[33] = 146\n",
    "mypose[34] = 42\n",
    "\n",
    "mypose[33] = 183\n",
    "mypose[34] = 20\n",
    "\n",
    "mypose[33] = 178\n",
    "mypose[34] = 146\n",
    "\n",
    "mypose[33] = 145\n",
    "mypose[34] = 91\n",
    "\n",
    "mypose[33] = 71\n",
    "mypose[34] = 91"
   ]
  },
  {
   "cell_type": "code",
   "execution_count": 46,
   "metadata": {},
   "outputs": [
    {
     "name": "stdout",
     "output_type": "stream",
     "text": [
      "64\n",
      "135\n"
     ]
    }
   ],
   "source": [
    "import random\n",
    "\n",
    "print(random.randint(0, 256))\n",
    "print(random.randint(0, 256))"
   ]
  },
  {
   "cell_type": "code",
   "execution_count": 52,
   "metadata": {},
   "outputs": [
    {
     "name": "stdout",
     "output_type": "stream",
     "text": [
      "[INFO]Smoothly execution activated\n",
      "returnnnnn\n"
     ]
    }
   ],
   "source": [
    "returnnnnn()"
   ]
  },
  {
   "cell_type": "code",
   "execution_count": 65,
   "metadata": {},
   "outputs": [],
   "source": [
    "pp = [[83, 180], [2, 152], [193, 91], [133, 162], [145, 91], [71, 91], [182, 20]]\n",
    "\n",
    "# mypose[33] = 133\n",
    "# mypose[34] = 162\n",
    "\n",
    "# mypose[33] = 60\n",
    "# mypose[34] = 123\n",
    "\n",
    "# mypose[33] = 146\n",
    "# mypose[34] = 42\n",
    "\n",
    "# mypose[33] = 183\n",
    "# mypose[34] = 20\n",
    "\n",
    "# mypose[33] = 178\n",
    "# mypose[34] = 146\n",
    "\n",
    "# mypose[33] = 145\n",
    "# mypose[34] = 91\n",
    "\n",
    "# mypose[33] = 71\n",
    "# mypose[34] = 91]"
   ]
  },
  {
   "cell_type": "code",
   "execution_count": 66,
   "metadata": {
    "tags": []
   },
   "outputs": [
    {
     "name": "stdout",
     "output_type": "stream",
     "text": [
      "[INFO]video recording started.\n",
      "[INFO]Smoothly execution activated\n",
      "[INFO]Smoothly execution activated\n",
      "[INFO]Smoothly execution activated\n",
      "[INFO]Smoothly execution activated\n",
      "[INFO]Smoothly execution activated\n",
      "[INFO]Smoothly execution activated\n",
      "[INFO]Smoothly execution activated\n",
      "[INFO]Smoothly execution activated\n",
      "returnnnnn\n",
      "Video saved to video_analysis/temp/2024_02_29_12_14_20_idle_behavior.mkv\n",
      "[INFO]video recording stopped.\n",
      "[Exiting] No more frames to read\n"
     ]
    },
    {
     "name": "stderr",
     "output_type": "stream",
     "text": [
      "[ WARN:16] global /tmp/pip-req-build-5mtujfce/opencv/modules/videoio/src/cap_v4l.cpp (802) requestBuffers VIDEOIO(V4L2:/dev/video2): failed VIDIOC_REQBUFS: errno=19 (No such device)\n"
     ]
    }
   ],
   "source": [
    "# happy\n",
    "import copy, time\n",
    "\n",
    "global smoothSleepTime\n",
    "smoothSleepTime = 0.05\n",
    "\n",
    "\n",
    "start_taking_v(appendix='idle_behavior', folder='')\n",
    "time.sleep(1)\n",
    "\n",
    "for i in pp:\n",
    "    # mypose = copy.deepcopy(defaultPose.prototypeFacialExpressions['happiness'])\n",
    "    mypose = copy.deepcopy(defaultPose.actionUnitParams['StandardPose'])\n",
    "    mypose[33] = i[0]\n",
    "    mypose[34] = i[1]\n",
    "\n",
    "    rb.switch_to_customizedPose(mypose)\n",
    "    rb.connect_ros(True, False, steps=200, isUsingSigmoid=False, sigmoid_factor=5, debugmode=False)\n",
    "\n",
    "    time.sleep(3)\n",
    "\n",
    "# mypose = copy.deepcopy(defaultPose.actionUnitParams['StandardPose'])\n",
    "# mypose[33] = 250\n",
    "# mypose[34] = \n",
    "# rb.switch_to_customizedPose(mypose)\n",
    "# rb.connect_ros(True, False, steps=50, isUsingSigmoid=False, sigmoid_factor=5, debugmode=True)\n",
    "\n",
    "# time.sleep(3)\n",
    "returnnnnn()\n",
    "\n",
    "time.sleep(3)\n",
    "stop_taking_v()"
   ]
  },
  {
   "cell_type": "code",
   "execution_count": null,
   "metadata": {},
   "outputs": [],
   "source": []
  },
  {
   "cell_type": "code",
   "execution_count": 25,
   "metadata": {},
   "outputs": [],
   "source": [
    "\n",
    "# start_taking_v(appendix='head_down', folder='tunning')"
   ]
  },
  {
   "cell_type": "code",
   "execution_count": 39,
   "metadata": {},
   "outputs": [
    {
     "name": "stdout",
     "output_type": "stream",
     "text": [
      "Video saved to video_analysis/temp/2024_02_23_16_35_03_head_down_with_eye.mkv\n",
      "[INFO]video recording stopped.\n"
     ]
    }
   ],
   "source": [
    "stop_taking_v()"
   ]
  },
  {
   "cell_type": "markdown",
   "metadata": {},
   "source": [
    "# Do recording!"
   ]
  },
  {
   "cell_type": "code",
   "execution_count": 44,
   "metadata": {},
   "outputs": [
    {
     "name": "stdout",
     "output_type": "stream",
     "text": [
      "[INFO]Smoothly execution activated\n",
      "[INFO]video recording started.\n",
      "[70, 80]\n",
      "[INFO]Smoothly execution activated\n",
      "[INFO]Smoothly execution activated\n",
      "[INFO]Smoothly execution activated\n",
      "[INFO]Smoothly execution activated\n",
      "[INFO]Smoothly execution activated\n",
      "[INFO]Smoothly execution activated\n",
      "[INFO]Smoothly execution activated\n",
      "[INFO]Smoothly execution activated\n",
      "[INFO]Smoothly execution activated\n",
      "[INFO]Smoothly execution activated\n",
      "[INFO]Smoothly execution activated\n",
      "[INFO]Smoothly execution activated\n",
      "Video saved to video_analysis/temp/2024_02_23_16_47_36_head_down_with_eye.mkv\n",
      "[INFO]video recording stopped.\n"
     ]
    }
   ],
   "source": [
    "time.sleep(2)\n",
    "\n",
    "def return_to_standardpose():\n",
    "    # return to standard pose\n",
    "    mypose = copy.deepcopy(rb.AUPose['StandardPose']) \n",
    "    mypose[34] = 105\n",
    "    rb.switch_to_customizedPose(mypose)\n",
    "    rb.connect_ros(True, False, steps=a[i], isUsingSigmoid=True, sigmoid_factor=7)\n",
    "\n",
    "return_to_standardpose()\n",
    "    \n",
    "# start_taking_v(appendix='head_down_with_eye', folder='tunning')\n",
    "start_taking_v(appendix='head_down_with_eye', folder='')\n",
    "time.sleep(1)\n",
    "\n",
    "# a=[4, 6, 8, 10]\n",
    "# a=[1/smoothSleepTime, 1.5/smoothSleepTime, 2/smoothSleepTime]\n",
    "\n",
    "a=[2/smoothSleepTime, 2.5/smoothSleepTime, 3/smoothSleepTime, 3.5/smoothSleepTime, 4/smoothSleepTime]\n",
    "a = [3.5/smoothSleepTime, 4/smoothSleepTime]\n",
    "a = list(map(int, a))\n",
    "print(a)\n",
    "\n",
    "# Result: head_down sigmoid 7 with 4s is very good!\n",
    "# head down: change_one_axis(34-1, 30, a[i])\n",
    "# head up: change_one_axis(34-1, 128, a[i])\n",
    "\n",
    "# Result: head_down with eye. sigmoid 7, 4s, good!\n",
    "# \n",
    "\n",
    "# a = [i for i in range(2, 11)]\n",
    "\n",
    "for i in range(len(a)):\n",
    "    time.sleep(2)\n",
    "    \n",
    "    change_multi_axes([1-1,2-1,6-1,7-1, 34-1, 5-1], [255, 255, 40, 90, 30, 10], a[i])\n",
    "    time.sleep(3)\n",
    "    change_multi_axes([1-1,2-1,6-1,7-1, 34-1, 5-1], [86, 86, 0, 0, 128, 128], a[i])\n",
    "    time.sleep(2)\n",
    "    \n",
    "    # change emotion\n",
    "    happypose = copy.deepcopy(defaultPose.prototypeFacialExpressions['happiness']) \n",
    "    happypose[34] = 105\n",
    "    rb.switch_to_customizedPose(happypose)\n",
    "    rb.connect_ros(True, False, steps=a[i], isUsingSigmoid=True, sigmoid_factor=7)\n",
    "    \n",
    "    time.sleep(2)\n",
    "    \n",
    "    # return to standard pose\n",
    "    return_to_standardpose()\n",
    "    \n",
    "    time.sleep(3)\n",
    "    \n",
    "    # angry\n",
    "    \n",
    "    angrypose = copy.deepcopy(defaultPose.prototypeFacialExpressions['anger']) \n",
    "    angrypose[34] = 105\n",
    "    rb.switch_to_customizedPose(angrypose)\n",
    "    rb.connect_ros(True, False, steps=a[i], isUsingSigmoid=True, sigmoid_factor=7)\n",
    "    \n",
    "    time.sleep(2)\n",
    "    \n",
    "    # return to standard pose\n",
    "    return_to_standardpose()\n",
    "    time.sleep(2)\n",
    "\n",
    "time.sleep(3)\n",
    "stop_taking_v()"
   ]
  },
  {
   "cell_type": "code",
   "execution_count": null,
   "metadata": {},
   "outputs": [],
   "source": []
  },
  {
   "cell_type": "code",
   "execution_count": 34,
   "metadata": {},
   "outputs": [
    {
     "name": "stdout",
     "output_type": "stream",
     "text": [
      "[INFO]Smoothly execution activated\n",
      "[INFO]Smoothly execution activated\n"
     ]
    }
   ],
   "source": [
    "global smoothSleepTime\n",
    "smoothSleepTime = 0.05\n",
    "time.sleep(3)\n",
    "change_one_axis(5-1, 0, 80)\n",
    "time.sleep(3)\n",
    "change_one_axis(5-1, 220, 80)\n",
    "# change_one_axis(35-1, 230, 15)\n"
   ]
  },
  {
   "cell_type": "code",
   "execution_count": 21,
   "metadata": {},
   "outputs": [
    {
     "name": "stdout",
     "output_type": "stream",
     "text": [
      "[INFO]Smoothly execution activated\n",
      "[INFO]Smoothly execution activated\n"
     ]
    },
    {
     "data": {
      "text/plain": [
       "0"
      ]
     },
     "execution_count": 21,
     "metadata": {},
     "output_type": "execute_result"
    }
   ],
   "source": [
    "# import time \n",
    "\n",
    "# mypose = copy.deepcopy(rb.AUPose['StandardPose'])\n",
    "# # mypose[3] = 128\n",
    "# mypose[32] = 30\n",
    "# mypose[33] = 128\n",
    "# mypose[34] = 95\n",
    "# # mypose[0] = mypose[1] \n",
    "\n",
    "# time.sleep(3)\n",
    "# rb.switch_to_customizedPose(mypose)\n",
    "# rb.connect_ros(True, False, steps=15, isUsingSigmoid=True) # isSmoothly = True ,isRecording = True\n",
    "\n",
    "# time.sleep(1)\n",
    "\n",
    "# mypose[32] = 220\n",
    "# mypose[33] = 220\n",
    "# mypose[34] = 30\n",
    "\n",
    "# rb.switch_to_customizedPose(mypose)\n",
    "# rb.connect_ros(True, False, steps=15, isUsingSigmoid=True) # isSmoothly = True ,isRecording = True\n"
   ]
  },
  {
   "cell_type": "code",
   "execution_count": 11,
   "metadata": {},
   "outputs": [
    {
     "name": "stdout",
     "output_type": "stream",
     "text": [
      "[INFO]Smoothly execution activated\n",
      "returnnnnn\n"
     ]
    }
   ],
   "source": [
    "returnnnnn()"
   ]
  },
  {
   "cell_type": "markdown",
   "metadata": {},
   "source": [
    "\n",
    "# mypose[0] + mypose[5] <= 262"
   ]
  },
  {
   "cell_type": "code",
   "execution_count": 45,
   "metadata": {},
   "outputs": [
    {
     "name": "stdout",
     "output_type": "stream",
     "text": [
      "Step 1: Stage Param = 65.00, Time Interval = 1.00\n",
      "Step 2: Stage Param = 65.00, Time Interval = 1.00\n",
      "Step 3: Stage Param = 65.00, Time Interval = 1.00\n",
      "Step 4: Stage Param = 65.00, Time Interval = 1.00\n",
      "Step 5: Stage Param = 65.00, Time Interval = 1.00\n",
      "Step 6: Stage Param = 65.00, Time Interval = 1.00\n",
      "Step 7: Stage Param = 65.00, Time Interval = 1.00\n",
      "Step 8: Stage Param = 65.00, Time Interval = 1.00\n",
      "Step 9: Stage Param = 65.01, Time Interval = 1.00\n",
      "Step 10: Stage Param = 66.28, Time Interval = 0.99\n",
      "Step 11: Stage Param = 160.50, Time Interval = 0.50\n",
      "Step 12: Stage Param = 254.72, Time Interval = 0.01\n",
      "Step 13: Stage Param = 255.99, Time Interval = 0.00\n",
      "Step 14: Stage Param = 256.00, Time Interval = 0.00\n",
      "Step 15: Stage Param = 256.00, Time Interval = 0.00\n",
      "Step 16: Stage Param = 256.00, Time Interval = 0.00\n",
      "Step 17: Stage Param = 256.00, Time Interval = 0.00\n",
      "Step 18: Stage Param = 256.00, Time Interval = 0.00\n",
      "Step 19: Stage Param = 256.00, Time Interval = 0.00\n",
      "Step 20: Stage Param = 256.00, Time Interval = 0.00\n"
     ]
    },
    {
     "data": {
      "image/png": "[encoded data removed]",
      "text/plain": [
       "<Figure size 432x288 with 1 Axes>"
      ]
     },
     "metadata": {
      "needs_background": "light"
     },
     "output_type": "display_data"
    }
   ],
   "source": [
    "import math\n",
    "import matplotlib.pyplot as plt\n",
    "import numpy as np\n",
    "\n",
    "def sigmoid(x, steepness):\n",
    "    return 1 / (1 + np.exp(-steepness * x))\n",
    "\n",
    "def smooth_transition(start, end, num_steps, steepness):\n",
    "    transition_values = []\n",
    "    for i in range(num_steps):\n",
    "        # Calculate the parameter for this step\n",
    "        stage_param = start + (end - start) * sigmoid(10 * (i / num_steps - 0.5), steepness)\n",
    "        \n",
    "        # Calculate the time interval for this step using a sigmoid function\n",
    "        time_interval = 1 - sigmoid(10 * (i / num_steps - 0.5), steepness)\n",
    "        \n",
    "        transition_values.append((stage_param, time_interval))\n",
    "    return transition_values\n",
    "\n",
    "# Example usage:\n",
    "start_stage = 65\n",
    "end_stage = 256\n",
    "num_steps = 20\n",
    "steepness = 10\n",
    "\n",
    "transition_values = smooth_transition(start_stage, end_stage, num_steps, steepness)\n",
    "for i, (value, time_interval) in enumerate(transition_values):\n",
    "    print(f\"Step {i+1}: Stage Param = {value:.2f}, Time Interval = {time_interval:.2f}\")\n",
    "\n",
    "# Plotting the sigmoid for visualization\n",
    "x = np.linspace(-5, 5, 100)\n",
    "y = sigmoid(x, steepness)\n",
    "plt.plot(x, y)\n",
    "plt.title('Time Interval Sigmoid Function')\n",
    "plt.xlabel('Input')\n",
    "plt.ylabel('Output')\n",
    "plt.grid(True)\n",
    "plt.show()\n"
   ]
  },
  {
   "cell_type": "code",
   "execution_count": 54,
   "metadata": {},
   "outputs": [
    {
     "name": "stdout",
     "output_type": "stream",
     "text": [
      "[ 64.15824788  64.42834246  65.15111744  67.03525588  71.62898701\n",
      "  81.21225097  96.         110.78774903 120.37101299 124.96474412\n",
      " 126.84888256 127.57165754 128.        ]\n"
     ]
    },
    {
     "data": {
      "image/png": "[encoded data removed]",
      "text/plain": [
       "<Figure size 720x432 with 1 Axes>"
      ]
     },
     "metadata": {
      "needs_background": "light"
     },
     "output_type": "display_data"
    },
    {
     "data": {
      "text/plain": [
       "13"
      ]
     },
     "execution_count": 54,
     "metadata": {},
     "output_type": "execute_result"
    }
   ],
   "source": [
    "import numpy as np\n",
    "import matplotlib.pyplot as plt\n",
    "\n",
    "def sigmoid(x):\n",
    "    return 1 / (1 + np.exp(-x))\n",
    "\n",
    "def map_sigmoid_to_range(start, end, default_steps=20, min_step=5, steepness_range=(-6, 6)):\n",
    "    # Calculate the total change\n",
    "    total_change = end - start\n",
    "    \n",
    "    # Initial assumption for the number of steps\n",
    "    steps = default_steps\n",
    "\n",
    "    # Calculate initial step size\n",
    "    initial_step_size = total_change / steps\n",
    "\n",
    "    # Determine the adjusted number of steps based on the minimum step size\n",
    "    if initial_step_size < min_step:\n",
    "        steps = max(int(np.ceil(total_change / min_step)), 2)  # Ensure at least 2 steps\n",
    "\n",
    "    # Generate steps equally spaced values in the steepness range\n",
    "    x_values_adjusted = np.linspace(steepness_range[0], steepness_range[1], steps)\n",
    "\n",
    "    # Apply the sigmoid function to these x values\n",
    "    sigmoid_values_adjusted = sigmoid(x_values_adjusted)\n",
    "\n",
    "    # Map the sigmoid output to the range start to end\n",
    "    mapped_values_adjusted = start + (end - start) * sigmoid_values_adjusted\n",
    "\n",
    "    # Ensure the last value is exactly end\n",
    "    mapped_values_adjusted[-1] = end\n",
    "\n",
    "    return x_values_adjusted, mapped_values_adjusted\n",
    "\n",
    "# Example usage: Map the sigmoid function for a range of 64 to 128\n",
    "x_values_64_128, mapped_values_64_128 = map_sigmoid_to_range(64, 128)\n",
    "print(mapped_values_64_128)\n",
    "# Plotting for the range of 64 to 128\n",
    "plt.figure(figsize=(10, 6))\n",
    "plt.plot(x_values_64_128, mapped_values_64_128, label=\"64 to 128 Mapping\", marker='x')\n",
    "plt.title(\"Robot Parameter Transformation with Fixed Steepness\")\n",
    "plt.xlabel(\"Step\")\n",
    "plt.ylabel(\"Parameter Value\")\n",
    "plt.legend()\n",
    "plt.grid(True)\n",
    "plt.show()\n",
    "\n",
    "len(mapped_values_64_128)  # Display the adjusted number of steps\n"
   ]
  },
  {
   "cell_type": "code",
   "execution_count": 52,
   "metadata": {},
   "outputs": [
    {
     "data": {
      "image/png": "[encoded data removed]",
      "text/plain": [
       "<Figure size 720x432 with 1 Axes>"
      ]
     },
     "metadata": {
      "needs_background": "light"
     },
     "output_type": "display_data"
    },
    {
     "data": {
      "text/plain": [
       "(12, array([ 64,  65,  66,  69,  74,  83,  96, 109, 118, 123, 126, 128]))"
      ]
     },
     "execution_count": 52,
     "metadata": {},
     "output_type": "execute_result"
    }
   ],
   "source": [
    "def map_sigmoid_to_range_with_int_steps(start, end, min_step=5, steepness_factor=10):\n",
    "    # Calculate the total change and the base number of steps\n",
    "    total_change = end - start\n",
    "    base_steps = max(int(total_change / min_step), 2)  # Ensure at least 2 steps\n",
    "\n",
    "    # Generate integer steps from 0 to base_steps\n",
    "    int_steps = np.arange(base_steps)\n",
    "\n",
    "    # Apply a steepness factor to spread out the sigmoid values more evenly\n",
    "    x_values = steepness_factor * (int_steps / base_steps - 0.5)\n",
    "\n",
    "    # Apply the sigmoid function to these x values\n",
    "    sigmoid_values = sigmoid(x_values)\n",
    "\n",
    "    # Map the sigmoid output to the range start to end, ensuring integer steps\n",
    "    mapped_values = np.round(start + (end - start) * sigmoid_values).astype(int)\n",
    "\n",
    "    # Ensure the last value is exactly end\n",
    "    mapped_values[-1] = end\n",
    "\n",
    "    return int_steps, mapped_values\n",
    "\n",
    "# Example usage: Map the sigmoid function for a range of 64 to 128 with integer steps\n",
    "int_steps_64_128, mapped_values_64_128_int = map_sigmoid_to_range_with_int_steps(64, 128)\n",
    "\n",
    "# Plotting for the range of 64 to 128 with integer steps\n",
    "plt.figure(figsize=(10, 6))\n",
    "plt.plot(int_steps_64_128, mapped_values_64_128_int, label=\"64 to 128 Mapping with Int Steps\", marker='x')\n",
    "plt.title(\"Robot Parameter Transformation with Integer Steps\")\n",
    "plt.xlabel(\"Integer Step\")\n",
    "plt.ylabel(\"Parameter Value\")\n",
    "plt.legend()\n",
    "plt.grid(True)\n",
    "plt.show()\n",
    "\n",
    "len(mapped_values_64_128_int), mapped_values_64_128_int  # Display the number of steps and the steps\n"
   ]
  },
  {
   "cell_type": "code",
   "execution_count": 14,
   "metadata": {},
   "outputs": [
    {
     "name": "stdout",
     "output_type": "stream",
     "text": [
      "['', '', '', '', '']\n"
     ]
    },
    {
     "data": {
      "text/plain": [
       "<Figure size 640x480 with 0 Axes>"
      ]
     },
     "metadata": {},
     "output_type": "display_data"
    },
    {
     "data": {
      "image/png": "[encoded data removed]",
      "text/plain": [
       "<Figure size 1100x1200 with 5 Axes>"
      ]
     },
     "metadata": {},
     "output_type": "display_data"
    }
   ],
   "source": [
    "import math\n",
    "import matplotlib.pyplot as plt\n",
    "plt.subplots_adjust(hspace=2, wspace=1)\n",
    "fig = plt.figure(figsize=(11, 12))\n",
    "\n",
    "def sigmoid(x):\n",
    "    return 1 / (1 + math.exp(-x))\n",
    "\n",
    "axes = [_ for i in range(5)]\n",
    "print(axes)\n",
    "for p, s in enumerate([1, 3, 5, 7, 10]):\n",
    "    stepNum = 20\n",
    "    y = []\n",
    "    for i in range(stepNum):\n",
    "        temp = sigmoid(s * (i / stepNum - 0.5))\n",
    "        y.append(temp)\n",
    "        # print(temp)\n",
    "    x = [k for k in range(len(y))]\n",
    "    axes[p] = plt.subplot(3, 2, p+1)\n",
    "#     axes[p].set_xlim([0, 5])\n",
    "    axes[p].set_ylim([0, 1])\n",
    "    axes[p].plot(x, y)\n",
    "    axes[p].set_title(f'sigmoid {s}', y=-0.2)\n",
    "# start + (end - start)\n",
    "# plt.savefig('sigmoid.png', dpi=300, bbox_inches='tight')"
   ]
  },
  {
   "cell_type": "code",
   "execution_count": 31,
   "metadata": {},
   "outputs": [],
   "source": [
    "def sigmoid(x):\n",
    "    return 1 / (1 + math.exp(-x))\n",
    "\n",
    "# \"neutral\" :\n",
    "A = [86, 86, 128, 128, 128, 0, 0, 0, 0, 0, 0, 0, 0, 0, 0, 0, 0, 0, 0, 0, 0, 0, 0, 0, 0, 0, 0, 0, 0, 0, 0, 0, 128, 128, 122]\n",
    "# \"happiness\"\n",
    "B = [86, 86, 128, 128, 128, 255, 255, 0, 255, 0, 0, 0, 255, 0, 0, 255, 255, 255, 0, 0, 0, 255, 0, 0, 0, 0, 0, 0, 0, 0, 0, 0, 128, 128, 122]\n",
    "    \n",
    "stepNum = 25\n",
    "\n",
    "lastParams = A\n",
    "robotParams = B\n",
    "\n",
    "sigmoid_factor = 10\n",
    "\n",
    "paramset = []\n",
    "for i in range(0, stepNum):\n",
    "    frab = (i + 1) / float(stepNum)\n",
    "    currentParams = [0 for i in range(len(A))]\n",
    "\n",
    "    for k, v in enumerate(lastParams):\n",
    "        start = lastParams[k]\n",
    "        end = robotParams[k]\n",
    "#         print(start, end)\n",
    "        currentParams[k] = start + (end - start) * sigmoid(sigmoid_factor * (i / stepNum - 0.5))\n",
    "#     print('DEBUG:', currentParams)\n",
    "    paramset.append(currentParams)"
   ]
  },
  {
   "cell_type": "code",
   "execution_count": 32,
   "metadata": {},
   "outputs": [
    {
     "name": "stdout",
     "output_type": "stream",
     "text": [
      "1.706676985692638 252.4622905239394\n",
      "[0, 1, 2, 3, 4, 5, 6, 7, 8, 9, 10, 11, 12, 13, 14, 15, 16, 17, 18, 19, 20, 21, 22, 23, 24] [1.706676985692638, 2.5377094760606007, 3.767378081784629, 5.579724088713271, 8.235343498104886, 12.09359766027953, 17.630297187553438, 25.43637472551972, 36.1720215496244, 50.443108417561646, 68.58006244934876, 90.35764191242215, 114.79233068531812, 140.20766931468188, 164.6423580875779, 186.41993755065124, 204.55689158243837, 218.82797845037564, 229.56362527448027, 237.36970281244658, 242.9064023397205, 246.7646565018951, 249.4202759112867, 251.23262191821536, 252.4622905239394]\n"
     ]
    },
    {
     "data": {
      "image/png": "[encoded data removed]",
      "text/plain": [
       "<Figure size 640x480 with 1 Axes>"
      ]
     },
     "metadata": {},
     "output_type": "display_data"
    }
   ],
   "source": [
    "print(y[0], y[-1])\n",
    "y = [i[5] for i in paramset]\n",
    "x = [i for i in range(len(y))]\n",
    "print(x, y)\n",
    "plt.plot(x, y)\n",
    "plt.show()"
   ]
  },
  {
   "cell_type": "code",
   "execution_count": null,
   "metadata": {},
   "outputs": [],
   "source": [
    "\n",
    "\n",
    "\n",
    "\n",
    "print(len(mypose))"
   ]
  },
  {
   "cell_type": "markdown",
   "metadata": {},
   "source": [
    "# recover from "
   ]
  },
  {
   "cell_type": "code",
   "execution_count": 6,
   "metadata": {},
   "outputs": [],
   "source": [
    "# build my customize \n",
    "import copy\n",
    "import numpy as np\n",
    "import pandas as pd\n",
    "# mypath = '/home/dongagent/github/CameraControl/ros_dongagent_ws/src/dongagent_package/scripts/image_analysis/happiness/2023_12_25_17_03_54_happiness_50_axes_data.csv'\n",
    "# mypath = '/home/dongagent/github/CameraControl/ros_dongagent_ws/src/dongagent_package/scripts/image_analysis/happiness/2023_12_25_17_04_06_happiness_54_axes_data.csv'\n",
    "# mypath = '/home/dongagent/github/CameraControl/ros_dongagent_ws/src/dongagent_package/scripts/image_analysis/happiness/' + '2023_12_25_17_55_38_happiness_0_axes_data.csv'\n",
    "# tmp_an = pd.read_csv(mypath)\n",
    "# print(tmp_an)\n",
    "# print(tmp_an['x1'])\n",
    "# print(tmp_an['x6'])"
   ]
  },
  {
   "cell_type": "code",
   "execution_count": 11,
   "metadata": {},
   "outputs": [],
   "source": [
    "\n",
    "\n",
    "def checkParameters(robotParams):\n",
    "    # Axis (8, 9), (12, 13), (18, 19), (22, 23), \n",
    "    # we should use a * b = 0 for each group. \n",
    "    # Which means, take (8, 9) for example. \n",
    "    # When axis 8 has value, we should make sure axis 9 is set to 0. \n",
    "    if robotParams[8-1] * robotParams[9-1] != 0:\n",
    "        robotParams[np.random.choice([8-1, 9-1])] = 0\n",
    "    if robotParams[12-1] * robotParams[13-1] != 0:\n",
    "        robotParams[np.random.choice([12-1, 13-1])] = 0\n",
    "    if robotParams[18-1] * robotParams[19-1] != 0:\n",
    "        robotParams[np.random.choice([18-1, 19-1])] = 0\n",
    "\n",
    "    # This part might cause left not equal to right\n",
    "    # if robotParams[22-1] * robotParams[23-1] != 0:\n",
    "    #     robotParams[np.random.choice([22-1, 23-1])] = 0\n",
    "        \n",
    "    # x22 = x18, x23 = x19\n",
    "    robotParams[21] = robotParams[17]\n",
    "    robotParams[22] = robotParams[18]\n",
    "\n",
    "\n",
    "    assert robotParams[8-1] * robotParams[9-1] == 0\n",
    "    assert robotParams[12-1] * robotParams[13-1] == 0\n",
    "    assert robotParams[18-1] * robotParams[19-1] == 0\n",
    "    assert robotParams[22-1] * robotParams[23-1] == 0\n",
    "    return robotParams\n",
    "\n",
    "def fix_robot_param(fixedrobotcode):\n",
    "\n",
    "    # x2 = x1, use one axis for eyes upper lid\n",
    "    # fixedrobotcode[0] = 0\n",
    "    fixedrobotcode[1] = fixedrobotcode[0]\n",
    "    # x7 = x6, use one axis for eyes lower lid\n",
    "    fixedrobotcode[6] = fixedrobotcode[5]\n",
    "    # x12 = x8\n",
    "    fixedrobotcode[11] = fixedrobotcode[7]\n",
    "    # x13 = x9\n",
    "    fixedrobotcode[12] = fixedrobotcode[8]\n",
    "    # x14  = x10\n",
    "    fixedrobotcode[13] = fixedrobotcode[9]\n",
    "    # x17 = x16\n",
    "    fixedrobotcode[16] = fixedrobotcode[15]\n",
    "    # x22 = x18\n",
    "    fixedrobotcode[21] = fixedrobotcode[17]\n",
    "    # x23 = x19\n",
    "    fixedrobotcode[22] = fixedrobotcode[18]\n",
    "    # x24 = x20\n",
    "    fixedrobotcode[23] = fixedrobotcode[19]\n",
    "    # To open all axes\n",
    "    # x4 = x3\n",
    "    fixedrobotcode[3] = fixedrobotcode[2]\n",
    "    # x15 = x11\n",
    "    fixedrobotcode[14] = fixedrobotcode[10]\n",
    "    fixedrobotcode = checkParameters(fixedrobotcode)\n",
    "    return fixedrobotcode\n",
    "\n",
    "def recover_param_from_csv(csv_name, steps=20):\n",
    "    df = pd.read_csv(csv_name)\n",
    "    neutral = [86, 86, 128, 128, 128, 0, 0, 0, 0, 0, 0, 0, 0, 0, 0, 0, 0, 0, 0, 0, 0, 0, 0, 0, 0, 0, 0, 0, 0, 0, 0, 0, 128, 128, 95]\n",
    "    fixedrobotcode = copy.copy(neutral)\n",
    "    # dict = {}\n",
    "    for k,v in df.to_dict().items():\n",
    "    #     print('k,v', k,v)\n",
    "        if \"x\" in k:\n",
    "            fixedrobotcode[int(k[1:])-1] = round(v[0])\n",
    "    \n",
    "    fixedrobotcode = fix_robot_param(fixedrobotcode)\n",
    "\n",
    "    # control robot\n",
    "    rb.switch_to_customizedPose(fixedrobotcode)\n",
    "    global smoothSleepTime\n",
    "    smoothSleepTime = 0.03\n",
    "    returncode = rb.connect_ros(isSmoothly=True, isRecording=False, steps=steps) # isSmoothly = True ,isRecording = True\n",
    "    time.sleep(0.5)\n",
    "    \n"
   ]
  },
  {
   "cell_type": "code",
   "execution_count": 16,
   "metadata": {},
   "outputs": [
    {
     "name": "stdout",
     "output_type": "stream",
     "text": [
      "{'x1': 84, 'x2': 84, 'x3': 128, 'x4': 128, 'x5': 128, 'x6': 198, 'x7': 198, 'x8': 93, 'x9': 0, 'x10': 0, 'x11': 0, 'x12': 93, 'x13': 0, 'x14': 0, 'x15': 0, 'x16': 255, 'x17': 255, 'x18': 255, 'x19': 0, 'x20': 255, 'x21': 0, 'x22': 255, 'x23': 0, 'x24': 255, 'x25': 0, 'x26': 0, 'x27': 0, 'x28': 255, 'x29': 0, 'x30': 162, 'x31': 0, 'x32': 68, 'x33': 128, 'x34': 128, 'x35': 95}\n"
     ]
    }
   ],
   "source": [
    "print(rb.robotParams)"
   ]
  },
  {
   "cell_type": "code",
   "execution_count": 12,
   "metadata": {},
   "outputs": [
    {
     "name": "stdout",
     "output_type": "stream",
     "text": [
      "[INFO]Smoothly execution activated\n"
     ]
    }
   ],
   "source": [
    "fn = '2023_12_25_18_57_16_happiness_426_axes_data.csv'\n",
    "recover_param_from_csv(f'image_analysis/happiness/{fn}')"
   ]
  },
  {
   "cell_type": "code",
   "execution_count": 93,
   "metadata": {},
   "outputs": [
    {
     "name": "stdout",
     "output_type": "stream",
     "text": [
      "86\n",
      "255\n"
     ]
    }
   ],
   "source": [
    "# print(fixedrobotcode[0])\n",
    "print(fixedrobotcode[32-1])"
   ]
  },
  {
   "cell_type": "code",
   "execution_count": 89,
   "metadata": {},
   "outputs": [
    {
     "name": "stdout",
     "output_type": "stream",
     "text": [
      "[INFO]Smoothly execution activated\n",
      "returnnnnn\n",
      "[INFO]Smoothly execution activated\n"
     ]
    },
    {
     "data": {
      "text/plain": [
       "0"
      ]
     },
     "execution_count": 89,
     "metadata": {},
     "output_type": "execute_result"
    }
   ],
   "source": [
    "returnnnnn()\n",
    "# fixedrobotcode[0] = 86\n",
    "# fixedrobotcode[1] = fixedrobotcode[0]\n",
    "# fixedrobotcode[5] = 255\n",
    "# fixedrobotcode[6] = fixedrobotcode[5]\n",
    "rb.switch_to_customizedPose(fixedrobotcode)\n",
    "rb.connect_ros(True, False)"
   ]
  },
  {
   "cell_type": "code",
   "execution_count": null,
   "metadata": {},
   "outputs": [],
   "source": [
    "returnnnnn()"
   ]
  },
  {
   "cell_type": "code",
   "execution_count": 61,
   "metadata": {},
   "outputs": [
    {
     "name": "stdout",
     "output_type": "stream",
     "text": [
      "x1: 120, x2: 120, x3: 128, x4: 128, x5: 128, x6: 0, x7: 0, x8: 106, x9: 0, x10: 255, x11: 0, x12: 0, x13: 35, x14: 255, x15: 0, x16: 255, x17: 255, x18: 200, x19: 0, x20: 158, x21: 0, x22: 200, x23: 0, x24: 158, x25: 0, x26: 0, x27: 0, x28: 255, x29: 143, x30: 0, x31: 0, x32: 0, x33: 128, x34: 128, x35: 95, \n"
     ]
    }
   ],
   "source": [
    "axes_data = \"\"\n",
    "\n",
    "for i, axis in enumerate(fixedrobotcode):\n",
    "    axes_data += f\"x{i+1}: {axis}, \"\n",
    "print(axes_data)"
   ]
  },
  {
   "cell_type": "code",
   "execution_count": 2,
   "metadata": {},
   "outputs": [
    {
     "name": "stdout",
     "output_type": "stream",
     "text": [
      "[INFO]robot initializing...\n",
      "initialize_robotParams\n",
      "\n",
      "\n",
      "[INFO]Smoothly execution activated\n",
      "[INFO]return_to_stable_state, self.robotParams are all set\n",
      "[INFO]WebcamStreamWidget initializing...\n",
      "[INFO]WebcamStreamWidget initialized.\n",
      "[INFO]robot and webcam initialized.\n"
     ]
    }
   ],
   "source": [
    "from RCSystem import *\n",
    "import RCSystem\n",
    "import defaultPose\n",
    "import copy\n",
    "import time\n",
    "rb = RCSystem.robot(duration=3, webcam=True)"
   ]
  },
  {
   "cell_type": "code",
   "execution_count": 7,
   "metadata": {},
   "outputs": [],
   "source": [
    "def py_feat_analysis(img, target_emotion, is_save_csv=True):\n",
    "    from feat import Detector\n",
    "    '''\n",
    "        @img: file name \n",
    "        @target_emotion: Anger, Disgust, Fear, Happiness, Sadness, Surprise\n",
    "    '''\n",
    "    global detector\n",
    "    \n",
    "    image_prediction = detector.detect_image(img)\n",
    "    df = image_prediction.head()\n",
    "    if FEAT_VERSION == 0:\n",
    "        emo_df = df.iloc[-1:,-8:] # feat 0.3.7\n",
    "    elif FEAT_VERSION == 1:\n",
    "        emo_df = df.iloc[-1:,-9:-1] # feat 0.5.0\n",
    "    else:\n",
    "        raise Exception(\"FEAT_VERSION is not correct\")\n",
    "\n",
    "    if is_save_csv:\n",
    "        csv_name = img[:-4]+\".csv\"\n",
    "        csv_emotion_name = img[:-4]+\"_emotion.csv\"\n",
    "        df.to_csv(csv_name)\n",
    "        emo_df.to_csv(csv_emotion_name)\n",
    "    targetID = get_target(target_emotion)\n",
    "    if DEBUG > 0:\n",
    "        print(\"[INFO]py_feat_analysis: {}\".format(list(df[target_emotion])[0]))\n",
    "    # return emo_df.iloc[0,targetID]\n",
    "    return list(df[target_emotion])[0]"
   ]
  },
  {
   "cell_type": "code",
   "execution_count": 15,
   "metadata": {},
   "outputs": [
    {
     "name": "stdout",
     "output_type": "stream",
     "text": [
      "switch to:  anger\n",
      "[INFO]Smoothly execution activated\n",
      "[INFO]frame captured.\n"
     ]
    },
    {
     "name": "stderr",
     "output_type": "stream",
     "text": [
      "100%|███████████████████████████████████████████████████████████████████████████████████████████████████████████████| 1/1 [00:01<00:00,  1.09s/it]\n"
     ]
    },
    {
     "name": "stdout",
     "output_type": "stream",
     "text": [
      "py_feat_analysis result is:  0.02138419821858406\n",
      "switch to:  disgust\n",
      "[INFO]Smoothly execution activated\n",
      "[INFO]frame captured.\n"
     ]
    },
    {
     "name": "stderr",
     "output_type": "stream",
     "text": [
      "100%|███████████████████████████████████████████████████████████████████████████████████████████████████████████████| 1/1 [00:01<00:00,  1.07s/it]\n"
     ]
    },
    {
     "name": "stdout",
     "output_type": "stream",
     "text": [
      "py_feat_analysis result is:  0.03056081011891365\n",
      "switch to:  fear\n",
      "[INFO]Smoothly execution activated\n",
      "[INFO]frame captured.\n"
     ]
    },
    {
     "name": "stderr",
     "output_type": "stream",
     "text": [
      "100%|███████████████████████████████████████████████████████████████████████████████████████████████████████████████| 1/1 [00:01<00:00,  1.07s/it]\n"
     ]
    },
    {
     "name": "stdout",
     "output_type": "stream",
     "text": [
      "py_feat_analysis result is:  0.01827377825975418\n",
      "switch to:  happiness\n",
      "[INFO]Smoothly execution activated\n",
      "[INFO]frame captured.\n"
     ]
    },
    {
     "name": "stderr",
     "output_type": "stream",
     "text": [
      "100%|███████████████████████████████████████████████████████████████████████████████████████████████████████████████| 1/1 [00:01<00:00,  1.08s/it]\n"
     ]
    },
    {
     "name": "stdout",
     "output_type": "stream",
     "text": [
      "py_feat_analysis result is:  0.23581530153751373\n",
      "switch to:  sadness\n",
      "[INFO]Smoothly execution activated\n",
      "[INFO]frame captured.\n"
     ]
    },
    {
     "name": "stderr",
     "output_type": "stream",
     "text": [
      "100%|███████████████████████████████████████████████████████████████████████████████████████████████████████████████| 1/1 [00:01<00:00,  1.07s/it]\n"
     ]
    },
    {
     "name": "stdout",
     "output_type": "stream",
     "text": [
      "py_feat_analysis result is:  0.5012462735176086\n",
      "switch to:  surprise\n",
      "[INFO]Smoothly execution activated\n",
      "[INFO]frame captured.\n"
     ]
    },
    {
     "name": "stderr",
     "output_type": "stream",
     "text": [
      "100%|███████████████████████████████████████████████████████████████████████████████████████████████████████████████| 1/1 [00:01<00:00,  1.08s/it]\n"
     ]
    },
    {
     "name": "stdout",
     "output_type": "stream",
     "text": [
      "py_feat_analysis result is:  0.6261047720909119\n",
      "[INFO]Smoothly execution activated\n"
     ]
    },
    {
     "data": {
      "text/plain": [
       "0"
      ]
     },
     "execution_count": 15,
     "metadata": {},
     "output_type": "execute_result"
    }
   ],
   "source": [
    "\n",
    "headYaw_fix_flag = True\n",
    "headYaw_fix = 95\n",
    "global detector\n",
    "detector = Detector(emotion_model = \"resmasknet\", landmark_model='mobilefacenet')\n",
    "for k,v in defaultPose.prototypeFacialExpressions.items():\n",
    "    if k == 'neutral':\n",
    "        continue\n",
    "    print(\"switch to: \", k)\n",
    "    v[34] = 95\n",
    "    rb.switch_to_customizedPose(v)\n",
    "    rb.connect_ros(isSmoothly=True, isRecording=False) # isSmoothly = True ,isRecording = True\n",
    "    rb.take_picture_cv(isUsingCounter=False, appendix='{}_{}'.format(k, 'test'), folder=k)\n",
    "    time.sleep(3)\n",
    "    print(\"py_feat_analysis result is: \", py_feat_analysis(rb.fileName, k))\n",
    "\n",
    "    # save robot param data\n",
    "    robot_param = pd.DataFrame({k:[v] for k, v in rb.robotParams.items()})\n",
    "    robot_param_name = rb.readablefileName[:-4]+\"_rb_paramdata.csv\"\n",
    "    robot_param.to_csv(robot_param_name, index=False, sep=',')\n",
    "\n",
    "rb.switch_to_customizedPose(rb.AUPose['StandardPose'])\n",
    "rb.connect_ros(True, False)"
   ]
  },
  {
   "cell_type": "code",
   "execution_count": 17,
   "metadata": {},
   "outputs": [
    {
     "name": "stdout",
     "output_type": "stream",
     "text": [
      "switch to:  hotAnger\n",
      "[INFO]Smoothly execution activated\n",
      "[INFO]frame captured.\n"
     ]
    },
    {
     "name": "stderr",
     "output_type": "stream",
     "text": [
      "100%|███████████████████████████████████████████████████████████████████████████████████████████████████████████████| 1/1 [00:01<00:00,  1.11s/it]\n"
     ]
    },
    {
     "name": "stdout",
     "output_type": "stream",
     "text": [
      "py_feat_analysis result is:  0.1619025468826294\n",
      "switch to:  hotDisgust\n",
      "[INFO]Smoothly execution activated\n",
      "[INFO]frame captured.\n"
     ]
    },
    {
     "name": "stderr",
     "output_type": "stream",
     "text": [
      "100%|███████████████████████████████████████████████████████████████████████████████████████████████████████████████| 1/1 [00:01<00:00,  1.13s/it]\n"
     ]
    },
    {
     "name": "stdout",
     "output_type": "stream",
     "text": [
      "py_feat_analysis result is:  3.043833567062393e-05\n",
      "switch to:  hotFear\n",
      "[INFO]Smoothly execution activated\n",
      "[INFO]frame captured.\n"
     ]
    },
    {
     "name": "stderr",
     "output_type": "stream",
     "text": [
      "100%|███████████████████████████████████████████████████████████████████████████████████████████████████████████████| 1/1 [00:01<00:00,  1.12s/it]\n"
     ]
    },
    {
     "name": "stdout",
     "output_type": "stream",
     "text": [
      "py_feat_analysis result is:  0.39156797528266907\n",
      "switch to:  hotHappiness\n",
      "[INFO]Smoothly execution activated\n",
      "[INFO]frame captured.\n"
     ]
    },
    {
     "name": "stderr",
     "output_type": "stream",
     "text": [
      "100%|███████████████████████████████████████████████████████████████████████████████████████████████████████████████| 1/1 [00:01<00:00,  1.11s/it]\n"
     ]
    },
    {
     "name": "stdout",
     "output_type": "stream",
     "text": [
      "py_feat_analysis result is:  0.034188851714134216\n",
      "switch to:  hotSadness\n",
      "[INFO]Smoothly execution activated\n",
      "[INFO]frame captured.\n"
     ]
    },
    {
     "name": "stderr",
     "output_type": "stream",
     "text": [
      "100%|███████████████████████████████████████████████████████████████████████████████████████████████████████████████| 1/1 [00:01<00:00,  1.18s/it]\n"
     ]
    },
    {
     "name": "stdout",
     "output_type": "stream",
     "text": [
      "py_feat_analysis result is:  0.05745970457792282\n",
      "switch to:  hotSurprise\n",
      "[INFO]Smoothly execution activated\n",
      "[INFO]frame captured.\n"
     ]
    },
    {
     "name": "stderr",
     "output_type": "stream",
     "text": [
      "100%|███████████████████████████████████████████████████████████████████████████████████████████████████████████████| 1/1 [00:01<00:00,  1.18s/it]\n"
     ]
    },
    {
     "name": "stdout",
     "output_type": "stream",
     "text": [
      "py_feat_analysis result is:  0.9935128092765808\n",
      "[INFO]Smoothly execution activated\n"
     ]
    },
    {
     "data": {
      "text/plain": [
       "0"
      ]
     },
     "execution_count": 17,
     "metadata": {},
     "output_type": "execute_result"
    }
   ],
   "source": [
    "headYaw_fix_flag = True\n",
    "headYaw_fix = 95\n",
    "global detector\n",
    "detector = Detector(emotion_model = \"resmasknet\", landmark_model='mobilefacenet')\n",
    "for k,v in defaultPose.hotExpressions.items():\n",
    "    if k == 'neutral':\n",
    "        continue\n",
    "    print(\"switch to: \", k)\n",
    "    v[34] = 95\n",
    "    rb.switch_to_customizedPose(v)\n",
    "    rb.connect_ros(isSmoothly=True, isRecording=False) # isSmoothly = True ,isRecording = True\n",
    "    rb.take_picture_cv(isUsingCounter=False, appendix='{}_{}'.format(k, 'test'), folder=k)\n",
    "    time.sleep(3)\n",
    "    print(\"py_feat_analysis result is: \", py_feat_analysis(rb.fileName, k[3:].lower()))\n",
    "\n",
    "    # save robot param data\n",
    "    robot_param = pd.DataFrame({k:[v] for k, v in rb.robotParams.items()})\n",
    "    robot_param_name = rb.readablefileName[:-4]+\"_rb_paramdata.csv\"\n",
    "    robot_param.to_csv(robot_param_name, index=False, sep=',')\n",
    "\n",
    "rb.switch_to_customizedPose(rb.AUPose['StandardPose'])\n",
    "rb.connect_ros(True, False)\n"
   ]
  }
 ],
 "metadata": {
  "kernelspec": {
   "display_name": "py37pyfeat1",
   "language": "python",
   "name": "py37pyfeat1"
  },
  "language_info": {
   "codemirror_mode": {
    "name": "ipython",
    "version": 3
   },
   "file_extension": ".py",
   "mimetype": "text/x-python",
   "name": "python",
   "nbconvert_exporter": "python",
   "pygments_lexer": "ipython3",
   "version": "3.7.12"
  }
 },
 "nbformat": 4,
 "nbformat_minor": 4
}
