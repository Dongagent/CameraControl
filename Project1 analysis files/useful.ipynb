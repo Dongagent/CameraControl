{
 "cells": [
  {
   "cell_type": "markdown",
   "metadata": {},
   "source": [
    "# Tools"
   ]
  },
  {
   "cell_type": "markdown",
   "metadata": {},
   "source": [
    "## 1 Plot Fig "
   ]
  },
  {
   "cell_type": "code",
   "execution_count": 18,
   "metadata": {},
   "outputs": [],
   "source": [
    "import subprocess, re, copy\n",
    "import pandas as pd"
   ]
  },
  {
   "cell_type": "code",
   "execution_count": null,
   "metadata": {},
   "outputs": [],
   "source": [
    "import subprocess, re, copy\n",
    "import pandas as pd\n",
    "\n",
    "def plotOneFigure(fileName):\n",
    "    csv_data = pd.read_csv(fileName, index_col='frame')\n",
    "    \n",
    "    temp_r = csv_data.iloc[:, -35:-18]\n",
    "    temp_c = csv_data.iloc[:, -18:]\n",
    "    \n",
    "    plt_r = temp_r.plot(figsize=(18, 13))\n",
    "    fig_r = plt_r.get_figure()\n",
    "    fig_r.patch.set_facecolor('white')\n",
    "    fig_r_Name = fileName + '_r.png'\n",
    "    fig_r.savefig(fig_r_Name, dpi=300)\n",
    "    fig_r.clf() # not show\n",
    "\n",
    "    axs = temp_c.plot(figsize=(5, 10), subplots=True)\n",
    "    fig_c = axs[0].get_figure()\n",
    "    fig_c.patch.set_facecolor('white')\n",
    "    fig_c_Name = fileName + '_c.png'\n",
    "    fig_c.savefig(fig_c_Name, dpi=300)\n",
    "    fig_c.clf() # not show\n",
    "\n",
    "# Test\n",
    "plotOneFigure(\"default.csv\")"
   ]
  },
  {
   "cell_type": "markdown",
   "metadata": {},
   "source": [
    "---\n",
    "## 2 Process Openface"
   ]
  },
  {
   "cell_type": "markdown",
   "metadata": {},
   "source": [
    "### 2.1 OneFile"
   ]
  },
  {
   "cell_type": "code",
   "execution_count": null,
   "metadata": {},
   "outputs": [],
   "source": [
    "%%bash\n",
    "#!/bin/bash\n",
    "\n",
    "# Enter your filename and output_path\n",
    "!fileName=\"\"\n",
    "!output_path=\n",
    "!output_path=${output_path:-temp_path_processed}\n",
    "# process\n",
    "!./bin/FeatureExtraction -f $fileName -aus -out_dir $output_path"
   ]
  },
  {
   "cell_type": "markdown",
   "metadata": {},
   "source": [
    "### 2.2 AllFiles"
   ]
  },
  {
   "cell_type": "code",
   "execution_count": 31,
   "metadata": {},
   "outputs": [
    {
     "name": "stdout",
     "output_type": "stream",
     "text": [
      "/home/dongagent/github/CameraControl/VIDEO/ver  2.0/250ms/hotExpressions\n",
      "/home/dongagent/github/CameraControl/VIDEO/ver  2.0/250ms/PrototypeFacialExpressions\n",
      "/home/dongagent/github/CameraControl/VIDEO/ver  2.0/500ms/hotExpressions\n",
      "/home/dongagent/github/CameraControl/VIDEO/ver  2.0/500ms/PrototypeFacialExpressions\n",
      "/home/dongagent/github/CameraControl/VIDEO/ver  2.0/1000ms/hotFacialExpression\n",
      "/home/dongagent/github/CameraControl/VIDEO/ver  2.0/1000ms/Prototype AU\n",
      "/home/dongagent/github/CameraControl/VIDEO/ver  2.0/1000ms/prototypeFacialExpressions\n",
      "/home/dongagent/github/CameraControl/VIDEO/ver  2.0/2000ms/hotExpressions\n",
      "/home/dongagent/github/CameraControl/VIDEO/ver  2.0/2000ms/PrototypeFacialExpressions\n"
     ]
    }
   ],
   "source": [
    "import subprocess, re, copy\n",
    "import pandas as pd\n",
    "\n",
    "directory = \"/home/dongagent/github/CameraControl/VIDEO/ver  2.0/\"\n",
    "\n",
    "fileNames = [directory + str(250 * (2**i)) + \"ms/\"  for i in range(4)]\n",
    "\n",
    "for i in fileNames:\n",
    "    cmd = \"ls '{}'\".format(i)\n",
    "    result = subprocess.Popen(cmd, shell=True, stdout=subprocess.PIPE, encoding=\"utf-8\")\n",
    "    for j in result.stdout.readlines():\n",
    "        temp = i + j.split('\\n')[0]\n",
    "        print(temp)\n",
    "#     print(result.stdout.readlines())\n",
    "    \n",
    "\n"
   ]
  },
  {
   "cell_type": "code",
   "execution_count": 10,
   "metadata": {},
   "outputs": [
    {
     "name": "stdout",
     "output_type": "stream",
     "text": [
      "1000ms\t2000ms\t250ms  500ms\n"
     ]
    }
   ],
   "source": [
    "!cd \"/home/dongagent/github/CameraControl/VIDEO/ver  2.0\" && ls"
   ]
  },
  {
   "cell_type": "code",
   "execution_count": null,
   "metadata": {},
   "outputs": [],
   "source": []
  },
  {
   "cell_type": "code",
   "execution_count": null,
   "metadata": {},
   "outputs": [],
   "source": [
    "%%bash\n",
    "cd /home/dongagent/Downloads/OpenFace/build\n",
    "\n",
    "inputpath=/home/dongagent/github/CameraControl/humanData/fixed\n",
    "\n",
    "bash OpenFaceScript.sh $inputpath $outputpath\n"
   ]
  },
  {
   "cell_type": "code",
   "execution_count": null,
   "metadata": {},
   "outputs": [],
   "source": []
  },
  {
   "cell_type": "markdown",
   "metadata": {},
   "source": [
    "## 3 Video Processing"
   ]
  },
  {
   "cell_type": "markdown",
   "metadata": {},
   "source": [
    "### 3.1 upside down"
   ]
  },
  {
   "cell_type": "code",
   "execution_count": null,
   "metadata": {},
   "outputs": [],
   "source": [
    "%%bash\n",
    "targetFolder=\"/home/dongagent/github/CameraControl/humanData/\"\n",
    "fixedFolder=fixed/\n",
    "tail=*\n",
    "fileNames=`ls -d $targetFolder$tail`\n",
    "for j in ${fileNames[@]}; \n",
    "do \n",
    "    # echo $j\n",
    "    if [[ $j =~ .mkv$ ]]; then\n",
    "        \n",
    "    \n",
    "        outputName=${j:0:47}$fixedFolder${j:47:0-4}_fixed${j:0-4}\n",
    "    #     echo $outputName\n",
    "\n",
    "        ffmpeg -i $j -vcodec h264 -q:v 0 -vf vflip $outputName\n",
    "    fi\n",
    "done\n"
   ]
  },
  {
   "cell_type": "markdown",
   "metadata": {},
   "source": [
    "---"
   ]
  },
  {
   "cell_type": "code",
   "execution_count": 2,
   "metadata": {},
   "outputs": [
    {
     "name": "stdout",
     "output_type": "stream",
     "text": [
      "Windows-10-10.0.19041-SP0\n"
     ]
    }
   ],
   "source": [
    "import platform\n",
    "print(platform.platform())"
   ]
  },
  {
   "cell_type": "code",
   "execution_count": null,
   "metadata": {},
   "outputs": [],
   "source": [
    "ffmpeg -f dshow -framerate 60 -video_size 1280x720 -vcodec mjpeg -t 3 -i video='C922 Pro Stream Webcam' -t 3 -c copy 2021_05_19_14_39_48_No1.mkv"
   ]
  },
  {
   "cell_type": "code",
   "execution_count": 7,
   "metadata": {},
   "outputs": [
    {
     "name": "stdout",
     "output_type": "stream",
     "text": [
      "[b'Microsoft Windows [\\xb0\\xe6\\xb1\\xbe 10.0.19042.985]\\r\\n', b'(c) Microsoft Corporation\\xa1\\xa3\\xb1\\xa3\\xc1\\xf4\\xcb\\xf9\\xd3\\xd0\\xc8\\xa8\\xc0\\xfb\\xa1\\xa3\\r\\n', b'\\r\\n', b'(py37) c:\\\\Users\\\\mlDSY\\\\Google \\xd4\\xc6\\xb6\\xcb\\xd3\\xb2\\xc5\\xcc\\\\G_Drive\\\\Riken Research Material\\\\github\\\\CameraControl>']\n"
     ]
    }
   ],
   "source": [
    "import subprocess\n",
    "process = subprocess.Popen([\"cmd\", \"ls\"], stdout=subprocess.PIPE)\n",
    "if process.returncode != 0:\n",
    "    print(process.stdout.readlines())"
   ]
  },
  {
   "cell_type": "markdown",
   "metadata": {},
   "source": [
    "# All AU names"
   ]
  },
  {
   "cell_type": "code",
   "execution_count": 8,
   "metadata": {},
   "outputs": [
    {
     "name": "stdout",
     "output_type": "stream",
     "text": [
      "\"AU1\": [10, 14],\n",
      "\"AU2\": [8, 12],\n",
      "\"AU4\": [11, 15],\n",
      "\"AU5\": [1, 2],\n",
      "\"AU6\": [6, 9, 7, 13],\n",
      "\"AU7\": [6, 7],\n",
      "\"AU10\": [30],\n",
      "\"AU12\": [18, 22],\n",
      "\"LAU12\": [16, 17],\n",
      "\"AU14\": [21, 25],\n",
      "\"AU15\": [19, 23],\n",
      "\"AU16\": [29],\n",
      "\"AU18\": [26, 27],\n",
      "\"AU20\": [20, 24],\n",
      "\"AU22\": [26, 27, 29],\n",
      "\"AU25\": [28, 29, 32],\n",
      "\"AU26\": [32],\n",
      "\"AU43\": [1, 2],\n"
     ]
    }
   ],
   "source": [
    "all_a = [\"AU1\", \n",
    "\"AU2\",\n",
    "\"AU4\",\n",
    "\"AU5\",\n",
    "\"AU6\",\n",
    "\"AU7\",\n",
    "\"AU8\",\n",
    "\"AU9\",\n",
    "\"AU10\",\n",
    "\"AU11\",\n",
    "\"AU12\",\n",
    "\"LAU12\",\n",
    "\"AU13\",\n",
    "\"AU14\",\n",
    "\"AU15\",\n",
    "\"AU16\",\n",
    "\"AU17\",\n",
    "\"AU18\",\n",
    "\"AU20\",\n",
    "\"AU22\",\n",
    "\"AU23\",\n",
    "\"AU24\",\n",
    "\"AU25\",\n",
    "\"AU26\",\n",
    "\"AU28\",\n",
    "\"AU43\"\n",
    "]\n",
    "a =  [\"AU1\", \n",
    "\"AU2\",\n",
    "\"AU4\",\n",
    "\"AU5\",\n",
    "\"AU6\",\n",
    "\"AU7\",\n",
    "\"AU10\",\n",
    "\"AU12\",\n",
    "\"LAU12\",\n",
    "\"AU14\",\n",
    "\"AU15\",\n",
    "\"AU16\",\n",
    "\"AU18\",\n",
    "\"AU20\",\n",
    "\"AU22\",\n",
    "\"AU25\",\n",
    "\"AU26\",\n",
    "\"AU43\"\n",
    "]\n",
    "b = [[10, 14], [8, 12], [11, 15], [1,2], [6,9,7,13], [6, 7], [30], [18,22], [16,17], [21,25], [19,23], [29], [26,27], [20,24], [26,27,29], [28,29,32], [32], [1,2]]  \n",
    "for i in range(len(a)):\n",
    "    print(\"\\\"{}\\\": {},\".format(a[i], b[i]))"
   ]
  },
  {
   "cell_type": "markdown",
   "metadata": {},
   "source": [
    "# Generating default pose"
   ]
  },
  {
   "cell_type": "code",
   "execution_count": 3,
   "metadata": {},
   "outputs": [
    {
     "name": "stdout",
     "output_type": "stream",
     "text": [
      "Anger, Disgust, Fear, Happiness, Sadness, Surprise\n",
      "anger, disgust, fear, happiness, sadness, surprise\n"
     ]
    }
   ],
   "source": [
    "print('Anger, Disgust, Fear, Happiness, Sadness, Surprise')\n",
    "print('Anger, Disgust, Fear, Happiness, Sadness, Surprise'.lower())"
   ]
  },
  {
   "cell_type": "code",
   "execution_count": 5,
   "metadata": {},
   "outputs": [
    {
     "name": "stdout",
     "output_type": "stream",
     "text": [
      "['netural', 'anger', 'disgust', 'fear', 'happyness', 'sadness', 'suprise']\n",
      "changedAxes anger [1, 2, 6, 7, 11, 15]\n",
      "changedAxes disgust [30]\n",
      "changedAxes fear [1, 2, 8, 10, 11, 12, 14, 15, 20, 24]\n",
      "changedAxes happyness [6, 7, 9, 13, 18, 22]\n",
      "changedAxes sadness [10, 11, 14, 15, 19, 23]\n",
      "changedAxes surprise [1, 2, 8, 10, 12, 14]\n",
      "changedAxes_set: {1, 2, 6, 7, 8, 9, 10, 11, 12, 13, 14, 15, 18, 19, 20, 22, 23, 24, 30}\n",
      "anger\n",
      "Your AU set is: ['AU4', 'AU5', 'AU7']\n",
      "disgust\n",
      "Your AU set is: ['AU10']\n",
      "fearResult\n",
      "Your AU set is: ['AU1', 'AU2', 'AU4', 'AU5', 'AU20']\n",
      "happynessResult\n",
      "Your AU set is: ['AU6', 'AU12']\n",
      "sadnessResult\n",
      "Your AU set is: ['AU1', 'AU4', 'AU15']\n",
      "surpriseResult\n",
      "Your AU set is: ['AU1', 'AU2', 'AU5']\n",
      "surpriseResultFixed [0, 0, 128, 128, 128, 0, 0, 255, 0, 128, 0, 255, 0, 128, 0, 0, 0, 0, 0, 0, 0, 0, 0, 0, 0, 0, 0, 0, 0, 0, 0, 0, 128, 128, 122]\n",
      "happynessResultFixed [86, 86, 128, 128, 128, 255, 255, 0, 255, 0, 0, 0, 255, 0, 0, 255, 255, 255, 0, 0, 0, 255, 0, 0, 0, 0, 0, 0, 0, 0, 0, 0, 128, 128, 122]\n",
      "\"hotAnger\" : [0, 0, 128, 128, 128, 255, 255, 0, 0, 0, 255, 0, 0, 0, 255, 0, 0, 0, 0, 0, 0, 0, 0, 0, 0, 0, 0, 255, 255, 0, 0, 255, 128, 128, 122],\n",
      "\"hotDisgust\" : [86, 86, 128, 128, 128, 0, 0, 0, 0, 0, 0, 0, 0, 0, 0, 0, 0, 0, 0, 0, 0, 0, 0, 0, 0, 0, 0, 255, 255, 255, 0, 255, 128, 128, 122],\n",
      "\"hotFear\" : [0, 0, 128, 128, 128, 0, 0, 255, 0, 255, 255, 255, 0, 255, 255, 0, 0, 0, 0, 255, 0, 0, 0, 255, 0, 0, 0, 255, 255, 0, 0, 255, 128, 128, 122],\n",
      "\"hotHappyness\" : [86, 86, 128, 128, 128, 255, 255, 0, 255, 0, 0, 0, 255, 0, 0, 0, 0, 255, 0, 0, 0, 255, 0, 0, 0, 0, 0, 255, 255, 0, 0, 255, 128, 128, 122],\n",
      "\"hotSadness\" : [86, 86, 128, 128, 128, 0, 0, 0, 0, 255, 255, 0, 0, 255, 255, 0, 0, 0, 255, 0, 0, 0, 255, 0, 0, 0, 0, 255, 255, 0, 0, 255, 128, 128, 122],\n",
      "\"hotsurprise\" : [0, 0, 128, 128, 128, 0, 0, 255, 0, 255, 0, 255, 0, 255, 0, 0, 0, 0, 0, 0, 0, 0, 0, 0, 0, 0, 0, 255, 255, 0, 0, 255, 128, 128, 122]\n",
      "\n",
      "\"netural\" : [86, 86, 128, 128, 128, 0, 0, 0, 0, 0, 0, 0, 0, 0, 0, 0, 0, 0, 0, 0, 0, 0, 0, 0, 0, 0, 0, 0, 0, 0, 0, 0, 128, 128, 122],\n",
      "\"anger\" : [0, 0, 128, 128, 128, 255, 255, 0, 0, 0, 255, 0, 0, 0, 255, 0, 0, 0, 0, 0, 0, 0, 0, 0, 0, 0, 0, 0, 0, 0, 0, 0, 128, 128, 122],\n",
      "\"disgust\" : [86, 86, 128, 128, 128, 0, 0, 0, 0, 0, 0, 0, 0, 0, 0, 0, 0, 0, 0, 0, 0, 0, 0, 0, 0, 0, 0, 0, 0, 255, 0, 0, 128, 128, 122],\n",
      "\"fear\" : [0, 0, 128, 128, 128, 0, 0, 255, 0, 255, 255, 255, 0, 255, 255, 0, 0, 0, 0, 255, 0, 0, 0, 255, 0, 0, 0, 0, 0, 0, 0, 0, 128, 128, 122],\n",
      "\"happyness\" : [86, 86, 128, 128, 128, 255, 255, 0, 255, 0, 0, 0, 255, 0, 0, 0, 0, 255, 0, 0, 0, 255, 0, 0, 0, 0, 0, 0, 0, 0, 0, 0, 128, 128, 122],\n",
      "\"sadness\" : [86, 86, 128, 128, 128, 0, 0, 0, 0, 255, 255, 0, 0, 255, 255, 0, 0, 0, 255, 0, 0, 0, 255, 0, 0, 0, 0, 0, 0, 0, 0, 0, 128, 128, 122],\n",
      "\"suprise\" : [0, 0, 128, 128, 128, 0, 0, 255, 0, 255, 0, 255, 0, 255, 0, 0, 0, 0, 0, 0, 0, 0, 0, 0, 0, 0, 0, 0, 0, 0, 0, 0, 128, 128, 122],\n"
     ]
    }
   ],
   "source": [
    "import defaultPose\n",
    "import copy\n",
    "import numpy as np\n",
    "\n",
    "def change(au, pos):\n",
    "    for i in pos:\n",
    "        au[i - 1] = 255\n",
    "\n",
    "df = defaultPose.actionUnitParams['StandardPose']\n",
    "AU1 = copy.copy(df) # 10, 14\n",
    "AU2 = copy.copy(df) # 8, 12\n",
    "AU4 = copy.copy(df) # 11, 15\n",
    "AU5 = copy.copy(df) # 1,2 （Notice: from 86 to 0）\n",
    "AU6 = copy.copy(df) # 6+9,7+13\n",
    "AU7 = copy.copy(df) # 6, 7\n",
    "AU10 = copy.copy(df) # 30\n",
    "AU12 = copy.copy(df) # 18,22\n",
    "LAU12 = copy.copy(df) # 16,17\n",
    "AU14 = copy.copy(df) # 21,25\n",
    "AU15 = copy.copy(df) # 19,23\n",
    "AU16 = copy.copy(df) # 29\n",
    "AU18 = copy.copy(df) # 26,27\n",
    "AU20 = copy.copy(df) # 20,24\n",
    "AU22 = copy.copy(df) # 26,27,29\n",
    "AU25 = copy.copy(df) # 28,29,32\n",
    "AU26 = copy.copy(df) # 32\n",
    "AU43 = copy.copy(df) # 1,2\n",
    "\n",
    "change(AU1, [10, 14])\n",
    "change(AU2, [8, 12])\n",
    "change(AU4, [11, 15])\n",
    "AU5[0], AU5[1] = 0, 0\n",
    "\n",
    "\n",
    "RobotAUAxes = {\n",
    "    \"AU1\": [10, 14],\n",
    "    \"AU2\": [8, 12],\n",
    "    \"AU4\": [11, 15],\n",
    "    \"AU5\": [1, 2],\n",
    "    \"AU6\": [6, 9, 7, 13],\n",
    "    \"AU7\": [6, 7],\n",
    "    \"AU10\": [30],\n",
    "    \"AU12\": [18, 22],\n",
    "    \"LAU12\": [16, 17],\n",
    "    \"AU14\": [21, 25],\n",
    "    \"AU15\": [19, 23],\n",
    "    \"AU16\": [29],\n",
    "    \"AU18\": [26, 27],\n",
    "    \"AU20\": [20, 24],\n",
    "    \"AU22\": [26, 27, 29],\n",
    "    \"AU25\": [28, 29, 32],\n",
    "    \"AU26\": [32],\n",
    "    \"AU43\": [1, 2],\n",
    "}\n",
    "\n",
    "\n",
    "for i in [[10, 14], [8, 12], [11, 15], [6,9,7,13], [6, 7], [30], [18,22], [16,17], [21,25], [19,23], [29], [26,27], [20,24], [26,27,29], [28,29,32], [32], [1,2]]:\n",
    "    # print(i)\n",
    "    temp = copy.deepcopy(df)\n",
    "    # print(change(temp, i))\n",
    "\n",
    "# print(defaultPose.actionUnitParams['StandardPose'])\n",
    "# print(AU1)\n",
    "\n",
    "\n",
    "# AUNumber for emotion names\n",
    "emotionNames = list(defaultPose.prototypeFacialExpressions.keys())\n",
    "print(emotionNames)\n",
    "anger = [4, 5, 7] \n",
    "disgust = [10] # wiki 9, 15, 17\n",
    "fear = [1, 2, 4, 5, 20] # wiki no 7, 26\n",
    "happyness = [6, 12] # LAU12 \"LAU12\" by numba\n",
    "sadness = [1, 4, 15]\n",
    "surprise = [1, 2, 5]\n",
    "\n",
    "def getAUCombinationControlCode(combinations, sdPose):\n",
    "    # combitions is a list like: [4, 5, 7] for anger\n",
    "    \n",
    "    tempResult = np.array(copy.copy(sdPose))\n",
    "    tempAUset = []\n",
    "    for i in combinations:\n",
    "        if i == \"LAU12\":\n",
    "            tempAUset.append(i)\n",
    "            continue\n",
    "        temp = \"AU{}\".format(i)\n",
    "        tempAUset.append(temp)\n",
    "    print(\"Your AU set is:\", tempAUset)\n",
    "    for i in tempAUset:\n",
    "        tempResult += np.array(defaultPose.actionUnitParams[i])\n",
    "        tempResult -= np.array(df)\n",
    "    return tempResult\n",
    "        \n",
    "def getChangedAxes(emo_AU):\n",
    "    tempAUset = []\n",
    "    for i in emo_AU:\n",
    "        if i == \"LAU12\":\n",
    "            tempAUset.append(i)\n",
    "            continue\n",
    "        temp = \"AU{}\".format(i)\n",
    "        tempAUset.append(temp)\n",
    "    changedAxes = []\n",
    "    for j in tempAUset:\n",
    "        for x in RobotAUAxes[j]:\n",
    "            changedAxes.append(x)\n",
    "    return changedAxes\n",
    "changedAxes_anger = getChangedAxes(anger)\n",
    "changedAxes_anger.sort()\n",
    "changedAxes_disgust = getChangedAxes(disgust)\n",
    "# changedAxes_disgust = [19, 23, 30]\n",
    "changedAxes_fear = getChangedAxes(fear)\n",
    "changedAxes_fear.sort()\n",
    "changedAxes_happyness = getChangedAxes(happyness)\n",
    "changedAxes_happyness.sort()\n",
    "changedAxes_sadness = getChangedAxes(sadness)\n",
    "changedAxes_sadness.sort()\n",
    "changedAxes_surprise = getChangedAxes(surprise)\n",
    "changedAxes_surprise.sort()\n",
    "\n",
    "print('changedAxes anger',changedAxes_anger)\n",
    "print('changedAxes disgust', changedAxes_disgust)\n",
    "print('changedAxes fear', changedAxes_fear)\n",
    "print('changedAxes happyness', changedAxes_happyness)\n",
    "print('changedAxes sadness', changedAxes_sadness)\n",
    "print('changedAxes surprise', changedAxes_surprise)\n",
    "\n",
    "changedAxes_set = set()\n",
    "for x in changedAxes_anger:\n",
    "    changedAxes_set.add(x)\n",
    "for x in changedAxes_disgust:\n",
    "    changedAxes_set.add(x)\n",
    "for x in changedAxes_fear:\n",
    "    changedAxes_set.add(x)\n",
    "for x in changedAxes_happyness:\n",
    "    changedAxes_set.add(x)\n",
    "for x in changedAxes_sadness:\n",
    "    changedAxes_set.add(x)\n",
    "for x in changedAxes_surprise:\n",
    "    changedAxes_set.add(x)\n",
    "print(\"changedAxes_set:\", changedAxes_set)\n",
    "\n",
    "print('anger')\n",
    "angerResult = list(getAUCombinationControlCode(anger, df))\n",
    "print('disgust')\n",
    "disgustResult = list(getAUCombinationControlCode(disgust, df))\n",
    "print('fearResult')\n",
    "fearResult = list(getAUCombinationControlCode(fear, df))\n",
    "print('happynessResult')\n",
    "happynessResult = list(getAUCombinationControlCode(happyness, df))\n",
    "print('sadnessResult')\n",
    "sadnessResult = list(getAUCombinationControlCode(sadness, df))\n",
    "print('surpriseResult')\n",
    "surpriseResult = list(getAUCombinationControlCode(surprise, df))\n",
    "\n",
    "def changeAU(robotCode, au, value):\n",
    "    temp = copy.copy(robotCode)\n",
    "    for i in au:\n",
    "        temp[i-1] = value\n",
    "    return temp\n",
    "\n",
    "surpriseResultFixed = changeAU(surpriseResult, RobotAUAxes[\"AU1\"], 128)\n",
    "happynessResultFixed = changeAU(happynessResult, RobotAUAxes[\"LAU12\"], 255)\n",
    "\n",
    "print(\"surpriseResultFixed\", surpriseResultFixed)\n",
    "print(\"happynessResultFixed\", happynessResultFixed)\n",
    "#     surpriseResult = \n",
    "\n",
    "hotAnger = changeAU(angerResult, RobotAUAxes[\"AU25\"], 255)\n",
    "hotDisgust = changeAU(disgustResult, RobotAUAxes[\"AU25\"], 255)\n",
    "hotFear = changeAU(fearResult, RobotAUAxes[\"AU25\"], 255)\n",
    "hotHappyness = changeAU(happynessResult, RobotAUAxes[\"AU25\"], 255)\n",
    "hotSadness = changeAU(sadnessResult, RobotAUAxes[\"AU25\"], 255)\n",
    "hotsurprise = changeAU(surpriseResult, RobotAUAxes[\"AU25\"], 255)\n",
    "\n",
    "print(\"\\\"hotAnger\\\" : {},\\n\\\"hotDisgust\\\" : {},\\n\\\"hotFear\\\" : {},\\n\\\"hotHappyness\\\" : {},\\n\\\"hotSadness\\\" : {},\\n\\\"hotsurprise\\\" : {}\".format(hotAnger, hotDisgust, hotFear, hotHappyness, hotSadness, hotsurprise))\n",
    "\n",
    "print()\n",
    "a = list([df, angerResult, disgustResult, fearResult, happynessResult, sadnessResult, surpriseResult])\n",
    "for i in range(len(emotionNames)):\n",
    "    print(\"\\\"{}\\\" : {},\".format(emotionNames[i], a[i]))\n",
    "\n",
    "\n",
    "# temp = copy.copy(df)\n",
    "# print(\"smile: [{}]\".format(change(temp, )))\n",
    "\n"
   ]
  },
  {
   "cell_type": "markdown",
   "metadata": {},
   "source": [
    "# Draw AU Figure"
   ]
  },
  {
   "cell_type": "code",
   "execution_count": 29,
   "metadata": {},
   "outputs": [
    {
     "name": "stdout",
     "output_type": "stream",
     "text": [
      "8\n"
     ]
    }
   ],
   "source": [
    "import numpy as np\n",
    "print(np.random.choice([7,8]))"
   ]
  },
  {
   "cell_type": "code",
   "execution_count": 33,
   "metadata": {},
   "outputs": [
    {
     "ename": "AssertionError",
     "evalue": "1 不等于 2",
     "output_type": "error",
     "traceback": [
      "\u001b[0;31m---------------------------------------------------------------------------\u001b[0m",
      "\u001b[0;31mAssertionError\u001b[0m                            Traceback (most recent call last)",
      "\u001b[0;32m<ipython-input-33-791fb45a4dbb>\u001b[0m in \u001b[0;36m<module>\u001b[0;34m\u001b[0m\n\u001b[0;32m----> 1\u001b[0;31m \u001b[0;32massert\u001b[0m \u001b[0;36m1\u001b[0m\u001b[0;34m==\u001b[0m\u001b[0;36m2\u001b[0m\u001b[0;34m,\u001b[0m \u001b[0;34m'1 不等于 2'\u001b[0m\u001b[0;34m\u001b[0m\u001b[0;34m\u001b[0m\u001b[0m\n\u001b[0m",
      "\u001b[0;31mAssertionError\u001b[0m: 1 不等于 2"
     ]
    }
   ],
   "source": [
    "assert 1==2, '1 不等于 2'"
   ]
  },
  {
   "cell_type": "code",
   "execution_count": 45,
   "metadata": {},
   "outputs": [
    {
     "name": "stdout",
     "output_type": "stream",
     "text": [
      "1\n",
      "{'x1': 2, 'x2': 3, 'x3': 4, 'x4': 5}\n",
      "{'b': 1, 'k': {'x1': 2, 'x2': 3, 'x3': 4, 'x4': 5}}\n"
     ]
    }
   ],
   "source": [
    "def funa(**k):\n",
    "    print(k)\n",
    "    \n",
    "def funb(b, **k):\n",
    "    print(b)\n",
    "    print(k)\n",
    "    return funa(b=b, k=k)\n",
    "\n",
    "funb(b=1, x1=2, x2=3, x3=4, x4=5)"
   ]
  },
  {
   "cell_type": "code",
   "execution_count": 51,
   "metadata": {},
   "outputs": [
    {
     "name": "stdout",
     "output_type": "stream",
     "text": [
      "0 0 0 255 255\n",
      "[1, 2, 6, 7, 11, 15]\n",
      "[6, 7, 9, 13, 16, 17, 18, 22]\n"
     ]
    }
   ],
   "source": [
    "a = [0, 0, 128, 128, 128, 255, 255, 0, 0, 0, 255, 0, 0, 0, 255, 0, 0, 0, 0, 0, 0, 0, 0, 0, 0, 0, 0, 0, 0, 0, 0, 0, 128, 128, 122]\n",
    "print(a[0], a[7], a[8], a[10], a[14])\n",
    "print(changedAxes_anger)\n",
    "print(changedAxes_happyness)"
   ]
  }
 ],
 "metadata": {
  "kernelspec": {
   "display_name": "Python 3",
   "language": "python",
   "name": "python3"
  },
  "language_info": {
   "codemirror_mode": {
    "name": "ipython",
    "version": 3
   },
   "file_extension": ".py",
   "mimetype": "text/x-python",
   "name": "python",
   "nbconvert_exporter": "python",
   "pygments_lexer": "ipython3",
   "version": "3.7.1"
  },
  "latex_envs": {
   "LaTeX_envs_menu_present": true,
   "autoclose": true,
   "autocomplete": true,
   "bibliofile": "biblio.bib",
   "cite_by": "apalike",
   "current_citInitial": 1,
   "eqLabelWithNumbers": true,
   "eqNumInitial": 1,
   "hotkeys": {
    "equation": "Ctrl-E",
    "itemize": "Ctrl-I"
   },
   "labels_anchors": false,
   "latex_user_defs": false,
   "report_style_numbering": false,
   "user_envs_cfg": false
  }
 },
 "nbformat": 4,
 "nbformat_minor": 4
}
