{
 "cells": [
  {
   "cell_type": "code",
   "execution_count": 17,
   "id": "d66520ef-c2ea-4a8c-84ed-518738912314",
   "metadata": {},
   "outputs": [],
   "source": [
    "import subprocess, re, copy\n",
    "import pandas as pd"
   ]
  },
  {
   "cell_type": "markdown",
   "id": "5da58bc6-4444-4b05-bbc1-3d6e4cb8fa5b",
   "metadata": {},
   "source": [
    "# Tools"
   ]
  },
  {
   "cell_type": "code",
   "execution_count": 2,
   "id": "20cc1767-dc00-40aa-8810-795022b609df",
   "metadata": {
    "tags": []
   },
   "outputs": [],
   "source": [
    "def saveCSVNames(folderName):\n",
    "    with open('csvname_' + folderName + '.txt', 'w') as f:\n",
    "        command = \"ssh gpu2 'ls container/3/OpenFace/build/\" + folderName + \" | grep csv'\"\n",
    "        f.write(subprocess.getoutput(command))\n",
    "        \n",
    "def makeFolderForCSV(name):\n",
    "    command = \"mkdir \" + name\n",
    "    subprocess.getoutput(command)\n",
    "\n",
    "def getCSVNames(fileName):\n",
    "    temp = []\n",
    "    with open(fileName, 'r') as f:\n",
    "        temp += f.readlines()\n",
    "\n",
    "    result = []\n",
    "    for i in temp:\n",
    "        result += [i.split('\\n').pop(0)]\n",
    "    return result\n",
    "        \n",
    "def getFolderNames():\n",
    "    f = open('folders.txt', 'r')\n",
    "    folderNames = []\n",
    "    for i in f.readlines():\n",
    "        temp = i.replace('\\n', '')\n",
    "        folderNames += [temp]\n",
    "    return folderNames\n",
    "# test = getCSVNames('csvname_PrototypeFacialExpressions.txt')\n",
    "# print(test)"
   ]
  },
  {
   "cell_type": "markdown",
   "id": "86ae2c35-0e78-4569-94d4-85f550f2b41f",
   "metadata": {},
   "source": [
    "# get all folder names"
   ]
  },
  {
   "cell_type": "code",
   "execution_count": 3,
   "id": "4e2ca109-3ca0-430d-bb2d-5aed4c050ee1",
   "metadata": {},
   "outputs": [],
   "source": [
    "# get all types of folders\n",
    "def get_all_folders():\n",
    "    command = \"ssh gpu2 'ls container/3/Nikola/'\"\n",
    "    subprocess.getoutput(command)\n",
    "    with open('folders.txt', 'w') as f:\n",
    "        print(subprocess.getoutput(command))\n",
    "        f.write(subprocess.getoutput(command))\n",
    "        f.close()"
   ]
  },
  {
   "cell_type": "markdown",
   "id": "3f6c1a63-bfc5-495f-9bb3-563028119ea8",
   "metadata": {},
   "source": [
    "# scp all csv\n"
   ]
  },
  {
   "cell_type": "code",
   "execution_count": 5,
   "id": "b6851894-b17a-4047-a9ee-159810f35baf",
   "metadata": {},
   "outputs": [],
   "source": [
    "folderNames = getFolderNames()\n",
    "\n",
    "for i in folderNames:\n",
    "    saveCSVNames(i)\n",
    "    makeFolderForCSV(i)\n",
    "    csvnames = getCSVNames('csvname_' + i + '.txt')\n",
    "    for j in csvnames:\n",
    "        command = 'scp gpu2:container/3/OpenFace/build/' + i + '/' + j + ' ./' + i + '/'\n",
    "        subprocess.getoutput(command)\n"
   ]
  },
  {
   "cell_type": "markdown",
   "id": "2201ed94-6f55-4bdd-b6a4-edcc9ceecf40",
   "metadata": {},
   "source": [
    "# Plot and save"
   ]
  },
  {
   "cell_type": "code",
   "execution_count": null,
   "id": "9859a538-e2d1-4cf6-9b4f-9f5a521e082a",
   "metadata": {},
   "outputs": [],
   "source": [
    "folderNames = getFolderNames()\n",
    "\n",
    "csv_data_netual = pd.read_csv(\"./PrototypeFacialExpressions/2021_05_21_16_40_08_netural.csv\", index_col='frame')\n",
    "\n",
    "\n",
    "for i in folderNames:\n",
    "    csvnames = getCSVNames('csvname_' + i + '.txt')\n",
    "    AUs = {}\n",
    "    keys = []\n",
    "    for j in csvnames:\n",
    "        temp = str(re.split(r\"[_.]\", j)[6])\n",
    "        keys += [temp]\n",
    "\n",
    "\n",
    "    for j in range(len(keys)):\n",
    "        AUs[keys[j]] = pd.read_csv(i + '/' + csvnames[j], index_col='frame')\n",
    "    \n",
    "\n",
    "    # Plot and save \n",
    "    tempAUs = copy.deepcopy(AUs)\n",
    "\n",
    "    # subtract neural\n",
    "    for k,v in tempAUs.items():\n",
    "        tempAUs[k] -= csv_data_netual\n",
    "    \n",
    "    for k,v in tempAUs.items():\n",
    "        temp_r = tempAUs[k].iloc[:, -35:-18]\n",
    "        temp_c = tempAUs[k].iloc[:, -18:]\n",
    "\n",
    "        plt_r = temp_r.plot(figsize=(18, 13))\n",
    "        fig_r = plt_r.get_figure()\n",
    "        fig_r.patch.set_facecolor('white')\n",
    "        fig_r_Name = i + '/' + k + '_r.png'\n",
    "        fig_r.savefig(fig_r_Name, dpi=300)\n",
    "        fig_r.clf() # not show\n",
    "\n",
    "        axs = temp_c.plot(figsize=(5, 10), subplots=True)\n",
    "        fig_c = axs[0].get_figure()\n",
    "        fig_c.patch.set_facecolor('white')\n",
    "        fig_c_Name = i + '/' + k + '_c.png'\n",
    "        fig_c.savefig(fig_c_Name, dpi=300)\n",
    "        fig_c.clf() # not show\n",
    "    \n"
   ]
  },
  {
   "cell_type": "code",
   "execution_count": null,
   "id": "54d11285-8900-483e-a0c4-af0239c49aaa",
   "metadata": {},
   "outputs": [],
   "source": [
    "for i in range(len(keys)):\n",
    "    AUs[keys[i]] = pd.read_csv(csvnames[i], index_col='frame')"
   ]
  },
  {
   "cell_type": "markdown",
   "id": "e755cafd-9019-48b9-87cf-8c450771197e",
   "metadata": {},
   "source": [
    "# Normalization"
   ]
  },
  {
   "cell_type": "code",
   "execution_count": null,
   "id": "b5394309-11ca-4517-a106-6f49985dca81",
   "metadata": {},
   "outputs": [],
   "source": [
    "csv_data_netual = pd.read_csv(\"./PrototypeFacialExpressions/2021_05_21_16_40_08_netural.csv\", index_col='frame')\n",
    "import pandas as pd\n",
    "from sklearn import preprocessing\n",
    "\n",
    "x = csv_data_netual.values #returns a numpy array\n",
    "min_max_scaler = preprocessing.MinMaxScaler()\n",
    "x_scaled = min_max_scaler.fit_transform(x)\n",
    "df = pd.DataFrame(x_scaled)\n",
    "print(df)"
   ]
  },
  {
   "cell_type": "code",
   "execution_count": null,
   "id": "1945349d-3f32-416e-9da4-6c97ad8feeb2",
   "metadata": {},
   "outputs": [],
   "source": []
  }
 ],
 "metadata": {
  "kernelspec": {
   "display_name": "Python [conda env:py37] *",
   "language": "python",
   "name": "conda-env-py37-py"
  },
  "language_info": {
   "codemirror_mode": {
    "name": "ipython",
    "version": 3
   },
   "file_extension": ".py",
   "mimetype": "text/x-python",
   "name": "python",
   "nbconvert_exporter": "python",
   "pygments_lexer": "ipython3",
   "version": "3.7.10"
  }
 },
 "nbformat": 4,
 "nbformat_minor": 5
}
