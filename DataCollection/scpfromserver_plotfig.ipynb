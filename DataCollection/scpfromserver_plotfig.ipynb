{
 "cells": [
  {
   "cell_type": "code",
   "execution_count": 1,
   "id": "0f3ec794",
   "metadata": {},
   "outputs": [],
   "source": [
    "import subprocess, re, copy\n",
    "import pandas as pd"
   ]
  },
  {
   "cell_type": "markdown",
   "id": "08ed6d31",
   "metadata": {},
   "source": [
    "# Tools"
   ]
  },
  {
   "cell_type": "code",
   "execution_count": 2,
   "id": "6594d6b5",
   "metadata": {
    "tags": []
   },
   "outputs": [],
   "source": [
    "def saveCSVNames(folderName):\n",
    "    with open('csvname_' + folderName + '.txt', 'w') as f:\n",
    "        command = \"ssh gpu2 'ls container/3/OpenFace/build/\" + folderName + \" | grep csv'\"\n",
    "        f.write(subprocess.getoutput(command))\n",
    "        \n",
    "def makeFolderForCSV(name):\n",
    "    command = \"mkdir \" + name\n",
    "    subprocess.getoutput(command)\n",
    "\n",
    "def getCSVNames(fileName):\n",
    "    temp = []\n",
    "    with open(fileName, 'r') as f:\n",
    "        temp += f.readlines()\n",
    "\n",
    "    result = []\n",
    "    for i in temp:\n",
    "        result += [i.split('\\n').pop(0)]\n",
    "    return result\n",
    "        \n",
    "def getFolderNames():\n",
    "    f = open('folders.txt', 'r')\n",
    "    folderNames = []\n",
    "    for i in f.readlines():\n",
    "        temp = i.replace('\\n', '')\n",
    "        folderNames += [temp]\n",
    "    return folderNames\n",
    "# test = getCSVNames('csvname_PrototypeFacialExpressions.txt')\n",
    "# print(test)"
   ]
  },
  {
   "cell_type": "markdown",
   "id": "359479f6",
   "metadata": {},
   "source": [
    "# get all folder names"
   ]
  },
  {
   "cell_type": "code",
   "execution_count": 3,
   "id": "2696d635",
   "metadata": {},
   "outputs": [],
   "source": [
    "# get all types of folders\n",
    "def get_all_folders():\n",
    "    command = \"ssh gpu2 'ls container/3/Nikola/'\"\n",
    "    subprocess.getoutput(command)\n",
    "    with open('folders.txt', 'w') as f:\n",
    "        print(subprocess.getoutput(command))\n",
    "        f.write(subprocess.getoutput(command))\n",
    "        f.close()"
   ]
  },
  {
   "cell_type": "markdown",
   "id": "38ab4f66",
   "metadata": {},
   "source": [
    "# scp all csv\n"
   ]
  },
  {
   "cell_type": "code",
   "execution_count": 5,
   "id": "2819a8ac",
   "metadata": {},
   "outputs": [],
   "source": [
    "folderNames = getFolderNames()\n",
    "\n",
    "for i in folderNames:\n",
    "    saveCSVNames(i)\n",
    "    makeFolderForCSV(i)\n",
    "    csvnames = getCSVNames('csvname_' + i + '.txt')\n",
    "    for j in csvnames:\n",
    "        command = 'scp gpu2:container/3/OpenFace/build/' + i + '/' + j + ' ./' + i + '/'\n",
    "        subprocess.getoutput(command)\n"
   ]
  },
  {
   "cell_type": "markdown",
   "id": "4ede994a",
   "metadata": {},
   "source": [
    "# Plot and save"
   ]
  },
  {
   "cell_type": "code",
   "execution_count": null,
   "id": "39465700",
   "metadata": {},
   "outputs": [],
   "source": [
    "folderNames = getFolderNames()\n",
    "\n",
    "csv_data_netual = pd.read_csv(\"./PrototypeFacialExpressions/2021_05_21_16_40_08_netural.csv\", index_col='frame')\n",
    "\n",
    "\n",
    "for i in folderNames:\n",
    "    csvnames = getCSVNames('csvname_' + i + '.txt')\n",
    "    AUs = {}\n",
    "    keys = []\n",
    "    for j in csvnames:\n",
    "        temp = str(re.split(r\"[_.]\", j)[6])\n",
    "        keys += [temp]\n",
    "\n",
    "\n",
    "    for j in range(len(keys)):\n",
    "        AUs[keys[j]] = pd.read_csv(i + '/' + csvnames[j], index_col='frame')\n",
    "    \n",
    "\n",
    "    # Plot and save \n",
    "    tempAUs = copy.deepcopy(AUs)\n",
    "\n",
    "    # subtract neural\n",
    "    for k,v in tempAUs.items():\n",
    "        tempAUs[k] -= csv_data_netual\n",
    "    \n",
    "    for k,v in tempAUs.items():\n",
    "        temp_r = tempAUs[k].iloc[:, -35:-18]\n",
    "        temp_c = tempAUs[k].iloc[:, -18:]\n",
    "\n",
    "        plt_r = temp_r.plot(figsize=(18, 13))\n",
    "        fig_r = plt_r.get_figure()\n",
    "        fig_r.patch.set_facecolor('white')\n",
    "        fig_r_Name = i + '/' + k + '_r.png'\n",
    "        fig_r.savefig(fig_r_Name, dpi=300)\n",
    "        fig_r.clf() # not show\n",
    "\n",
    "        axs = temp_c.plot(figsize=(5, 10), subplots=True)\n",
    "        fig_c = axs[0].get_figure()\n",
    "        fig_c.patch.set_facecolor('white')\n",
    "        fig_c_Name = i + '/' + k + '_c.png'\n",
    "        fig_c.savefig(fig_c_Name, dpi=300)\n",
    "        fig_c.clf() # not show\n",
    "    \n"
   ]
  },
  {
   "cell_type": "code",
   "execution_count": null,
   "id": "b53cdef8",
   "metadata": {},
   "outputs": [],
   "source": [
    "for i in range(len(keys)):\n",
    "    AUs[keys[i]] = pd.read_csv(csvnames[i], index_col='frame')"
   ]
  },
  {
   "cell_type": "markdown",
   "id": "02cb22cb",
   "metadata": {},
   "source": [
    "# Normalization"
   ]
  },
  {
   "cell_type": "code",
   "execution_count": null,
   "id": "c1dbc065",
   "metadata": {},
   "outputs": [],
   "source": [
    "csv_data_netual = pd.read_csv(\"./PrototypeFacialExpressions/2021_05_21_16_40_08_netural.csv\", index_col='frame')\n",
    "import pandas as pd\n",
    "from sklearn import preprocessing\n",
    "\n",
    "x = csv_data_netual.values #returns a numpy array\n",
    "min_max_scaler = preprocessing.MinMaxScaler()\n",
    "x_scaled = min_max_scaler.fit_transform(x)\n",
    "df = pd.DataFrame(x_scaled)\n",
    "print(df)"
   ]
  },
  {
   "cell_type": "markdown",
   "id": "0f43f661-e1a2-4b27-8000-a4981e9e80bc",
   "metadata": {},
   "source": [
    "# AU matrix"
   ]
  },
  {
   "cell_type": "code",
   "execution_count": 5,
   "id": "6f73c12d-07b0-49b8-8c9b-983a6210edf8",
   "metadata": {},
   "outputs": [
    {
     "name": "stdout",
     "output_type": "stream",
     "text": [
      "['PrototypeAU', 'PrototypeFacialExpressions', 'hotExpressions']\n"
     ]
    }
   ],
   "source": [
    "folderNames = getFolderNames()\n",
    "print(folderNames)"
   ]
  },
  {
   "cell_type": "code",
   "execution_count": 6,
   "id": "adedc013-dbb7-4e40-a6b7-fc13e8ca5d37",
   "metadata": {},
   "outputs": [
    {
     "ename": "IndentationError",
     "evalue": "unexpected indent (<ipython-input-6-d062e29fe3bb>, line 3)",
     "output_type": "error",
     "traceback": [
      "\u001b[0;36m  File \u001b[0;32m\"<ipython-input-6-d062e29fe3bb>\"\u001b[0;36m, line \u001b[0;32m3\u001b[0m\n\u001b[0;31m    AUs = {}\u001b[0m\n\u001b[0m    ^\u001b[0m\n\u001b[0;31mIndentationError\u001b[0m\u001b[0;31m:\u001b[0m unexpected indent\n"
     ]
    }
   ],
   "source": [
    "i = folderNames[0]\n",
    "csvnames = getCSVNames('csvname_' + i + '.txt')\n",
    "AUs = {}\n",
    "keys = []\n",
    "for j in csvnames:\n",
    "    temp = str(re.split(r\"[_.]\", j)[6])\n",
    "    keys += [temp]\n",
    "\n",
    "\n",
    "for j in range(len(keys)):\n",
    "    AUs[keys[j]] = pd.read_csv(i + '/' + csvnames[j], index_col='frame')\n",
    "\n",
    "print('keys', keys)\n",
    "print(\"AUs\", AUs)"
   ]
  },
  {
   "cell_type": "code",
   "execution_count": null,
   "id": "103cbb8f-8988-4a19-8fb6-9a4fd4163a08",
   "metadata": {},
   "outputs": [],
   "source": []
  }
 ],
 "metadata": {
  "kernelspec": {
   "display_name": "py37",
   "language": "python",
   "name": "py37"
  },
  "language_info": {
   "codemirror_mode": {
    "name": "ipython",
    "version": 3
   },
   "file_extension": ".py",
   "mimetype": "text/x-python",
   "name": "python",
   "nbconvert_exporter": "python",
   "pygments_lexer": "ipython3",
   "version": "3.7.10"
  }
 },
 "nbformat": 4,
 "nbformat_minor": 5
}
