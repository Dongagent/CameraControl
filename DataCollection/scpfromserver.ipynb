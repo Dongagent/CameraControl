{
 "cells": [
  {
   "cell_type": "code",
   "execution_count": 2,
   "id": "d66520ef-c2ea-4a8c-84ed-518738912314",
   "metadata": {},
   "outputs": [],
   "source": [
    "import subprocess\n",
    "import re\n"
   ]
  },
  {
   "cell_type": "code",
   "execution_count": 5,
   "id": "afcb6167-0503-403f-98c6-fc24d1b9ee21",
   "metadata": {},
   "outputs": [
    {
     "name": "stdout",
     "output_type": "stream",
     "text": [
      "['2021_05_21_14_52_30_AU1.csv', '', '2021_05_21_14_52_35_AU2.csv', '', '2021_05_21_14_52_41_AU4.csv', '', '2021_05_21_14_52_47_AU5.csv', '', '2021_05_21_14_52_52_AU6.csv', '', '2021_05_21_14_52_57_AU7.csv', '', '2021_05_21_14_53_03_AU10.csv', '', '2021_05_21_14_53_08_AU12.csv', '', '2021_05_21_14_53_14_LAU12.csv', '', '2021_05_21_14_53_19_AU14.csv', '', '2021_05_21_14_53_24_AU15.csv', '', '2021_05_21_14_53_30_AU16.csv', '', '2021_05_21_14_53_35_AU18.csv', '', '2021_05_21_14_53_41_AU20.csv', '', '2021_05_21_14_53_46_AU22.csv', '', '2021_05_21_14_53_52_AU25.csv', '', '2021_05_21_14_53_57_AU26.csv', '', '2021_05_21_14_54_02_AU43.csv', '']\n"
     ]
    }
   ],
   "source": [
    "\n",
    "csvnames = []\n",
    "with open(\"csvname.txt\") as f:\n",
    "    csvnames += f.readlines()\n",
    "temp = []\n",
    "for i in csvnames:\n",
    "    temp += i.split('\\n')\n",
    "csvnames = temp\n",
    "print(csvnames)"
   ]
  },
  {
   "cell_type": "code",
   "execution_count": 10,
   "id": "c8f74bcf-e0fb-451c-95a7-78df0ab07ba4",
   "metadata": {},
   "outputs": [],
   "source": [
    "import subprocess\n",
    "for i in range(len(csvnames)):\n",
    "    command = 'scp gpu2:container/3/OpenFace/build/prototypeAU/' + csvnames[i] + ' ./'\n",
    "    subprocess.getoutput(command)"
   ]
  },
  {
   "cell_type": "code",
   "execution_count": 1,
   "id": "57d598b1-d4df-4c3a-a704-f770845614c6",
   "metadata": {},
   "outputs": [],
   "source": []
  },
  {
   "cell_type": "code",
   "execution_count": 7,
   "id": "2ea03c73-94e7-45d7-b348-95bb7bba9e4d",
   "metadata": {},
   "outputs": [
    {
     "name": "stdout",
     "output_type": "stream",
     "text": [
      "\n"
     ]
    }
   ],
   "source": [
    "command = \"ssh gpu2 'ls container/3/OpenFace/build/ | grep csv'\"\n",
    "with open('folders.txt', 'w') as f:\n",
    "    print(subprocess.getoutput(command))\n",
    "    f.write(subprocess.getoutput(command))\n",
    "    f.close()\n",
    "# subprocess.getoutput(command)"
   ]
  },
  {
   "cell_type": "code",
   "execution_count": 21,
   "id": "d2506123-1a82-4306-abb4-05f795dc6320",
   "metadata": {},
   "outputs": [],
   "source": [
    "def saveCSVNames(folderName):\n",
    "    with open('csvname_' + folderName + '.txt', 'w') as f:\n",
    "        command = \"ssh gpu2 'ls container/3/OpenFace/build/\" + folderName + \" | grep csv'\"\n",
    "        f.write(subprocess.getoutput(command))\n",
    "        \n",
    "def makeFolderForCSV(name):\n",
    "    command = \"mkdir \" + name\n",
    "    subprocess.getoutput(command)"
   ]
  },
  {
   "cell_type": "code",
   "execution_count": null,
   "id": "8cd1d24e-04ef-4dcd-8b00-a75335bb5b0a",
   "metadata": {},
   "outputs": [],
   "source": [
    "def getCSVNames(fileName):\n",
    "    with open(fileName, 'r'):\n",
    "        result = []\n",
    "        \n",
    "        \n",
    "test = getCSVNames('csvname_PrototypeFacialExpressions.txt')\n",
    "print(test)"
   ]
  },
  {
   "cell_type": "code",
   "execution_count": 23,
   "id": "b6851894-b17a-4047-a9ee-159810f35baf",
   "metadata": {},
   "outputs": [],
   "source": [
    "f = open('folders.txt', 'r')\n",
    "folderNames = []\n",
    "for i in f.readlines():\n",
    "    temp = i.replace('\\n', '')\n",
    "    folderNames += [temp]\n",
    "# print(folderNames)\n",
    "\n",
    "for i in folderNames:\n",
    "    saveCSVNames(i)\n",
    "    makeFolderForCSV(i)\n",
    "    with open('csvname_' + i + '.txt', 'r') as f:\n",
    "        csvnames = getCSVNames(f)\n",
    "    command = 'scp gpu2:container/3/OpenFace/build/prototypeAU/' + csvnames[i] + ' ./'"
   ]
  },
  {
   "cell_type": "code",
   "execution_count": 19,
   "id": "383a2cfb-f042-44bd-b66a-670aa74fdbc2",
   "metadata": {},
   "outputs": [],
   "source": [
    "# get all types of folders\n",
    "def get_all_folders():\n",
    "    command = \"ssh gpu2 'ls container/3/Nikola/'\"\n",
    "    subprocess.getoutput(command)\n",
    "    with open('folders.txt', 'w') as f:\n",
    "        print(subprocess.getoutput(command))\n",
    "        f.write(subprocess.getoutput(command))\n",
    "        f.close()"
   ]
  }
 ],
 "metadata": {
  "kernelspec": {
   "display_name": "py37",
   "language": "python",
   "name": "py37"
  },
  "language_info": {
   "codemirror_mode": {
    "name": "ipython",
    "version": 3
   },
   "file_extension": ".py",
   "mimetype": "text/x-python",
   "name": "python",
   "nbconvert_exporter": "python",
   "pygments_lexer": "ipython3",
   "version": "3.7.10"
  }
 },
 "nbformat": 4,
 "nbformat_minor": 5
}
