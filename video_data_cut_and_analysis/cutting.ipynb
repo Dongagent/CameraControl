{
 "cells": [
  {
   "cell_type": "code",
   "execution_count": 37,
   "id": "a28c488a-33ec-4556-9176-17265e03b2af",
   "metadata": {},
   "outputs": [
    {
     "name": "stdout",
     "output_type": "stream",
     "text": [
      "/Users/y.dongdong/Downloads/DongHub/Github/CameraControl/video_data_cut_and_analysis\n"
     ]
    }
   ],
   "source": [
    "!pwd"
   ]
  },
  {
   "cell_type": "code",
   "execution_count": 20,
   "id": "07b25b9b-1189-404f-9f75-e78e9087e119",
   "metadata": {},
   "outputs": [],
   "source": [
    "import pandas as pd\n",
    "import subprocess\n",
    "from datetime import timedelta\n",
    "import os\n",
    "\n",
    "# Assuming paths are defined similar to the MATLAB version\n",
    "subject = [str(i) for i in range(2303031, 2303033)] + [str(i) for i in range(2303061, 2303063)]\n",
    "logdir = '/Volumes/ExtremeSSD/mimicryExpLogs/LogFiles/'\n",
    "clipPath = '/Volumes/ExtremeSSD/mimicry_exp_video_data/trimed_videos/combined/'\n",
    "subjectPath = '/Volumes/ExtremeSSD/mimicry_exp_video_data/trimed_videos/subject_split/'\n",
    "robotPath = '/Volumes/ExtremeSSD/mimicry_exp_video_data/trimed_videos/robot_split/'\n",
    "\n",
    "# make paths\n",
    "import pathlib\n",
    "pathlib.Path(clipPath).mkdir(parents=True, exist_ok=True) \n",
    "pathlib.Path(subjectPath).mkdir(parents=True, exist_ok=True) \n",
    "pathlib.Path(robotPath).mkdir(parents=True, exist_ok=True) \n",
    "\n",
    "# FPS = 29.97\n",
    "# clipsoundpath = 'path_to_clips_with_sound'\n",
    "robot_videos = os.listdir('/Volumes/ExtremeSSD/mimicry_exp_video_data/nikola/')\n",
    "subject_videos = os.listdir('/Volumes/ExtremeSSD/mimicry_exp_video_data/subjects/')\n",
    "robot_videos.sort()\n",
    "subject_videos.sort()\n",
    "\n",
    "# for test\n",
    "robot_videos = robot_videos[:2]\n",
    "subject_videos = subject_videos[:2]\n",
    "\n"
   ]
  },
  {
   "cell_type": "code",
   "execution_count": 21,
   "id": "3c951a7b-07d5-4f08-9bb7-222ec2ba7004",
   "metadata": {},
   "outputs": [
    {
     "name": "stdout",
     "output_type": "stream",
     "text": [
      "['my01', 'my02', 'my03', 'my04', 'my05', 'my06', 'my07', 'my08', 'my09', 'my10', 'my11', 'my12', 'my13', 'my14', 'my15', 'my16', 'my17', 'my18', 'my19', 'my20', 'my21', 'my22', 'my23', 'my24', 'my25', 'my26']\n"
     ]
    }
   ],
   "source": [
    "# read log file\n",
    "date = '0' + str(318)\n",
    "subjects = []\n",
    "for i in range(26):\n",
    "    if i + 1 < 10:\n",
    "        subjects.append(f'my0{i+1}')\n",
    "    else:\n",
    "        subjects.append(f'my{i+1}')\n",
    "print(subjects)"
   ]
  },
  {
   "cell_type": "code",
   "execution_count": 36,
   "id": "74423946-73f9-4ddd-8835-d766138b7874",
   "metadata": {},
   "outputs": [
    {
     "name": "stdout",
     "output_type": "stream",
     "text": [
      "current file is DYN1-my01.txt\n",
      "    code    time\n",
      "0     40    5607\n",
      "1     30   16122\n",
      "2     20   26901\n",
      "3     30   37679\n",
      "4     20   49457\n",
      "5     10   60735\n",
      "6     40   71512\n",
      "7     10   82540\n",
      "8     40   94069\n",
      "9     30  105346\n",
      "10    20  116124\n",
      "11    30  126902\n",
      "12    10  137430\n",
      "13    20  148459\n",
      "14    30  159987\n",
      "15    20  171014\n",
      "16    10  181542\n",
      "17    30  193571\n",
      "18    10  204098\n",
      "19    20  216126\n",
      "20    40  226904\n",
      "21    10  237432\n",
      "22    40  247960\n",
      "23    20  258988\n",
      "24    40  271016\n",
      "25    30  281794\n",
      "26    20  293572\n",
      "27    10  304600\n",
      "28    30  316378\n",
      "29    40  328655\n",
      "30    10  339933\n",
      "31    40  351961\n",
      "current file is DYN2-my01.txt\n",
      "    code    time\n",
      "0     30    5604\n",
      "1     30   16619\n",
      "2     10   27397\n",
      "3     10   38675\n",
      "4     40   50953\n",
      "5     20   61731\n",
      "6     40   73009\n",
      "7     20   83537\n",
      "8     30   94065\n",
      "9     10  104843\n",
      "10    40  116121\n",
      "11    10  126899\n",
      "12    20  138427\n",
      "13    40  148955\n",
      "14    30  159483\n",
      "15    10  170012\n",
      "16    20  181040\n",
      "17    40  193067\n",
      "18    20  204095\n",
      "19    30  216123\n",
      "20    20  227400\n",
      "21    40  238928\n",
      "22    30  249956\n",
      "23    10  260984\n",
      "24    10  274012\n",
      "25    30  284789\n",
      "26    40  296567\n",
      "27    20  307095\n"
     ]
    }
   ],
   "source": [
    "for subj in subjects:\n",
    "    for session in [1, 2]:\n",
    "        # Two sessions\n",
    "        # print(i)\n",
    "        log_file = os.path.join(logdir, f'DYN{session}-{subj}.txt')\n",
    "        # print(os.path.exists(log_file))\n",
    "        print('current file is', f'DYN{session}-{subj}.txt')\n",
    "        \n",
    "        evt = pd.read_csv(log_file, delimiter='\\t')\n",
    "        # print(evt)\n",
    "        print(evt)\n",
    "    break"
   ]
  },
  {
   "cell_type": "code",
   "execution_count": null,
   "id": "4296f23b-a909-40a7-8d3f-4786d24a3ff2",
   "metadata": {},
   "outputs": [],
   "source": [
    "# Example loop similar to MATLAB code\n",
    "for subj in subject:\n",
    "    for session in range(1, 3):\n",
    "        log_file = f\"{logdir}/MET{session}-{subj}.txt\"\n",
    "        evt = pd.read_csv(log_file, header=None, delimiter='\\t')\n",
    "        performance_idx = evt[evt.iloc[:, 3] == 1].index\n",
    "        evt = evt.loc[performance_idx]\n",
    "        evt.iloc[:, 2] -= evt.iloc[:, 2].iloc[0]\n",
    "\n",
    "        for idx in range(30):  # Adjust the range as per actual requirement\n",
    "            start_time = str(timedelta(seconds=evt.iloc[idx, 2] / 1000))\n",
    "            end_time = str(timedelta(seconds=evt.iloc[idx, 2] / 1000 + 10))\n",
    "            vid_path = f\"{clippath}/{subj}-{session}.mp4\"\n",
    "            export_name = f\"{clipsoundpath}/{subj}-{session}-{idx}-{evt.iloc[idx, 0]}.mp4\"\n",
    "            cmd = f\"ffmpeg -i {vid_path} -ss {start_time} -to {end_time} -c copy {export_name}\"\n",
    "            subprocess.run(cmd, shell=True)"
   ]
  }
 ],
 "metadata": {
  "kernelspec": {
   "display_name": "Python 3 (ipykernel)",
   "language": "python",
   "name": "python3"
  },
  "language_info": {
   "codemirror_mode": {
    "name": "ipython",
    "version": 3
   },
   "file_extension": ".py",
   "mimetype": "text/x-python",
   "name": "python",
   "nbconvert_exporter": "python",
   "pygments_lexer": "ipython3",
   "version": "3.8.3"
  }
 },
 "nbformat": 4,
 "nbformat_minor": 5
}
