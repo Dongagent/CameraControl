{
 "cells": [
  {
   "cell_type": "code",
   "execution_count": 1,
   "metadata": {},
   "outputs": [
    {
     "name": "stdout",
     "output_type": "stream",
     "text": [
      "/home/dongagent/github/CameraControl/algorithm\n"
     ]
    }
   ],
   "source": [
    "!pwd"
   ]
  },
  {
   "cell_type": "code",
   "execution_count": 6,
   "metadata": {},
   "outputs": [
    {
     "name": "stdout",
     "output_type": "stream",
     "text": [
      "Loading Face Detection model:  retinaface\n",
      "Using downloaded and verified file: /home/dongagent/anaconda3/lib/python3.8/site-packages/py_feat-0.3.7-py3.8.egg/feat/resources/mobilenet0.25_Final.pth\n",
      "Using downloaded and verified file: /home/dongagent/anaconda3/lib/python3.8/site-packages/py_feat-0.3.7-py3.8.egg/feat/resources/mobilenet_224_model_best_gdconv_external.pth.tar\n",
      "Using downloaded and verified file: /home/dongagent/anaconda3/lib/python3.8/site-packages/py_feat-0.3.7-py3.8.egg/feat/resources/hog_pca_all_emotio.joblib\n",
      "Using downloaded and verified file: /home/dongagent/anaconda3/lib/python3.8/site-packages/py_feat-0.3.7-py3.8.egg/feat/resources/hog_pca_all_emotio.joblib\n",
      "Using downloaded and verified file: /home/dongagent/anaconda3/lib/python3.8/site-packages/py_feat-0.3.7-py3.8.egg/feat/resources/hog_scalar_aus.joblib\n",
      "Using downloaded and verified file: /home/dongagent/anaconda3/lib/python3.8/site-packages/py_feat-0.3.7-py3.8.egg/feat/resources/RF_568.joblib\n",
      "Using downloaded and verified file: /home/dongagent/anaconda3/lib/python3.8/site-packages/py_feat-0.3.7-py3.8.egg/feat/resources/hog_pca_all_emotio.joblib\n",
      "Using downloaded and verified file: /home/dongagent/anaconda3/lib/python3.8/site-packages/py_feat-0.3.7-py3.8.egg/feat/resources/hog_scalar_aus.joblib\n",
      "Using downloaded and verified file: /home/dongagent/anaconda3/lib/python3.8/site-packages/py_feat-0.3.7-py3.8.egg/feat/resources/ResMaskNet_Z_resmasking_dropout1_rot30.pth\n",
      "Loading Face Landmark model:  mobilenet\n",
      "Loading au model:  rf\n"
     ]
    },
    {
     "name": "stderr",
     "output_type": "stream",
     "text": [
      "/home/dongagent/anaconda3/lib/python3.8/site-packages/sklearn/base.py:329: UserWarning: Trying to unpickle estimator PCA from version 0.24.1 when using version 0.23.2. This might lead to breaking code or invalid results. Use at your own risk.\n",
      "  warnings.warn(\n",
      "/home/dongagent/anaconda3/lib/python3.8/site-packages/sklearn/base.py:329: UserWarning: Trying to unpickle estimator DecisionTreeClassifier from version 0.24.1 when using version 0.23.2. This might lead to breaking code or invalid results. Use at your own risk.\n",
      "  warnings.warn(\n",
      "/home/dongagent/anaconda3/lib/python3.8/site-packages/sklearn/base.py:329: UserWarning: Trying to unpickle estimator RandomForestClassifier from version 0.24.1 when using version 0.23.2. This might lead to breaking code or invalid results. Use at your own risk.\n",
      "  warnings.warn(\n",
      "/home/dongagent/anaconda3/lib/python3.8/site-packages/sklearn/base.py:329: UserWarning: Trying to unpickle estimator StandardScaler from version 0.24.1 when using version 0.23.2. This might lead to breaking code or invalid results. Use at your own risk.\n",
      "  warnings.warn(\n"
     ]
    },
    {
     "name": "stdout",
     "output_type": "stream",
     "text": [
      "Loading emotion model:  resmasknet\n",
      "Loading facepose model:  pnp\n",
      "      anger   disgust      fear  happiness   sadness  surprise   neutral  \\\n",
      "0  0.000556  0.001944  0.000417   0.851857  0.003824  0.057449  0.083952   \n",
      "\n",
      "                                   input  \n",
      "0  tempimg/2021_11_22_21_43_50__test.png  \n",
      "Loading Face Detection model:  retinaface\n",
      "Using downloaded and verified file: /home/dongagent/anaconda3/lib/python3.8/site-packages/py_feat-0.3.7-py3.8.egg/feat/resources/mobilenet0.25_Final.pth\n",
      "Using downloaded and verified file: /home/dongagent/anaconda3/lib/python3.8/site-packages/py_feat-0.3.7-py3.8.egg/feat/resources/mobilenet_224_model_best_gdconv_external.pth.tar\n",
      "Using downloaded and verified file: /home/dongagent/anaconda3/lib/python3.8/site-packages/py_feat-0.3.7-py3.8.egg/feat/resources/hog_pca_all_emotio.joblib\n",
      "Using downloaded and verified file: /home/dongagent/anaconda3/lib/python3.8/site-packages/py_feat-0.3.7-py3.8.egg/feat/resources/hog_pca_all_emotio.joblib\n",
      "Using downloaded and verified file: /home/dongagent/anaconda3/lib/python3.8/site-packages/py_feat-0.3.7-py3.8.egg/feat/resources/hog_scalar_aus.joblib\n",
      "Using downloaded and verified file: /home/dongagent/anaconda3/lib/python3.8/site-packages/py_feat-0.3.7-py3.8.egg/feat/resources/RF_568.joblib\n",
      "Using downloaded and verified file: /home/dongagent/anaconda3/lib/python3.8/site-packages/py_feat-0.3.7-py3.8.egg/feat/resources/hog_pca_all_emotio.joblib\n",
      "Using downloaded and verified file: /home/dongagent/anaconda3/lib/python3.8/site-packages/py_feat-0.3.7-py3.8.egg/feat/resources/hog_scalar_aus.joblib\n",
      "Using downloaded and verified file: /home/dongagent/anaconda3/lib/python3.8/site-packages/py_feat-0.3.7-py3.8.egg/feat/resources/ResMaskNet_Z_resmasking_dropout1_rot30.pth\n",
      "Loading Face Landmark model:  mobilenet\n",
      "Loading au model:  rf\n"
     ]
    },
    {
     "name": "stderr",
     "output_type": "stream",
     "text": [
      "/home/dongagent/anaconda3/lib/python3.8/site-packages/sklearn/base.py:329: UserWarning: Trying to unpickle estimator PCA from version 0.24.1 when using version 0.23.2. This might lead to breaking code or invalid results. Use at your own risk.\n",
      "  warnings.warn(\n",
      "/home/dongagent/anaconda3/lib/python3.8/site-packages/sklearn/base.py:329: UserWarning: Trying to unpickle estimator DecisionTreeClassifier from version 0.24.1 when using version 0.23.2. This might lead to breaking code or invalid results. Use at your own risk.\n",
      "  warnings.warn(\n",
      "/home/dongagent/anaconda3/lib/python3.8/site-packages/sklearn/base.py:329: UserWarning: Trying to unpickle estimator RandomForestClassifier from version 0.24.1 when using version 0.23.2. This might lead to breaking code or invalid results. Use at your own risk.\n",
      "  warnings.warn(\n",
      "/home/dongagent/anaconda3/lib/python3.8/site-packages/sklearn/base.py:329: UserWarning: Trying to unpickle estimator StandardScaler from version 0.24.1 when using version 0.23.2. This might lead to breaking code or invalid results. Use at your own risk.\n",
      "  warnings.warn(\n"
     ]
    },
    {
     "name": "stdout",
     "output_type": "stream",
     "text": [
      "Loading emotion model:  resmasknet\n",
      "Loading facepose model:  pnp\n",
      "      anger   disgust      fear  happiness   sadness  surprise   neutral  \\\n",
      "0  0.015185  0.009743  0.001104    0.02342  0.191929  0.015692  0.742926   \n",
      "\n",
      "                                   input  \n",
      "0  tempimg/2021_11_22_21_21_26__test.png  \n",
      "Loading Face Detection model:  retinaface\n",
      "Using downloaded and verified file: /home/dongagent/anaconda3/lib/python3.8/site-packages/py_feat-0.3.7-py3.8.egg/feat/resources/mobilenet0.25_Final.pth\n",
      "Using downloaded and verified file: /home/dongagent/anaconda3/lib/python3.8/site-packages/py_feat-0.3.7-py3.8.egg/feat/resources/mobilenet_224_model_best_gdconv_external.pth.tar\n",
      "Using downloaded and verified file: /home/dongagent/anaconda3/lib/python3.8/site-packages/py_feat-0.3.7-py3.8.egg/feat/resources/hog_pca_all_emotio.joblib\n",
      "Using downloaded and verified file: /home/dongagent/anaconda3/lib/python3.8/site-packages/py_feat-0.3.7-py3.8.egg/feat/resources/hog_pca_all_emotio.joblib\n",
      "Using downloaded and verified file: /home/dongagent/anaconda3/lib/python3.8/site-packages/py_feat-0.3.7-py3.8.egg/feat/resources/hog_scalar_aus.joblib\n",
      "Using downloaded and verified file: /home/dongagent/anaconda3/lib/python3.8/site-packages/py_feat-0.3.7-py3.8.egg/feat/resources/RF_568.joblib\n",
      "Using downloaded and verified file: /home/dongagent/anaconda3/lib/python3.8/site-packages/py_feat-0.3.7-py3.8.egg/feat/resources/hog_pca_all_emotio.joblib\n",
      "Using downloaded and verified file: /home/dongagent/anaconda3/lib/python3.8/site-packages/py_feat-0.3.7-py3.8.egg/feat/resources/hog_scalar_aus.joblib\n",
      "Using downloaded and verified file: /home/dongagent/anaconda3/lib/python3.8/site-packages/py_feat-0.3.7-py3.8.egg/feat/resources/ResMaskNet_Z_resmasking_dropout1_rot30.pth\n",
      "Loading Face Landmark model:  mobilenet\n",
      "Loading au model:  rf\n"
     ]
    },
    {
     "name": "stderr",
     "output_type": "stream",
     "text": [
      "/home/dongagent/anaconda3/lib/python3.8/site-packages/sklearn/base.py:329: UserWarning: Trying to unpickle estimator PCA from version 0.24.1 when using version 0.23.2. This might lead to breaking code or invalid results. Use at your own risk.\n",
      "  warnings.warn(\n",
      "/home/dongagent/anaconda3/lib/python3.8/site-packages/sklearn/base.py:329: UserWarning: Trying to unpickle estimator DecisionTreeClassifier from version 0.24.1 when using version 0.23.2. This might lead to breaking code or invalid results. Use at your own risk.\n",
      "  warnings.warn(\n",
      "/home/dongagent/anaconda3/lib/python3.8/site-packages/sklearn/base.py:329: UserWarning: Trying to unpickle estimator RandomForestClassifier from version 0.24.1 when using version 0.23.2. This might lead to breaking code or invalid results. Use at your own risk.\n",
      "  warnings.warn(\n",
      "/home/dongagent/anaconda3/lib/python3.8/site-packages/sklearn/base.py:329: UserWarning: Trying to unpickle estimator StandardScaler from version 0.24.1 when using version 0.23.2. This might lead to breaking code or invalid results. Use at your own risk.\n",
      "  warnings.warn(\n"
     ]
    },
    {
     "name": "stdout",
     "output_type": "stream",
     "text": [
      "Loading emotion model:  resmasknet\n",
      "Loading facepose model:  pnp\n",
      "      anger   disgust      fear  happiness   sadness  surprise   neutral  \\\n",
      "0  0.001087  0.003565  0.000486   0.774166  0.009316  0.011823  0.199558   \n",
      "\n",
      "                                               input  \n",
      "0  happiness/HappinessExp1/2021_11_22_21_32_17_ha...  \n",
      "Loading Face Detection model:  retinaface\n",
      "Using downloaded and verified file: /home/dongagent/anaconda3/lib/python3.8/site-packages/py_feat-0.3.7-py3.8.egg/feat/resources/mobilenet0.25_Final.pth\n",
      "Using downloaded and verified file: /home/dongagent/anaconda3/lib/python3.8/site-packages/py_feat-0.3.7-py3.8.egg/feat/resources/mobilenet_224_model_best_gdconv_external.pth.tar\n",
      "Using downloaded and verified file: /home/dongagent/anaconda3/lib/python3.8/site-packages/py_feat-0.3.7-py3.8.egg/feat/resources/hog_pca_all_emotio.joblib\n",
      "Using downloaded and verified file: /home/dongagent/anaconda3/lib/python3.8/site-packages/py_feat-0.3.7-py3.8.egg/feat/resources/hog_pca_all_emotio.joblib\n",
      "Using downloaded and verified file: /home/dongagent/anaconda3/lib/python3.8/site-packages/py_feat-0.3.7-py3.8.egg/feat/resources/hog_scalar_aus.joblib\n",
      "Using downloaded and verified file: /home/dongagent/anaconda3/lib/python3.8/site-packages/py_feat-0.3.7-py3.8.egg/feat/resources/RF_568.joblib\n",
      "Using downloaded and verified file: /home/dongagent/anaconda3/lib/python3.8/site-packages/py_feat-0.3.7-py3.8.egg/feat/resources/hog_pca_all_emotio.joblib\n",
      "Using downloaded and verified file: /home/dongagent/anaconda3/lib/python3.8/site-packages/py_feat-0.3.7-py3.8.egg/feat/resources/hog_scalar_aus.joblib\n",
      "Using downloaded and verified file: /home/dongagent/anaconda3/lib/python3.8/site-packages/py_feat-0.3.7-py3.8.egg/feat/resources/ResMaskNet_Z_resmasking_dropout1_rot30.pth\n",
      "Loading Face Landmark model:  mobilenet\n",
      "Loading au model:  rf\n"
     ]
    },
    {
     "name": "stderr",
     "output_type": "stream",
     "text": [
      "/home/dongagent/anaconda3/lib/python3.8/site-packages/sklearn/base.py:329: UserWarning: Trying to unpickle estimator PCA from version 0.24.1 when using version 0.23.2. This might lead to breaking code or invalid results. Use at your own risk.\n",
      "  warnings.warn(\n",
      "/home/dongagent/anaconda3/lib/python3.8/site-packages/sklearn/base.py:329: UserWarning: Trying to unpickle estimator DecisionTreeClassifier from version 0.24.1 when using version 0.23.2. This might lead to breaking code or invalid results. Use at your own risk.\n",
      "  warnings.warn(\n",
      "/home/dongagent/anaconda3/lib/python3.8/site-packages/sklearn/base.py:329: UserWarning: Trying to unpickle estimator RandomForestClassifier from version 0.24.1 when using version 0.23.2. This might lead to breaking code or invalid results. Use at your own risk.\n",
      "  warnings.warn(\n",
      "/home/dongagent/anaconda3/lib/python3.8/site-packages/sklearn/base.py:329: UserWarning: Trying to unpickle estimator StandardScaler from version 0.24.1 when using version 0.23.2. This might lead to breaking code or invalid results. Use at your own risk.\n",
      "  warnings.warn(\n"
     ]
    },
    {
     "name": "stdout",
     "output_type": "stream",
     "text": [
      "Loading emotion model:  resmasknet\n",
      "Loading facepose model:  pnp\n",
      "      anger  disgust      fear  happiness   sadness  surprise   neutral  \\\n",
      "0  0.013551  0.01291  0.003217   0.015091  0.077294  0.031484  0.846453   \n",
      "\n",
      "                                             input  \n",
      "0  anger/AngerExp2/2021_11_22_22_09_41_anger_1.png  \n",
      "happiness best: 0.8518569\n",
      "happiness baseline: 0.7741655\n",
      "anger best 0.015184896\n",
      "anger baseline: 0.0135505\n"
     ]
    }
   ],
   "source": [
    "def py_feat_analysis(img, target_emotion, is_save_csv=True):\n",
    "    '''\n",
    "        @img: file name \n",
    "        @target_emotion: Anger, Disgust, Fear, Happiness, Sadness, Surprise\n",
    "    '''\n",
    "    def get_target(emotion_name):\n",
    "        # Anger, Disgust, Fear, Happiness, Sadness, Surprise\n",
    "        # or lowercase\n",
    "        \n",
    "        if emotion_name in [\"Anger\", \"anger\"]:\n",
    "            return 0\n",
    "        elif emotion_name in [\"Disgust\", \"disgust\"]:\n",
    "            return 1\n",
    "        elif emotion_name in [\"Fear\", \"fear\"]:\n",
    "            return 2\n",
    "        elif emotion_name in [\"Happiness\", \"happiness\"]:\n",
    "            return 3\n",
    "        elif emotion_name in [\"Sadness\", \"sadness\"]:\n",
    "            return 4\n",
    "        elif emotion_name in [\"Surprise\", \"surprise\"]:\n",
    "            return 5\n",
    "    from feat import Detector\n",
    "    face_model = \"retinaface\"\n",
    "    landmark_model = \"mobilenet\"\n",
    "    au_model = \"rf\"\n",
    "    # au_model = \"JAANET\"\n",
    "    emotion_model = \"resmasknet\"\n",
    "    # emotion_model = \"rf\"\n",
    "\n",
    "    detector = Detector(au_model = au_model, emotion_model = emotion_model)\n",
    "\n",
    "    image_prediction = detector.detect_image(img)\n",
    "    df = image_prediction.head()\n",
    "    print(df.iloc[:, -8:])\n",
    "    if is_save_csv:\n",
    "        csv_name = img[:-4]+\".csv\"\n",
    "        csv_emotion_name = img[:-4]+\"emotion.csv\"\n",
    "        df.to_csv(csv_name)\n",
    "        df.iloc[:, -8:].to_csv(csv_emotion_name)\n",
    "    targetID = get_target(target_emotion)\n",
    "    return df.iloc[:, -8:].iloc[0,targetID]\n",
    "\n",
    "folderName = 'tempimg/'\n",
    "happiness_best = folderName + '2021_11_22_21_43_50__test.png'\n",
    "anger_best = folderName + '2021_11_22_21_21_26__test.png'\n",
    "happiness_baseline =  'happiness/HappinessExp1/2021_11_22_21_32_17_happiness_0.png'\n",
    "anger_baseline = 'anger/AngerExp2/2021_11_22_22_09_41_anger_1.png'\n",
    "a = py_feat_analysis(happiness_best, 'happiness', is_save_csv=False)\n",
    "b = py_feat_analysis(anger_best, 'anger', is_save_csv=False)\n",
    "c = py_feat_analysis(happiness_baseline, 'happiness', is_save_csv=False)\n",
    "d = py_feat_analysis(anger_baseline, 'anger', is_save_csv=False)\n",
    "print(\"happiness best:\", a)\n",
    "print(\"happiness baseline:\", c)\n",
    "print(\"anger best\", b)\n",
    "print(\"anger baseline:\", d)"
   ]
  }
 ],
 "metadata": {
  "kernelspec": {
   "display_name": "Python 3",
   "language": "python",
   "name": "python3"
  },
  "language_info": {
   "codemirror_mode": {
    "name": "ipython",
    "version": 3
   },
   "file_extension": ".py",
   "mimetype": "text/x-python",
   "name": "python",
   "nbconvert_exporter": "python",
   "pygments_lexer": "ipython3",
   "version": "3.8.5"
  }
 },
 "nbformat": 4,
 "nbformat_minor": 4
}
