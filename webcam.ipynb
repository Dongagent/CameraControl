{
 "cells": [
  {
   "cell_type": "markdown",
   "metadata": {},
   "source": [
    "# Logicool C922 Pro Stream Webcam"
   ]
  },
  {
   "cell_type": "markdown",
   "metadata": {},
   "source": [
    "## Please IGNORE the cv2 method which is toooooo slow."
   ]
  },
  {
   "cell_type": "markdown",
   "metadata": {},
   "source": [
    "### ffmpeg\n",
    "#### fovever god!"
   ]
  },
  {
   "cell_type": "code",
   "execution_count": null,
   "metadata": {},
   "outputs": [],
   "source": [
    "import os\n",
    "import subprocess\n",
    "\n",
    "fileName = \"out1.mkv\"\n",
    "FRAMERATE = 60\n",
    "VIDEOSIZE = \"1280x720\"\n",
    "DURATION = 5\n",
    "\n",
    "if os.path.exists(fileName):\n",
    "    raise\n",
    "\n",
    "# command = \"ffmpeg -i /dev/video2\"\n",
    "command = \"ffmpeg -f v4l2 -framerate \" + str(FRAMERATE) + \" -video_size \" + VIDEOSIZE + \" -input_format mjpeg -t \" + str(DURATION) + \" -i /dev/video2 -t \" + str(DURATION) + \" -c copy \" + fileName\n",
    "print(command)\n",
    "\n",
    "child1 = subprocess.Popen([command], stdout=subprocess.PIPE, shell=True)\n",
    "child1.wait()\n",
    "print(child1.returncode)\n",
    "\n",
    "print(child1.stdout.readlines())\n"
   ]
  },
  {
   "cell_type": "code",
   "execution_count": null,
   "metadata": {},
   "outputs": [],
   "source": [
    "import time\n",
    "print (time.strftime(\"%Y_%m_%d_%H_%M_%S\", time.localtime()))"
   ]
  },
  {
   "cell_type": "code",
   "execution_count": null,
   "metadata": {},
   "outputs": [],
   "source": [
    "%%bash\n"
   ]
  },
  {
   "cell_type": "markdown",
   "metadata": {},
   "source": [
    "### cv2"
   ]
  },
  {
   "cell_type": "code",
   "execution_count": null,
   "metadata": {},
   "outputs": [],
   "source": [
    "import cv2\n",
    "\n",
    "# Webカメラ\n",
    "DEVICE_ID = 1 \n",
    "\n",
    "WIDTH = 1280\n",
    "HEIGHT = 720\n",
    "FPS = 60\n",
    "\n",
    "cap = cv2.VideoCapture (DEVICE_ID)\n",
    "\n",
    "cap.set(cv2.CAP_PROP_FOURCC, cv2.VideoWriter_fourcc('Y','U','Y','V'))\n",
    "cap.set(cv2.CAP_PROP_FRAME_WIDTH, WIDTH)\n",
    "cap.set(cv2.CAP_PROP_FRAME_HEIGHT, HEIGHT)\n",
    "cap.set(cv2.CAP_PROP_FPS, FPS)"
   ]
  },
  {
   "cell_type": "code",
   "execution_count": null,
   "metadata": {},
   "outputs": [],
   "source": [
    "def decode_fourcc(v):\n",
    "    v = int(v)\n",
    "    return \"\".join([chr((v >> 8 * i) & 0xFF) for i in range(4)])\n",
    "\n",
    "# フォーマット・解像度・FPSの取得\n",
    "fourcc = decode_fourcc(cap.get(cv2.CAP_PROP_FOURCC))\n",
    "width = cap.get(cv2.CAP_PROP_FRAME_WIDTH)\n",
    "height = cap.get(cv2.CAP_PROP_FRAME_HEIGHT)\n",
    "fps = cap.get(cv2.CAP_PROP_FPS)\n",
    "print(\"fourcc:{} fps:{}　width:{}　height:{}\".format(fourcc, fps, width, height))"
   ]
  },
  {
   "cell_type": "markdown",
   "metadata": {},
   "source": [
    "### Save Videos by cv2"
   ]
  },
  {
   "cell_type": "code",
   "execution_count": null,
   "metadata": {},
   "outputs": [],
   "source": [
    "import numpy as np\n",
    "import cv2\n",
    "import time\n",
    "import threading\n",
    "\n",
    "DEVICE_ID = 1\n",
    "\n",
    "\n",
    "cap = cv2.VideoCapture(DEVICE_ID)\n",
    "cap.set(cv2.CAP_PROP_FRAME_WIDTH, 1280);\n",
    "cap.set(cv2.CAP_PROP_FRAME_HEIGHT, 720);\n",
    "# Define the codec and create VideoWriter object\n",
    "fourcc = cv2.VideoWriter_fourcc(*'MP4V')\n",
    "out = cv2.VideoWriter('output.mp4', fourcc, 60.0, (1280, 720))\n",
    "global exitFlag\n",
    "exitFlag = False\n",
    "\n",
    "# Threading\n",
    "class videoControlThread (threading.Thread):   #继承父类threading.Thread\n",
    "    def __init__(self, threadID, recordingTime, videoCapture):\n",
    "        threading.Thread.__init__(self)\n",
    "        self.threadID = threadID\n",
    "        self.threadName = \"Thread-\" + str(self.threadID)\n",
    "        self.time = recordingTime\n",
    "        self.cap = videoCapture\n",
    "    def run(self):                   #把要执行的代码写到run函数里面 线程在创建后会直接运行run函数 \n",
    "        if cap.isOpened():\n",
    "            print(\"Starting Thread-\" + str(self.threadID) + \" at time \" + time.ctime(time.time()))\n",
    "            print(self.cap)\n",
    "            print_time(self.threadName, 1, self.time)\n",
    "            print(\"Exiting Thread-\" + str(self.threadID) + \" at time \" + time.ctime(time.time()))\n",
    "            print(\"set Exit Flag\")\n",
    "            global exitFlag\n",
    "            exitFlag = True\n",
    "            \n",
    "               \n",
    "def print_time(threadName, delay, counter):\n",
    "    while counter:\n",
    "        global exitFlag\n",
    "        if exitFlag:\n",
    "            (threading.Thread).exit()\n",
    "        time.sleep(delay)\n",
    "        print(\"%s: %s\" % (threadName, time.ctime(time.time())))\n",
    "        counter -= 1\n",
    "\n",
    "# Create Threading\n",
    "vc_thread1 = videoControlThread(1, 5, cap)\n",
    "\n",
    "threadFlag = True\n",
    "while(cap.isOpened()):\n",
    "    ret, frame = cap.read()\n",
    "    if ret==True:\n",
    "        # 上下颠倒\n",
    "        # frame = cv2.flip(frame,0)\n",
    "        if threadFlag:\n",
    "            vc_thread1.start()\n",
    "            threadFlag = False\n",
    "        # write the flipped frame\n",
    "        out.write(frame)\n",
    "        # show video\n",
    "        cv2.imshow('frame',frame)\n",
    "        if cv2.waitKey(1) & 0xFF == ord('q'):\n",
    "            break\n",
    "        if exitFlag:\n",
    "            break\n",
    "            \n",
    "        # exitFlag with Threading\n",
    "    else:\n",
    "        break\n",
    "\n",
    "# Release everything if job is finished\n",
    "cap.release()\n",
    "print(\"cap is relased\")\n",
    "out.release()\n",
    "cv2.destroyAllWindows()"
   ]
  },
  {
   "cell_type": "code",
   "execution_count": null,
   "metadata": {},
   "outputs": [],
   "source": [
    "import time\n",
    "import threading\n",
    "import cv2\n",
    "\n",
    "exitFlag = 0\n",
    "\n",
    "class videoControlThread (threading.Thread):   #继承父类threading.Thread\n",
    "    def __init__(self, threadID, recordingTime, videoCapture):\n",
    "        threading.Thread.__init__(self)\n",
    "        self.threadID = threadID\n",
    "        self.threadName = \"Thread-\" + str(self.threadID)\n",
    "        self.time = recordingTime\n",
    "        self.cap = videoCapture\n",
    "    def run(self):                   #把要执行的代码写到run函数里面 线程在创建后会直接运行run函数 \n",
    "        print(\"Starting Thread-\" + str(self.threadID) + \" at time \" + time.ctime(time.time()))\n",
    "        print(self.cap)\n",
    "        # time.sleep(self.time * 1000)\n",
    "        print_time(self.threadName, 1, self.time)\n",
    "        print(\"Exiting Thread-\" + str(self.threadID) + \" at time \" + time.ctime(time.time()))\n",
    "               \n",
    "def print_time(threadName, delay, counter):\n",
    "    while counter:\n",
    "        if exitFlag:\n",
    "            (threading.Thread).exit()\n",
    "        time.sleep(delay)\n",
    "        print(\"%s: %s\" % (threadName, time.ctime(time.time())))\n",
    "        counter -= 1\n",
    "\n",
    "# cap = cv2.VideoCapture(1)\n",
    "# 创建新线程\n",
    "cap = 1\n",
    "thread1 = videoControlThread(1, 5, cap)\n",
    "\n",
    " \n",
    "# 开启线程\n",
    "while 1:\n",
    "    if not thread1.isAlive():\n",
    "        thread1.start()\n"
   ]
  },
  {
   "cell_type": "code",
   "execution_count": null,
   "metadata": {},
   "outputs": [],
   "source": [
    "import ffmpeg\n",
    "import subprocess\n",
    "import os\n",
    "res = os.popen(\"dir\")\n",
    "print(res.read())\n",
    "print(\"os.popen('ls')\", os.popen(\"pwd\").read())\n",
    "p = subprocess.Popen('ls -l', shell=True, stdout=subprocess.PIPE)\n",
    "print(p.stdout.readlines())\n",
    "# info = ffmpeg.probe(\"C:\\Users\\mlDSY\\Videos\\[VCB-Studio]\\ Steins;Gate\\ 0\\ [Ma10p_1080p]\\[VCB-Studio] Steins;Gate 0 [01][Ma10p_1080p][x265_flac].mkv\")"
   ]
  }
 ],
 "metadata": {
  "kernelspec": {
   "display_name": "Python 3",
   "language": "python",
   "name": "python3"
  },
  "language_info": {
   "codemirror_mode": {
    "name": "ipython",
    "version": 3
   },
   "file_extension": ".py",
   "mimetype": "text/x-python",
   "name": "python",
   "nbconvert_exporter": "python",
   "pygments_lexer": "ipython3",
   "version": "3.8.5"
  },
  "latex_envs": {
   "LaTeX_envs_menu_present": true,
   "autoclose": true,
   "autocomplete": true,
   "bibliofile": "biblio.bib",
   "cite_by": "apalike",
   "current_citInitial": 1,
   "eqLabelWithNumbers": true,
   "eqNumInitial": 1,
   "hotkeys": {
    "equation": "Ctrl-E",
    "itemize": "Ctrl-I"
   },
   "labels_anchors": false,
   "latex_user_defs": false,
   "report_style_numbering": false,
   "user_envs_cfg": false
  },
  "metadata": {
   "interpreter": {
    "hash": "b24b59ca2240cd6310e7e6ed690ecfd591f046d0c79f6d320fe829b6a86bd508"
   }
  }
 },
 "nbformat": 4,
 "nbformat_minor": 4
}
